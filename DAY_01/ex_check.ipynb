{
 "cells": [
  {
   "cell_type": "code",
   "execution_count": 1,
   "id": "initial_id",
   "metadata": {
    "collapsed": true,
    "ExecuteTime": {
     "end_time": "2024-03-11T00:44:57.005772Z",
     "start_time": "2024-03-11T00:44:51.037444800Z"
    }
   },
   "outputs": [],
   "source": [
    "import pandas as pd\n",
    "import sklearn as sk \n",
    "import seaborn as sns\n",
    "import matplotlib as mt\n",
    "import torch "
   ]
  },
  {
   "cell_type": "code",
   "outputs": [
    {
     "name": "stdout",
     "output_type": "stream",
     "text": [
      "Pandas v2.0.3\n",
      "Seaborn v0.12.2\n",
      "Matplotlib v3.7.2\n",
      "Scikit-learn v1.3.0\n",
      "PyTorch v2.2.0\n"
     ]
    }
   ],
   "source": [
    "# 버전 정보 출력 \n",
    "print(f'Pandas v{pd.__version__}')\n",
    "print(f'Seaborn v{sns.__version__}')\n",
    "print(f'Matplotlib v{mt.__version__}')\n",
    "print(f'Scikit-learn v{sk.__version__}')\n",
    "print(f'PyTorch v{torch.__version__}')"
   ],
   "metadata": {
    "collapsed": false,
    "ExecuteTime": {
     "end_time": "2024-03-11T00:46:47.435387300Z",
     "start_time": "2024-03-11T00:46:47.311307500Z"
    }
   },
   "id": "e73f6605bdfdc4a6",
   "execution_count": 2
  },
  {
   "cell_type": "code",
   "outputs": [
    {
     "name": "stdout",
     "output_type": "stream",
     "text": [
      "torch => False\n"
     ]
    }
   ],
   "source": [
    "# 해당 PC에 GPU 여부 \n",
    "print(f'torch => {torch.cuda.is_available()}')"
   ],
   "metadata": {
    "collapsed": false,
    "ExecuteTime": {
     "end_time": "2024-03-11T00:48:40.987665100Z",
     "start_time": "2024-03-11T00:48:40.950788200Z"
    }
   },
   "id": "6708ab426b7dd008",
   "execution_count": 3
  },
  {
   "cell_type": "code",
   "outputs": [],
   "source": [
    "#저장 및 실행 Device 설정\n",
    "DEVICE='gpu' if torch.cuda.is_available() else 'cpu'"
   ],
   "metadata": {
    "collapsed": false,
    "ExecuteTime": {
     "end_time": "2024-03-11T00:52:15.739931800Z",
     "start_time": "2024-03-11T00:52:15.707851800Z"
    }
   },
   "id": "5a4dc0b7ed53f2fa",
   "execution_count": 4
  },
  {
   "cell_type": "code",
   "outputs": [],
   "source": [
    "#실행 디바이스 디폴트는 CPU"
   ],
   "metadata": {
    "collapsed": false,
    "ExecuteTime": {
     "end_time": "2024-03-12T00:17:18.177995300Z",
     "start_time": "2024-03-12T00:17:18.163512500Z"
    }
   },
   "id": "e8af9e6ddc97b0f1",
   "execution_count": 1
  },
  {
   "cell_type": "code",
   "outputs": [],
   "source": [
    "#텐서:다차원을 담는 수학객체\n",
    "#"
   ],
   "metadata": {
    "collapsed": false,
    "ExecuteTime": {
     "end_time": "2024-03-12T00:22:18.952882600Z",
     "start_time": "2024-03-12T00:22:18.937373200Z"
    }
   },
   "id": "c348adefba8b0aa2",
   "execution_count": 2
  },
  {
   "cell_type": "code",
   "outputs": [],
   "source": [
    "#클래스 - 1. 속성 attribute 메서드 등\n",
    "#안에서밖에 못 읽게 하는 법 __ 붙이기\n",
    "# .get속성명 사용해서 속성을 읽어올 수 있음\n"
   ],
   "metadata": {
    "collapsed": false,
    "ExecuteTime": {
     "end_time": "2024-03-12T00:24:30.238220900Z",
     "start_time": "2024-03-12T00:24:30.223280200Z"
    }
   },
   "id": "33ffc93f87ec1b3d",
   "execution_count": 3
  },
  {
   "cell_type": "code",
   "outputs": [],
   "source": [
    "# 텐서 살펴보기\n",
    "# 교재 13페이지 참조 "
   ],
   "metadata": {
    "collapsed": false,
    "ExecuteTime": {
     "end_time": "2024-03-12T00:25:02.414638500Z",
     "start_time": "2024-03-12T00:25:02.393665Z"
    }
   },
   "id": "3df867efb6468777",
   "execution_count": 4
  },
  {
   "cell_type": "code",
   "outputs": [],
   "source": [
    "# 갱신여부 : tensor.requires_grad => 이게 트루로 되어있으면 UPDATE를 시켜줘야 한다.\n",
    "# 데이터는 메모리에 들어가야 하는데 그 메모리가 크지 않아서 , cpu의 데이터를 GPU에 받아서 실행할 것 "
   ],
   "metadata": {
    "collapsed": false,
    "ExecuteTime": {
     "end_time": "2024-03-12T00:28:35.830174700Z",
     "start_time": "2024-03-12T00:28:35.806190700Z"
    }
   },
   "id": "eb919c6f0ca4f71",
   "execution_count": 6
  },
  {
   "cell_type": "markdown",
   "source": [
    "# 텐서 만들기"
   ],
   "metadata": {
    "collapsed": false
   },
   "id": "ea6d050c231505a5"
  },
  {
   "cell_type": "markdown",
   "source": [
    "torch.uint8 => byte tensor\n",
    "toech.int16 => 부호 있음,ShortTensor"
   ],
   "metadata": {
    "collapsed": false
   },
   "id": "8a9bee6ae41758b2"
  },
  {
   "cell_type": "code",
   "outputs": [],
   "source": [
    "# 교재 14쪽 중요....\n",
    "# 타입 외워두기\n",
    "#대문자로 시작하는 애들은 클래스, 소문자로 시작하면 함수 이다.\n",
    "# 텐서를 만들 때 TENSOR(dtype등등을 넣고 하면...)"
   ],
   "metadata": {
    "collapsed": false,
    "ExecuteTime": {
     "end_time": "2024-03-12T00:38:27.295701Z",
     "start_time": "2024-03-12T00:38:27.277112900Z"
    }
   },
   "id": "e632a96caf02064b",
   "execution_count": 7
  },
  {
   "cell_type": "code",
   "outputs": [],
   "source": [],
   "metadata": {
    "collapsed": false
   },
   "id": "17cadbaddf327948"
  }
 ],
 "metadata": {
  "kernelspec": {
   "display_name": "Python 3",
   "language": "python",
   "name": "python3"
  },
  "language_info": {
   "codemirror_mode": {
    "name": "ipython",
    "version": 2
   },
   "file_extension": ".py",
   "mimetype": "text/x-python",
   "name": "python",
   "nbconvert_exporter": "python",
   "pygments_lexer": "ipython2",
   "version": "2.7.6"
  }
 },
 "nbformat": 4,
 "nbformat_minor": 5
}
