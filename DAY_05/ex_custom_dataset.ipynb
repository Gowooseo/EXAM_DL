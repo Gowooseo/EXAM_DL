{
 "cells": [
  {
   "cell_type": "markdown",
   "source": [
    "### Dataset & DataLoader 살펴보기\n",
    "- Pytorch에서 배치크기만 데이터를 조절하기 위한 메커니즘\n",
    "- Dataset : 사용 데이터를 기반으로 사용자정의 클래스 작성\n",
    "- DataLoader : 지정된 Dataset에서 지정된 batch size만큼 피쳐와 타겟을 추출하여 전달"
   ],
   "metadata": {
    "collapsed": false
   },
   "id": "576718fc3b6f7f9d"
  },
  {
   "cell_type": "markdown",
   "source": [
    "[1] 모듈 로딩 및 데이터 준비 <hr>"
   ],
   "metadata": {
    "collapsed": false
   },
   "id": "70c32c448062b366"
  },
  {
   "cell_type": "code",
   "outputs": [],
   "source": [
    "### ===> 모듈 로딩\n",
    "import torch \n",
    "import torch.nn as nn\n",
    "from torch.utils.data import Dataset,DataLoader\n",
    "\n",
    "import numpy as np\n",
    "import pandas as pd\n"
   ],
   "metadata": {
    "collapsed": false,
    "ExecuteTime": {
     "end_time": "2024-03-15T07:11:45.243820600Z",
     "start_time": "2024-03-15T07:11:45.088475700Z"
    }
   },
   "id": "9f65f13ae16ebadb",
   "execution_count": 298
  },
  {
   "cell_type": "code",
   "outputs": [
    {
     "name": "stdout",
     "output_type": "stream",
     "text": [
      "x_data: torch.Size([5, 3]),2\n",
      "y_data: torch.Size([5, 1]),2\n"
     ]
    }
   ],
   "source": [
    "### ===> 데이터 준비\n",
    "x_data=torch.IntTensor([[10,20,30],[20,30,40],[30,40,50],[40,50,60],[50,60,70]])\n",
    "y_data=torch.IntTensor([[20],[30],[40],[50],[60]])  #개수가 맞아야 줄수 있다.(5==5)\n",
    "\n",
    "print(f'x_data: {x_data.shape},{x_data.ndim}')\n",
    "print(f'y_data: {y_data.shape},{y_data.ndim}')"
   ],
   "metadata": {
    "collapsed": false,
    "ExecuteTime": {
     "end_time": "2024-03-15T07:11:45.269618200Z",
     "start_time": "2024-03-15T07:11:45.251834400Z"
    }
   },
   "id": "e7eb05b205ebac7a",
   "execution_count": 299
  },
  {
   "cell_type": "markdown",
   "source": [
    "[2] 데이터셋 생성 <hr>"
   ],
   "metadata": {
    "collapsed": false
   },
   "id": "98a51e864ea42664"
  },
  {
   "cell_type": "markdown",
   "source": [
    "- ### [2-1] TensorDataset 활용: Dataset의 sub_class(자식클래스) "
   ],
   "metadata": {
    "collapsed": false
   },
   "id": "24ca0702307bb2c4"
  },
  {
   "cell_type": "code",
   "outputs": [],
   "source": [
    "# TensorDataset 클래스 로딩\n",
    "from torch.utils.data import TensorDataset"
   ],
   "metadata": {
    "collapsed": false,
    "ExecuteTime": {
     "end_time": "2024-03-15T07:11:45.312598800Z",
     "start_time": "2024-03-15T07:11:45.259849500Z"
    }
   },
   "id": "ebe91da216a11b40",
   "execution_count": 300
  },
  {
   "cell_type": "code",
   "outputs": [
    {
     "data": {
      "text/plain": "<torch.utils.data.dataset.TensorDataset at 0x2a4e5c6f940>"
     },
     "execution_count": 301,
     "metadata": {},
     "output_type": "execute_result"
    }
   ],
   "source": [
    "dataset=TensorDataset(x_data,y_data)\n",
    "dataset"
   ],
   "metadata": {
    "collapsed": false,
    "ExecuteTime": {
     "end_time": "2024-03-15T07:11:45.313759700Z",
     "start_time": "2024-03-15T07:11:45.279563100Z"
    }
   },
   "id": "63033ab68caf8d9f",
   "execution_count": 301
  },
  {
   "cell_type": "code",
   "outputs": [
    {
     "data": {
      "text/plain": "(tensor([[10, 20, 30],\n         [20, 30, 40],\n         [30, 40, 50],\n         [40, 50, 60],\n         [50, 60, 70]], dtype=torch.int32),\n tensor([[20],\n         [30],\n         [40],\n         [50],\n         [60]], dtype=torch.int32))"
     },
     "execution_count": 302,
     "metadata": {},
     "output_type": "execute_result"
    }
   ],
   "source": [
    "dataset.tensors"
   ],
   "metadata": {
    "collapsed": false,
    "ExecuteTime": {
     "end_time": "2024-03-15T07:11:45.338769800Z",
     "start_time": "2024-03-15T07:11:45.297427300Z"
    }
   },
   "id": "4c380beaf60c22cb",
   "execution_count": 302
  },
  {
   "cell_type": "code",
   "outputs": [
    {
     "data": {
      "text/plain": "(tensor([10, 20, 30], dtype=torch.int32), tensor([20], dtype=torch.int32))"
     },
     "execution_count": 303,
     "metadata": {},
     "output_type": "execute_result"
    }
   ],
   "source": [
    "## __getitem__() 메서드 호출\n",
    "dataset[0]"
   ],
   "metadata": {
    "collapsed": false,
    "ExecuteTime": {
     "end_time": "2024-03-15T07:11:45.411768400Z",
     "start_time": "2024-03-15T07:11:45.338617300Z"
    }
   },
   "id": "fa64e23afe32a8fd",
   "execution_count": 303
  },
  {
   "cell_type": "code",
   "outputs": [
    {
     "data": {
      "text/plain": "5"
     },
     "execution_count": 304,
     "metadata": {},
     "output_type": "execute_result"
    }
   ],
   "source": [
    "len(dataset)"
   ],
   "metadata": {
    "collapsed": false,
    "ExecuteTime": {
     "end_time": "2024-03-15T07:11:45.416245200Z",
     "start_time": "2024-03-15T07:11:45.397655500Z"
    }
   },
   "id": "1dfe9c826a8384fb",
   "execution_count": 304
  },
  {
   "cell_type": "markdown",
   "source": [
    "- ### [2-2] 사용자 정의 데이터셋 생성 "
   ],
   "metadata": {
    "collapsed": false
   },
   "id": "f0ff29f51c9b8e9c"
  },
  {
   "cell_type": "code",
   "outputs": [
    {
     "name": "stdout",
     "output_type": "stream",
     "text": [
      "<class 'pandas.core.frame.DataFrame'>\n",
      "RangeIndex: 150 entries, 0 to 149\n",
      "Data columns (total 5 columns):\n",
      " #   Column  Non-Null Count  Dtype  \n",
      "---  ------  --------------  -----  \n",
      " 0   0       150 non-null    float64\n",
      " 1   1       150 non-null    float64\n",
      " 2   2       150 non-null    float64\n",
      " 3   3       150 non-null    float64\n",
      " 4   4       150 non-null    object \n",
      "dtypes: float64(4), object(1)\n",
      "memory usage: 6.0+ KB\n"
     ]
    }
   ],
   "source": [
    "### 데이터 준비\n",
    "filename= '../data/irisno.csv'\n",
    "\n",
    "irisDF=pd.read_csv(filename,header=None,delimiter=',')\n",
    "irisDF.info()"
   ],
   "metadata": {
    "collapsed": false,
    "ExecuteTime": {
     "end_time": "2024-03-15T07:11:45.485437200Z",
     "start_time": "2024-03-15T07:11:45.419422900Z"
    }
   },
   "id": "9d6b931e911a491b",
   "execution_count": 305
  },
  {
   "cell_type": "code",
   "outputs": [],
   "source": [
    "irisNP=np.loadtxt(filename,delimiter=',',usecols=[0,1,2,3])"
   ],
   "metadata": {
    "collapsed": false,
    "ExecuteTime": {
     "end_time": "2024-03-15T07:11:45.506060900Z",
     "start_time": "2024-03-15T07:11:45.474185Z"
    }
   },
   "id": "48439a982b2ab4b5",
   "execution_count": 306
  },
  {
   "cell_type": "code",
   "outputs": [
    {
     "data": {
      "text/plain": "       0    1    2    3               4\n0    5.1  3.5  1.4  0.2     Iris-setosa\n1    4.9  3.0  1.4  0.2     Iris-setosa\n2    4.7  3.2  1.3  0.2     Iris-setosa\n3    4.6  3.1  1.5  0.2     Iris-setosa\n4    5.0  3.6  1.4  0.2     Iris-setosa\n..   ...  ...  ...  ...             ...\n145  6.7  3.0  5.2  2.3  Iris-virginica\n146  6.3  2.5  5.0  1.9  Iris-virginica\n147  6.5  3.0  5.2  2.0  Iris-virginica\n148  6.2  3.4  5.4  2.3  Iris-virginica\n149  5.9  3.0  5.1  1.8  Iris-virginica\n\n[150 rows x 5 columns]",
      "text/html": "<div>\n<style scoped>\n    .dataframe tbody tr th:only-of-type {\n        vertical-align: middle;\n    }\n\n    .dataframe tbody tr th {\n        vertical-align: top;\n    }\n\n    .dataframe thead th {\n        text-align: right;\n    }\n</style>\n<table border=\"1\" class=\"dataframe\">\n  <thead>\n    <tr style=\"text-align: right;\">\n      <th></th>\n      <th>0</th>\n      <th>1</th>\n      <th>2</th>\n      <th>3</th>\n      <th>4</th>\n    </tr>\n  </thead>\n  <tbody>\n    <tr>\n      <th>0</th>\n      <td>5.1</td>\n      <td>3.5</td>\n      <td>1.4</td>\n      <td>0.2</td>\n      <td>Iris-setosa</td>\n    </tr>\n    <tr>\n      <th>1</th>\n      <td>4.9</td>\n      <td>3.0</td>\n      <td>1.4</td>\n      <td>0.2</td>\n      <td>Iris-setosa</td>\n    </tr>\n    <tr>\n      <th>2</th>\n      <td>4.7</td>\n      <td>3.2</td>\n      <td>1.3</td>\n      <td>0.2</td>\n      <td>Iris-setosa</td>\n    </tr>\n    <tr>\n      <th>3</th>\n      <td>4.6</td>\n      <td>3.1</td>\n      <td>1.5</td>\n      <td>0.2</td>\n      <td>Iris-setosa</td>\n    </tr>\n    <tr>\n      <th>4</th>\n      <td>5.0</td>\n      <td>3.6</td>\n      <td>1.4</td>\n      <td>0.2</td>\n      <td>Iris-setosa</td>\n    </tr>\n    <tr>\n      <th>...</th>\n      <td>...</td>\n      <td>...</td>\n      <td>...</td>\n      <td>...</td>\n      <td>...</td>\n    </tr>\n    <tr>\n      <th>145</th>\n      <td>6.7</td>\n      <td>3.0</td>\n      <td>5.2</td>\n      <td>2.3</td>\n      <td>Iris-virginica</td>\n    </tr>\n    <tr>\n      <th>146</th>\n      <td>6.3</td>\n      <td>2.5</td>\n      <td>5.0</td>\n      <td>1.9</td>\n      <td>Iris-virginica</td>\n    </tr>\n    <tr>\n      <th>147</th>\n      <td>6.5</td>\n      <td>3.0</td>\n      <td>5.2</td>\n      <td>2.0</td>\n      <td>Iris-virginica</td>\n    </tr>\n    <tr>\n      <th>148</th>\n      <td>6.2</td>\n      <td>3.4</td>\n      <td>5.4</td>\n      <td>2.3</td>\n      <td>Iris-virginica</td>\n    </tr>\n    <tr>\n      <th>149</th>\n      <td>5.9</td>\n      <td>3.0</td>\n      <td>5.1</td>\n      <td>1.8</td>\n      <td>Iris-virginica</td>\n    </tr>\n  </tbody>\n</table>\n<p>150 rows × 5 columns</p>\n</div>"
     },
     "execution_count": 307,
     "metadata": {},
     "output_type": "execute_result"
    }
   ],
   "source": [
    "irisDF"
   ],
   "metadata": {
    "collapsed": false,
    "ExecuteTime": {
     "end_time": "2024-03-15T07:11:45.555478900Z",
     "start_time": "2024-03-15T07:11:45.493869100Z"
    }
   },
   "id": "a26451cfc3de72",
   "execution_count": 307
  },
  {
   "cell_type": "code",
   "outputs": [],
   "source": [
    "\n",
    "### 사용자정의 DataSet 클래스\n",
    "#- 데이터의 텐서 변환\n",
    "class DLDataset(Dataset):\n",
    "    \n",
    "    # 초기화 함수 \n",
    "    def __init__(self,x_data,y_data):\n",
    "        super().__init__()\n",
    "        #x,y 데이터 ==> ndarray\n",
    "        x_data=x_data.values if isinstance(x_data,pd.DataFrame) else x_data #values는 넘파이로 바꾸어 주는 친구\n",
    "        y_data=y_data.values if isinstance(y_data,pd.DataFrame) else y_data\n",
    "        \n",
    "        #ndarray ==> tensor(데이터 타입이 뭐가 들어올지 몰라서 tensor를 씀)\n",
    "        self.feature=torch.FloatTensor(x_data)\n",
    "        self.target=torch.FloatTensor(y_data)\n",
    "        \n",
    "    #데이터셋의 갯수 체크 함수\n",
    "    def __len__(self):\n",
    "        return len(self.target)\n",
    "        #return self.target.shape[0]\n",
    "    \n",
    "    #특정 인덱스 데이터+라벨 반환 콜백함수(callback function)\n",
    "    def __getitem__(self,index):\n",
    "        return self.feature[index],self.target[index]  #튜플로 반환 "
   ],
   "metadata": {
    "collapsed": false,
    "ExecuteTime": {
     "end_time": "2024-03-15T07:11:45.557652200Z",
     "start_time": "2024-03-15T07:11:45.518127400Z"
    }
   },
   "id": "8dd6a99c0921b139",
   "execution_count": 308
  },
  {
   "cell_type": "code",
   "outputs": [
    {
     "data": {
      "text/plain": "(pandas.core.frame.DataFrame, numpy.ndarray, 'DataFrame', 'ndarray')"
     },
     "execution_count": 309,
     "metadata": {},
     "output_type": "execute_result"
    }
   ],
   "source": [
    "## 데이터의 타입 체크( 조건문 만들 때 필요)\n",
    "type(irisDF),type(irisNP),irisDF.__class__.__name__,irisNP.__class__.__name__"
   ],
   "metadata": {
    "collapsed": false,
    "ExecuteTime": {
     "end_time": "2024-03-15T07:11:45.616404900Z",
     "start_time": "2024-03-15T07:11:45.562053400Z"
    }
   },
   "id": "c2c859e23419fe4a",
   "execution_count": 309
  },
  {
   "cell_type": "code",
   "outputs": [
    {
     "name": "stdout",
     "output_type": "stream",
     "text": [
      "DF\n"
     ]
    }
   ],
   "source": [
    "if irisDF.__class__.__name__=='DataFrame':\n",
    "    print('DF')\n",
    "else:\n",
    "    print('------')\n",
    "    "
   ],
   "metadata": {
    "collapsed": false,
    "ExecuteTime": {
     "end_time": "2024-03-15T07:11:45.682613Z",
     "start_time": "2024-03-15T07:11:45.591576500Z"
    }
   },
   "id": "47c0507d0f6c967e",
   "execution_count": 310
  },
  {
   "cell_type": "code",
   "outputs": [
    {
     "data": {
      "text/plain": "(True, False)"
     },
     "execution_count": 311,
     "metadata": {},
     "output_type": "execute_result"
    }
   ],
   "source": [
    "isinstance(irisDF,pd.DataFrame),isinstance(irisNP,pd.DataFrame)"
   ],
   "metadata": {
    "collapsed": false,
    "ExecuteTime": {
     "end_time": "2024-03-15T07:11:45.726988600Z",
     "start_time": "2024-03-15T07:11:45.623818700Z"
    }
   },
   "id": "2a903af6d35052a5",
   "execution_count": 311
  },
  {
   "cell_type": "code",
   "outputs": [
    {
     "data": {
      "text/plain": "(True, False)"
     },
     "execution_count": 312,
     "metadata": {},
     "output_type": "execute_result"
    }
   ],
   "source": [
    "isinstance([10],list),isinstance({'A':22},list)"
   ],
   "metadata": {
    "collapsed": false,
    "ExecuteTime": {
     "end_time": "2024-03-15T07:11:45.783312400Z",
     "start_time": "2024-03-15T07:11:45.701333600Z"
    }
   },
   "id": "d4c8dab59d5f82d",
   "execution_count": 312
  },
  {
   "cell_type": "code",
   "outputs": [
    {
     "name": "stdout",
     "output_type": "stream",
     "text": [
      "featureDF=> (150, 4),2D\n",
      "targetDF=> (150, 1),2D\n"
     ]
    }
   ],
   "source": [
    "## 데이터를 feature와 라벨로 분리\n",
    "featureDF=irisDF[irisDF.columns[:-1]]\n",
    "targetDF=irisDF[irisDF.columns[-1]].to_frame()  #데이터 프레임화 해서 2차원으로 변경\n",
    "\n",
    "print(f'featureDF=> {featureDF.shape},{featureDF.ndim}D')\n",
    "print(f'targetDF=> {targetDF.shape},{targetDF.ndim}D')"
   ],
   "metadata": {
    "collapsed": false,
    "ExecuteTime": {
     "end_time": "2024-03-15T07:11:45.802205Z",
     "start_time": "2024-03-15T07:11:45.772665700Z"
    }
   },
   "id": "2ec1318fce2a89fc",
   "execution_count": 313
  },
  {
   "cell_type": "code",
   "outputs": [
    {
     "name": "stdout",
     "output_type": "stream",
     "text": [
      "targetNP=>(150, 1),2D\n"
     ]
    },
    {
     "name": "stderr",
     "output_type": "stream",
     "text": [
      "C:\\ProgramData\\anaconda3\\envs\\Torch_PY38\\lib\\site-packages\\sklearn\\preprocessing\\_label.py:114: DataConversionWarning: A column-vector y was passed when a 1d array was expected. Please change the shape of y to (n_samples, ), for example using ravel().\n",
      "  y = column_or_1d(y, warn=True)\n"
     ]
    }
   ],
   "source": [
    "#object 타입 타겟 ====> int 타입 타겟 변환\n",
    "from sklearn.preprocessing import LabelEncoder\n",
    "\n",
    "\n",
    "targetNP=LabelEncoder().fit_transform(targetDF)\n",
    "targetNP=targetNP.reshape(-1,1) # reshape(-1,1) 뒤에 나오는 1은 행에 있어야 할 개수 그러니까 1을 준건 1개, 밑에 1개 이런식으로 띄워서 쓰기 위한것 그리고 앞에 -1은 그렇게 한줄로 알아서 맞춤으로 만들라는 뜻\n",
    "#10개라면 ....reshape(-1,2) => 원소,원소\n",
    "#                             원소,원소\n",
    "#                             원소,원소\n",
    "\n",
    "\n",
    "print(f'targetNP=>{targetNP.shape},{targetNP.ndim}D')"
   ],
   "metadata": {
    "collapsed": false,
    "ExecuteTime": {
     "end_time": "2024-03-15T07:11:45.870893400Z",
     "start_time": "2024-03-15T07:11:45.810536700Z"
    }
   },
   "id": "e30d616473eb0420",
   "execution_count": 314
  },
  {
   "cell_type": "code",
   "outputs": [
    {
     "data": {
      "text/plain": "((tensor([5.1000, 3.5000, 1.4000, 0.2000]), tensor([0.])),\n 0    5.1\n 1    3.5\n 2    1.4\n 3    0.2\n Name: 0, dtype: float64,\n 4    Iris-setosa\n Name: 0, dtype: object)"
     },
     "execution_count": 315,
     "metadata": {},
     "output_type": "execute_result"
    }
   ],
   "source": [
    "# 데이터셋 생성===> DF,NP\n",
    "my_dataset=DLDataset(featureDF,targetNP)\n",
    "my_dataset[0],featureDF.iloc[0],targetDF.iloc[0]"
   ],
   "metadata": {
    "collapsed": false,
    "ExecuteTime": {
     "end_time": "2024-03-15T07:11:45.888705100Z",
     "start_time": "2024-03-15T07:11:45.863323100Z"
    }
   },
   "id": "ba692fad8d6adc29",
   "execution_count": 315
  },
  {
   "cell_type": "code",
   "outputs": [
    {
     "data": {
      "text/plain": "(tensor([5.1000, 3.5000, 1.4000, 0.2000]), tensor([0.]))"
     },
     "execution_count": 316,
     "metadata": {},
     "output_type": "execute_result"
    }
   ],
   "source": [
    "# 데이터셋 생성===> NP,NP\n",
    "my_dataset2=DLDataset(irisNP,targetNP)\n",
    "my_dataset2[0]"
   ],
   "metadata": {
    "collapsed": false,
    "ExecuteTime": {
     "end_time": "2024-03-15T07:11:45.943913200Z",
     "start_time": "2024-03-15T07:11:45.879301400Z"
    }
   },
   "id": "e43492b4cddd2494",
   "execution_count": 316
  },
  {
   "cell_type": "markdown",
   "source": [
    "### [2-3] 학습용, 검증용, 테스트용(3개로 나누기) Dataset <hr> \n",
    " "
   ],
   "metadata": {
    "collapsed": false
   },
   "id": "337fa71baaa623e1"
  },
  {
   "cell_type": "code",
   "outputs": [
    {
     "name": "stdout",
     "output_type": "stream",
     "text": [
      "trainDS=>105개,validDS=15개,testDS=30개\n",
      "--------------------------------------------------------------------------\n",
      "Subset 속성 => indices : [42, 95, 30, 64, 52, 35, 130, 40, 82, 17, 108, 94, 68, 97, 117, 127, 41, 44, 57, 140, 149, 32, 23, 102, 16, 113, 71, 18, 67, 66, 0, 25, 101, 112, 91, 3, 59, 116, 86, 84, 106, 142, 43, 39, 26, 98, 93, 20, 87, 19, 120, 114, 7, 63, 76, 89, 36, 45, 37, 56, 58, 122, 51, 145, 24, 21, 105, 62, 15, 11, 48, 133, 88, 50, 6, 134, 111, 8, 49, 75, 69, 124, 4, 147, 80, 100, 99, 141, 47, 107, 13, 109, 129, 28, 38, 53, 121, 5, 55, 31, 73, 74, 54, 29, 12] \n",
      "dataset : <__main__.DLDataset object at 0x000002A4E5D81E50>\n",
      "-------------------------------------------------------------------------\n",
      "Subset 속성 => indices : [22, 104, 81, 1, 103, 125, 85, 2, 96, 128, 27, 118, 77, 110, 146] \n",
      "dataset : <__main__.DLDataset object at 0x000002A4E5D81E50>\n",
      "-------------------------------------------------------------------------\n",
      "Subset 속성 => indices : [72, 139, 131, 60, 65, 92, 135, 83, 14, 34, 137, 10, 119, 9, 148, 79, 78, 70, 144, 143, 123, 115, 61, 132, 90, 46, 126, 136, 33, 138] \n",
      "dataset : <__main__.DLDataset object at 0x000002A4E5D81E50>\n"
     ]
    }
   ],
   "source": [
    "from torch.utils.data import random_split\n",
    "\n",
    "#학습용,검증용,테스트 데이터 비율\n",
    "seed=torch.Generator().manual_seed(42)\n",
    "trainDS,validDS,testDS=random_split(my_dataset2,[0.7,0.1,0.2],generator=seed) # 비율로 주기\n",
    "#      학습용                           검증용                      테스트용\n",
    "print(f'trainDS=>{len(trainDS)}개,validDS={len(validDS)}개,testDS={len(testDS)}개')\n",
    "print('--------------------------------------------------------------------------')\n",
    "print(f'Subset 속성 => indices : {trainDS.indices} \\ndataset : {trainDS.dataset}')\n",
    "print('-------------------------------------------------------------------------')\n",
    "print(f'Subset 속성 => indices : {validDS.indices} \\ndataset : {validDS.dataset}')\n",
    "print('-------------------------------------------------------------------------')\n",
    "print(f'Subset 속성 => indices : {testDS.indices} \\ndataset : {testDS.dataset}')\n"
   ],
   "metadata": {
    "collapsed": false,
    "ExecuteTime": {
     "end_time": "2024-03-15T07:11:45.962507200Z",
     "start_time": "2024-03-15T07:11:45.906446900Z"
    }
   },
   "id": "35073f1e63b30be0",
   "execution_count": 317
  },
  {
   "cell_type": "markdown",
   "source": [
    "[3] DataLoader 생성 : 학습용,검증용,테스트용 <hr> "
   ],
   "metadata": {
    "collapsed": false
   },
   "id": "b78bbd09d10713a"
  },
  {
   "cell_type": "code",
   "outputs": [
    {
     "data": {
      "text/plain": "(11, 2, 3)"
     },
     "execution_count": 318,
     "metadata": {},
     "output_type": "execute_result"
    }
   ],
   "source": [
    "#DataLoader 생성\n",
    "# drop_last 매개변수: 배치사이즈로 데이터셋 분리 후 남는 데이터 처리 방법 설정 [기본: False]\n",
    "batch=10\n",
    "trainDL=DataLoader(trainDS,batch_size=batch)\n",
    "validDL=DataLoader(validDS,batch_size=batch)\n",
    "testDL=DataLoader(testDS,batch_size=batch)\n",
    "\n",
    "len(trainDL),len(validDL),len(testDL)  #105/batch   , 15/batch  ,30/batch "
   ],
   "metadata": {
    "collapsed": false,
    "ExecuteTime": {
     "end_time": "2024-03-15T07:11:46.045676600Z",
     "start_time": "2024-03-15T07:11:45.968016600Z"
    }
   },
   "id": "de0609425aa07d44",
   "execution_count": 318
  },
  {
   "cell_type": "code",
   "outputs": [
    {
     "name": "stdout",
     "output_type": "stream",
     "text": [
      "batch_size:10\n",
      "trainDS=>105개,validDF=>15개,testDS=>30개\n",
      "trainDL=>11개,validDL=>2개,testDL=>3개\n"
     ]
    }
   ],
   "source": [
    "# Epoch 당 반복 단위\n",
    "print(f'batch_size:{batch}')\n",
    "print(f'trainDS=>{len(trainDS)}개,validDF=>{len(validDS)}개,testDS=>{len(testDS)}개')\n",
    "print(f'trainDL=>{len(trainDL)}개,validDL=>{len(validDL)}개,testDL=>{len(testDL)}개')"
   ],
   "metadata": {
    "collapsed": false,
    "ExecuteTime": {
     "end_time": "2024-03-15T07:11:46.102896Z",
     "start_time": "2024-03-15T07:11:46.047891700Z"
    }
   },
   "id": "401dcacc8e690fa3",
   "execution_count": 319
  },
  {
   "cell_type": "code",
   "outputs": [
    {
     "name": "stdout",
     "output_type": "stream",
     "text": [
      "[0 featuretorch.Size([10, 4])\n",
      "[1 featuretorch.Size([10, 4])\n",
      "[2 featuretorch.Size([10, 4])\n",
      "[3 featuretorch.Size([10, 4])\n",
      "[4 featuretorch.Size([10, 4])\n",
      "[5 featuretorch.Size([10, 4])\n",
      "[6 featuretorch.Size([10, 4])\n",
      "[7 featuretorch.Size([10, 4])\n",
      "[8 featuretorch.Size([10, 4])\n",
      "[9 featuretorch.Size([10, 4])\n",
      "[10 featuretorch.Size([5, 4])\n"
     ]
    }
   ],
   "source": [
    "# DataLoader 속성\n",
    "for _,(feature,target) in enumerate(trainDL):\n",
    "    print(f'[{_} feature{feature.shape}')\n",
    "    ## 로더에서 가지고온 데이터 만큼 학습 진행 => 검증 진행"
   ],
   "metadata": {
    "collapsed": false,
    "ExecuteTime": {
     "end_time": "2024-03-15T07:11:46.152411300Z",
     "start_time": "2024-03-15T07:11:46.090132400Z"
    }
   },
   "id": "45f5f2e189869dde",
   "execution_count": 320
  },
  {
   "cell_type": "markdown",
   "source": [
    "[4] Model 클래스 정의: <hr> : 입/출력 피쳐수,층 수,은닉층의 노드수   <hr>\n",
    "-구조 설계 \n",
    "    * 입력층 :입력 <=피쳐 갯수,iris 4개\n",
    "    * 은닉층: 마음대로 알아서 잘\n",
    "    * 출력층: 출력 <=[분류]타겟 클래스 갯수[타겟으로 정할 열의 고유값 개수] [회귀]1개"
   ],
   "metadata": {
    "collapsed": false
   },
   "id": "904c3aad8e4a3dc9"
  },
  {
   "cell_type": "code",
   "outputs": [],
   "source": [
    "# 여기서 부터 스스로 해볼 수 있도록 한다.>.>>.."
   ],
   "metadata": {
    "collapsed": false,
    "ExecuteTime": {
     "end_time": "2024-03-15T07:11:46.204507800Z",
     "start_time": "2024-03-15T07:11:46.141672200Z"
    }
   },
   "id": "eeedc9bdc3d6a7aa",
   "execution_count": 321
  },
  {
   "cell_type": "code",
   "outputs": [],
   "source": [
    "#모델 클래스 정의\n",
    "#클래스명:CModel\n",
    "class CModel(nn.Module):\n",
    "    #구성 요소 정의 함수\n",
    "    def __init__(self,in_dim,out_dim) -> None:\n",
    "        super().__init__()\n",
    "        self.input_layer=nn.Linear(in_dim,100) #1  피쳐 개수 4개 주입\n",
    "        self.relu=nn.ReLU()\n",
    "        self.hidden_layer=nn.Linear(100,27)  #2\n",
    "        self.output_layer=nn.Linear(27,out_dim)    #3  마지막에 꽃종류 3개 반출\n",
    "    #순방향 학습 진행 함수\n",
    "    def forward(self,x):\n",
    "        y=self.input_layer(x)   #W1X1+W2X2+....+Wnxn+b 반환(#1:100개)를 반환,아직 activation function을 덜 넣음\n",
    "        y=self.relu(y)            #relu 함수 결과 100개 반환\n",
    "        y=self.hidden_layer(y)      #W1X1+W2X2+....+Wnxn+b 반환(#2:27개)를 반환\n",
    "        y=self.relu(y)\n",
    "        y=self.output_layer(y)    #W1X1+W2X2+....+Wnxn+b 반환(#3:3개)를 반환\n",
    "        return y\n",
    "        \n",
    "        \n",
    "    \n"
   ],
   "metadata": {
    "collapsed": false,
    "ExecuteTime": {
     "end_time": "2024-03-15T07:11:46.205612500Z",
     "start_time": "2024-03-15T07:11:46.167914800Z"
    }
   },
   "id": "be352d2627b9adf4",
   "execution_count": 322
  },
  {
   "cell_type": "markdown",
   "source": [
    "### [5] 학습을 위한 준비:실행디바이스,모델, 최적화, 손실함수, 학습 횟수,학습 함수,평가함수,예측함수  <hr> \n",
    "        "
   ],
   "metadata": {
    "collapsed": false
   },
   "id": "42c504338e85e87d"
  },
  {
   "cell_type": "markdown",
   "source": [
    "[5-1] 실행 디바이스 설정\n"
   ],
   "metadata": {
    "collapsed": false
   },
   "id": "8762f5ab452b7296"
  },
  {
   "cell_type": "code",
   "outputs": [],
   "source": [
    "DEVICE='cuda' if torch.cuda.is_available() else 'cpu'  #얘를 상수화 하려면 튜플(tuple)로 만들어서 표현한다.\n",
    "\n",
    "#학습 횟수\n",
    "EPOCHS=50"
   ],
   "metadata": {
    "collapsed": false,
    "ExecuteTime": {
     "end_time": "2024-03-15T07:11:46.228355900Z",
     "start_time": "2024-03-15T07:11:46.211900Z"
    }
   },
   "id": "a2ad54b15ca88bf6",
   "execution_count": 323
  },
  {
   "cell_type": "code",
   "outputs": [
    {
     "data": {
      "text/plain": "torch.Size([150, 4])"
     },
     "execution_count": 324,
     "metadata": {},
     "output_type": "execute_result"
    }
   ],
   "source": [
    "#형태 보기\n",
    "my_dataset2.feature.shape"
   ],
   "metadata": {
    "collapsed": false,
    "ExecuteTime": {
     "end_time": "2024-03-15T07:11:46.259532300Z",
     "start_time": "2024-03-15T07:11:46.230914400Z"
    }
   },
   "id": "b4b25373d9ee3440",
   "execution_count": 324
  },
  {
   "cell_type": "code",
   "outputs": [
    {
     "name": "stdout",
     "output_type": "stream",
     "text": [
      "IN : 4,OUT :3\n",
      "CModel(\n",
      "  (input_layer): Linear(in_features=4, out_features=100, bias=True)\n",
      "  (relu): ReLU()\n",
      "  (hidden_layer): Linear(in_features=100, out_features=27, bias=True)\n",
      "  (output_layer): Linear(in_features=27, out_features=3, bias=True)\n",
      ")\n"
     ]
    }
   ],
   "source": [
    "#모델 인스턴스\n",
    "IN,OUT=my_dataset2.feature.shape[1],len(np.unique(targetDF))\n",
    "model=CModel(IN,OUT).to(DEVICE)\n",
    "print(f'IN : {IN},OUT :{OUT}')\n",
    "print(model)"
   ],
   "metadata": {
    "collapsed": false,
    "ExecuteTime": {
     "end_time": "2024-03-15T07:11:46.316645400Z",
     "start_time": "2024-03-15T07:11:46.264933100Z"
    }
   },
   "id": "5f789af38053d88c",
   "execution_count": 325
  },
  {
   "cell_type": "code",
   "outputs": [],
   "source": [
    "\n",
    "# 손실함수\n",
    "LOSS_FN=nn.CrossEntropyLoss().to(DEVICE)\n",
    "# 최적화\n",
    "import torch.optim as optim\n",
    "optimizer=optim.Adam(model.parameters()) #여기서 lr 줄수 있음"
   ],
   "metadata": {
    "collapsed": false,
    "ExecuteTime": {
     "end_time": "2024-03-15T07:11:46.335395300Z",
     "start_time": "2024-03-15T07:11:46.286588100Z"
    }
   },
   "id": "2f8e66e562fb91da",
   "execution_count": 326
  },
  {
   "cell_type": "markdown",
   "source": [
    "### 학습 및 검증 관련 함수 정의"
   ],
   "metadata": {
    "collapsed": false
   },
   "id": "f3b0535894011b7c"
  },
  {
   "cell_type": "markdown",
   "source": [
    "[5-2] 학습진행 함수"
   ],
   "metadata": {
    "collapsed": false
   },
   "id": "cc29e710e39bbdf4"
  },
  {
   "cell_type": "code",
   "outputs": [],
   "source": [
    "def training():\n",
    "    #학습 모드 => 정규화,경사하강법,드랍아웃등의 기능을 활성화\n",
    "    model.train()\n",
    "    #배치크기 만큼 학습 진행 및 저장\n",
    "    train_loss=[]\n",
    "    for cnt,(feature,target) in enumerate(trainDL):\n",
    "        #배치크기만큼의 학습 데이터 준비\n",
    "        feature,target=feature.to(DEVICE),target.to(DEVICE)\n",
    "        target=target.squeeze\n",
    "        #학습\n",
    "        pre_target=model(feature)\n",
    "        print(f'pre_target => {pre_target.shape},{pre_target.ndim}D')\n",
    "        print(f'target => {target.shape},{target.ndim}D')\n",
    "        #손실계산\n",
    "        loss=LOSS_FN(pre_target,target)\n",
    "        train_loss.append(loss)\n",
    "   \n",
    "        #w,b 업데이트\n",
    "        optimizer.zero_grad()\n",
    "        loss.backward()\n",
    "        optimizer.step()\n",
    "        \n",
    "        #배치 단위 학습 진행 메시지 출력\n",
    "        # print(f'[Train {cnt} batch LOSS] ==> {loss}')\n",
    "        \n",
    "    # 에포크 단위 진행 메시지 출력\n",
    "    print(f'[Train loss] ==> {loss}\\n\\n')\n",
    "    \n",
    "    return train_loss\n"
   ],
   "metadata": {
    "collapsed": false,
    "ExecuteTime": {
     "end_time": "2024-03-15T07:11:46.397379200Z",
     "start_time": "2024-03-15T07:11:46.326381400Z"
    }
   },
   "id": "9ac8032e07d71592",
   "execution_count": 327
  },
  {
   "cell_type": "code",
   "outputs": [
    {
     "name": "stdout",
     "output_type": "stream",
     "text": [
      "0 tensor([[4.4000, 3.2000, 1.3000, 0.2000],\n",
      "        [5.7000, 3.0000, 4.2000, 1.2000],\n",
      "        [4.8000, 3.1000, 1.6000, 0.2000],\n",
      "        [5.6000, 2.9000, 3.6000, 1.3000],\n",
      "        [6.9000, 3.1000, 4.9000, 1.5000],\n",
      "        [5.0000, 3.2000, 1.2000, 0.2000],\n",
      "        [7.4000, 2.8000, 6.1000, 1.9000],\n",
      "        [5.0000, 3.5000, 1.3000, 0.3000],\n",
      "        [5.8000, 2.7000, 3.9000, 1.2000],\n",
      "        [5.1000, 3.5000, 1.4000, 0.3000]]) tensor([[0.],\n",
      "        [1.],\n",
      "        [0.],\n",
      "        [1.],\n",
      "        [1.],\n",
      "        [0.],\n",
      "        [2.],\n",
      "        [0.],\n",
      "        [1.],\n",
      "        [0.]])\n",
      "1 tensor([[6.7000, 2.5000, 5.8000, 1.8000],\n",
      "        [5.6000, 2.7000, 4.2000, 1.3000],\n",
      "        [6.2000, 2.2000, 4.5000, 1.5000],\n",
      "        [6.2000, 2.9000, 4.3000, 1.3000],\n",
      "        [7.7000, 3.8000, 6.7000, 2.2000],\n",
      "        [6.1000, 3.0000, 4.9000, 1.8000],\n",
      "        [4.5000, 2.3000, 1.3000, 0.3000],\n",
      "        [5.1000, 3.8000, 1.9000, 0.4000],\n",
      "        [4.9000, 2.4000, 3.3000, 1.0000],\n",
      "        [6.7000, 3.1000, 5.6000, 2.4000]]) tensor([[2.],\n",
      "        [1.],\n",
      "        [1.],\n",
      "        [1.],\n",
      "        [2.],\n",
      "        [2.],\n",
      "        [0.],\n",
      "        [0.],\n",
      "        [1.],\n",
      "        [2.]])\n",
      "2 tensor([[5.9000, 3.0000, 5.1000, 1.8000],\n",
      "        [5.2000, 4.1000, 1.5000, 0.1000],\n",
      "        [5.1000, 3.3000, 1.7000, 0.5000],\n",
      "        [7.1000, 3.0000, 5.9000, 2.1000],\n",
      "        [5.4000, 3.9000, 1.3000, 0.4000],\n",
      "        [5.7000, 2.5000, 5.0000, 2.0000],\n",
      "        [6.1000, 2.8000, 4.0000, 1.3000],\n",
      "        [5.7000, 3.8000, 1.7000, 0.3000],\n",
      "        [5.8000, 2.7000, 4.1000, 1.0000],\n",
      "        [5.6000, 3.0000, 4.5000, 1.5000]]) tensor([[2.],\n",
      "        [0.],\n",
      "        [0.],\n",
      "        [2.],\n",
      "        [0.],\n",
      "        [2.],\n",
      "        [1.],\n",
      "        [0.],\n",
      "        [1.],\n",
      "        [1.]])\n",
      "3 tensor([[5.1000, 3.5000, 1.4000, 0.2000],\n",
      "        [5.0000, 3.0000, 1.6000, 0.2000],\n",
      "        [5.8000, 2.7000, 5.1000, 1.9000],\n",
      "        [6.8000, 3.0000, 5.5000, 2.1000],\n",
      "        [6.1000, 3.0000, 4.6000, 1.4000],\n",
      "        [4.6000, 3.1000, 1.5000, 0.2000],\n",
      "        [5.2000, 2.7000, 3.9000, 1.4000],\n",
      "        [6.5000, 3.0000, 5.5000, 1.8000],\n",
      "        [6.7000, 3.1000, 4.7000, 1.5000],\n",
      "        [5.4000, 3.0000, 4.5000, 1.5000]]) tensor([[0.],\n",
      "        [0.],\n",
      "        [2.],\n",
      "        [2.],\n",
      "        [1.],\n",
      "        [0.],\n",
      "        [1.],\n",
      "        [2.],\n",
      "        [1.],\n",
      "        [1.]])\n",
      "4 tensor([[4.9000, 2.5000, 4.5000, 1.7000],\n",
      "        [5.8000, 2.7000, 5.1000, 1.9000],\n",
      "        [5.0000, 3.5000, 1.6000, 0.6000],\n",
      "        [5.1000, 3.4000, 1.5000, 0.2000],\n",
      "        [5.0000, 3.4000, 1.6000, 0.4000],\n",
      "        [5.1000, 2.5000, 3.0000, 1.1000],\n",
      "        [5.0000, 2.3000, 3.3000, 1.0000],\n",
      "        [5.4000, 3.4000, 1.7000, 0.2000],\n",
      "        [6.3000, 2.3000, 4.4000, 1.3000],\n",
      "        [5.1000, 3.8000, 1.5000, 0.3000]]) tensor([[2.],\n",
      "        [2.],\n",
      "        [0.],\n",
      "        [0.],\n",
      "        [0.],\n",
      "        [1.],\n",
      "        [1.],\n",
      "        [0.],\n",
      "        [1.],\n",
      "        [0.]])\n",
      "5 tensor([[6.9000, 3.2000, 5.7000, 2.3000],\n",
      "        [5.8000, 2.8000, 5.1000, 2.4000],\n",
      "        [5.0000, 3.4000, 1.5000, 0.2000],\n",
      "        [6.1000, 2.9000, 4.7000, 1.4000],\n",
      "        [6.8000, 2.8000, 4.8000, 1.4000],\n",
      "        [5.5000, 2.5000, 4.0000, 1.3000],\n",
      "        [5.5000, 3.5000, 1.3000, 0.2000],\n",
      "        [4.8000, 3.0000, 1.4000, 0.3000],\n",
      "        [4.9000, 3.1000, 1.5000, 0.1000],\n",
      "        [6.3000, 3.3000, 4.7000, 1.6000]]) tensor([[2.],\n",
      "        [2.],\n",
      "        [0.],\n",
      "        [1.],\n",
      "        [1.],\n",
      "        [1.],\n",
      "        [0.],\n",
      "        [0.],\n",
      "        [0.],\n",
      "        [1.]])\n",
      "6 tensor([[6.6000, 2.9000, 4.6000, 1.3000],\n",
      "        [7.7000, 2.8000, 6.7000, 2.0000],\n",
      "        [6.4000, 3.2000, 4.5000, 1.5000],\n",
      "        [6.7000, 3.0000, 5.2000, 2.3000],\n",
      "        [4.8000, 3.4000, 1.9000, 0.2000],\n",
      "        [5.1000, 3.7000, 1.5000, 0.4000],\n",
      "        [7.6000, 3.0000, 6.6000, 2.1000],\n",
      "        [6.0000, 2.2000, 4.0000, 1.0000],\n",
      "        [5.7000, 4.4000, 1.5000, 0.4000],\n",
      "        [4.8000, 3.4000, 1.6000, 0.2000]]) tensor([[1.],\n",
      "        [2.],\n",
      "        [1.],\n",
      "        [2.],\n",
      "        [0.],\n",
      "        [0.],\n",
      "        [2.],\n",
      "        [1.],\n",
      "        [0.],\n",
      "        [0.]])\n",
      "7 tensor([[5.3000, 3.7000, 1.5000, 0.2000],\n",
      "        [6.3000, 2.8000, 5.1000, 1.5000],\n",
      "        [5.6000, 3.0000, 4.1000, 1.3000],\n",
      "        [7.0000, 3.2000, 4.7000, 1.4000],\n",
      "        [4.6000, 3.4000, 1.4000, 0.3000],\n",
      "        [6.1000, 2.6000, 5.6000, 1.4000],\n",
      "        [6.4000, 2.7000, 5.3000, 1.9000],\n",
      "        [4.4000, 2.9000, 1.4000, 0.2000],\n",
      "        [5.0000, 3.3000, 1.4000, 0.2000],\n",
      "        [6.6000, 3.0000, 4.4000, 1.4000]]) tensor([[0.],\n",
      "        [2.],\n",
      "        [1.],\n",
      "        [1.],\n",
      "        [0.],\n",
      "        [2.],\n",
      "        [2.],\n",
      "        [0.],\n",
      "        [0.],\n",
      "        [1.]])\n",
      "8 tensor([[5.6000, 2.5000, 3.9000, 1.1000],\n",
      "        [6.7000, 3.3000, 5.7000, 2.1000],\n",
      "        [5.0000, 3.6000, 1.4000, 0.2000],\n",
      "        [6.5000, 3.0000, 5.2000, 2.0000],\n",
      "        [5.5000, 2.4000, 3.8000, 1.1000],\n",
      "        [6.3000, 3.3000, 6.0000, 2.5000],\n",
      "        [5.7000, 2.8000, 4.1000, 1.3000],\n",
      "        [6.9000, 3.1000, 5.1000, 2.3000],\n",
      "        [4.6000, 3.2000, 1.4000, 0.2000],\n",
      "        [7.3000, 2.9000, 6.3000, 1.8000]]) tensor([[1.],\n",
      "        [2.],\n",
      "        [0.],\n",
      "        [2.],\n",
      "        [1.],\n",
      "        [2.],\n",
      "        [1.],\n",
      "        [2.],\n",
      "        [0.],\n",
      "        [2.]])\n",
      "9 tensor([[4.3000, 3.0000, 1.1000, 0.1000],\n",
      "        [7.2000, 3.6000, 6.1000, 2.5000],\n",
      "        [7.2000, 3.0000, 5.8000, 1.6000],\n",
      "        [5.2000, 3.4000, 1.4000, 0.2000],\n",
      "        [4.4000, 3.0000, 1.3000, 0.2000],\n",
      "        [5.5000, 2.3000, 4.0000, 1.3000],\n",
      "        [5.6000, 2.8000, 4.9000, 2.0000],\n",
      "        [5.4000, 3.9000, 1.7000, 0.4000],\n",
      "        [5.7000, 2.8000, 4.5000, 1.3000],\n",
      "        [5.4000, 3.4000, 1.5000, 0.4000]]) tensor([[0.],\n",
      "        [2.],\n",
      "        [2.],\n",
      "        [0.],\n",
      "        [0.],\n",
      "        [1.],\n",
      "        [2.],\n",
      "        [0.],\n",
      "        [1.],\n",
      "        [0.]])\n",
      "10 tensor([[6.1000, 2.8000, 4.7000, 1.2000],\n",
      "        [6.4000, 2.9000, 4.3000, 1.3000],\n",
      "        [6.5000, 2.8000, 4.6000, 1.5000],\n",
      "        [4.7000, 3.2000, 1.6000, 0.2000],\n",
      "        [4.8000, 3.0000, 1.4000, 0.1000]]) tensor([[1.],\n",
      "        [1.],\n",
      "        [1.],\n",
      "        [0.],\n",
      "        [0.]])\n"
     ]
    }
   ],
   "source": [
    "for cnt,(feature,target) in enumerate(trainDL):\n",
    "        print(cnt,feature,target)"
   ],
   "metadata": {
    "collapsed": false,
    "ExecuteTime": {
     "end_time": "2024-03-15T07:11:46.449707500Z",
     "start_time": "2024-03-15T07:11:46.383318400Z"
    }
   },
   "id": "16f176cc04827d7e",
   "execution_count": 328
  },
  {
   "cell_type": "markdown",
   "source": [
    "[5-3] 검증 및 평가 진행함수"
   ],
   "metadata": {
    "collapsed": false
   },
   "id": "4f633a3ab36b5a2"
  },
  {
   "cell_type": "code",
   "outputs": [],
   "source": [
    "def testing():\n",
    "    pass"
   ],
   "metadata": {
    "collapsed": false,
    "ExecuteTime": {
     "end_time": "2024-03-15T07:11:46.452895900Z",
     "start_time": "2024-03-15T07:11:46.409104700Z"
    }
   },
   "id": "3fac9ae404c08eb",
   "execution_count": 329
  },
  {
   "cell_type": "markdown",
   "source": [
    "[5-4] 예측 함수"
   ],
   "metadata": {
    "collapsed": false
   },
   "id": "97d2eb047c711c7f"
  },
  {
   "cell_type": "code",
   "outputs": [],
   "source": [
    "def predict():\n",
    "    pass"
   ],
   "metadata": {
    "collapsed": false,
    "ExecuteTime": {
     "end_time": "2024-03-15T07:11:46.466088400Z",
     "start_time": "2024-03-15T07:11:46.427922100Z"
    }
   },
   "id": "def2bb5a749ff6d",
   "execution_count": 330
  },
  {
   "cell_type": "code",
   "outputs": [],
   "source": [
    "\n",
    "\n"
   ],
   "metadata": {
    "collapsed": false,
    "ExecuteTime": {
     "end_time": "2024-03-15T07:11:46.483242400Z",
     "start_time": "2024-03-15T07:11:46.459330100Z"
    }
   },
   "id": "b196f0ef852a9a4e",
   "execution_count": 330
  },
  {
   "cell_type": "markdown",
   "source": [
    "[6] 학습 진행 <hr>"
   ],
   "metadata": {
    "collapsed": false
   },
   "id": "9ae41e1cc29bf021"
  },
  {
   "cell_type": "code",
   "outputs": [
    {
     "name": "stdout",
     "output_type": "stream",
     "text": [
      "pre_target => torch.Size([10, 3]),2D\n"
     ]
    },
    {
     "ename": "AttributeError",
     "evalue": "'builtin_function_or_method' object has no attribute 'shape'",
     "output_type": "error",
     "traceback": [
      "\u001B[1;31m---------------------------------------------------------------------------\u001B[0m",
      "\u001B[1;31mAttributeError\u001B[0m                            Traceback (most recent call last)",
      "Cell \u001B[1;32mIn[331], line 3\u001B[0m\n\u001B[0;32m      1\u001B[0m \u001B[38;5;28;01mfor\u001B[39;00m eps \u001B[38;5;129;01min\u001B[39;00m \u001B[38;5;28mrange\u001B[39m(EPOCHS):\n\u001B[0;32m      2\u001B[0m     \u001B[38;5;66;03m# 학습 함수\u001B[39;00m\n\u001B[1;32m----> 3\u001B[0m     train_loss\u001B[38;5;241m=\u001B[39m\u001B[43mtraining\u001B[49m\u001B[43m(\u001B[49m\u001B[43m)\u001B[49m\n\u001B[0;32m      4\u001B[0m     \u001B[38;5;66;03m#검증 함수\u001B[39;00m\n\u001B[0;32m      5\u001B[0m     \u001B[38;5;66;03m# testing()\u001B[39;00m\n\u001B[0;32m      6\u001B[0m     \u001B[38;5;28mprint\u001B[39m(\u001B[38;5;124mf\u001B[39m\u001B[38;5;124m'\u001B[39m\u001B[38;5;124m[\u001B[39m\u001B[38;5;132;01m{\u001B[39;00meps\u001B[38;5;132;01m}\u001B[39;00m\u001B[38;5;124m/\u001B[39m\u001B[38;5;132;01m{\u001B[39;00mEPOCHS\u001B[38;5;132;01m}\u001B[39;00m\u001B[38;5;124m]\u001B[39m\u001B[38;5;132;01m{\u001B[39;00m\u001B[38;5;28msum\u001B[39m(train_loss)\u001B[38;5;241m/\u001B[39m\u001B[38;5;28mlen\u001B[39m(train_loss)\u001B[38;5;132;01m}\u001B[39;00m\u001B[38;5;124m'\u001B[39m)\n",
      "Cell \u001B[1;32mIn[327], line 13\u001B[0m, in \u001B[0;36mtraining\u001B[1;34m()\u001B[0m\n\u001B[0;32m     11\u001B[0m pre_target\u001B[38;5;241m=\u001B[39mmodel(feature)\n\u001B[0;32m     12\u001B[0m \u001B[38;5;28mprint\u001B[39m(\u001B[38;5;124mf\u001B[39m\u001B[38;5;124m'\u001B[39m\u001B[38;5;124mpre_target => \u001B[39m\u001B[38;5;132;01m{\u001B[39;00mpre_target\u001B[38;5;241m.\u001B[39mshape\u001B[38;5;132;01m}\u001B[39;00m\u001B[38;5;124m,\u001B[39m\u001B[38;5;132;01m{\u001B[39;00mpre_target\u001B[38;5;241m.\u001B[39mndim\u001B[38;5;132;01m}\u001B[39;00m\u001B[38;5;124mD\u001B[39m\u001B[38;5;124m'\u001B[39m)\n\u001B[1;32m---> 13\u001B[0m \u001B[38;5;28mprint\u001B[39m(\u001B[38;5;124mf\u001B[39m\u001B[38;5;124m'\u001B[39m\u001B[38;5;124mtarget => \u001B[39m\u001B[38;5;132;01m{\u001B[39;00mtarget\u001B[38;5;241m.\u001B[39mshape\u001B[38;5;132;01m}\u001B[39;00m\u001B[38;5;124m,\u001B[39m\u001B[38;5;132;01m{\u001B[39;00mtarget\u001B[38;5;241m.\u001B[39mndim\u001B[38;5;132;01m}\u001B[39;00m\u001B[38;5;124mD\u001B[39m\u001B[38;5;124m'\u001B[39m)\n\u001B[0;32m     14\u001B[0m \u001B[38;5;66;03m#손실계산\u001B[39;00m\n\u001B[0;32m     15\u001B[0m loss\u001B[38;5;241m=\u001B[39mLOSS_FN(pre_target,target)\n",
      "\u001B[1;31mAttributeError\u001B[0m: 'builtin_function_or_method' object has no attribute 'shape'"
     ]
    }
   ],
   "source": [
    "for eps in range(EPOCHS):\n",
    "    # 학습 함수\n",
    "    train_loss=training()\n",
    "    #검증 함수\n",
    "    # testing()\n",
    "    print(f'[{eps}/{EPOCHS}]{sum(train_loss)/len(train_loss)}')"
   ],
   "metadata": {
    "collapsed": false,
    "ExecuteTime": {
     "end_time": "2024-03-15T07:11:46.579035300Z",
     "start_time": "2024-03-15T07:11:46.487452400Z"
    }
   },
   "id": "58a80e718433240",
   "execution_count": 331
  },
  {
   "cell_type": "code",
   "outputs": [],
   "source": [],
   "metadata": {
    "collapsed": false,
    "ExecuteTime": {
     "start_time": "2024-03-15T07:11:46.575833900Z"
    }
   },
   "id": "60bea56f802ea209"
  }
 ],
 "metadata": {
  "kernelspec": {
   "display_name": "Python 3",
   "language": "python",
   "name": "python3"
  },
  "language_info": {
   "codemirror_mode": {
    "name": "ipython",
    "version": 2
   },
   "file_extension": ".py",
   "mimetype": "text/x-python",
   "name": "python",
   "nbconvert_exporter": "python",
   "pygments_lexer": "ipython2",
   "version": "2.7.6"
  }
 },
 "nbformat": 4,
 "nbformat_minor": 5
}
