{
 "cells": [
  {
   "cell_type": "markdown",
   "source": [
    "- [1] 모듈 로딩 <hr>"
   ],
   "metadata": {
    "collapsed": false
   },
   "id": "7ef4c6aa170dfe03"
  },
  {
   "cell_type": "code",
   "outputs": [],
   "source": [
    "### ===> Module Import\n",
    "import numpy as np\n",
    "import matplotlib.pyplot as plt\n",
    "\n",
    "import torch\n",
    "import torch.nn as nn\n",
    "import torch.nn.functional as F\n",
    "from torchvision import transforms, datasets"
   ],
   "metadata": {
    "collapsed": false,
    "ExecuteTime": {
     "end_time": "2024-03-22T08:04:54.547885200Z",
     "start_time": "2024-03-22T08:04:51.766960100Z"
    }
   },
   "id": "25b4134425e0cd57",
   "execution_count": 1
  },
  {
   "cell_type": "code",
   "outputs": [
    {
     "name": "stdout",
     "output_type": "stream",
     "text": [
      "Using PyTorch version: 2.2.0  Device: cpu\n"
     ]
    }
   ],
   "source": [
    "### ===> 딥러닝 모델을 설계할 때 활용하는 장비 확인\n",
    "if torch.cuda.is_available():\n",
    "    DEVICE = torch.device('cuda')\n",
    "else:\n",
    "    DEVICE = torch.device('cpu')\n",
    "    \n",
    "print('Using PyTorch version:', torch.__version__, ' Device:', DEVICE)"
   ],
   "metadata": {
    "collapsed": false,
    "ExecuteTime": {
     "end_time": "2024-03-22T08:05:00.728678800Z",
     "start_time": "2024-03-22T08:05:00.719237400Z"
    }
   },
   "id": "907390117a469f69",
   "execution_count": 2
  },
  {
   "cell_type": "markdown",
   "source": [
    "- [2] 데이터 준비 <hr>"
   ],
   "metadata": {
    "collapsed": false
   },
   "id": "6546a1f77d6ab26d"
  },
  {
   "cell_type": "code",
   "outputs": [],
   "source": [
    "### ===>  데이터 추출 관련 변수\n",
    "BATCH_SIZE = 32\n",
    "EPOCHS = 10"
   ],
   "metadata": {
    "collapsed": false,
    "ExecuteTime": {
     "end_time": "2024-03-22T08:05:22.953718200Z",
     "start_time": "2024-03-22T08:05:22.935841200Z"
    }
   },
   "id": "49352c310cb8832a",
   "execution_count": 4
  },
  {
   "cell_type": "code",
   "outputs": [],
   "source": [
    "### ===> (Train set, Test set 분리하기)\n",
    "train_loader = torch.utils.data.DataLoader(dataset = '../data/MNIST/train.csv',\n",
    "                                            batch_size = BATCH_SIZE,\n",
    "                                            shuffle = True)\n",
    "\n",
    "test_loader = torch.utils.data.DataLoader(dataset ='../data/MNIST/t10k.csv' ,\n",
    "                                          batch_size = BATCH_SIZE,\n",
    "                                          shuffle = False)"
   ],
   "metadata": {
    "collapsed": false,
    "ExecuteTime": {
     "end_time": "2024-03-22T08:23:29.273205700Z",
     "start_time": "2024-03-22T08:23:29.263789300Z"
    }
   },
   "id": "720e0d08f480c6e5",
   "execution_count": 5
  },
  {
   "cell_type": "code",
   "outputs": [
    {
     "ename": "ValueError",
     "evalue": "too many values to unpack (expected 2)",
     "output_type": "error",
     "traceback": [
      "\u001B[1;31m---------------------------------------------------------------------------\u001B[0m",
      "\u001B[1;31mValueError\u001B[0m                                Traceback (most recent call last)",
      "Cell \u001B[1;32mIn[6], line 4\u001B[0m\n\u001B[0;32m      1\u001B[0m \u001B[38;5;66;03m### ===>  데이터 확인하기 (1)\u001B[39;00m\n\u001B[0;32m      2\u001B[0m \u001B[38;5;66;03m# X_train: torch.Size([32, 3, 32, 32]) type: torch.FloatTensor [배치사이즈,채널수(색),높이,너비]\u001B[39;00m\n\u001B[0;32m      3\u001B[0m \u001B[38;5;66;03m#y_train: torch.Size([32]) type: torch.LongTensor [배치사이즈],즉 32개 이미지에 대한 라벨 \u001B[39;00m\n\u001B[1;32m----> 4\u001B[0m \u001B[38;5;28;01mfor\u001B[39;00m (X_train, y_train) \u001B[38;5;129;01min\u001B[39;00m train_loader:\n\u001B[0;32m      5\u001B[0m     \u001B[38;5;28mprint\u001B[39m(\u001B[38;5;124m'\u001B[39m\u001B[38;5;124mX_train:\u001B[39m\u001B[38;5;124m'\u001B[39m, X_train\u001B[38;5;241m.\u001B[39msize(), \u001B[38;5;124m'\u001B[39m\u001B[38;5;124mtype:\u001B[39m\u001B[38;5;124m'\u001B[39m, X_train\u001B[38;5;241m.\u001B[39mtype())\n\u001B[0;32m      6\u001B[0m     \u001B[38;5;28mprint\u001B[39m(\u001B[38;5;124m'\u001B[39m\u001B[38;5;124my_train:\u001B[39m\u001B[38;5;124m'\u001B[39m, y_train\u001B[38;5;241m.\u001B[39msize(), \u001B[38;5;124m'\u001B[39m\u001B[38;5;124mtype:\u001B[39m\u001B[38;5;124m'\u001B[39m, y_train\u001B[38;5;241m.\u001B[39mtype())\n",
      "\u001B[1;31mValueError\u001B[0m: too many values to unpack (expected 2)"
     ]
    }
   ],
   "source": [
    "### ===>  데이터 확인하기 (1)\n",
    "# X_train: torch.Size([32, 3, 32, 32]) type: torch.FloatTensor [배치사이즈,채널수(색),높이,너비]\n",
    "#y_train: torch.Size([32]) type: torch.LongTensor [배치사이즈],즉 32개 이미지에 대한 라벨 \n",
    "for (X_train, y_train) in train_loader:\n",
    "    print('X_train:', X_train.size(), 'type:', X_train.type())\n",
    "    print('y_train:', y_train.size(), 'type:', y_train.type())\n",
    "    break"
   ],
   "metadata": {
    "collapsed": false,
    "ExecuteTime": {
     "end_time": "2024-03-22T08:23:54.023926400Z",
     "start_time": "2024-03-22T08:23:53.485441800Z"
    }
   },
   "id": "f7e5256b996ab9a6",
   "execution_count": 6
  },
  {
   "cell_type": "code",
   "outputs": [],
   "source": [],
   "metadata": {
    "collapsed": false
   },
   "id": "c1725de13df62b13"
  }
 ],
 "metadata": {
  "kernelspec": {
   "display_name": "Python 3",
   "language": "python",
   "name": "python3"
  },
  "language_info": {
   "codemirror_mode": {
    "name": "ipython",
    "version": 2
   },
   "file_extension": ".py",
   "mimetype": "text/x-python",
   "name": "python",
   "nbconvert_exporter": "python",
   "pygments_lexer": "ipython2",
   "version": "2.7.6"
  }
 },
 "nbformat": 4,
 "nbformat_minor": 5
}
