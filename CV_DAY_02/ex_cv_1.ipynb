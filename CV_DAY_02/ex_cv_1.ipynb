{
 "cells": [
  {
   "cell_type": "markdown",
   "source": [
    "#### [기본적인 이미지 다루기] "
   ],
   "metadata": {
    "collapsed": false
   },
   "id": "4fbc71863099ad19"
  },
  {
   "cell_type": "code",
   "outputs": [],
   "source": [
    "### ====> 모듈 로딩\n",
    "import cv2\n",
    "import numpy as np"
   ],
   "metadata": {
    "collapsed": false,
    "ExecuteTime": {
     "end_time": "2024-03-22T01:32:46.886198700Z",
     "start_time": "2024-03-22T01:32:46.692068100Z"
    }
   },
   "id": "d2309e85818cc4e0",
   "execution_count": 1
  },
  {
   "cell_type": "markdown",
   "source": [
    "- [1] 이미지 데이터 로딩 <hr>\n",
    "   * 컬러/회색이미지 변환 로딩 가능함"
   ],
   "metadata": {
    "collapsed": false
   },
   "id": "e3d488ccce0a5d3f"
  },
  {
   "cell_type": "code",
   "outputs": [],
   "source": [
    "file='../data/backattack.jpg'"
   ],
   "metadata": {
    "collapsed": false,
    "ExecuteTime": {
     "end_time": "2024-03-22T01:32:46.903979400Z",
     "start_time": "2024-03-22T01:32:46.890343200Z"
    }
   },
   "id": "1dac5f6cfe1eec88",
   "execution_count": 2
  },
  {
   "cell_type": "code",
   "outputs": [],
   "source": [
    "### => 컬러 이미지 로딩\n",
    "img_rgb=cv2.imread(file,cv2.IMREAD_COLOR)\n",
    "\n",
    "###=> 회색 이미지 로딩\n",
    "img_gray=cv2.imread(file,cv2.IMREAD_GRAYSCALE)"
   ],
   "metadata": {
    "collapsed": false,
    "ExecuteTime": {
     "end_time": "2024-03-22T01:32:46.941313100Z",
     "start_time": "2024-03-22T01:32:46.906062500Z"
    }
   },
   "id": "58d8b9566f55cdf8",
   "execution_count": 3
  },
  {
   "cell_type": "code",
   "outputs": [
    {
     "name": "stdout",
     "output_type": "stream",
     "text": [
      "[Color IMAGE]\n",
      "SHAPE : (419, 420, 3))   DIM :3차원      DTYPE : uint8)   SIZE :527940바이트\n",
      "[GRAY IMAGE]\n",
      "SHAPE : (419, 420))   DIM :2차원      DTYPE : uint8)   SIZE :175980바이트\n"
     ]
    }
   ],
   "source": [
    "### 이미지 데이터 정보확인 \n",
    "#3차원으로 들어온다\n",
    "print(f'[Color IMAGE]')\n",
    "\n",
    "print(f'SHAPE : {img_rgb.shape})   DIM :{img_rgb.ndim}차원',end='      ')\n",
    "print(f'DTYPE : {img_rgb.dtype})   SIZE :{img_rgb.size}바이트')\n",
    "\n",
    "print(f'[GRAY IMAGE]')\n",
    "print(f'SHAPE : {img_gray.shape})   DIM :{img_gray.ndim}차원',end='      ')\n",
    "print(f'DTYPE : {img_gray.dtype})   SIZE :{img_gray.size}바이트')"
   ],
   "metadata": {
    "collapsed": false,
    "ExecuteTime": {
     "end_time": "2024-03-22T01:32:46.942768700Z",
     "start_time": "2024-03-22T01:32:46.924310100Z"
    }
   },
   "id": "3e0d270ebc164233",
   "execution_count": 4
  },
  {
   "cell_type": "code",
   "outputs": [
    {
     "name": "stdout",
     "output_type": "stream",
     "text": [
      "-1\n"
     ]
    }
   ],
   "source": [
    "### => 이미지 창 띄우기\n",
    "cv2.imshow('[COLOR]',img_rgb)\n",
    "\n",
    "###=> 이미지 창 제어\n",
    "while True:\n",
    "    result=cv2.waitKey() \n",
    "    print(result)\n",
    "    if result>=80 or result ==-1:\n",
    "        break\n",
    "### => 이미지 창 닫기\n",
    "cv2.destroyAllWindows()"
   ],
   "metadata": {
    "collapsed": false,
    "ExecuteTime": {
     "end_time": "2024-03-22T01:37:28.978311200Z",
     "start_time": "2024-03-22T01:37:15.895508Z"
    }
   },
   "id": "f8d1264bd7b54eb",
   "execution_count": 12
  },
  {
   "cell_type": "code",
   "outputs": [],
   "source": [],
   "metadata": {
    "collapsed": false
   },
   "id": "4e0197234dfa4d44"
  }
 ],
 "metadata": {
  "kernelspec": {
   "display_name": "Python 3",
   "language": "python",
   "name": "python3"
  },
  "language_info": {
   "codemirror_mode": {
    "name": "ipython",
    "version": 2
   },
   "file_extension": ".py",
   "mimetype": "text/x-python",
   "name": "python",
   "nbconvert_exporter": "python",
   "pygments_lexer": "ipython2",
   "version": "2.7.6"
  }
 },
 "nbformat": 4,
 "nbformat_minor": 5
}
