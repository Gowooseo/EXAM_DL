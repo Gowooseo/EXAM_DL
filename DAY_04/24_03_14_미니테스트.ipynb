{
 "cells": [
  {
   "cell_type": "markdown",
   "metadata": {},
   "source": [
    "#### [ 미니 테스트  2024-03-14 ]<hr>"
   ]
  },
  {
   "cell_type": "markdown",
   "metadata": {},
   "source": [
    "[1] 지도학습에 대한 설명과 종류에 대해서 간략하게 설명해 주세요."
   ]
  },
  {
   "cell_type": "markdown",
   "metadata": {},
   "source": [
    "어떠한 대상을 인식 할 수 있도록 '이것은 이것이다' 식으로 학습 시키는 것을 말합니다.\n",
    "회귀와 분류로 나누어 집니다."
   ]
  },
  {
   "cell_type": "markdown",
   "metadata": {},
   "source": [
    "[2] 지도학습의 학습 프로세스를 간략하게 설명해 주세요."
   ]
  },
  {
   "cell_type": "markdown",
   "source": [
    "먼저 (1) 모듈을 불러온 뒤, (2) 필요한 데이터들을 전처리(이상값,결측치,중복값) 등을\n",
    "print(제거합니다) (3) 그래프나 메서드를 사용하여 속성들의 관계를 파악하고 , 그로 하여금 피쳐와 타겟을 나누어 학습 시킵니다.\n",
    "(4) 데이터 분석에 적합하다고 생각하는 모델을 선정하여 핏시켜 모델을 생성합니다. (5) 모델의 예측값과 실제 데이터 값의 스코어 점수를 보거나 정확도, 재현율등을 파악 할 수 있습니다."
   ],
   "metadata": {
    "collapsed": false
   }
  },
  {
   "cell_type": "markdown",
   "metadata": {},
   "source": [
    "[3] 선형회귀 대해 간략하게 설명해주세요.  \n",
    "    - 개념  \n",
    "    - 조건  \n",
    "    - 동작원리  \n",
    "    - 선형식  \n",
    "    - 오차/잔차 계산 방법  "
   ]
  },
  {
   "cell_type": "markdown",
   "metadata": {},
   "source": [
    "선형 회귀란 그래프 상에서 선형의 분포를 가지는 데이터들간의 수치의 변동을 통해 데이터를 분석하는 방식입니다. 선형회귀의 가중치(W)와 절편(B)을 통하여 Y=WX+B형태의 퍼셉트론을 만들어 냅니다."
   ]
  },
  {
   "cell_type": "markdown",
   "metadata": {},
   "source": [
    "[4] 로지스틱회귀 대해 간략하게 설명해주세요.  \n",
    "   - 개념  \n",
    "   - 조건  \n",
    "   - 동작원리  \n",
    "   - 선형식  \n",
    "   - 오차/잔차 계산 방법  "
   ]
  },
  {
   "cell_type": "markdown",
   "metadata": {},
   "source": [
    "로지스틱 회귀는 주로 이진분류에 사용되는 회귀방식이지만, 분류의 방식에 더 가깝습니다. 타겟의 값들이 두가지의 형태로 분류되어 '0 OR 1'이런식의 판단을 내릴수가 있게 됩니다.  "
   ]
  },
  {
   "cell_type": "markdown",
   "metadata": {},
   "source": [
    "[5] Fashion MNIST 데이터셋에서 10개 카테고리 중 하나를 선택해서 2진 분류로 구현해 주세요.  \n",
    "- 데이터셋 : scikit-learn의 datasets 사용\n",
    "    - from sklearn.datasets import fetch_openml \n",
    "    - db_name = 'Fashion-MNIST'\n",
    "    - fashion_data = fetch_openml(name=db_name, parser='auto')"
   ]
  },
  {
   "cell_type": "code",
   "execution_count": 2,
   "metadata": {
    "ExecuteTime": {
     "end_time": "2024-03-14T13:36:56.149055300Z",
     "start_time": "2024-03-14T13:36:52.361217300Z"
    }
   },
   "outputs": [],
   "source": [
    "#모듈 로딩\n",
    "from sklearn.datasets import fetch_openml\n",
    "import pandas as pd\n",
    "import numpy as np\n",
    "import torch\n",
    "\n",
    "import torch.nn as nn   #LinearRegression 기능의 클래스 Linear\n",
    "import torch.nn.functional as F #손실함수\n",
    "import torch.optim as optim  #경사하강법 기반의 최적화 관련 모듈"
   ]
  },
  {
   "cell_type": "code",
   "outputs": [],
   "source": [
    "### ===> 데이터 준비\n",
    "fashion_db='fashion-mnist'\n",
    "fashion_data=fetch_openml(name=fashion_db,parser='auto')#,as_frame=False) #넘파이로 가져오기"
   ],
   "metadata": {
    "collapsed": false,
    "ExecuteTime": {
     "end_time": "2024-03-14T13:37:00.053418500Z",
     "start_time": "2024-03-14T13:36:56.151127500Z"
    }
   },
   "execution_count": 3
  },
  {
   "cell_type": "code",
   "outputs": [
    {
     "data": {
      "text/plain": "{'data':        pixel1  pixel2  pixel3  pixel4  pixel5  pixel6  pixel7  pixel8  pixel9  \\\n 0           0       0       0       0       0       0       0       0       0   \n 1           0       0       0       0       0       1       0       0       0   \n 2           0       0       0       0       0       0       0       0       0   \n 3           0       0       0       0       0       0       0       0      33   \n 4           0       0       0       0       0       0       0       0       0   \n ...       ...     ...     ...     ...     ...     ...     ...     ...     ...   \n 69995       0       0       0       0       0       0       0       0       0   \n 69996       0       0       0       0       0       0       0       0       0   \n 69997       0       0       0       0       0       0       0       0       0   \n 69998       0       0       0       0       0       0       0       0       0   \n 69999       0       0       0       0       0       0       0       0       0   \n \n        pixel10  ...  pixel775  pixel776  pixel777  pixel778  pixel779  \\\n 0            0  ...         0         0         0         0         0   \n 1            0  ...       119       114       130        76         0   \n 2           22  ...         0         0         1         0         0   \n 3           96  ...         0         0         0         0         0   \n 4            0  ...         0         0         0         0         0   \n ...        ...  ...       ...       ...       ...       ...       ...   \n 69995        0  ...         0         0         0         0         0   \n 69996       31  ...         0         0         0         0         0   \n 69997        0  ...        27         0         0         0         0   \n 69998        0  ...         0         0         0         0         0   \n 69999        0  ...         0         0         0         0         0   \n \n        pixel780  pixel781  pixel782  pixel783  pixel784  \n 0             0         0         0         0         0  \n 1             0         0         0         0         0  \n 2             0         0         0         0         0  \n 3             0         0         0         0         0  \n 4             0         0         0         0         0  \n ...         ...       ...       ...       ...       ...  \n 69995         0         0         0         0         0  \n 69996         0         0         0         0         0  \n 69997         0         0         0         0         0  \n 69998         0         0         0         0         0  \n 69999         0         0         0         0         0  \n \n [70000 rows x 784 columns],\n 'target': 0        9\n 1        0\n 2        0\n 3        3\n 4        0\n         ..\n 69995    9\n 69996    1\n 69997    8\n 69998    1\n 69999    5\n Name: class, Length: 70000, dtype: category\n Categories (10, object): ['0', '1', '2', '3', ..., '6', '7', '8', '9'],\n 'frame':        pixel1  pixel2  pixel3  pixel4  pixel5  pixel6  pixel7  pixel8  pixel9  \\\n 0           0       0       0       0       0       0       0       0       0   \n 1           0       0       0       0       0       1       0       0       0   \n 2           0       0       0       0       0       0       0       0       0   \n 3           0       0       0       0       0       0       0       0      33   \n 4           0       0       0       0       0       0       0       0       0   \n ...       ...     ...     ...     ...     ...     ...     ...     ...     ...   \n 69995       0       0       0       0       0       0       0       0       0   \n 69996       0       0       0       0       0       0       0       0       0   \n 69997       0       0       0       0       0       0       0       0       0   \n 69998       0       0       0       0       0       0       0       0       0   \n 69999       0       0       0       0       0       0       0       0       0   \n \n        pixel10  ...  pixel776  pixel777  pixel778  pixel779  pixel780  \\\n 0            0  ...         0         0         0         0         0   \n 1            0  ...       114       130        76         0         0   \n 2           22  ...         0         1         0         0         0   \n 3           96  ...         0         0         0         0         0   \n 4            0  ...         0         0         0         0         0   \n ...        ...  ...       ...       ...       ...       ...       ...   \n 69995        0  ...         0         0         0         0         0   \n 69996       31  ...         0         0         0         0         0   \n 69997        0  ...         0         0         0         0         0   \n 69998        0  ...         0         0         0         0         0   \n 69999        0  ...         0         0         0         0         0   \n \n        pixel781  pixel782  pixel783  pixel784  class  \n 0             0         0         0         0      9  \n 1             0         0         0         0      0  \n 2             0         0         0         0      0  \n 3             0         0         0         0      3  \n 4             0         0         0         0      0  \n ...         ...       ...       ...       ...    ...  \n 69995         0         0         0         0      9  \n 69996         0         0         0         0      1  \n 69997         0         0         0         0      8  \n 69998         0         0         0         0      1  \n 69999         0         0         0         0      5  \n \n [70000 rows x 785 columns],\n 'categories': None,\n 'feature_names': ['pixel1',\n  'pixel2',\n  'pixel3',\n  'pixel4',\n  'pixel5',\n  'pixel6',\n  'pixel7',\n  'pixel8',\n  'pixel9',\n  'pixel10',\n  'pixel11',\n  'pixel12',\n  'pixel13',\n  'pixel14',\n  'pixel15',\n  'pixel16',\n  'pixel17',\n  'pixel18',\n  'pixel19',\n  'pixel20',\n  'pixel21',\n  'pixel22',\n  'pixel23',\n  'pixel24',\n  'pixel25',\n  'pixel26',\n  'pixel27',\n  'pixel28',\n  'pixel29',\n  'pixel30',\n  'pixel31',\n  'pixel32',\n  'pixel33',\n  'pixel34',\n  'pixel35',\n  'pixel36',\n  'pixel37',\n  'pixel38',\n  'pixel39',\n  'pixel40',\n  'pixel41',\n  'pixel42',\n  'pixel43',\n  'pixel44',\n  'pixel45',\n  'pixel46',\n  'pixel47',\n  'pixel48',\n  'pixel49',\n  'pixel50',\n  'pixel51',\n  'pixel52',\n  'pixel53',\n  'pixel54',\n  'pixel55',\n  'pixel56',\n  'pixel57',\n  'pixel58',\n  'pixel59',\n  'pixel60',\n  'pixel61',\n  'pixel62',\n  'pixel63',\n  'pixel64',\n  'pixel65',\n  'pixel66',\n  'pixel67',\n  'pixel68',\n  'pixel69',\n  'pixel70',\n  'pixel71',\n  'pixel72',\n  'pixel73',\n  'pixel74',\n  'pixel75',\n  'pixel76',\n  'pixel77',\n  'pixel78',\n  'pixel79',\n  'pixel80',\n  'pixel81',\n  'pixel82',\n  'pixel83',\n  'pixel84',\n  'pixel85',\n  'pixel86',\n  'pixel87',\n  'pixel88',\n  'pixel89',\n  'pixel90',\n  'pixel91',\n  'pixel92',\n  'pixel93',\n  'pixel94',\n  'pixel95',\n  'pixel96',\n  'pixel97',\n  'pixel98',\n  'pixel99',\n  'pixel100',\n  'pixel101',\n  'pixel102',\n  'pixel103',\n  'pixel104',\n  'pixel105',\n  'pixel106',\n  'pixel107',\n  'pixel108',\n  'pixel109',\n  'pixel110',\n  'pixel111',\n  'pixel112',\n  'pixel113',\n  'pixel114',\n  'pixel115',\n  'pixel116',\n  'pixel117',\n  'pixel118',\n  'pixel119',\n  'pixel120',\n  'pixel121',\n  'pixel122',\n  'pixel123',\n  'pixel124',\n  'pixel125',\n  'pixel126',\n  'pixel127',\n  'pixel128',\n  'pixel129',\n  'pixel130',\n  'pixel131',\n  'pixel132',\n  'pixel133',\n  'pixel134',\n  'pixel135',\n  'pixel136',\n  'pixel137',\n  'pixel138',\n  'pixel139',\n  'pixel140',\n  'pixel141',\n  'pixel142',\n  'pixel143',\n  'pixel144',\n  'pixel145',\n  'pixel146',\n  'pixel147',\n  'pixel148',\n  'pixel149',\n  'pixel150',\n  'pixel151',\n  'pixel152',\n  'pixel153',\n  'pixel154',\n  'pixel155',\n  'pixel156',\n  'pixel157',\n  'pixel158',\n  'pixel159',\n  'pixel160',\n  'pixel161',\n  'pixel162',\n  'pixel163',\n  'pixel164',\n  'pixel165',\n  'pixel166',\n  'pixel167',\n  'pixel168',\n  'pixel169',\n  'pixel170',\n  'pixel171',\n  'pixel172',\n  'pixel173',\n  'pixel174',\n  'pixel175',\n  'pixel176',\n  'pixel177',\n  'pixel178',\n  'pixel179',\n  'pixel180',\n  'pixel181',\n  'pixel182',\n  'pixel183',\n  'pixel184',\n  'pixel185',\n  'pixel186',\n  'pixel187',\n  'pixel188',\n  'pixel189',\n  'pixel190',\n  'pixel191',\n  'pixel192',\n  'pixel193',\n  'pixel194',\n  'pixel195',\n  'pixel196',\n  'pixel197',\n  'pixel198',\n  'pixel199',\n  'pixel200',\n  'pixel201',\n  'pixel202',\n  'pixel203',\n  'pixel204',\n  'pixel205',\n  'pixel206',\n  'pixel207',\n  'pixel208',\n  'pixel209',\n  'pixel210',\n  'pixel211',\n  'pixel212',\n  'pixel213',\n  'pixel214',\n  'pixel215',\n  'pixel216',\n  'pixel217',\n  'pixel218',\n  'pixel219',\n  'pixel220',\n  'pixel221',\n  'pixel222',\n  'pixel223',\n  'pixel224',\n  'pixel225',\n  'pixel226',\n  'pixel227',\n  'pixel228',\n  'pixel229',\n  'pixel230',\n  'pixel231',\n  'pixel232',\n  'pixel233',\n  'pixel234',\n  'pixel235',\n  'pixel236',\n  'pixel237',\n  'pixel238',\n  'pixel239',\n  'pixel240',\n  'pixel241',\n  'pixel242',\n  'pixel243',\n  'pixel244',\n  'pixel245',\n  'pixel246',\n  'pixel247',\n  'pixel248',\n  'pixel249',\n  'pixel250',\n  'pixel251',\n  'pixel252',\n  'pixel253',\n  'pixel254',\n  'pixel255',\n  'pixel256',\n  'pixel257',\n  'pixel258',\n  'pixel259',\n  'pixel260',\n  'pixel261',\n  'pixel262',\n  'pixel263',\n  'pixel264',\n  'pixel265',\n  'pixel266',\n  'pixel267',\n  'pixel268',\n  'pixel269',\n  'pixel270',\n  'pixel271',\n  'pixel272',\n  'pixel273',\n  'pixel274',\n  'pixel275',\n  'pixel276',\n  'pixel277',\n  'pixel278',\n  'pixel279',\n  'pixel280',\n  'pixel281',\n  'pixel282',\n  'pixel283',\n  'pixel284',\n  'pixel285',\n  'pixel286',\n  'pixel287',\n  'pixel288',\n  'pixel289',\n  'pixel290',\n  'pixel291',\n  'pixel292',\n  'pixel293',\n  'pixel294',\n  'pixel295',\n  'pixel296',\n  'pixel297',\n  'pixel298',\n  'pixel299',\n  'pixel300',\n  'pixel301',\n  'pixel302',\n  'pixel303',\n  'pixel304',\n  'pixel305',\n  'pixel306',\n  'pixel307',\n  'pixel308',\n  'pixel309',\n  'pixel310',\n  'pixel311',\n  'pixel312',\n  'pixel313',\n  'pixel314',\n  'pixel315',\n  'pixel316',\n  'pixel317',\n  'pixel318',\n  'pixel319',\n  'pixel320',\n  'pixel321',\n  'pixel322',\n  'pixel323',\n  'pixel324',\n  'pixel325',\n  'pixel326',\n  'pixel327',\n  'pixel328',\n  'pixel329',\n  'pixel330',\n  'pixel331',\n  'pixel332',\n  'pixel333',\n  'pixel334',\n  'pixel335',\n  'pixel336',\n  'pixel337',\n  'pixel338',\n  'pixel339',\n  'pixel340',\n  'pixel341',\n  'pixel342',\n  'pixel343',\n  'pixel344',\n  'pixel345',\n  'pixel346',\n  'pixel347',\n  'pixel348',\n  'pixel349',\n  'pixel350',\n  'pixel351',\n  'pixel352',\n  'pixel353',\n  'pixel354',\n  'pixel355',\n  'pixel356',\n  'pixel357',\n  'pixel358',\n  'pixel359',\n  'pixel360',\n  'pixel361',\n  'pixel362',\n  'pixel363',\n  'pixel364',\n  'pixel365',\n  'pixel366',\n  'pixel367',\n  'pixel368',\n  'pixel369',\n  'pixel370',\n  'pixel371',\n  'pixel372',\n  'pixel373',\n  'pixel374',\n  'pixel375',\n  'pixel376',\n  'pixel377',\n  'pixel378',\n  'pixel379',\n  'pixel380',\n  'pixel381',\n  'pixel382',\n  'pixel383',\n  'pixel384',\n  'pixel385',\n  'pixel386',\n  'pixel387',\n  'pixel388',\n  'pixel389',\n  'pixel390',\n  'pixel391',\n  'pixel392',\n  'pixel393',\n  'pixel394',\n  'pixel395',\n  'pixel396',\n  'pixel397',\n  'pixel398',\n  'pixel399',\n  'pixel400',\n  'pixel401',\n  'pixel402',\n  'pixel403',\n  'pixel404',\n  'pixel405',\n  'pixel406',\n  'pixel407',\n  'pixel408',\n  'pixel409',\n  'pixel410',\n  'pixel411',\n  'pixel412',\n  'pixel413',\n  'pixel414',\n  'pixel415',\n  'pixel416',\n  'pixel417',\n  'pixel418',\n  'pixel419',\n  'pixel420',\n  'pixel421',\n  'pixel422',\n  'pixel423',\n  'pixel424',\n  'pixel425',\n  'pixel426',\n  'pixel427',\n  'pixel428',\n  'pixel429',\n  'pixel430',\n  'pixel431',\n  'pixel432',\n  'pixel433',\n  'pixel434',\n  'pixel435',\n  'pixel436',\n  'pixel437',\n  'pixel438',\n  'pixel439',\n  'pixel440',\n  'pixel441',\n  'pixel442',\n  'pixel443',\n  'pixel444',\n  'pixel445',\n  'pixel446',\n  'pixel447',\n  'pixel448',\n  'pixel449',\n  'pixel450',\n  'pixel451',\n  'pixel452',\n  'pixel453',\n  'pixel454',\n  'pixel455',\n  'pixel456',\n  'pixel457',\n  'pixel458',\n  'pixel459',\n  'pixel460',\n  'pixel461',\n  'pixel462',\n  'pixel463',\n  'pixel464',\n  'pixel465',\n  'pixel466',\n  'pixel467',\n  'pixel468',\n  'pixel469',\n  'pixel470',\n  'pixel471',\n  'pixel472',\n  'pixel473',\n  'pixel474',\n  'pixel475',\n  'pixel476',\n  'pixel477',\n  'pixel478',\n  'pixel479',\n  'pixel480',\n  'pixel481',\n  'pixel482',\n  'pixel483',\n  'pixel484',\n  'pixel485',\n  'pixel486',\n  'pixel487',\n  'pixel488',\n  'pixel489',\n  'pixel490',\n  'pixel491',\n  'pixel492',\n  'pixel493',\n  'pixel494',\n  'pixel495',\n  'pixel496',\n  'pixel497',\n  'pixel498',\n  'pixel499',\n  'pixel500',\n  'pixel501',\n  'pixel502',\n  'pixel503',\n  'pixel504',\n  'pixel505',\n  'pixel506',\n  'pixel507',\n  'pixel508',\n  'pixel509',\n  'pixel510',\n  'pixel511',\n  'pixel512',\n  'pixel513',\n  'pixel514',\n  'pixel515',\n  'pixel516',\n  'pixel517',\n  'pixel518',\n  'pixel519',\n  'pixel520',\n  'pixel521',\n  'pixel522',\n  'pixel523',\n  'pixel524',\n  'pixel525',\n  'pixel526',\n  'pixel527',\n  'pixel528',\n  'pixel529',\n  'pixel530',\n  'pixel531',\n  'pixel532',\n  'pixel533',\n  'pixel534',\n  'pixel535',\n  'pixel536',\n  'pixel537',\n  'pixel538',\n  'pixel539',\n  'pixel540',\n  'pixel541',\n  'pixel542',\n  'pixel543',\n  'pixel544',\n  'pixel545',\n  'pixel546',\n  'pixel547',\n  'pixel548',\n  'pixel549',\n  'pixel550',\n  'pixel551',\n  'pixel552',\n  'pixel553',\n  'pixel554',\n  'pixel555',\n  'pixel556',\n  'pixel557',\n  'pixel558',\n  'pixel559',\n  'pixel560',\n  'pixel561',\n  'pixel562',\n  'pixel563',\n  'pixel564',\n  'pixel565',\n  'pixel566',\n  'pixel567',\n  'pixel568',\n  'pixel569',\n  'pixel570',\n  'pixel571',\n  'pixel572',\n  'pixel573',\n  'pixel574',\n  'pixel575',\n  'pixel576',\n  'pixel577',\n  'pixel578',\n  'pixel579',\n  'pixel580',\n  'pixel581',\n  'pixel582',\n  'pixel583',\n  'pixel584',\n  'pixel585',\n  'pixel586',\n  'pixel587',\n  'pixel588',\n  'pixel589',\n  'pixel590',\n  'pixel591',\n  'pixel592',\n  'pixel593',\n  'pixel594',\n  'pixel595',\n  'pixel596',\n  'pixel597',\n  'pixel598',\n  'pixel599',\n  'pixel600',\n  'pixel601',\n  'pixel602',\n  'pixel603',\n  'pixel604',\n  'pixel605',\n  'pixel606',\n  'pixel607',\n  'pixel608',\n  'pixel609',\n  'pixel610',\n  'pixel611',\n  'pixel612',\n  'pixel613',\n  'pixel614',\n  'pixel615',\n  'pixel616',\n  'pixel617',\n  'pixel618',\n  'pixel619',\n  'pixel620',\n  'pixel621',\n  'pixel622',\n  'pixel623',\n  'pixel624',\n  'pixel625',\n  'pixel626',\n  'pixel627',\n  'pixel628',\n  'pixel629',\n  'pixel630',\n  'pixel631',\n  'pixel632',\n  'pixel633',\n  'pixel634',\n  'pixel635',\n  'pixel636',\n  'pixel637',\n  'pixel638',\n  'pixel639',\n  'pixel640',\n  'pixel641',\n  'pixel642',\n  'pixel643',\n  'pixel644',\n  'pixel645',\n  'pixel646',\n  'pixel647',\n  'pixel648',\n  'pixel649',\n  'pixel650',\n  'pixel651',\n  'pixel652',\n  'pixel653',\n  'pixel654',\n  'pixel655',\n  'pixel656',\n  'pixel657',\n  'pixel658',\n  'pixel659',\n  'pixel660',\n  'pixel661',\n  'pixel662',\n  'pixel663',\n  'pixel664',\n  'pixel665',\n  'pixel666',\n  'pixel667',\n  'pixel668',\n  'pixel669',\n  'pixel670',\n  'pixel671',\n  'pixel672',\n  'pixel673',\n  'pixel674',\n  'pixel675',\n  'pixel676',\n  'pixel677',\n  'pixel678',\n  'pixel679',\n  'pixel680',\n  'pixel681',\n  'pixel682',\n  'pixel683',\n  'pixel684',\n  'pixel685',\n  'pixel686',\n  'pixel687',\n  'pixel688',\n  'pixel689',\n  'pixel690',\n  'pixel691',\n  'pixel692',\n  'pixel693',\n  'pixel694',\n  'pixel695',\n  'pixel696',\n  'pixel697',\n  'pixel698',\n  'pixel699',\n  'pixel700',\n  'pixel701',\n  'pixel702',\n  'pixel703',\n  'pixel704',\n  'pixel705',\n  'pixel706',\n  'pixel707',\n  'pixel708',\n  'pixel709',\n  'pixel710',\n  'pixel711',\n  'pixel712',\n  'pixel713',\n  'pixel714',\n  'pixel715',\n  'pixel716',\n  'pixel717',\n  'pixel718',\n  'pixel719',\n  'pixel720',\n  'pixel721',\n  'pixel722',\n  'pixel723',\n  'pixel724',\n  'pixel725',\n  'pixel726',\n  'pixel727',\n  'pixel728',\n  'pixel729',\n  'pixel730',\n  'pixel731',\n  'pixel732',\n  'pixel733',\n  'pixel734',\n  'pixel735',\n  'pixel736',\n  'pixel737',\n  'pixel738',\n  'pixel739',\n  'pixel740',\n  'pixel741',\n  'pixel742',\n  'pixel743',\n  'pixel744',\n  'pixel745',\n  'pixel746',\n  'pixel747',\n  'pixel748',\n  'pixel749',\n  'pixel750',\n  'pixel751',\n  'pixel752',\n  'pixel753',\n  'pixel754',\n  'pixel755',\n  'pixel756',\n  'pixel757',\n  'pixel758',\n  'pixel759',\n  'pixel760',\n  'pixel761',\n  'pixel762',\n  'pixel763',\n  'pixel764',\n  'pixel765',\n  'pixel766',\n  'pixel767',\n  'pixel768',\n  'pixel769',\n  'pixel770',\n  'pixel771',\n  'pixel772',\n  'pixel773',\n  'pixel774',\n  'pixel775',\n  'pixel776',\n  'pixel777',\n  'pixel778',\n  'pixel779',\n  'pixel780',\n  'pixel781',\n  'pixel782',\n  'pixel783',\n  'pixel784'],\n 'target_names': ['class'],\n 'DESCR': \"**Author**: Han Xiao, Kashif Rasul, Roland Vollgraf  \\n**Source**: [Zalando Research](https://github.com/zalandoresearch/fashion-mnist)  \\n**Please cite**: Han Xiao and Kashif Rasul and Roland Vollgraf, Fashion-MNIST: a Novel Image Dataset for Benchmarking Machine Learning Algorithms, arXiv, cs.LG/1708.07747  \\n\\nFashion-MNIST is a dataset of Zalando's article images, consisting of a training set of 60,000 examples and a test set of 10,000 examples. Each example is a 28x28 grayscale image, associated with a label from 10 classes. Fashion-MNIST is intended to serve as a direct drop-in replacement for the original MNIST dataset for benchmarking machine learning algorithms. It shares the same image size and structure of training and testing splits. \\n\\nRaw data available at: https://github.com/zalandoresearch/fashion-mnist\\n\\n### Target classes\\nEach training and test example is assigned to one of the following labels:\\nLabel  Description  \\n0  T-shirt/top  \\n1  Trouser  \\n2  Pullover  \\n3  Dress  \\n4  Coat  \\n5  Sandal  \\n6  Shirt  \\n7  Sneaker  \\n8  Bag  \\n9  Ankle boot\\n\\nDownloaded from openml.org.\",\n 'details': {'id': '40996',\n  'name': 'Fashion-MNIST',\n  'version': '1',\n  'description_version': '1',\n  'format': 'ARFF',\n  'creator': ['Han Xiao', 'Kashif Rasul', 'Roland Vollgraf'],\n  'upload_date': '2017-12-20T13:28:27',\n  'licence': 'Public',\n  'url': 'https://api.openml.org/data/v1/download/18238735/Fashion-MNIST.arff',\n  'parquet_url': 'https://openml1.win.tue.nl/datasets/0004/40996/dataset_40996.pq',\n  'file_id': '18238735',\n  'default_target_attribute': 'class',\n  'version_label': '1.0',\n  'citation': '@online{xiao2017/online,\\n  author       = {Han Xiao and Kashif Rasul and Roland Vollgraf},\\n  title        = {Fashion-MNIST: a Novel Image Dataset for Benchmarking Machine Learning Algorithms},\\n  date         = {2017-08-28},\\n  year         = {2017},\\n  eprintclass  = {cs.LG},\\n  eprinttype   = {arXiv},\\n  eprint       = {cs.LG/1708.07747},\\n}',\n  'tag': ['Meteorology',\n   'OpenML-CC18',\n   'study_218',\n   'study_99',\n   'Transportation',\n   'vision'],\n  'visibility': 'public',\n  'original_data_url': 'https://github.com/zalandoresearch/fashion-mnist',\n  'paper_url': 'Fashion-MNIST: a Novel Image Dataset for Benchmarking Machine Learning Algorithms. Han Xiao, Kashif Rasul, Roland Vollgraf. arXiv:1708.07747',\n  'minio_url': 'https://openml1.win.tue.nl/datasets/0004/40996/dataset_40996.pq',\n  'status': 'active',\n  'processing_date': '2018-10-04 07:21:31',\n  'md5_checksum': 'cdfc9c58cb9fe86ffaa76af247ae2ef2'},\n 'url': 'https://www.openml.org/d/40996'}"
     },
     "execution_count": 4,
     "metadata": {},
     "output_type": "execute_result"
    }
   ],
   "source": [
    "fashion_data"
   ],
   "metadata": {
    "collapsed": false,
    "ExecuteTime": {
     "end_time": "2024-03-14T13:37:00.119321300Z",
     "start_time": "2024-03-14T13:37:00.059896800Z"
    }
   },
   "execution_count": 4
  },
  {
   "cell_type": "code",
   "outputs": [],
   "source": [
    "### ====> 데이터 확인\n",
    "feature=fashion_data['data']\n",
    "target=fashion_data['target']"
   ],
   "metadata": {
    "collapsed": false,
    "ExecuteTime": {
     "end_time": "2024-03-14T13:37:00.139041800Z",
     "start_time": "2024-03-14T13:37:00.118323800Z"
    }
   },
   "execution_count": 5
  },
  {
   "cell_type": "code",
   "outputs": [
    {
     "name": "stdout",
     "output_type": "stream",
     "text": [
      "Feature: (70000, 784),2D\n",
      "Target: (70000,),1D\n"
     ]
    }
   ],
   "source": [
    "# 피쳐와 타겟 개수 확인\n",
    "print(f'Feature: {feature.shape},{feature.ndim}D')\n",
    "print(f'Target: {target.shape},{target.ndim}D')  #원핫 인코더 쓸때 확인"
   ],
   "metadata": {
    "collapsed": false,
    "ExecuteTime": {
     "end_time": "2024-03-14T13:37:00.214067800Z",
     "start_time": "2024-03-14T13:37:00.134901800Z"
    }
   },
   "execution_count": 6
  },
  {
   "cell_type": "code",
   "outputs": [
    {
     "name": "stdout",
     "output_type": "stream",
     "text": [
      "feature Name=> ['pixel1', 'pixel2', 'pixel3', 'pixel4', 'pixel5', 'pixel6', 'pixel7', 'pixel8', 'pixel9', 'pixel10', 'pixel11', 'pixel12', 'pixel13', 'pixel14', 'pixel15', 'pixel16', 'pixel17', 'pixel18', 'pixel19', 'pixel20', 'pixel21', 'pixel22', 'pixel23', 'pixel24', 'pixel25', 'pixel26', 'pixel27', 'pixel28', 'pixel29', 'pixel30', 'pixel31', 'pixel32', 'pixel33', 'pixel34', 'pixel35', 'pixel36', 'pixel37', 'pixel38', 'pixel39', 'pixel40', 'pixel41', 'pixel42', 'pixel43', 'pixel44', 'pixel45', 'pixel46', 'pixel47', 'pixel48', 'pixel49', 'pixel50', 'pixel51', 'pixel52', 'pixel53', 'pixel54', 'pixel55', 'pixel56', 'pixel57', 'pixel58', 'pixel59', 'pixel60', 'pixel61', 'pixel62', 'pixel63', 'pixel64', 'pixel65', 'pixel66', 'pixel67', 'pixel68', 'pixel69', 'pixel70', 'pixel71', 'pixel72', 'pixel73', 'pixel74', 'pixel75', 'pixel76', 'pixel77', 'pixel78', 'pixel79', 'pixel80', 'pixel81', 'pixel82', 'pixel83', 'pixel84', 'pixel85', 'pixel86', 'pixel87', 'pixel88', 'pixel89', 'pixel90', 'pixel91', 'pixel92', 'pixel93', 'pixel94', 'pixel95', 'pixel96', 'pixel97', 'pixel98', 'pixel99', 'pixel100', 'pixel101', 'pixel102', 'pixel103', 'pixel104', 'pixel105', 'pixel106', 'pixel107', 'pixel108', 'pixel109', 'pixel110', 'pixel111', 'pixel112', 'pixel113', 'pixel114', 'pixel115', 'pixel116', 'pixel117', 'pixel118', 'pixel119', 'pixel120', 'pixel121', 'pixel122', 'pixel123', 'pixel124', 'pixel125', 'pixel126', 'pixel127', 'pixel128', 'pixel129', 'pixel130', 'pixel131', 'pixel132', 'pixel133', 'pixel134', 'pixel135', 'pixel136', 'pixel137', 'pixel138', 'pixel139', 'pixel140', 'pixel141', 'pixel142', 'pixel143', 'pixel144', 'pixel145', 'pixel146', 'pixel147', 'pixel148', 'pixel149', 'pixel150', 'pixel151', 'pixel152', 'pixel153', 'pixel154', 'pixel155', 'pixel156', 'pixel157', 'pixel158', 'pixel159', 'pixel160', 'pixel161', 'pixel162', 'pixel163', 'pixel164', 'pixel165', 'pixel166', 'pixel167', 'pixel168', 'pixel169', 'pixel170', 'pixel171', 'pixel172', 'pixel173', 'pixel174', 'pixel175', 'pixel176', 'pixel177', 'pixel178', 'pixel179', 'pixel180', 'pixel181', 'pixel182', 'pixel183', 'pixel184', 'pixel185', 'pixel186', 'pixel187', 'pixel188', 'pixel189', 'pixel190', 'pixel191', 'pixel192', 'pixel193', 'pixel194', 'pixel195', 'pixel196', 'pixel197', 'pixel198', 'pixel199', 'pixel200', 'pixel201', 'pixel202', 'pixel203', 'pixel204', 'pixel205', 'pixel206', 'pixel207', 'pixel208', 'pixel209', 'pixel210', 'pixel211', 'pixel212', 'pixel213', 'pixel214', 'pixel215', 'pixel216', 'pixel217', 'pixel218', 'pixel219', 'pixel220', 'pixel221', 'pixel222', 'pixel223', 'pixel224', 'pixel225', 'pixel226', 'pixel227', 'pixel228', 'pixel229', 'pixel230', 'pixel231', 'pixel232', 'pixel233', 'pixel234', 'pixel235', 'pixel236', 'pixel237', 'pixel238', 'pixel239', 'pixel240', 'pixel241', 'pixel242', 'pixel243', 'pixel244', 'pixel245', 'pixel246', 'pixel247', 'pixel248', 'pixel249', 'pixel250', 'pixel251', 'pixel252', 'pixel253', 'pixel254', 'pixel255', 'pixel256', 'pixel257', 'pixel258', 'pixel259', 'pixel260', 'pixel261', 'pixel262', 'pixel263', 'pixel264', 'pixel265', 'pixel266', 'pixel267', 'pixel268', 'pixel269', 'pixel270', 'pixel271', 'pixel272', 'pixel273', 'pixel274', 'pixel275', 'pixel276', 'pixel277', 'pixel278', 'pixel279', 'pixel280', 'pixel281', 'pixel282', 'pixel283', 'pixel284', 'pixel285', 'pixel286', 'pixel287', 'pixel288', 'pixel289', 'pixel290', 'pixel291', 'pixel292', 'pixel293', 'pixel294', 'pixel295', 'pixel296', 'pixel297', 'pixel298', 'pixel299', 'pixel300', 'pixel301', 'pixel302', 'pixel303', 'pixel304', 'pixel305', 'pixel306', 'pixel307', 'pixel308', 'pixel309', 'pixel310', 'pixel311', 'pixel312', 'pixel313', 'pixel314', 'pixel315', 'pixel316', 'pixel317', 'pixel318', 'pixel319', 'pixel320', 'pixel321', 'pixel322', 'pixel323', 'pixel324', 'pixel325', 'pixel326', 'pixel327', 'pixel328', 'pixel329', 'pixel330', 'pixel331', 'pixel332', 'pixel333', 'pixel334', 'pixel335', 'pixel336', 'pixel337', 'pixel338', 'pixel339', 'pixel340', 'pixel341', 'pixel342', 'pixel343', 'pixel344', 'pixel345', 'pixel346', 'pixel347', 'pixel348', 'pixel349', 'pixel350', 'pixel351', 'pixel352', 'pixel353', 'pixel354', 'pixel355', 'pixel356', 'pixel357', 'pixel358', 'pixel359', 'pixel360', 'pixel361', 'pixel362', 'pixel363', 'pixel364', 'pixel365', 'pixel366', 'pixel367', 'pixel368', 'pixel369', 'pixel370', 'pixel371', 'pixel372', 'pixel373', 'pixel374', 'pixel375', 'pixel376', 'pixel377', 'pixel378', 'pixel379', 'pixel380', 'pixel381', 'pixel382', 'pixel383', 'pixel384', 'pixel385', 'pixel386', 'pixel387', 'pixel388', 'pixel389', 'pixel390', 'pixel391', 'pixel392', 'pixel393', 'pixel394', 'pixel395', 'pixel396', 'pixel397', 'pixel398', 'pixel399', 'pixel400', 'pixel401', 'pixel402', 'pixel403', 'pixel404', 'pixel405', 'pixel406', 'pixel407', 'pixel408', 'pixel409', 'pixel410', 'pixel411', 'pixel412', 'pixel413', 'pixel414', 'pixel415', 'pixel416', 'pixel417', 'pixel418', 'pixel419', 'pixel420', 'pixel421', 'pixel422', 'pixel423', 'pixel424', 'pixel425', 'pixel426', 'pixel427', 'pixel428', 'pixel429', 'pixel430', 'pixel431', 'pixel432', 'pixel433', 'pixel434', 'pixel435', 'pixel436', 'pixel437', 'pixel438', 'pixel439', 'pixel440', 'pixel441', 'pixel442', 'pixel443', 'pixel444', 'pixel445', 'pixel446', 'pixel447', 'pixel448', 'pixel449', 'pixel450', 'pixel451', 'pixel452', 'pixel453', 'pixel454', 'pixel455', 'pixel456', 'pixel457', 'pixel458', 'pixel459', 'pixel460', 'pixel461', 'pixel462', 'pixel463', 'pixel464', 'pixel465', 'pixel466', 'pixel467', 'pixel468', 'pixel469', 'pixel470', 'pixel471', 'pixel472', 'pixel473', 'pixel474', 'pixel475', 'pixel476', 'pixel477', 'pixel478', 'pixel479', 'pixel480', 'pixel481', 'pixel482', 'pixel483', 'pixel484', 'pixel485', 'pixel486', 'pixel487', 'pixel488', 'pixel489', 'pixel490', 'pixel491', 'pixel492', 'pixel493', 'pixel494', 'pixel495', 'pixel496', 'pixel497', 'pixel498', 'pixel499', 'pixel500', 'pixel501', 'pixel502', 'pixel503', 'pixel504', 'pixel505', 'pixel506', 'pixel507', 'pixel508', 'pixel509', 'pixel510', 'pixel511', 'pixel512', 'pixel513', 'pixel514', 'pixel515', 'pixel516', 'pixel517', 'pixel518', 'pixel519', 'pixel520', 'pixel521', 'pixel522', 'pixel523', 'pixel524', 'pixel525', 'pixel526', 'pixel527', 'pixel528', 'pixel529', 'pixel530', 'pixel531', 'pixel532', 'pixel533', 'pixel534', 'pixel535', 'pixel536', 'pixel537', 'pixel538', 'pixel539', 'pixel540', 'pixel541', 'pixel542', 'pixel543', 'pixel544', 'pixel545', 'pixel546', 'pixel547', 'pixel548', 'pixel549', 'pixel550', 'pixel551', 'pixel552', 'pixel553', 'pixel554', 'pixel555', 'pixel556', 'pixel557', 'pixel558', 'pixel559', 'pixel560', 'pixel561', 'pixel562', 'pixel563', 'pixel564', 'pixel565', 'pixel566', 'pixel567', 'pixel568', 'pixel569', 'pixel570', 'pixel571', 'pixel572', 'pixel573', 'pixel574', 'pixel575', 'pixel576', 'pixel577', 'pixel578', 'pixel579', 'pixel580', 'pixel581', 'pixel582', 'pixel583', 'pixel584', 'pixel585', 'pixel586', 'pixel587', 'pixel588', 'pixel589', 'pixel590', 'pixel591', 'pixel592', 'pixel593', 'pixel594', 'pixel595', 'pixel596', 'pixel597', 'pixel598', 'pixel599', 'pixel600', 'pixel601', 'pixel602', 'pixel603', 'pixel604', 'pixel605', 'pixel606', 'pixel607', 'pixel608', 'pixel609', 'pixel610', 'pixel611', 'pixel612', 'pixel613', 'pixel614', 'pixel615', 'pixel616', 'pixel617', 'pixel618', 'pixel619', 'pixel620', 'pixel621', 'pixel622', 'pixel623', 'pixel624', 'pixel625', 'pixel626', 'pixel627', 'pixel628', 'pixel629', 'pixel630', 'pixel631', 'pixel632', 'pixel633', 'pixel634', 'pixel635', 'pixel636', 'pixel637', 'pixel638', 'pixel639', 'pixel640', 'pixel641', 'pixel642', 'pixel643', 'pixel644', 'pixel645', 'pixel646', 'pixel647', 'pixel648', 'pixel649', 'pixel650', 'pixel651', 'pixel652', 'pixel653', 'pixel654', 'pixel655', 'pixel656', 'pixel657', 'pixel658', 'pixel659', 'pixel660', 'pixel661', 'pixel662', 'pixel663', 'pixel664', 'pixel665', 'pixel666', 'pixel667', 'pixel668', 'pixel669', 'pixel670', 'pixel671', 'pixel672', 'pixel673', 'pixel674', 'pixel675', 'pixel676', 'pixel677', 'pixel678', 'pixel679', 'pixel680', 'pixel681', 'pixel682', 'pixel683', 'pixel684', 'pixel685', 'pixel686', 'pixel687', 'pixel688', 'pixel689', 'pixel690', 'pixel691', 'pixel692', 'pixel693', 'pixel694', 'pixel695', 'pixel696', 'pixel697', 'pixel698', 'pixel699', 'pixel700', 'pixel701', 'pixel702', 'pixel703', 'pixel704', 'pixel705', 'pixel706', 'pixel707', 'pixel708', 'pixel709', 'pixel710', 'pixel711', 'pixel712', 'pixel713', 'pixel714', 'pixel715', 'pixel716', 'pixel717', 'pixel718', 'pixel719', 'pixel720', 'pixel721', 'pixel722', 'pixel723', 'pixel724', 'pixel725', 'pixel726', 'pixel727', 'pixel728', 'pixel729', 'pixel730', 'pixel731', 'pixel732', 'pixel733', 'pixel734', 'pixel735', 'pixel736', 'pixel737', 'pixel738', 'pixel739', 'pixel740', 'pixel741', 'pixel742', 'pixel743', 'pixel744', 'pixel745', 'pixel746', 'pixel747', 'pixel748', 'pixel749', 'pixel750', 'pixel751', 'pixel752', 'pixel753', 'pixel754', 'pixel755', 'pixel756', 'pixel757', 'pixel758', 'pixel759', 'pixel760', 'pixel761', 'pixel762', 'pixel763', 'pixel764', 'pixel765', 'pixel766', 'pixel767', 'pixel768', 'pixel769', 'pixel770', 'pixel771', 'pixel772', 'pixel773', 'pixel774', 'pixel775', 'pixel776', 'pixel777', 'pixel778', 'pixel779', 'pixel780', 'pixel781', 'pixel782', 'pixel783', 'pixel784']\n",
      "target Name=> ['class']\n",
      "CATEGORIES => None\n",
      "CATEGORIES => ['9', '0', '3', '2', '7', '5', '1', '6', '4', '8']\n",
      "Categories (10, object): ['0', '1', '2', '3', ..., '6', '7', '8', '9']\n"
     ]
    }
   ],
   "source": [
    "# 분류 확인(CLASS 보기)\n",
    "print(f'feature Name=> {fashion_data[\"feature_names\"]}')\n",
    "print(f'target Name=> {fashion_data[\"target_names\"]}')\n",
    "print(f'CATEGORIES => {fashion_data[\"categories\"]}')  #데이터 프레임일떄 불가능\n",
    "print(f'CATEGORIES => {target.unique()}')"
   ],
   "metadata": {
    "collapsed": false,
    "ExecuteTime": {
     "end_time": "2024-03-14T13:37:00.217115600Z",
     "start_time": "2024-03-14T13:37:00.152740700Z"
    }
   },
   "execution_count": 7
  },
  {
   "cell_type": "markdown",
   "source": [
    "[2] 데이터 가공 전처리 <hr>\n",
    "- 결측치/중복/이상치 => 없음\n",
    "- 다중분류==> 2진분류 변환 : target 변환\n",
    "- 표준화 ==> 이미지 동일 크기 및 색상 채널 : 동일 크기(28*28)와  채널(흑백 1)\n",
    "- 정규화 => 피쳐 정규화/ 타겟 정규화 "
   ],
   "metadata": {
    "collapsed": false
   }
  },
  {
   "cell_type": "code",
   "outputs": [
    {
     "data": {
      "text/plain": "array([False,  True])"
     },
     "execution_count": 8,
     "metadata": {},
     "output_type": "execute_result"
    }
   ],
   "source": [
    "### ===> [2-1] 다중분류 ==> 2진분류 변환: target 변환\n",
    "type(target)  #시리즈이다.\n",
    "\n",
    "#마스크 처리가 편하다.\n",
    "target=target =='0'\n",
    "target.unique()\n"
   ],
   "metadata": {
    "collapsed": false,
    "ExecuteTime": {
     "end_time": "2024-03-14T13:37:00.235358200Z",
     "start_time": "2024-03-14T13:37:00.164707Z"
    }
   },
   "execution_count": 8
  },
  {
   "cell_type": "markdown",
   "source": [
    "표준화는 필요 없고. \n"
   ],
   "metadata": {
    "collapsed": false
   }
  },
  {
   "cell_type": "code",
   "outputs": [],
   "source": [
    "###==> [2-2] 정규화 ===> 피쳐: 784개 색상값 즉, 0~255 범위 값\n",
    "norm_feature=feature/255. #숫자뒤에 점 찍으면 실수(float)로 형변환\n"
   ],
   "metadata": {
    "collapsed": false,
    "ExecuteTime": {
     "end_time": "2024-03-14T13:37:00.327912100Z",
     "start_time": "2024-03-14T13:37:00.181301400Z"
    }
   },
   "execution_count": 9
  },
  {
   "cell_type": "code",
   "outputs": [
    {
     "data": {
      "text/plain": "       False  True \n0       True  False\n1      False   True\n2      False   True\n3       True  False\n4      False   True\n...      ...    ...\n69995   True  False\n69996   True  False\n69997   True  False\n69998   True  False\n69999   True  False\n\n[70000 rows x 2 columns]",
      "text/html": "<div>\n<style scoped>\n    .dataframe tbody tr th:only-of-type {\n        vertical-align: middle;\n    }\n\n    .dataframe tbody tr th {\n        vertical-align: top;\n    }\n\n    .dataframe thead th {\n        text-align: right;\n    }\n</style>\n<table border=\"1\" class=\"dataframe\">\n  <thead>\n    <tr style=\"text-align: right;\">\n      <th></th>\n      <th>False</th>\n      <th>True</th>\n    </tr>\n  </thead>\n  <tbody>\n    <tr>\n      <th>0</th>\n      <td>True</td>\n      <td>False</td>\n    </tr>\n    <tr>\n      <th>1</th>\n      <td>False</td>\n      <td>True</td>\n    </tr>\n    <tr>\n      <th>2</th>\n      <td>False</td>\n      <td>True</td>\n    </tr>\n    <tr>\n      <th>3</th>\n      <td>True</td>\n      <td>False</td>\n    </tr>\n    <tr>\n      <th>4</th>\n      <td>False</td>\n      <td>True</td>\n    </tr>\n    <tr>\n      <th>...</th>\n      <td>...</td>\n      <td>...</td>\n    </tr>\n    <tr>\n      <th>69995</th>\n      <td>True</td>\n      <td>False</td>\n    </tr>\n    <tr>\n      <th>69996</th>\n      <td>True</td>\n      <td>False</td>\n    </tr>\n    <tr>\n      <th>69997</th>\n      <td>True</td>\n      <td>False</td>\n    </tr>\n    <tr>\n      <th>69998</th>\n      <td>True</td>\n      <td>False</td>\n    </tr>\n    <tr>\n      <th>69999</th>\n      <td>True</td>\n      <td>False</td>\n    </tr>\n  </tbody>\n</table>\n<p>70000 rows × 2 columns</p>\n</div>"
     },
     "execution_count": 10,
     "metadata": {},
     "output_type": "execute_result"
    }
   ],
   "source": [
    "###=> [2-2] 정규화 ===> 타겟: 이대로 쓰거나, one-hot encoder로 바꾸던가, label 인코더로 쓰던가.\n",
    "#scikitlearn=> onehot 인코더\n",
    "# get-dummies( 판다스)  #0,1로 바꾸기\n",
    "pd.get_dummies(target)"
   ],
   "metadata": {
    "collapsed": false,
    "ExecuteTime": {
     "end_time": "2024-03-14T13:37:00.376610700Z",
     "start_time": "2024-03-14T13:37:00.242109Z"
    }
   },
   "execution_count": 10
  },
  {
   "cell_type": "code",
   "outputs": [
    {
     "name": "stdout",
     "output_type": "stream",
     "text": [
      "(70000, 1)\n"
     ]
    }
   ],
   "source": [
    "from sklearn.preprocessing import OneHotEncoder\n",
    "\n",
    "targetDF=target.to_frame() #타겟을 다시 데이터프레임으로\n",
    "print(targetDF.shape)\n"
   ],
   "metadata": {
    "collapsed": false,
    "ExecuteTime": {
     "end_time": "2024-03-14T13:37:00.378702900Z",
     "start_time": "2024-03-14T13:37:00.272818400Z"
    }
   },
   "execution_count": 11
  },
  {
   "cell_type": "code",
   "outputs": [
    {
     "data": {
      "text/plain": "([array([False,  True,  True, ..., False, False, False])],\n array([[False],\n        [ True],\n        [ True],\n        ...,\n        [False],\n        [False],\n        [False]]))"
     },
     "execution_count": 12,
     "metadata": {},
     "output_type": "execute_result"
    }
   ],
   "source": [
    "[target.values],targetDF.values"
   ],
   "metadata": {
    "collapsed": false,
    "ExecuteTime": {
     "end_time": "2024-03-14T13:37:00.380938100Z",
     "start_time": "2024-03-14T13:37:00.286524700Z"
    }
   },
   "execution_count": 12
  },
  {
   "cell_type": "code",
   "outputs": [
    {
     "data": {
      "text/plain": "[array([False,  True])]"
     },
     "execution_count": 13,
     "metadata": {},
     "output_type": "execute_result"
    }
   ],
   "source": [
    "# sparse_output=False : ndarray 타입으로 반환\n",
    "ohEncoder = OneHotEncoder(sparse_output=False)  #풀어서 준다(압축 행렬을)\n",
    "ohEncoder.fit(targetDF)\n",
    "ohEncoder.categories_  #원본에 적용된다는 의미 _\n",
    "\n",
    " #false면 앞에가 1이 찍히고, true면 뒤에가 1이 찍힌다."
   ],
   "metadata": {
    "collapsed": false,
    "ExecuteTime": {
     "end_time": "2024-03-14T13:37:00.399105400Z",
     "start_time": "2024-03-14T13:37:00.303145Z"
    }
   },
   "execution_count": 13
  },
  {
   "cell_type": "code",
   "outputs": [
    {
     "data": {
      "text/plain": "((70000, 2), 2)"
     },
     "execution_count": 14,
     "metadata": {},
     "output_type": "execute_result"
    }
   ],
   "source": [
    "norm_target=ohEncoder.transform(targetDF)  #압축되어서 준다 => toarray()쓸수도 있다=> 그런데 처음 부터 sparse_output을 쓰면 처음부터 ndarray타입으로 바꿔 주므로 다시 toarray로 풀어서 쓸 필요가 없다. \n",
    "norm_target.shape,norm_target.ndim #2차원으로 바꾸어서 준다( 얘를 쓸때도 있다)"
   ],
   "metadata": {
    "collapsed": false,
    "ExecuteTime": {
     "end_time": "2024-03-14T13:37:00.402156500Z",
     "start_time": "2024-03-14T13:37:00.318676Z"
    }
   },
   "execution_count": 14
  },
  {
   "cell_type": "code",
   "outputs": [
    {
     "data": {
      "text/plain": "0        9\n1        0\n2        0\n3        3\n4        0\n        ..\n69995    9\n69996    1\n69997    8\n69998    1\n69999    5\nName: class, Length: 70000, dtype: category\nCategories (10, object): ['0', '1', '2', '3', ..., '6', '7', '8', '9']"
     },
     "execution_count": 15,
     "metadata": {},
     "output_type": "execute_result"
    }
   ],
   "source": [
    "fashion_data['target']  #현재 시리즈 형태로 묶여 있음이 보인다."
   ],
   "metadata": {
    "collapsed": false,
    "ExecuteTime": {
     "end_time": "2024-03-14T13:37:00.403204800Z",
     "start_time": "2024-03-14T13:37:00.337224800Z"
    }
   },
   "execution_count": 15
  },
  {
   "cell_type": "code",
   "outputs": [],
   "source": [
    "#회귀의 경우 원핫 인코더를 쓸수는 없음(분류가 안됨)"
   ],
   "metadata": {
    "collapsed": false,
    "ExecuteTime": {
     "end_time": "2024-03-14T13:37:00.433145100Z",
     "start_time": "2024-03-14T13:37:00.349635900Z"
    }
   },
   "execution_count": 16
  },
  {
   "cell_type": "markdown",
   "source": [
    "[3] 학습 준비 <hr>\n",
    "- 텐서화\n",
    "- 데이터 셋 준비 : 훈련용(train), 테스트용(test)\n",
    "- 학습 방법: 지도학습 -이진분류=> Linear 클래스 + 시그모이드 함수(1,0) 즉 linear를 1과 0만으로 2진 분류 해내면 됨\n",
    "- 최적화 방법: 경사하강법 기반의 방법=> Adam,SDG\n",
    "- 손실함수: 이진분류 손실 계산 함수 : binary_cross_entropy\n"
   ],
   "metadata": {
    "collapsed": false
   }
  },
  {
   "cell_type": "code",
   "outputs": [],
   "source": [
    "### ---> 데이터셋 준비 :60000개 훈련, 10000개 테스트\n",
    "limit=60000\n",
    "train=norm_feature.iloc[:limit]\n",
    "test=norm_feature.iloc[limit:]\n",
    "#아직까지는 텐서가 아님\n",
    "train_y=target[:limit]\n",
    "test_y=target[limit:]"
   ],
   "metadata": {
    "collapsed": false,
    "ExecuteTime": {
     "end_time": "2024-03-14T13:37:00.582108200Z",
     "start_time": "2024-03-14T13:37:00.367269800Z"
    }
   },
   "execution_count": 17
  },
  {
   "cell_type": "code",
   "outputs": [
    {
     "name": "stdout",
     "output_type": "stream",
     "text": [
      "train (60000, 784),2D,(60000,),1D\n",
      "test (10000, 784),2D,(10000,),1D\n"
     ]
    }
   ],
   "source": [
    "print(f'train {train.shape},{train.ndim}D,{train_y.shape},{train_y.ndim}D')  \n",
    "print(f'test {test.shape},{test.ndim}D,{test_y.shape},{test_y.ndim}D')"
   ],
   "metadata": {
    "collapsed": false,
    "ExecuteTime": {
     "end_time": "2024-03-14T13:37:00.619364200Z",
     "start_time": "2024-03-14T13:37:00.380938100Z"
    }
   },
   "execution_count": 18
  },
  {
   "cell_type": "code",
   "outputs": [],
   "source": [],
   "metadata": {
    "collapsed": false,
    "ExecuteTime": {
     "end_time": "2024-03-14T13:37:00.669865100Z",
     "start_time": "2024-03-14T13:37:00.395445Z"
    }
   },
   "execution_count": 18
  },
  {
   "cell_type": "code",
   "outputs": [],
   "source": [
    "###텐서로 변환\n",
    "X_train=torch.FloatTensor(train.values)# array를 뽑는 법=.values\n",
    "X_test=torch.FloatTensor(test.values) \n",
    "\n",
    "y_train=torch.FloatTensor(train_y.values).unsqueeze(dim=1) #64비트 정수형 데이터 타입=LONG 타입\n",
    "y_test=torch.FloatTensor(test_y.values).unsqueeze(dim=1)"
   ],
   "metadata": {
    "collapsed": false,
    "ExecuteTime": {
     "end_time": "2024-03-14T13:37:00.727230Z",
     "start_time": "2024-03-14T13:37:00.415885300Z"
    }
   },
   "execution_count": 19
  },
  {
   "cell_type": "code",
   "outputs": [
    {
     "name": "stdout",
     "output_type": "stream",
     "text": [
      "X_train torch.Size([60000, 784]),2D,torch.Size([60000, 1]),2D\n",
      "X_test torch.Size([10000, 784]),2D,torch.Size([10000, 1]),2D\n"
     ]
    }
   ],
   "source": [
    "print(f'X_train {X_train.shape},{X_train.ndim}D,{y_train.shape},{y_train.ndim}D')  \n",
    "print(f'X_test {X_test.shape},{X_test.ndim}D,{y_test.shape},{y_test.ndim}D')"
   ],
   "metadata": {
    "collapsed": false,
    "ExecuteTime": {
     "end_time": "2024-03-14T13:37:00.729575800Z",
     "start_time": "2024-03-14T13:37:00.491179300Z"
    }
   },
   "execution_count": 20
  },
  {
   "cell_type": "code",
   "outputs": [
    {
     "data": {
      "text/plain": "torch.Size([60000, 1])"
     },
     "execution_count": 33,
     "metadata": {},
     "output_type": "execute_result"
    }
   ],
   "source": [
    "X_train.shape #X_train.shape[0]=60000,X_train.shape[1]=784\n",
    "y_train.shape #X_train.shape[0]=60000,X_train.shape[1]=1"
   ],
   "metadata": {
    "collapsed": false,
    "ExecuteTime": {
     "end_time": "2024-03-14T13:48:30.230444600Z",
     "start_time": "2024-03-14T13:48:30.211352100Z"
    }
   },
   "execution_count": 33
  },
  {
   "cell_type": "code",
   "outputs": [],
   "source": [
    "## 학습 인스턴스 생성\n",
    "in_,out_=X_train.shape[1],y_train.shape[1] #784개를 넣었을때 한개만 나올것\n",
    "model=nn.Linear(in_,out_)  #in_:   #out_"
   ],
   "metadata": {
    "collapsed": false,
    "ExecuteTime": {
     "end_time": "2024-03-14T13:37:00.804908400Z",
     "start_time": "2024-03-14T13:37:00.507479100Z"
    }
   },
   "execution_count": 21
  },
  {
   "cell_type": "code",
   "outputs": [
    {
     "data": {
      "text/plain": "Linear(in_features=784, out_features=1, bias=True)"
     },
     "execution_count": 22,
     "metadata": {},
     "output_type": "execute_result"
    }
   ],
   "source": [
    "model"
   ],
   "metadata": {
    "collapsed": false,
    "ExecuteTime": {
     "end_time": "2024-03-14T13:37:00.807070200Z",
     "start_time": "2024-03-14T13:37:00.521649900Z"
    }
   },
   "execution_count": 22
  },
  {
   "cell_type": "code",
   "outputs": [],
   "source": [
    "## 최적화 인스턴스 생성 => 모델에서 사용하는 w,b 변수들 전달\n",
    "optimizer=optim.Adam(model.parameters()  )"
   ],
   "metadata": {
    "collapsed": false,
    "ExecuteTime": {
     "end_time": "2024-03-14T13:37:02.160733900Z",
     "start_time": "2024-03-14T13:37:00.536486300Z"
    }
   },
   "execution_count": 23
  },
  {
   "cell_type": "code",
   "outputs": [],
   "source": [
    "### 학습 횟수 => 샘플 처음부터 끝까지 읽는 것 기준으로 횟수 지정\n",
    "EPOCHS=150\n",
    "\n",
    "\n"
   ],
   "metadata": {
    "collapsed": false,
    "ExecuteTime": {
     "end_time": "2024-03-14T13:37:02.176759400Z",
     "start_time": "2024-03-14T13:37:02.162827300Z"
    }
   },
   "execution_count": 24
  },
  {
   "cell_type": "markdown",
   "source": [
    "[4] 학습 <hr>\n",
    "-반복횟수 만큼 학습 진행\n"
   ],
   "metadata": {
    "collapsed": false
   }
  },
  {
   "cell_type": "code",
   "outputs": [
    {
     "name": "stdout",
     "output_type": "stream",
     "text": [
      "[0] Loss => 0.7403444051742554\n",
      "[1] Loss => 0.6552056074142456\n",
      "[2] Loss => 0.5854042172431946\n",
      "[3] Loss => 0.5301357507705688\n",
      "[4] Loss => 0.4877762496471405\n",
      "[5] Loss => 0.45622584223747253\n",
      "[6] Loss => 0.43328148126602173\n",
      "[7] Loss => 0.41690418124198914\n",
      "[8] Loss => 0.4053543508052826\n",
      "[9] Loss => 0.39722776412963867\n",
      "[10] Loss => 0.39143404364585876\n",
      "[11] Loss => 0.38715001940727234\n",
      "[12] Loss => 0.383768230676651\n",
      "[13] Loss => 0.38084936141967773\n",
      "[14] Loss => 0.37808260321617126\n",
      "[15] Loss => 0.37525463104248047\n",
      "[16] Loss => 0.37222495675086975\n",
      "[17] Loss => 0.36890771985054016\n",
      "[18] Loss => 0.36525797843933105\n",
      "[19] Loss => 0.36126139760017395\n",
      "[20] Loss => 0.356926292181015\n",
      "[21] Loss => 0.3522782623767853\n",
      "[22] Loss => 0.3473553955554962\n",
      "[23] Loss => 0.34220507740974426\n",
      "[24] Loss => 0.3368813693523407\n",
      "[25] Loss => 0.3314425051212311\n",
      "[26] Loss => 0.3259492814540863\n",
      "[27] Loss => 0.3204629123210907\n",
      "[28] Loss => 0.31504347920417786\n",
      "[29] Loss => 0.3097481429576874\n",
      "[30] Loss => 0.3046290874481201\n",
      "[31] Loss => 0.2997318506240845\n",
      "[32] Loss => 0.29509323835372925\n",
      "[33] Loss => 0.2907397747039795\n",
      "[34] Loss => 0.2866863012313843\n",
      "[35] Loss => 0.2829347550868988\n",
      "[36] Loss => 0.27947455644607544\n",
      "[37] Loss => 0.27628275752067566\n",
      "[38] Loss => 0.2733260989189148\n",
      "[39] Loss => 0.2705638110637665\n",
      "[40] Loss => 0.2679504454135895\n",
      "[41] Loss => 0.2654401957988739\n",
      "[42] Loss => 0.262990266084671\n",
      "[43] Loss => 0.26056426763534546\n",
      "[44] Loss => 0.2581346929073334\n",
      "[45] Loss => 0.2556840479373932\n",
      "[46] Loss => 0.2532050907611847\n",
      "[47] Loss => 0.2506997287273407\n",
      "[48] Loss => 0.24817748367786407\n",
      "[49] Loss => 0.2456529587507248\n",
      "[50] Loss => 0.24314352869987488\n",
      "[51] Loss => 0.24066698551177979\n",
      "[52] Loss => 0.23823972046375275\n",
      "[53] Loss => 0.23587514460086823\n",
      "[54] Loss => 0.233583003282547\n",
      "[55] Loss => 0.23136907815933228\n",
      "[56] Loss => 0.2292352169752121\n",
      "[57] Loss => 0.22717991471290588\n",
      "[58] Loss => 0.22519905865192413\n",
      "[59] Loss => 0.2232867181301117\n",
      "[60] Loss => 0.22143590450286865\n",
      "[61] Loss => 0.21963942050933838\n",
      "[62] Loss => 0.2178904116153717\n",
      "[63] Loss => 0.21618284285068512\n",
      "[64] Loss => 0.21451175212860107\n",
      "[65] Loss => 0.21287351846694946\n",
      "[66] Loss => 0.21126575767993927\n",
      "[67] Loss => 0.20968717336654663\n",
      "[68] Loss => 0.20813751220703125\n",
      "[69] Loss => 0.20661728084087372\n",
      "[70] Loss => 0.20512732863426208\n",
      "[71] Loss => 0.20366884768009186\n",
      "[72] Loss => 0.20224294066429138\n",
      "[73] Loss => 0.20085057616233826\n",
      "[74] Loss => 0.19949229061603546\n",
      "[75] Loss => 0.1981682926416397\n",
      "[76] Loss => 0.19687828421592712\n",
      "[77] Loss => 0.19562160968780518\n",
      "[78] Loss => 0.1943971961736679\n",
      "[79] Loss => 0.19320368766784668\n",
      "[80] Loss => 0.1920396089553833\n",
      "[81] Loss => 0.19090338051319122\n",
      "[82] Loss => 0.18979348242282867\n",
      "[83] Loss => 0.18870846927165985\n",
      "[84] Loss => 0.1876469999551773\n",
      "[85] Loss => 0.18660806119441986\n",
      "[86] Loss => 0.1855907291173935\n",
      "[87] Loss => 0.1845943033695221\n",
      "[88] Loss => 0.18361826241016388\n",
      "[89] Loss => 0.182662233710289\n",
      "[90] Loss => 0.1817258894443512\n",
      "[91] Loss => 0.18080899119377136\n",
      "[92] Loss => 0.17991125583648682\n",
      "[93] Loss => 0.17903251945972443\n",
      "[94] Loss => 0.17817239463329315\n",
      "[95] Loss => 0.1773305982351303\n",
      "[96] Loss => 0.17650674283504486\n",
      "[97] Loss => 0.1757003515958786\n",
      "[98] Loss => 0.1749110370874405\n",
      "[99] Loss => 0.17413821816444397\n",
      "[100] Loss => 0.17338140308856964\n",
      "[101] Loss => 0.1726401001214981\n",
      "[102] Loss => 0.17191380262374878\n",
      "[103] Loss => 0.17120204865932465\n",
      "[104] Loss => 0.1705043613910675\n",
      "[105] Loss => 0.1698203831911087\n",
      "[106] Loss => 0.16914968192577362\n",
      "[107] Loss => 0.1684918999671936\n",
      "[108] Loss => 0.16784673929214478\n",
      "[109] Loss => 0.16721393167972565\n",
      "[110] Loss => 0.16659310460090637\n",
      "[111] Loss => 0.16598404943943024\n",
      "[112] Loss => 0.16538649797439575\n",
      "[113] Loss => 0.16480016708374023\n",
      "[114] Loss => 0.1642248034477234\n",
      "[115] Loss => 0.16366015374660492\n",
      "[116] Loss => 0.16310599446296692\n",
      "[117] Loss => 0.16256199777126312\n",
      "[118] Loss => 0.16202795505523682\n",
      "[119] Loss => 0.1615036129951477\n",
      "[120] Loss => 0.1609887033700943\n",
      "[121] Loss => 0.1604830026626587\n",
      "[122] Loss => 0.15998627245426178\n",
      "[123] Loss => 0.15949830412864685\n",
      "[124] Loss => 0.1590188443660736\n",
      "[125] Loss => 0.15854769945144653\n",
      "[126] Loss => 0.1580847054719925\n",
      "[127] Loss => 0.1576296091079712\n",
      "[128] Loss => 0.1571822613477707\n",
      "[129] Loss => 0.15674249827861786\n",
      "[130] Loss => 0.15631012618541718\n",
      "[131] Loss => 0.15588496625423431\n",
      "[132] Loss => 0.15546691417694092\n",
      "[133] Loss => 0.15505576133728027\n",
      "[134] Loss => 0.15465137362480164\n",
      "[135] Loss => 0.15425358712673187\n",
      "[136] Loss => 0.15386226773262024\n",
      "[137] Loss => 0.15347731113433838\n",
      "[138] Loss => 0.15309850871562958\n",
      "[139] Loss => 0.15272577106952667\n",
      "[140] Loss => 0.15235894918441772\n",
      "[141] Loss => 0.15199792385101318\n",
      "[142] Loss => 0.15164253115653992\n",
      "[143] Loss => 0.15129269659519196\n",
      "[144] Loss => 0.15094825625419617\n",
      "[145] Loss => 0.15060915052890778\n",
      "[146] Loss => 0.15027523040771484\n",
      "[147] Loss => 0.149946391582489\n",
      "[148] Loss => 0.14962252974510193\n",
      "[149] Loss => 0.14930352568626404\n"
     ]
    }
   ],
   "source": [
    "loss_accuracy=[[],[]]\n",
    "for ep in range(EPOCHS):\n",
    "    # 학습\n",
    "    pre_y=model(X_train)\n",
    "    # print(f'예측값:{pre_y}')\n",
    "    #분류값 변환\n",
    "    pre_y2=F.sigmoid(pre_y)\n",
    "    # print(f'분류값:{pre_y2}')\n",
    "    #오차 즉 손실 계산\n",
    "    loss=F.binary_cross_entropy(pre_y2,y_train)\n",
    "    loss_accuracy[0].append(loss.item())\n",
    "    print(f'[{ep}] Loss => {loss}')\n",
    "    \n",
    "    # W,b 업데이트\n",
    "    optimizer.zero_grad() #기울기가 누적되지 않도록 다시 리셋\n",
    "    loss.backward() #손실함수 계산값으로 미분 진행하여 새로운 W,b 계산\n",
    "    optimizer.step() #새로운 값으로 w,b 업데이트\n",
    "    \n",
    "    #정확도() 계산 => 예측값을 0과 1로 변환하여 정답지와 비교해야 한다.(시그모이드로 나온 것은(pre_y2)는 0,1이 아니므로....)\n",
    "    train_accuracy=((y_train==(pre_y2>=0.5)).sum())/y_train.shape[0] #784개\n",
    "    loss_accuracy[1].append(train_accuracy.item())\n",
    "    "
   ],
   "metadata": {
    "collapsed": false,
    "ExecuteTime": {
     "end_time": "2024-03-14T13:37:04.006203900Z",
     "start_time": "2024-03-14T13:37:02.182011600Z"
    }
   },
   "execution_count": 25
  },
  {
   "cell_type": "code",
   "outputs": [],
   "source": [
    "#이제 분류만 하면 된다. 예측값 == 정답치 와 얼마나 맞는지를 찾아서 sum 해버리면 맞춘 개수가 나온다. "
   ],
   "metadata": {
    "collapsed": false,
    "ExecuteTime": {
     "end_time": "2024-03-14T13:37:04.031614300Z",
     "start_time": "2024-03-14T13:37:04.008507800Z"
    }
   },
   "execution_count": 26
  },
  {
   "cell_type": "code",
   "outputs": [
    {
     "data": {
      "text/plain": "tensor(57209)"
     },
     "execution_count": 27,
     "metadata": {},
     "output_type": "execute_result"
    }
   ],
   "source": [
    "(y_train==(pre_y2>=0.5)).sum() # 시그모이드가 0,1로 만들어 주는 것이 아니라, 여기서 따로 계산을 해주어야 한다."
   ],
   "metadata": {
    "collapsed": false,
    "ExecuteTime": {
     "end_time": "2024-03-14T13:37:04.049168Z",
     "start_time": "2024-03-14T13:37:04.024090800Z"
    }
   },
   "execution_count": 27
  },
  {
   "cell_type": "code",
   "outputs": [
    {
     "data": {
      "text/plain": "tensor(0.9535)"
     },
     "execution_count": 28,
     "metadata": {},
     "output_type": "execute_result"
    }
   ],
   "source": [
    "((y_train==(pre_y2>=0.5)).sum())/y_train.shape[0]  #정확도 계산"
   ],
   "metadata": {
    "collapsed": false,
    "ExecuteTime": {
     "end_time": "2024-03-14T13:37:04.087416600Z",
     "start_time": "2024-03-14T13:37:04.038870300Z"
    }
   },
   "execution_count": 28
  },
  {
   "cell_type": "code",
   "outputs": [
    {
     "data": {
      "text/plain": "<Figure size 640x480 with 2 Axes>",
      "image/png": "[encoded data removed]"
     },
     "metadata": {},
     "output_type": "display_data"
    }
   ],
   "source": [
    "## 손실과 정확도 시각화\n",
    "import matplotlib.pyplot as plt\n",
    "fig,ax1=plt.subplots() #축을 두개 쓰기 위해서 \n",
    "ax1.plot(loss_accuracy[0],label='Loss')\n",
    "ax2=ax1.twinx()\n",
    "ax2.plot(loss_accuracy[1],label='Accuracy',color='red')\n",
    "ax1.legend(loc='upper left')\n",
    "ax2.legend(loc='upper right')\n",
    "plt.xlabel('Epochs')\n",
    "plt.show()"
   ],
   "metadata": {
    "collapsed": false,
    "ExecuteTime": {
     "end_time": "2024-03-14T13:37:04.894196200Z",
     "start_time": "2024-03-14T13:37:04.073029300Z"
    }
   },
   "execution_count": 29
  },
  {
   "cell_type": "code",
   "outputs": [],
   "source": [],
   "metadata": {
    "collapsed": false,
    "ExecuteTime": {
     "end_time": "2024-03-14T13:37:04.928310600Z",
     "start_time": "2024-03-14T13:37:04.896277200Z"
    }
   },
   "execution_count": 29
  }
 ],
 "metadata": {
  "kernelspec": {
   "display_name": "TORCH_PY38",
   "language": "python",
   "name": "python3"
  },
  "language_info": {
   "codemirror_mode": {
    "name": "ipython",
    "version": 3
   },
   "file_extension": ".py",
   "mimetype": "text/x-python",
   "name": "python",
   "nbconvert_exporter": "python",
   "pygments_lexer": "ipython3",
   "version": "3.8.18"
  }
 },
 "nbformat": 4,
 "nbformat_minor": 2
}
