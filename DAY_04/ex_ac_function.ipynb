{
 "cells": [
  {
   "cell_type": "markdown",
   "source": [
    "### softmax(), sigmoid() 함수 <hr>\n",
    "- sigmoid(선형회귀결과값):y=wx+b 결과 1개를 전달 ===> 반환 :0.0~1.0 사이 값으로 변환 => 2진분류에 사용\n",
    "\n",
    "- softmax() : y=wx+b 결과 여러개 전달 ===>여러개의 결과값의 합이 1.0이 되도록 변환  => 다중분류"
   ],
   "metadata": {
    "collapsed": false
   },
   "id": "932488f1200ca6e0"
  },
  {
   "cell_type": "markdown",
   "source": [
    "## 모듈 로딩"
   ],
   "metadata": {
    "collapsed": false
   },
   "id": "f409dc998c103293"
  },
  {
   "cell_type": "code",
   "outputs": [],
   "source": [
    "import torch               #파이토치 기본 모듈로 텐서 및 기본 함수들\n",
    "import torch.nn.functional as F     #파이토치 인공신경망 관련 함수들이 들어있음\n"
   ],
   "metadata": {
    "collapsed": false,
    "ExecuteTime": {
     "end_time": "2024-03-14T01:40:52.396279600Z",
     "start_time": "2024-03-14T01:40:52.386949100Z"
    }
   },
   "id": "bc85ab3e3f8f509e",
   "execution_count": 25
  },
  {
   "cell_type": "code",
   "outputs": [
    {
     "data": {
      "text/plain": "torch.Size([5])"
     },
     "execution_count": 26,
     "metadata": {},
     "output_type": "execute_result"
    }
   ],
   "source": [
    "# 임의 데이터 생성 \n",
    "data1=torch.tensor([1,2,1,1,2])\n",
    "data1.shape"
   ],
   "metadata": {
    "collapsed": false,
    "ExecuteTime": {
     "end_time": "2024-03-14T01:40:52.435644200Z",
     "start_time": "2024-03-14T01:40:52.398364500Z"
    }
   },
   "id": "6b5e32bb040795ff",
   "execution_count": 26
  },
  {
   "cell_type": "code",
   "outputs": [
    {
     "data": {
      "text/plain": "tensor([0.7311, 0.8808, 0.7311, 0.7311, 0.8808])"
     },
     "execution_count": 27,
     "metadata": {},
     "output_type": "execute_result"
    }
   ],
   "source": [
    "#시그모이드로 계산\n",
    "F.sigmoid(data1)"
   ],
   "metadata": {
    "collapsed": false,
    "ExecuteTime": {
     "end_time": "2024-03-14T01:40:52.436749400Z",
     "start_time": "2024-03-14T01:40:52.412952400Z"
    }
   },
   "id": "a52e77178fe27acf",
   "execution_count": 27
  },
  {
   "cell_type": "code",
   "outputs": [
    {
     "data": {
      "text/plain": "(torch.Size([1, 5]), tensor([[1, 2, 1, 1, 2]]))"
     },
     "execution_count": 28,
     "metadata": {},
     "output_type": "execute_result"
    }
   ],
   "source": [
    "# 소프트 맥스로 계산\n",
    "data2=data1.unsqueeze(dim=0) #1주면 뒤에 붙고, 0주면 앞에 붙는다\n",
    "data2.shape,data2"
   ],
   "metadata": {
    "collapsed": false,
    "ExecuteTime": {
     "end_time": "2024-03-14T01:40:52.471066Z",
     "start_time": "2024-03-14T01:40:52.429382500Z"
    }
   },
   "id": "204833d7f75ab600",
   "execution_count": 28
  },
  {
   "cell_type": "code",
   "outputs": [
    {
     "data": {
      "text/plain": "tensor([[-0.1118, -0.4716,  1.1135],\n        [ 1.7949, -0.5462, -1.2076]])"
     },
     "execution_count": 29,
     "metadata": {},
     "output_type": "execute_result"
    }
   ],
   "source": [
    "input=torch.randn(2,3)  #2행 3열 랜덤으로 (0과 1사이의 값)\n",
    "input\n",
    "#ya=wx+b\n",
    "#yb=wx+b\n",
    "#yc=wx+b\n",
    "#3개 합쳐져서 1.0으로..."
   ],
   "metadata": {
    "collapsed": false,
    "ExecuteTime": {
     "end_time": "2024-03-14T01:40:52.472063700Z",
     "start_time": "2024-03-14T01:40:52.443996500Z"
    }
   },
   "id": "59ce7c106699dccb",
   "execution_count": 29
  },
  {
   "cell_type": "code",
   "outputs": [
    {
     "name": "stderr",
     "output_type": "stream",
     "text": [
      "C:\\Users\\kdp\\AppData\\Local\\Temp\\ipykernel_424\\1895841654.py:1: UserWarning: Implicit dimension choice for softmax has been deprecated. Change the call to include dim=X as an argument.\n",
      "  output=F.softmax(input)\n"
     ]
    },
    {
     "data": {
      "text/plain": "tensor([[0.1960, 0.1367, 0.6673],\n        [0.8727, 0.0840, 0.0433]])"
     },
     "execution_count": 30,
     "metadata": {},
     "output_type": "execute_result"
    }
   ],
   "source": [
    "output=F.softmax(input)\n",
    "output"
   ],
   "metadata": {
    "collapsed": false,
    "ExecuteTime": {
     "end_time": "2024-03-14T01:40:52.473061500Z",
     "start_time": "2024-03-14T01:40:52.460520700Z"
    }
   },
   "id": "86db2ad9fb7f0860",
   "execution_count": 30
  },
  {
   "cell_type": "code",
   "outputs": [
    {
     "data": {
      "text/plain": "tensor([1., 1.])"
     },
     "execution_count": 31,
     "metadata": {},
     "output_type": "execute_result"
    }
   ],
   "source": [
    "output.sum(dim=1) #행마다 합계\n",
    "# output.sum(dim=0) #열마다 합계"
   ],
   "metadata": {
    "collapsed": false,
    "ExecuteTime": {
     "end_time": "2024-03-14T01:40:52.518125300Z",
     "start_time": "2024-03-14T01:40:52.475312900Z"
    }
   },
   "id": "78b640f7972bd011",
   "execution_count": 31
  },
  {
   "cell_type": "code",
   "outputs": [
    {
     "data": {
      "text/plain": "2"
     },
     "execution_count": 35,
     "metadata": {},
     "output_type": "execute_result"
    }
   ],
   "source": [
    "output.max(dim=1)[1][0].item()"
   ],
   "metadata": {
    "collapsed": false,
    "ExecuteTime": {
     "end_time": "2024-03-14T01:41:58.479371500Z",
     "start_time": "2024-03-14T01:41:58.463250700Z"
    }
   },
   "id": "24cba79efed067b7",
   "execution_count": 35
  },
  {
   "cell_type": "code",
   "outputs": [
    {
     "data": {
      "text/plain": "tensor([2, 0])"
     },
     "execution_count": 36,
     "metadata": {},
     "output_type": "execute_result"
    }
   ],
   "source": [
    "output.argmax(dim=1) #이것도 위에 거랑 비슷"
   ],
   "metadata": {
    "collapsed": false,
    "ExecuteTime": {
     "end_time": "2024-03-14T01:42:08.877930700Z",
     "start_time": "2024-03-14T01:42:08.830482700Z"
    }
   },
   "id": "a0a141c5e773b11b",
   "execution_count": 36
  },
  {
   "cell_type": "code",
   "outputs": [],
   "source": [],
   "metadata": {
    "collapsed": false
   },
   "id": "2484d0a2de62588c"
  },
  {
   "cell_type": "markdown",
   "source": [],
   "metadata": {
    "collapsed": false
   },
   "id": "3ce318bbc7856ed5"
  },
  {
   "cell_type": "code",
   "outputs": [],
   "source": [],
   "metadata": {
    "collapsed": false
   },
   "id": "d26e3d3adaf246b7"
  },
  {
   "cell_type": "code",
   "outputs": [],
   "source": [],
   "metadata": {
    "collapsed": false
   },
   "id": "779153d8d33285cf"
  },
  {
   "cell_type": "code",
   "outputs": [],
   "source": [],
   "metadata": {
    "collapsed": false
   },
   "id": "4c801bcf07b35b87"
  }
 ],
 "metadata": {
  "kernelspec": {
   "display_name": "Python 3",
   "language": "python",
   "name": "python3"
  },
  "language_info": {
   "codemirror_mode": {
    "name": "ipython",
    "version": 2
   },
   "file_extension": ".py",
   "mimetype": "text/x-python",
   "name": "python",
   "nbconvert_exporter": "python",
   "pygments_lexer": "ipython2",
   "version": "2.7.6"
  }
 },
 "nbformat": 4,
 "nbformat_minor": 5
}
