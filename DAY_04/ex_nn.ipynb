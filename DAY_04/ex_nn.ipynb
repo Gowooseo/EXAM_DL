{
 "cells": [
  {
   "cell_type": "markdown",
   "source": [
    "### 인공신경망 모델 클래스 만들기 <hr> \n",
    "- 부모 클래스 : nn.Module 상속 받음\n",
    "- 필수 오버라이딩 메서드: __init__(), forward()\n",
    "- "
   ],
   "metadata": {
    "collapsed": false
   },
   "id": "a1bcba74bafd7e75"
  },
  {
   "cell_type": "markdown",
   "source": [
    "[1] 모듈로딩 <hr>"
   ],
   "metadata": {
    "collapsed": false
   },
   "id": "12964c922e356c32"
  },
  {
   "cell_type": "code",
   "outputs": [],
   "source": [
    "import torch\n",
    "import torch.nn as nn "
   ],
   "metadata": {
    "collapsed": false,
    "ExecuteTime": {
     "end_time": "2024-03-14T23:58:18.162204200Z",
     "start_time": "2024-03-14T23:58:16.268455900Z"
    }
   },
   "id": "129e60db5fc60303",
   "execution_count": 1
  },
  {
   "cell_type": "code",
   "outputs": [],
   "source": [
    "# 로지스틱회귀 모델 클래스 생성\n",
    "# -Linear+ sigmoid\n",
    "\n",
    "class LogicLinear(nn.Module):\n",
    "    # 모델 구조 설정\n",
    "    def __init__(self,in_,out_):\n",
    "        #부모 만들기\n",
    "        super().__init__()\n",
    "        self.layer1=nn.Linear(in_,out_)\n",
    "        self.sigmoid1=nn.Sigmoid()\n",
    "        #변환을 해주는 녀석일 뿐, 다른 의미는 없다. layer자리에는 이름 맘대로 넣어도 된다.\n",
    "        # self.layer2=nn.Linear(10,out_)\n",
    "        # self.sigmoid2=nn.Sigmoid()  #만약 하나 더 넣는다면? 헌거의 열과 새거의 행이 같아야 한다.\n",
    "        \n",
    "    #순방향 학습 진행 콜백함수\n",
    "    def forward(self,x): #x가 입력 데이터,레이어에게 x를 주어야 한다.\n",
    "        y=self.layer1(x)\n",
    "        z=self.sigmoid1(y) #y는 시그모이드에게 가야한다.\n",
    "        # y=self.layer2(x)\n",
    "        # z=self.sigmoid2(y) #y는 시그모이드에게 가야한다.\n",
    "        return z\n",
    "        #y=self.layer1(x)\n",
    "        #z=self.sigmoid(y)\n",
    "        #return z\n",
    "        \n",
    "        "
   ],
   "metadata": {
    "collapsed": false,
    "ExecuteTime": {
     "end_time": "2024-03-14T23:58:18.176262400Z",
     "start_time": "2024-03-14T23:58:18.166423600Z"
    }
   },
   "id": "9026c6445eff3779",
   "execution_count": 2
  },
  {
   "cell_type": "code",
   "outputs": [
    {
     "name": "stdout",
     "output_type": "stream",
     "text": [
      "모델 구조 확인==== :LogicLinear(\n",
      "  (layer1): Linear(in_features=784, out_features=3, bias=True)\n",
      "  (sigmoid1): Sigmoid()\n",
      ")\n"
     ]
    }
   ],
   "source": [
    "\n",
    "ll=LogicLinear(784,3)\n",
    "print(f'모델 구조 확인==== :{ll}')"
   ],
   "metadata": {
    "collapsed": false,
    "ExecuteTime": {
     "end_time": "2024-03-14T23:58:18.213384100Z",
     "start_time": "2024-03-14T23:58:18.178483100Z"
    }
   },
   "id": "713aa91ca09e8e0d",
   "execution_count": 3
  },
  {
   "cell_type": "code",
   "outputs": [
    {
     "data": {
      "text/plain": "<generator object Module.parameters at 0x000001D581DCC890>"
     },
     "execution_count": 4,
     "metadata": {},
     "output_type": "execute_result"
    }
   ],
   "source": [
    "ll.parameters()"
   ],
   "metadata": {
    "collapsed": false,
    "ExecuteTime": {
     "end_time": "2024-03-14T23:58:18.267782900Z",
     "start_time": "2024-03-14T23:58:18.208117400Z"
    }
   },
   "id": "7aff375350cefd99",
   "execution_count": 4
  },
  {
   "cell_type": "code",
   "outputs": [
    {
     "name": "stdout",
     "output_type": "stream",
     "text": [
      "f모델 구성 w,b ===== \n",
      "Parameter containing:\n",
      "tensor([[ 0.0295,  0.0175,  0.0355,  ..., -0.0256,  0.0055,  0.0179],\n",
      "        [ 0.0150, -0.0115,  0.0257,  ...,  0.0126,  0.0167,  0.0212],\n",
      "        [-0.0322,  0.0104, -0.0016,  ...,  0.0117, -0.0341, -0.0090]],\n",
      "       requires_grad=True)\n",
      "Parameter containing:\n",
      "tensor([-0.0350, -0.0069,  0.0168], requires_grad=True)\n"
     ]
    }
   ],
   "source": [
    "print('f모델 구성 w,b ===== ')\n",
    "for param in ll.parameters():\n",
    "    print(param)"
   ],
   "metadata": {
    "collapsed": false,
    "ExecuteTime": {
     "end_time": "2024-03-14T23:58:18.288426100Z",
     "start_time": "2024-03-14T23:58:18.227475200Z"
    }
   },
   "id": "1cae18b2510db3a3",
   "execution_count": 5
  },
  {
   "cell_type": "code",
   "outputs": [],
   "source": [],
   "metadata": {
    "collapsed": false,
    "ExecuteTime": {
     "end_time": "2024-03-14T23:58:18.305931600Z",
     "start_time": "2024-03-14T23:58:18.287428400Z"
    }
   },
   "id": "c96452d8e1eefb97",
   "execution_count": 5
  },
  {
   "cell_type": "code",
   "outputs": [],
   "source": [],
   "metadata": {
    "collapsed": false,
    "ExecuteTime": {
     "end_time": "2024-03-14T23:58:18.341714600Z",
     "start_time": "2024-03-14T23:58:18.303813600Z"
    }
   },
   "id": "ee56bcd0482f46ff",
   "execution_count": 5
  }
 ],
 "metadata": {
  "kernelspec": {
   "display_name": "Python 3",
   "language": "python",
   "name": "python3"
  },
  "language_info": {
   "codemirror_mode": {
    "name": "ipython",
    "version": 2
   },
   "file_extension": ".py",
   "mimetype": "text/x-python",
   "name": "python",
   "nbconvert_exporter": "python",
   "pygments_lexer": "ipython2",
   "version": "2.7.6"
  }
 },
 "nbformat": 4,
 "nbformat_minor": 5
}
