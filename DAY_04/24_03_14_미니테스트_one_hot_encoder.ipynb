{
 "cells": [
  {
   "cell_type": "markdown",
   "metadata": {},
   "source": [
    "#### [ 미니 테스트  2024-03-14 ]<hr>"
   ]
  },
  {
   "cell_type": "markdown",
   "metadata": {},
   "source": [
    "[1] 지도학습에 대한 설명과 종류에 대해서 간략하게 설명해 주세요."
   ]
  },
  {
   "cell_type": "markdown",
   "metadata": {},
   "source": [
    "어떠한 대상을 인식 할 수 있도록 '이것은 이것이다' 식으로 학습 시키는 것을 말합니다.\n",
    "회귀와 분류로 나누어 집니다."
   ]
  },
  {
   "cell_type": "markdown",
   "metadata": {},
   "source": [
    "[2] 지도학습의 학습 프로세스를 간략하게 설명해 주세요."
   ]
  },
  {
   "cell_type": "markdown",
   "source": [
    "먼저 (1) 모듈을 불러온 뒤, (2) 필요한 데이터들을 전처리(이상값,결측치,중복값) 등을\n",
    "print(제거합니다) (3) 그래프나 메서드를 사용하여 속성들의 관계를 파악하고 , 그로 하여금 피쳐와 타겟을 나누어 학습 시킵니다.\n",
    "(4) 데이터 분석에 적합하다고 생각하는 모델을 선정하여 핏시켜 모델을 생성합니다. (5) 모델의 예측값과 실제 데이터 값의 스코어 점수를 보거나 정확도, 재현율등을 파악 할 수 있습니다."
   ],
   "metadata": {
    "collapsed": false
   }
  },
  {
   "cell_type": "markdown",
   "metadata": {},
   "source": [
    "[3] 선형회귀 대해 간략하게 설명해주세요.  \n",
    "    - 개념  \n",
    "    - 조건  \n",
    "    - 동작원리  \n",
    "    - 선형식  \n",
    "    - 오차/잔차 계산 방법  "
   ]
  },
  {
   "cell_type": "markdown",
   "metadata": {},
   "source": [
    "선형 회귀란 그래프 상에서 선형의 분포를 가지는 데이터들간의 수치의 변동을 통해 데이터를 분석하는 방식입니다. 선형회귀의 가중치(W)와 절편(B)을 통하여 Y=WX+B형태의 퍼셉트론을 만들어 냅니다."
   ]
  },
  {
   "cell_type": "markdown",
   "metadata": {},
   "source": [
    "[4] 로지스틱회귀 대해 간략하게 설명해주세요.  \n",
    "   - 개념  \n",
    "   - 조건  \n",
    "   - 동작원리  \n",
    "   - 선형식  \n",
    "   - 오차/잔차 계산 방법  "
   ]
  },
  {
   "cell_type": "markdown",
   "metadata": {},
   "source": [
    "로지스틱 회귀는 주로 이진분류에 사용되는 회귀방식이지만, 분류의 방식에 더 가깝습니다. 타겟의 값들이 두가지의 형태로 분류되어 '0 OR 1'이런식의 판단을 내릴수가 있게 됩니다.  "
   ]
  },
  {
   "cell_type": "markdown",
   "metadata": {},
   "source": [
    "[5] Fashion MNIST 데이터셋에서 10개 카테고리 중 하나를 선택해서 2진 분류로 구현해 주세요.  \n",
    "- 데이터셋 : scikit-learn의 datasets 사용\n",
    "    - from sklearn.datasets import fetch_openml \n",
    "    - db_name = 'Fashion-MNIST'\n",
    "    - fashion_data = fetch_openml(name=db_name, parser='auto')"
   ]
  },
  {
   "cell_type": "code",
   "execution_count": 320,
   "metadata": {
    "ExecuteTime": {
     "end_time": "2024-03-14T05:30:47.514860800Z",
     "start_time": "2024-03-14T05:30:47.415239900Z"
    }
   },
   "outputs": [],
   "source": [
    "#모듈 로딩\n",
    "from sklearn.datasets import fetch_openml\n",
    "import pandas as pd\n",
    "import numpy as np\n",
    "import torch\n",
    "\n",
    "import torch.nn as nn   #LinearRegression 기능의 클래스 Linear\n",
    "import torch.nn.functional as F #손실함수\n",
    "import torch.optim as optim  #경사하강법 기반의 최적화 관련 모듈"
   ]
  },
  {
   "cell_type": "code",
   "outputs": [],
   "source": [
    "### ===> 데이터 준비\n",
    "fashion_db='fashion-mnist'\n",
    "fashion_data=fetch_openml(name=fashion_db,parser='auto')#,as_frame=False) #넘파이로 가져오기"
   ],
   "metadata": {
    "collapsed": false,
    "ExecuteTime": {
     "end_time": "2024-03-14T05:30:51.214680700Z",
     "start_time": "2024-03-14T05:30:47.500980Z"
    }
   },
   "execution_count": 321
  },
  {
   "cell_type": "code",
   "outputs": [],
   "source": [
    "### ====> 데이터 확인\n",
    "feature=fashion_data['data']\n",
    "target=fashion_data['target']"
   ],
   "metadata": {
    "collapsed": false,
    "ExecuteTime": {
     "end_time": "2024-03-14T05:30:51.260718700Z",
     "start_time": "2024-03-14T05:30:51.216674300Z"
    }
   },
   "execution_count": 322
  },
  {
   "cell_type": "code",
   "outputs": [
    {
     "name": "stdout",
     "output_type": "stream",
     "text": [
      "Feature: (70000, 784),2D\n",
      "Target: (70000,),1D\n"
     ]
    }
   ],
   "source": [
    "# 피쳐와 타겟 개수 확인\n",
    "print(f'Feature: {feature.shape},{feature.ndim}D')\n",
    "print(f'Target: {target.shape},{target.ndim}D')  #원핫 인코더 쓸때 확인"
   ],
   "metadata": {
    "collapsed": false,
    "ExecuteTime": {
     "end_time": "2024-03-14T05:30:51.262220300Z",
     "start_time": "2024-03-14T05:30:51.247573Z"
    }
   },
   "execution_count": 323
  },
  {
   "cell_type": "code",
   "outputs": [
    {
     "name": "stdout",
     "output_type": "stream",
     "text": [
      "feature Name=> ['pixel1', 'pixel2', 'pixel3', 'pixel4', 'pixel5', 'pixel6', 'pixel7', 'pixel8', 'pixel9', 'pixel10', 'pixel11', 'pixel12', 'pixel13', 'pixel14', 'pixel15', 'pixel16', 'pixel17', 'pixel18', 'pixel19', 'pixel20', 'pixel21', 'pixel22', 'pixel23', 'pixel24', 'pixel25', 'pixel26', 'pixel27', 'pixel28', 'pixel29', 'pixel30', 'pixel31', 'pixel32', 'pixel33', 'pixel34', 'pixel35', 'pixel36', 'pixel37', 'pixel38', 'pixel39', 'pixel40', 'pixel41', 'pixel42', 'pixel43', 'pixel44', 'pixel45', 'pixel46', 'pixel47', 'pixel48', 'pixel49', 'pixel50', 'pixel51', 'pixel52', 'pixel53', 'pixel54', 'pixel55', 'pixel56', 'pixel57', 'pixel58', 'pixel59', 'pixel60', 'pixel61', 'pixel62', 'pixel63', 'pixel64', 'pixel65', 'pixel66', 'pixel67', 'pixel68', 'pixel69', 'pixel70', 'pixel71', 'pixel72', 'pixel73', 'pixel74', 'pixel75', 'pixel76', 'pixel77', 'pixel78', 'pixel79', 'pixel80', 'pixel81', 'pixel82', 'pixel83', 'pixel84', 'pixel85', 'pixel86', 'pixel87', 'pixel88', 'pixel89', 'pixel90', 'pixel91', 'pixel92', 'pixel93', 'pixel94', 'pixel95', 'pixel96', 'pixel97', 'pixel98', 'pixel99', 'pixel100', 'pixel101', 'pixel102', 'pixel103', 'pixel104', 'pixel105', 'pixel106', 'pixel107', 'pixel108', 'pixel109', 'pixel110', 'pixel111', 'pixel112', 'pixel113', 'pixel114', 'pixel115', 'pixel116', 'pixel117', 'pixel118', 'pixel119', 'pixel120', 'pixel121', 'pixel122', 'pixel123', 'pixel124', 'pixel125', 'pixel126', 'pixel127', 'pixel128', 'pixel129', 'pixel130', 'pixel131', 'pixel132', 'pixel133', 'pixel134', 'pixel135', 'pixel136', 'pixel137', 'pixel138', 'pixel139', 'pixel140', 'pixel141', 'pixel142', 'pixel143', 'pixel144', 'pixel145', 'pixel146', 'pixel147', 'pixel148', 'pixel149', 'pixel150', 'pixel151', 'pixel152', 'pixel153', 'pixel154', 'pixel155', 'pixel156', 'pixel157', 'pixel158', 'pixel159', 'pixel160', 'pixel161', 'pixel162', 'pixel163', 'pixel164', 'pixel165', 'pixel166', 'pixel167', 'pixel168', 'pixel169', 'pixel170', 'pixel171', 'pixel172', 'pixel173', 'pixel174', 'pixel175', 'pixel176', 'pixel177', 'pixel178', 'pixel179', 'pixel180', 'pixel181', 'pixel182', 'pixel183', 'pixel184', 'pixel185', 'pixel186', 'pixel187', 'pixel188', 'pixel189', 'pixel190', 'pixel191', 'pixel192', 'pixel193', 'pixel194', 'pixel195', 'pixel196', 'pixel197', 'pixel198', 'pixel199', 'pixel200', 'pixel201', 'pixel202', 'pixel203', 'pixel204', 'pixel205', 'pixel206', 'pixel207', 'pixel208', 'pixel209', 'pixel210', 'pixel211', 'pixel212', 'pixel213', 'pixel214', 'pixel215', 'pixel216', 'pixel217', 'pixel218', 'pixel219', 'pixel220', 'pixel221', 'pixel222', 'pixel223', 'pixel224', 'pixel225', 'pixel226', 'pixel227', 'pixel228', 'pixel229', 'pixel230', 'pixel231', 'pixel232', 'pixel233', 'pixel234', 'pixel235', 'pixel236', 'pixel237', 'pixel238', 'pixel239', 'pixel240', 'pixel241', 'pixel242', 'pixel243', 'pixel244', 'pixel245', 'pixel246', 'pixel247', 'pixel248', 'pixel249', 'pixel250', 'pixel251', 'pixel252', 'pixel253', 'pixel254', 'pixel255', 'pixel256', 'pixel257', 'pixel258', 'pixel259', 'pixel260', 'pixel261', 'pixel262', 'pixel263', 'pixel264', 'pixel265', 'pixel266', 'pixel267', 'pixel268', 'pixel269', 'pixel270', 'pixel271', 'pixel272', 'pixel273', 'pixel274', 'pixel275', 'pixel276', 'pixel277', 'pixel278', 'pixel279', 'pixel280', 'pixel281', 'pixel282', 'pixel283', 'pixel284', 'pixel285', 'pixel286', 'pixel287', 'pixel288', 'pixel289', 'pixel290', 'pixel291', 'pixel292', 'pixel293', 'pixel294', 'pixel295', 'pixel296', 'pixel297', 'pixel298', 'pixel299', 'pixel300', 'pixel301', 'pixel302', 'pixel303', 'pixel304', 'pixel305', 'pixel306', 'pixel307', 'pixel308', 'pixel309', 'pixel310', 'pixel311', 'pixel312', 'pixel313', 'pixel314', 'pixel315', 'pixel316', 'pixel317', 'pixel318', 'pixel319', 'pixel320', 'pixel321', 'pixel322', 'pixel323', 'pixel324', 'pixel325', 'pixel326', 'pixel327', 'pixel328', 'pixel329', 'pixel330', 'pixel331', 'pixel332', 'pixel333', 'pixel334', 'pixel335', 'pixel336', 'pixel337', 'pixel338', 'pixel339', 'pixel340', 'pixel341', 'pixel342', 'pixel343', 'pixel344', 'pixel345', 'pixel346', 'pixel347', 'pixel348', 'pixel349', 'pixel350', 'pixel351', 'pixel352', 'pixel353', 'pixel354', 'pixel355', 'pixel356', 'pixel357', 'pixel358', 'pixel359', 'pixel360', 'pixel361', 'pixel362', 'pixel363', 'pixel364', 'pixel365', 'pixel366', 'pixel367', 'pixel368', 'pixel369', 'pixel370', 'pixel371', 'pixel372', 'pixel373', 'pixel374', 'pixel375', 'pixel376', 'pixel377', 'pixel378', 'pixel379', 'pixel380', 'pixel381', 'pixel382', 'pixel383', 'pixel384', 'pixel385', 'pixel386', 'pixel387', 'pixel388', 'pixel389', 'pixel390', 'pixel391', 'pixel392', 'pixel393', 'pixel394', 'pixel395', 'pixel396', 'pixel397', 'pixel398', 'pixel399', 'pixel400', 'pixel401', 'pixel402', 'pixel403', 'pixel404', 'pixel405', 'pixel406', 'pixel407', 'pixel408', 'pixel409', 'pixel410', 'pixel411', 'pixel412', 'pixel413', 'pixel414', 'pixel415', 'pixel416', 'pixel417', 'pixel418', 'pixel419', 'pixel420', 'pixel421', 'pixel422', 'pixel423', 'pixel424', 'pixel425', 'pixel426', 'pixel427', 'pixel428', 'pixel429', 'pixel430', 'pixel431', 'pixel432', 'pixel433', 'pixel434', 'pixel435', 'pixel436', 'pixel437', 'pixel438', 'pixel439', 'pixel440', 'pixel441', 'pixel442', 'pixel443', 'pixel444', 'pixel445', 'pixel446', 'pixel447', 'pixel448', 'pixel449', 'pixel450', 'pixel451', 'pixel452', 'pixel453', 'pixel454', 'pixel455', 'pixel456', 'pixel457', 'pixel458', 'pixel459', 'pixel460', 'pixel461', 'pixel462', 'pixel463', 'pixel464', 'pixel465', 'pixel466', 'pixel467', 'pixel468', 'pixel469', 'pixel470', 'pixel471', 'pixel472', 'pixel473', 'pixel474', 'pixel475', 'pixel476', 'pixel477', 'pixel478', 'pixel479', 'pixel480', 'pixel481', 'pixel482', 'pixel483', 'pixel484', 'pixel485', 'pixel486', 'pixel487', 'pixel488', 'pixel489', 'pixel490', 'pixel491', 'pixel492', 'pixel493', 'pixel494', 'pixel495', 'pixel496', 'pixel497', 'pixel498', 'pixel499', 'pixel500', 'pixel501', 'pixel502', 'pixel503', 'pixel504', 'pixel505', 'pixel506', 'pixel507', 'pixel508', 'pixel509', 'pixel510', 'pixel511', 'pixel512', 'pixel513', 'pixel514', 'pixel515', 'pixel516', 'pixel517', 'pixel518', 'pixel519', 'pixel520', 'pixel521', 'pixel522', 'pixel523', 'pixel524', 'pixel525', 'pixel526', 'pixel527', 'pixel528', 'pixel529', 'pixel530', 'pixel531', 'pixel532', 'pixel533', 'pixel534', 'pixel535', 'pixel536', 'pixel537', 'pixel538', 'pixel539', 'pixel540', 'pixel541', 'pixel542', 'pixel543', 'pixel544', 'pixel545', 'pixel546', 'pixel547', 'pixel548', 'pixel549', 'pixel550', 'pixel551', 'pixel552', 'pixel553', 'pixel554', 'pixel555', 'pixel556', 'pixel557', 'pixel558', 'pixel559', 'pixel560', 'pixel561', 'pixel562', 'pixel563', 'pixel564', 'pixel565', 'pixel566', 'pixel567', 'pixel568', 'pixel569', 'pixel570', 'pixel571', 'pixel572', 'pixel573', 'pixel574', 'pixel575', 'pixel576', 'pixel577', 'pixel578', 'pixel579', 'pixel580', 'pixel581', 'pixel582', 'pixel583', 'pixel584', 'pixel585', 'pixel586', 'pixel587', 'pixel588', 'pixel589', 'pixel590', 'pixel591', 'pixel592', 'pixel593', 'pixel594', 'pixel595', 'pixel596', 'pixel597', 'pixel598', 'pixel599', 'pixel600', 'pixel601', 'pixel602', 'pixel603', 'pixel604', 'pixel605', 'pixel606', 'pixel607', 'pixel608', 'pixel609', 'pixel610', 'pixel611', 'pixel612', 'pixel613', 'pixel614', 'pixel615', 'pixel616', 'pixel617', 'pixel618', 'pixel619', 'pixel620', 'pixel621', 'pixel622', 'pixel623', 'pixel624', 'pixel625', 'pixel626', 'pixel627', 'pixel628', 'pixel629', 'pixel630', 'pixel631', 'pixel632', 'pixel633', 'pixel634', 'pixel635', 'pixel636', 'pixel637', 'pixel638', 'pixel639', 'pixel640', 'pixel641', 'pixel642', 'pixel643', 'pixel644', 'pixel645', 'pixel646', 'pixel647', 'pixel648', 'pixel649', 'pixel650', 'pixel651', 'pixel652', 'pixel653', 'pixel654', 'pixel655', 'pixel656', 'pixel657', 'pixel658', 'pixel659', 'pixel660', 'pixel661', 'pixel662', 'pixel663', 'pixel664', 'pixel665', 'pixel666', 'pixel667', 'pixel668', 'pixel669', 'pixel670', 'pixel671', 'pixel672', 'pixel673', 'pixel674', 'pixel675', 'pixel676', 'pixel677', 'pixel678', 'pixel679', 'pixel680', 'pixel681', 'pixel682', 'pixel683', 'pixel684', 'pixel685', 'pixel686', 'pixel687', 'pixel688', 'pixel689', 'pixel690', 'pixel691', 'pixel692', 'pixel693', 'pixel694', 'pixel695', 'pixel696', 'pixel697', 'pixel698', 'pixel699', 'pixel700', 'pixel701', 'pixel702', 'pixel703', 'pixel704', 'pixel705', 'pixel706', 'pixel707', 'pixel708', 'pixel709', 'pixel710', 'pixel711', 'pixel712', 'pixel713', 'pixel714', 'pixel715', 'pixel716', 'pixel717', 'pixel718', 'pixel719', 'pixel720', 'pixel721', 'pixel722', 'pixel723', 'pixel724', 'pixel725', 'pixel726', 'pixel727', 'pixel728', 'pixel729', 'pixel730', 'pixel731', 'pixel732', 'pixel733', 'pixel734', 'pixel735', 'pixel736', 'pixel737', 'pixel738', 'pixel739', 'pixel740', 'pixel741', 'pixel742', 'pixel743', 'pixel744', 'pixel745', 'pixel746', 'pixel747', 'pixel748', 'pixel749', 'pixel750', 'pixel751', 'pixel752', 'pixel753', 'pixel754', 'pixel755', 'pixel756', 'pixel757', 'pixel758', 'pixel759', 'pixel760', 'pixel761', 'pixel762', 'pixel763', 'pixel764', 'pixel765', 'pixel766', 'pixel767', 'pixel768', 'pixel769', 'pixel770', 'pixel771', 'pixel772', 'pixel773', 'pixel774', 'pixel775', 'pixel776', 'pixel777', 'pixel778', 'pixel779', 'pixel780', 'pixel781', 'pixel782', 'pixel783', 'pixel784']\n",
      "target Name=> ['class']\n",
      "CATEGORIES => None\n",
      "CATEGORIES => ['9', '0', '3', '2', '7', '5', '1', '6', '4', '8']\n",
      "Categories (10, object): ['0', '1', '2', '3', ..., '6', '7', '8', '9']\n"
     ]
    }
   ],
   "source": [
    "# 분류 확인(CLASS 보기)\n",
    "print(f'feature Name=> {fashion_data[\"feature_names\"]}')\n",
    "print(f'target Name=> {fashion_data[\"target_names\"]}')\n",
    "print(f'CATEGORIES => {fashion_data[\"categories\"]}')  #데이터 프레임일떄 불가능\n",
    "print(f'CATEGORIES => {target.unique()}')"
   ],
   "metadata": {
    "collapsed": false,
    "ExecuteTime": {
     "end_time": "2024-03-14T05:30:51.332306500Z",
     "start_time": "2024-03-14T05:30:51.265422Z"
    }
   },
   "execution_count": 324
  },
  {
   "cell_type": "markdown",
   "source": [
    "[2] 데이터 가공 전처리 <hr>\n",
    "- 결측치/중복/이상치 => 없음\n",
    "- 다중분류==> 2진분류 변환 : target 변환\n",
    "- 표준화 ==> 이미지 동일 크기 및 색상 채널 : 동일 크기(28*28)와  채널(흑백 1)\n",
    "- 정규화 => 피쳐 정규화/ 타겟 정규화 "
   ],
   "metadata": {
    "collapsed": false
   }
  },
  {
   "cell_type": "code",
   "outputs": [
    {
     "data": {
      "text/plain": "array([False,  True])"
     },
     "execution_count": 325,
     "metadata": {},
     "output_type": "execute_result"
    }
   ],
   "source": [
    "### ===> [2-1] 다중분류 ==> 2진분류 변환: target 변환\n",
    "type(target)  #시리즈이다.\n",
    "\n",
    "#마스크 처리가 편하다.\n",
    "target=target =='0'\n",
    "target.unique()\n"
   ],
   "metadata": {
    "collapsed": false,
    "ExecuteTime": {
     "end_time": "2024-03-14T05:30:51.334948200Z",
     "start_time": "2024-03-14T05:30:51.283454700Z"
    }
   },
   "execution_count": 325
  },
  {
   "cell_type": "markdown",
   "source": [
    "표준화는 필요 없고. \n"
   ],
   "metadata": {
    "collapsed": false
   }
  },
  {
   "cell_type": "code",
   "outputs": [],
   "source": [
    "###==> [2-2] 정규화 ===> 피쳐: 784개 색상값 즉, 0~255 범위 값\n",
    "norm_feature=feature/255. #숫자뒤에 점 찍으면 실수(float)로 형변환\n"
   ],
   "metadata": {
    "collapsed": false,
    "ExecuteTime": {
     "end_time": "2024-03-14T05:30:51.368347700Z",
     "start_time": "2024-03-14T05:30:51.296365300Z"
    }
   },
   "execution_count": 326
  },
  {
   "cell_type": "code",
   "outputs": [
    {
     "data": {
      "text/plain": "       False  True \n0       True  False\n1      False   True\n2      False   True\n3       True  False\n4      False   True\n...      ...    ...\n69995   True  False\n69996   True  False\n69997   True  False\n69998   True  False\n69999   True  False\n\n[70000 rows x 2 columns]",
      "text/html": "<div>\n<style scoped>\n    .dataframe tbody tr th:only-of-type {\n        vertical-align: middle;\n    }\n\n    .dataframe tbody tr th {\n        vertical-align: top;\n    }\n\n    .dataframe thead th {\n        text-align: right;\n    }\n</style>\n<table border=\"1\" class=\"dataframe\">\n  <thead>\n    <tr style=\"text-align: right;\">\n      <th></th>\n      <th>False</th>\n      <th>True</th>\n    </tr>\n  </thead>\n  <tbody>\n    <tr>\n      <th>0</th>\n      <td>True</td>\n      <td>False</td>\n    </tr>\n    <tr>\n      <th>1</th>\n      <td>False</td>\n      <td>True</td>\n    </tr>\n    <tr>\n      <th>2</th>\n      <td>False</td>\n      <td>True</td>\n    </tr>\n    <tr>\n      <th>3</th>\n      <td>True</td>\n      <td>False</td>\n    </tr>\n    <tr>\n      <th>4</th>\n      <td>False</td>\n      <td>True</td>\n    </tr>\n    <tr>\n      <th>...</th>\n      <td>...</td>\n      <td>...</td>\n    </tr>\n    <tr>\n      <th>69995</th>\n      <td>True</td>\n      <td>False</td>\n    </tr>\n    <tr>\n      <th>69996</th>\n      <td>True</td>\n      <td>False</td>\n    </tr>\n    <tr>\n      <th>69997</th>\n      <td>True</td>\n      <td>False</td>\n    </tr>\n    <tr>\n      <th>69998</th>\n      <td>True</td>\n      <td>False</td>\n    </tr>\n    <tr>\n      <th>69999</th>\n      <td>True</td>\n      <td>False</td>\n    </tr>\n  </tbody>\n</table>\n<p>70000 rows × 2 columns</p>\n</div>"
     },
     "execution_count": 327,
     "metadata": {},
     "output_type": "execute_result"
    }
   ],
   "source": [
    "###=> [2-2] 정규화 ===> 타겟: 이대로 쓰거나, one-hot encoder로 바꾸던가, label 인코더로 쓰던가.\n",
    "#scikitlearn=> onehot 인코더\n",
    "# get-dummies( 판다스)  #0,1로 바꾸기\n",
    "pd.get_dummies(target)"
   ],
   "metadata": {
    "collapsed": false,
    "ExecuteTime": {
     "end_time": "2024-03-14T05:30:51.370931900Z",
     "start_time": "2024-03-14T05:30:51.340595200Z"
    }
   },
   "execution_count": 327
  },
  {
   "cell_type": "code",
   "outputs": [
    {
     "name": "stdout",
     "output_type": "stream",
     "text": [
      "(70000, 1)\n"
     ]
    }
   ],
   "source": [
    "from sklearn.preprocessing import OneHotEncoder\n",
    "\n",
    "targetDF=target.to_frame()\n",
    "print(targetDF.shape)\n"
   ],
   "metadata": {
    "collapsed": false,
    "ExecuteTime": {
     "end_time": "2024-03-14T07:01:01.597787200Z",
     "start_time": "2024-03-14T07:01:01.584437900Z"
    }
   },
   "execution_count": 112
  },
  {
   "cell_type": "code",
   "outputs": [
    {
     "data": {
      "text/plain": "([array([False,  True,  True, ..., False, False, False])],\n array([[False],\n        [ True],\n        [ True],\n        ...,\n        [False],\n        [False],\n        [False]]))"
     },
     "execution_count": 329,
     "metadata": {},
     "output_type": "execute_result"
    }
   ],
   "source": [
    "[target.values],targetDF.values"
   ],
   "metadata": {
    "collapsed": false,
    "ExecuteTime": {
     "end_time": "2024-03-14T05:30:51.429761600Z",
     "start_time": "2024-03-14T05:30:51.370931900Z"
    }
   },
   "execution_count": 329
  },
  {
   "cell_type": "code",
   "outputs": [
    {
     "data": {
      "text/plain": "[array([False,  True])]"
     },
     "execution_count": 330,
     "metadata": {},
     "output_type": "execute_result"
    }
   ],
   "source": [
    "# sparse_output=False : ndarray 타입으로 반환\n",
    "ohEncoder = OneHotEncoder(sparse_output=False)  #풀어서 준다(압축 행렬을)\n",
    "ohEncoder.fit(targetDF)\n",
    "ohEncoder.categories_  #원본에 적용된다는 의미 _\n",
    "\n",
    " #false면 앞에가 1이 찍히고, true면 뒤에가 1이 찍힌다."
   ],
   "metadata": {
    "collapsed": false,
    "ExecuteTime": {
     "end_time": "2024-03-14T05:30:51.465895200Z",
     "start_time": "2024-03-14T05:30:51.389784300Z"
    }
   },
   "execution_count": 330
  },
  {
   "cell_type": "code",
   "outputs": [
    {
     "data": {
      "text/plain": "((70000, 2), 2)"
     },
     "execution_count": 331,
     "metadata": {},
     "output_type": "execute_result"
    }
   ],
   "source": [
    "norm_target=ohEncoder.transform(targetDF)  #압축되어서 준다 => toarray()쓸수도 있다=> 그런데 처음 부터 sparse_output을 쓰면 처음부터 ndarray타입으로 바꿔 주므로 다시 toarray로 풀어서 쓸 필요가 없다. \n",
    "norm_target.shape,norm_target.ndim"
   ],
   "metadata": {
    "collapsed": false,
    "ExecuteTime": {
     "end_time": "2024-03-14T05:30:51.531854Z",
     "start_time": "2024-03-14T05:30:51.404625900Z"
    }
   },
   "execution_count": 331
  },
  {
   "cell_type": "code",
   "outputs": [
    {
     "data": {
      "text/plain": "array([[1., 0.],\n       [0., 1.],\n       [0., 1.],\n       ...,\n       [1., 0.],\n       [1., 0.],\n       [1., 0.]])"
     },
     "execution_count": 113,
     "metadata": {},
     "output_type": "execute_result"
    }
   ],
   "source": [
    "norm_target"
   ],
   "metadata": {
    "collapsed": false,
    "ExecuteTime": {
     "end_time": "2024-03-14T07:01:38.157346Z",
     "start_time": "2024-03-14T07:01:38.143040500Z"
    }
   },
   "execution_count": 113
  },
  {
   "cell_type": "code",
   "outputs": [
    {
     "data": {
      "text/plain": "0        9\n1        0\n2        0\n3        3\n4        0\n        ..\n69995    9\n69996    1\n69997    8\n69998    1\n69999    5\nName: class, Length: 70000, dtype: category\nCategories (10, object): ['0', '1', '2', '3', ..., '6', '7', '8', '9']"
     },
     "execution_count": 332,
     "metadata": {},
     "output_type": "execute_result"
    }
   ],
   "source": [
    "fashion_data['target']"
   ],
   "metadata": {
    "collapsed": false,
    "ExecuteTime": {
     "end_time": "2024-03-14T05:30:51.536837200Z",
     "start_time": "2024-03-14T05:30:51.422095700Z"
    }
   },
   "execution_count": 332
  },
  {
   "cell_type": "code",
   "outputs": [],
   "source": [
    "#회귀의 경우 원핫 인코더를 쓸수는 없음(분류가 안됨)"
   ],
   "metadata": {
    "collapsed": false,
    "ExecuteTime": {
     "end_time": "2024-03-14T05:30:51.560665800Z",
     "start_time": "2024-03-14T05:30:51.434928700Z"
    }
   },
   "execution_count": 333
  },
  {
   "cell_type": "markdown",
   "source": [
    "[3] 학습 준비 <hr>\n",
    "- 텐서화\n",
    "- 데이터 셋 준비 : 훈련용(train), 테스트용(test)\n",
    "- 학습 방법: 지도학습 -이진분류=> Linear 클래스 + 시그모이드 함수(1,0) 즉 linear를 1과 0만으로 2진 분류 해내면 됨\n",
    "- 최적화 방법: 경사하강법 기반의 방법=> Adam,SDG\n",
    "- 손실함수: 이진분류 손실 계산 함수 : binary_cross_entropy\n"
   ],
   "metadata": {
    "collapsed": false
   }
  },
  {
   "cell_type": "code",
   "outputs": [],
   "source": [
    "### ---> 데이터셋 준비 :60000개 훈련, 10000개 테스트\n",
    "limit=60000\n",
    "train=norm_feature.iloc[:limit]\n",
    "test=norm_feature.iloc[limit:]\n",
    "#아직까지는 텐서가 아님\n",
    "train_y=norm_target[:limit]\n",
    "test_y=norm_target[limit:]"
   ],
   "metadata": {
    "collapsed": false,
    "ExecuteTime": {
     "end_time": "2024-03-14T07:02:22.649862200Z",
     "start_time": "2024-03-14T07:02:22.633766800Z"
    }
   },
   "execution_count": 114
  },
  {
   "cell_type": "code",
   "outputs": [
    {
     "name": "stdout",
     "output_type": "stream",
     "text": [
      "train (60000, 784),2D,(60000, 2),2D\n",
      "test (10000, 784),2D,(10000, 2),2D\n"
     ]
    }
   ],
   "source": [
    "print(f'train {train.shape},{train.ndim}D,{train_y.shape},{train_y.ndim}D')  \n",
    "print(f'test {test.shape},{test.ndim}D,{test_y.shape},{test_y.ndim}D')"
   ],
   "metadata": {
    "collapsed": false,
    "ExecuteTime": {
     "end_time": "2024-03-14T07:02:25.746791200Z",
     "start_time": "2024-03-14T07:02:25.729421500Z"
    }
   },
   "execution_count": 115
  },
  {
   "cell_type": "code",
   "outputs": [],
   "source": [],
   "metadata": {
    "collapsed": false,
    "ExecuteTime": {
     "end_time": "2024-03-14T05:30:51.678739Z",
     "start_time": "2024-03-14T05:30:51.510783300Z"
    }
   },
   "execution_count": 335
  },
  {
   "cell_type": "code",
   "outputs": [],
   "source": [
    "###텐서로 변환\n",
    "X_train=torch.FloatTensor(train.values)# array를 뽑는 법=.values\n",
    "X_test=torch.FloatTensor(test.values) \n",
    "\n",
    "y_train=torch.FloatTensor(train_y) #64비트 정수형 데이터 타입=LONG 타입,unsqueeze 안써도 되고, values 안써도 됨\n",
    "y_test=torch.FloatTensor(test_y)"
   ],
   "metadata": {
    "collapsed": false,
    "ExecuteTime": {
     "end_time": "2024-03-14T07:02:53.739552700Z",
     "start_time": "2024-03-14T07:02:53.668896800Z"
    }
   },
   "execution_count": 118
  },
  {
   "cell_type": "code",
   "outputs": [
    {
     "name": "stdout",
     "output_type": "stream",
     "text": [
      "X_train torch.Size([60000, 784]),2D,torch.Size([60000, 2]),2D\n",
      "X_test torch.Size([10000, 784]),2D,torch.Size([10000, 2]),2D\n"
     ]
    }
   ],
   "source": [
    "print(f'X_train {X_train.shape},{X_train.ndim}D,{y_train.shape},{y_train.ndim}D')  \n",
    "print(f'X_test {X_test.shape},{X_test.ndim}D,{y_test.shape},{y_test.ndim}D')"
   ],
   "metadata": {
    "collapsed": false,
    "ExecuteTime": {
     "end_time": "2024-03-14T07:03:10.501578900Z",
     "start_time": "2024-03-14T07:03:10.484153300Z"
    }
   },
   "execution_count": 119
  },
  {
   "cell_type": "code",
   "outputs": [],
   "source": [
    "## 학습 인스턴스 생성\n",
    "in_,out_=X_train.shape[1],y_train.shape[1]\n",
    "model=nn.Linear(in_,out_)  #in_:   #out_"
   ],
   "metadata": {
    "collapsed": false,
    "ExecuteTime": {
     "end_time": "2024-03-14T07:03:11.692386100Z",
     "start_time": "2024-03-14T07:03:11.676356600Z"
    }
   },
   "execution_count": 120
  },
  {
   "cell_type": "code",
   "outputs": [
    {
     "data": {
      "text/plain": "Linear(in_features=784, out_features=2, bias=True)"
     },
     "execution_count": 122,
     "metadata": {},
     "output_type": "execute_result"
    }
   ],
   "source": [
    "model"
   ],
   "metadata": {
    "collapsed": false,
    "ExecuteTime": {
     "end_time": "2024-03-14T07:03:24.614952300Z",
     "start_time": "2024-03-14T07:03:24.586859800Z"
    }
   },
   "execution_count": 122
  },
  {
   "cell_type": "code",
   "outputs": [],
   "source": [
    "## 최적화 인스턴스 생성 => 모델에서 사용하는 w,b 변수들 전달\n",
    "optimizer=optim.Adam(model.parameters())"
   ],
   "metadata": {
    "collapsed": false,
    "ExecuteTime": {
     "end_time": "2024-03-14T07:03:25.242355500Z",
     "start_time": "2024-03-14T07:03:25.232678300Z"
    }
   },
   "execution_count": 123
  },
  {
   "cell_type": "code",
   "outputs": [],
   "source": [
    "### 학습 횟수 => 샘플 처음부터 끝까지 읽는 것 기준으로 횟수 지정\n",
    "EPOCHS=150\n",
    "\n",
    "\n"
   ],
   "metadata": {
    "collapsed": false,
    "ExecuteTime": {
     "end_time": "2024-03-14T07:03:25.971900Z",
     "start_time": "2024-03-14T07:03:25.951799Z"
    }
   },
   "execution_count": 124
  },
  {
   "cell_type": "markdown",
   "source": [
    "[4] 학습 <hr>\n",
    "-반복횟수 만큼 학습 진행\n"
   ],
   "metadata": {
    "collapsed": false
   }
  },
  {
   "cell_type": "code",
   "outputs": [
    {
     "name": "stdout",
     "output_type": "stream",
     "text": [
      "[0] Loss => 0.6255412697792053\n",
      "[1] Loss => 0.5602164268493652\n",
      "[2] Loss => 0.5088962912559509\n",
      "[3] Loss => 0.46989473700523376\n",
      "[4] Loss => 0.4410892724990845\n",
      "[5] Loss => 0.42029663920402527\n",
      "[6] Loss => 0.4055119752883911\n",
      "[7] Loss => 0.3950386941432953\n",
      "[8] Loss => 0.3875234127044678\n",
      "[9] Loss => 0.3819319009780884\n",
      "[10] Loss => 0.37749987840652466\n",
      "[11] Loss => 0.37367844581604004\n",
      "[12] Loss => 0.37008482217788696\n",
      "[13] Loss => 0.36646145582199097\n",
      "[14] Loss => 0.3626440167427063\n",
      "[15] Loss => 0.35853734612464905\n",
      "[16] Loss => 0.3540970981121063\n",
      "[17] Loss => 0.3493165075778961\n",
      "[18] Loss => 0.3442161977291107\n",
      "[19] Loss => 0.3388368785381317\n",
      "[20] Loss => 0.3332338333129883\n",
      "[21] Loss => 0.32747218012809753\n",
      "[22] Loss => 0.3216235637664795\n",
      "[23] Loss => 0.31576287746429443\n",
      "[24] Loss => 0.30996525287628174\n",
      "[25] Loss => 0.3043029308319092\n",
      "[26] Loss => 0.29884251952171326\n",
      "[27] Loss => 0.2936415374279022\n",
      "[28] Loss => 0.2887454628944397\n",
      "[29] Loss => 0.28418484330177307\n",
      "[30] Loss => 0.27997323870658875\n",
      "[31] Loss => 0.27610570192337036\n",
      "[32] Loss => 0.2725592851638794\n",
      "[33] Loss => 0.26929497718811035\n",
      "[34] Loss => 0.26626133918762207\n",
      "[35] Loss => 0.2633996605873108\n",
      "[36] Loss => 0.26065030694007874\n",
      "[37] Loss => 0.2579583525657654\n",
      "[38] Loss => 0.25527921319007874\n",
      "[39] Loss => 0.252581924200058\n",
      "[40] Loss => 0.24985069036483765\n",
      "[41] Loss => 0.247084379196167\n",
      "[42] Loss => 0.24429401755332947\n",
      "[43] Loss => 0.24149933457374573\n",
      "[44] Loss => 0.2387246936559677\n",
      "[45] Loss => 0.23599523305892944\n",
      "[46] Loss => 0.23333358764648438\n",
      "[47] Loss => 0.23075762391090393\n",
      "[48] Loss => 0.22827914357185364\n",
      "[49] Loss => 0.22590361535549164\n",
      "[50] Loss => 0.22363071143627167\n",
      "[51] Loss => 0.22145533561706543\n",
      "[52] Loss => 0.21936897933483124\n",
      "[53] Loss => 0.2173612266778946\n",
      "[54] Loss => 0.2154211401939392\n",
      "[55] Loss => 0.2135383039712906\n",
      "[56] Loss => 0.2117038071155548\n",
      "[57] Loss => 0.20991061627864838\n",
      "[58] Loss => 0.20815399289131165\n",
      "[59] Loss => 0.20643125474452972\n",
      "[60] Loss => 0.20474162697792053\n",
      "[61] Loss => 0.20308583974838257\n",
      "[62] Loss => 0.20146562159061432\n",
      "[63] Loss => 0.1998831033706665\n",
      "[64] Loss => 0.1983404904603958\n",
      "[65] Loss => 0.1968396157026291\n",
      "[66] Loss => 0.19538168609142303\n",
      "[67] Loss => 0.1939670592546463\n",
      "[68] Loss => 0.1925952434539795\n",
      "[69] Loss => 0.19126500189304352\n",
      "[70] Loss => 0.18997445702552795\n",
      "[71] Loss => 0.18872123956680298\n",
      "[72] Loss => 0.1875028759241104\n",
      "[73] Loss => 0.18631672859191895\n",
      "[74] Loss => 0.1851605623960495\n",
      "[75] Loss => 0.18403229117393494\n",
      "[76] Loss => 0.18293026089668274\n",
      "[77] Loss => 0.18185323476791382\n",
      "[78] Loss => 0.1808003932237625\n",
      "[79] Loss => 0.17977118492126465\n",
      "[80] Loss => 0.17876529693603516\n",
      "[81] Loss => 0.1777825951576233\n",
      "[82] Loss => 0.17682291567325592\n",
      "[83] Loss => 0.1758860945701599\n",
      "[84] Loss => 0.17497189342975616\n",
      "[85] Loss => 0.17407995462417603\n",
      "[86] Loss => 0.17320972681045532\n",
      "[87] Loss => 0.17236067354679108\n",
      "[88] Loss => 0.1715320497751236\n",
      "[89] Loss => 0.1707231104373932\n",
      "[90] Loss => 0.16993306577205658\n",
      "[91] Loss => 0.16916118562221527\n",
      "[92] Loss => 0.16840669512748718\n",
      "[93] Loss => 0.1676689088344574\n",
      "[94] Loss => 0.16694727540016174\n",
      "[95] Loss => 0.16624121367931366\n",
      "[96] Loss => 0.16555029153823853\n",
      "[97] Loss => 0.1648740917444229\n",
      "[98] Loss => 0.16421224176883698\n",
      "[99] Loss => 0.16356438398361206\n",
      "[100] Loss => 0.1629302203655243\n",
      "[101] Loss => 0.162309467792511\n",
      "[102] Loss => 0.1617017537355423\n",
      "[103] Loss => 0.16110680997371674\n",
      "[104] Loss => 0.16052424907684326\n",
      "[105] Loss => 0.1599537581205368\n",
      "[106] Loss => 0.15939493477344513\n",
      "[107] Loss => 0.15884751081466675\n",
      "[108] Loss => 0.15831109881401062\n",
      "[109] Loss => 0.15778537094593048\n",
      "[110] Loss => 0.15726999938488007\n",
      "[111] Loss => 0.1567647010087967\n",
      "[112] Loss => 0.1562691628932953\n",
      "[113] Loss => 0.15578313171863556\n",
      "[114] Loss => 0.1553063541650772\n",
      "[115] Loss => 0.15483857691287994\n",
      "[116] Loss => 0.15437960624694824\n",
      "[117] Loss => 0.153929203748703\n",
      "[118] Loss => 0.1534871757030487\n",
      "[119] Loss => 0.15305328369140625\n",
      "[120] Loss => 0.15262740850448608\n",
      "[121] Loss => 0.15220928192138672\n",
      "[122] Loss => 0.15179874002933502\n",
      "[123] Loss => 0.15139560401439667\n",
      "[124] Loss => 0.15099970996379852\n",
      "[125] Loss => 0.1506108045578003\n",
      "[126] Loss => 0.15022878348827362\n",
      "[127] Loss => 0.1498534381389618\n",
      "[128] Loss => 0.14948461949825287\n",
      "[129] Loss => 0.14912216365337372\n",
      "[130] Loss => 0.1487659215927124\n",
      "[131] Loss => 0.14841574430465698\n",
      "[132] Loss => 0.14807148277759552\n",
      "[133] Loss => 0.14773298799991608\n",
      "[134] Loss => 0.1474001407623291\n",
      "[135] Loss => 0.14707283675670624\n",
      "[136] Loss => 0.14675091207027435\n",
      "[137] Loss => 0.1464342623949051\n",
      "[138] Loss => 0.1461227536201477\n",
      "[139] Loss => 0.14581629633903503\n",
      "[140] Loss => 0.14551474153995514\n",
      "[141] Loss => 0.14521802961826324\n",
      "[142] Loss => 0.1449260264635086\n",
      "[143] Loss => 0.14463861286640167\n",
      "[144] Loss => 0.14435571432113647\n",
      "[145] Loss => 0.14407719671726227\n",
      "[146] Loss => 0.14380301535129547\n",
      "[147] Loss => 0.14353303611278534\n",
      "[148] Loss => 0.1432671695947647\n",
      "[149] Loss => 0.1430053412914276\n"
     ]
    }
   ],
   "source": [
    "loss_accuracy=[[],[]]\n",
    "for ep in range(EPOCHS):\n",
    "    # 학습\n",
    "    pre_y=model(X_train)\n",
    "    # print(f'예측값:{pre_y}')\n",
    "    #분류값 변환\n",
    "    pre_y2=F.sigmoid(pre_y)\n",
    "    # print(f'분류값:{pre_y2}')\n",
    "    #오차 즉 손실 계산\n",
    "    loss=F.binary_cross_entropy(pre_y2,y_train)\n",
    "    loss_accuracy[0].append(loss.item())\n",
    "    print(f'[{ep}] Loss => {loss}')\n",
    "    \n",
    "    # W,b 업데이트\n",
    "    optimizer.zero_grad() #기울기가 누적되지 않도록 다시 리셋\n",
    "    loss.backward() #손실함수 계산값으로 미분 진행하여 새로운 W,b 계산\n",
    "    optimizer.step() #새로운 값으로 w,b 업데이트\n",
    "    \n",
    "    #정확도() 계산 => 예측값을 0과 1로 변환하여 정답지와 비교해야 한다.(시그모이드로 나온 것은(pre_y2)는 0,1이 아니므로....)\n",
    "    train_accuracy=((y_train==(pre_y2>=0.5)).sum())/y_train.shape[0]\n",
    "    loss_accuracy[1].append(train_accuracy.item())\n",
    "    "
   ],
   "metadata": {
    "collapsed": false,
    "ExecuteTime": {
     "end_time": "2024-03-14T07:03:31.541042600Z",
     "start_time": "2024-03-14T07:03:27.643484300Z"
    }
   },
   "execution_count": 125
  },
  {
   "cell_type": "code",
   "outputs": [],
   "source": [
    "#이제 분류만 하면 된다. 예측값 == 정답치 와 얼마나 맞는지를 찾아서 sum 해버리면 맞춘 개수가 나온다. "
   ],
   "metadata": {
    "collapsed": false,
    "ExecuteTime": {
     "end_time": "2024-03-14T05:30:53.529445100Z",
     "start_time": "2024-03-14T05:30:53.504760300Z"
    }
   },
   "execution_count": 343
  },
  {
   "cell_type": "code",
   "outputs": [
    {
     "data": {
      "text/plain": "tensor(57243)"
     },
     "execution_count": 344,
     "metadata": {},
     "output_type": "execute_result"
    }
   ],
   "source": [
    "(y_train==(pre_y2>=0.5)).sum() # 시그모이드가 0,1로 만들어 주는 것이 아니라, 여기서 따로 계산을 해주어야 한다."
   ],
   "metadata": {
    "collapsed": false,
    "ExecuteTime": {
     "end_time": "2024-03-14T05:30:53.532332Z",
     "start_time": "2024-03-14T05:30:53.519939600Z"
    }
   },
   "execution_count": 344
  },
  {
   "cell_type": "code",
   "outputs": [
    {
     "data": {
      "text/plain": "tensor(0.9541)"
     },
     "execution_count": 345,
     "metadata": {},
     "output_type": "execute_result"
    }
   ],
   "source": [
    "((y_train==(pre_y2>=0.5)).sum())/y_train.shape[0]  #정확도 계산"
   ],
   "metadata": {
    "collapsed": false,
    "ExecuteTime": {
     "end_time": "2024-03-14T05:30:53.546856800Z",
     "start_time": "2024-03-14T05:30:53.535325800Z"
    }
   },
   "execution_count": 345
  },
  {
   "cell_type": "code",
   "outputs": [
    {
     "data": {
      "text/plain": "<Figure size 640x480 with 2 Axes>",
      "image/png": "[encoded data removed]"
     },
     "metadata": {},
     "output_type": "display_data"
    }
   ],
   "source": [
    "## 손실과 정확도 시각화\n",
    "import matplotlib.pyplot as plt\n",
    "fig,ax1=plt.subplots() #축을 두개 쓰기 위해서 \n",
    "ax1.plot(loss_accuracy[0],label='Loss')\n",
    "ax2=ax1.twinx()\n",
    "ax2.plot(loss_accuracy[1],label='Accuracy',color='red')\n",
    "ax1.legend(loc='upper left')\n",
    "ax2.legend(loc='upper right')\n",
    "plt.xlabel('Epochs')\n",
    "plt.show()"
   ],
   "metadata": {
    "collapsed": false,
    "ExecuteTime": {
     "end_time": "2024-03-14T05:30:53.782702100Z",
     "start_time": "2024-03-14T05:30:53.550843400Z"
    }
   },
   "execution_count": 346
  },
  {
   "cell_type": "code",
   "outputs": [],
   "source": [],
   "metadata": {
    "collapsed": false,
    "ExecuteTime": {
     "end_time": "2024-03-14T05:30:53.823946Z",
     "start_time": "2024-03-14T05:30:53.782702100Z"
    }
   },
   "execution_count": 346
  }
 ],
 "metadata": {
  "kernelspec": {
   "display_name": "TORCH_PY38",
   "language": "python",
   "name": "python3"
  },
  "language_info": {
   "codemirror_mode": {
    "name": "ipython",
    "version": 3
   },
   "file_extension": ".py",
   "mimetype": "text/x-python",
   "name": "python",
   "nbconvert_exporter": "python",
   "pygments_lexer": "ipython3",
   "version": "3.8.18"
  }
 },
 "nbformat": 4,
 "nbformat_minor": 2
}
