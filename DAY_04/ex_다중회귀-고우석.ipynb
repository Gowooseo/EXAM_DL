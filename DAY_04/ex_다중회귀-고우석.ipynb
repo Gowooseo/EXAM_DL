{
 "cells": [
  {
   "cell_type": "code",
   "execution_count": 1,
   "id": "initial_id",
   "metadata": {
    "collapsed": true,
    "ExecuteTime": {
     "end_time": "2024-03-14T13:59:50.649529200Z",
     "start_time": "2024-03-14T13:59:48.310606400Z"
    }
   },
   "outputs": [],
   "source": [
    "import torch\n",
    "import torch.nn as nn\n",
    "import torch.nn.functional as F\n",
    "import torch.optim as optim\n",
    "import numpy as np"
   ]
  },
  {
   "cell_type": "code",
   "outputs": [
    {
     "data": {
      "text/plain": "<torch._C.Generator at 0x1aec138e5b0>"
     },
     "execution_count": 2,
     "metadata": {},
     "output_type": "execute_result"
    }
   ],
   "source": [
    "# 랜덤 시드 설정 ------------------------------\n",
    "torch.manual_seed(1)"
   ],
   "metadata": {
    "collapsed": false,
    "ExecuteTime": {
     "end_time": "2024-03-14T13:59:50.726787600Z",
     "start_time": "2024-03-14T13:59:50.654037800Z"
    }
   },
   "id": "f07a85bde97ee8cb",
   "execution_count": 2
  },
  {
   "cell_type": "markdown",
   "source": [
    "# 모듈 로딩"
   ],
   "metadata": {
    "collapsed": false
   },
   "id": "5c6ca84615068126"
  },
  {
   "cell_type": "code",
   "outputs": [],
   "source": [
    "import pandas as pd"
   ],
   "metadata": {
    "collapsed": false,
    "ExecuteTime": {
     "end_time": "2024-03-14T13:59:51.161383400Z",
     "start_time": "2024-03-14T13:59:50.682871600Z"
    }
   },
   "id": "f90386afd95297e8",
   "execution_count": 3
  },
  {
   "cell_type": "code",
   "outputs": [],
   "source": [
    "file='../data/winequality-white.csv'\n",
    "import csv"
   ],
   "metadata": {
    "collapsed": false,
    "ExecuteTime": {
     "end_time": "2024-03-14T13:59:51.178732400Z",
     "start_time": "2024-03-14T13:59:51.165664500Z"
    }
   },
   "id": "f82101eb330a6ec7",
   "execution_count": 4
  },
  {
   "cell_type": "markdown",
   "source": [
    "[1] 판다스 들고 오기"
   ],
   "metadata": {
    "collapsed": false
   },
   "id": "c95e7f56242d724f"
  },
  {
   "cell_type": "code",
   "outputs": [],
   "source": [
    "WINE=pd.read_csv(file, sep=';')"
   ],
   "metadata": {
    "collapsed": false,
    "ExecuteTime": {
     "end_time": "2024-03-14T13:59:51.209072400Z",
     "start_time": "2024-03-14T13:59:51.180833400Z"
    }
   },
   "id": "88832b7e6204599f",
   "execution_count": 5
  },
  {
   "cell_type": "code",
   "outputs": [
    {
     "data": {
      "text/plain": "Index(['fixed acidity', 'volatile acidity', 'citric acid', 'residual sugar',\n       'chlorides', 'free sulfur dioxide', 'total sulfur dioxide', 'density',\n       'pH', 'sulphates', 'alcohol', 'quality'],\n      dtype='object')"
     },
     "execution_count": 6,
     "metadata": {},
     "output_type": "execute_result"
    }
   ],
   "source": [
    "WINE.columns"
   ],
   "metadata": {
    "collapsed": false,
    "ExecuteTime": {
     "end_time": "2024-03-14T13:59:51.231534700Z",
     "start_time": "2024-03-14T13:59:51.218757800Z"
    }
   },
   "id": "82aab043c898a8aa",
   "execution_count": 6
  },
  {
   "cell_type": "markdown",
   "source": [
    "[2]"
   ],
   "metadata": {
    "collapsed": false
   },
   "id": "f5e9d18b8844419a"
  },
  {
   "cell_type": "code",
   "outputs": [],
   "source": [
    "wineq_numpy=np.loadtxt(file,dtype=np.float32,delimiter=';',skiprows=1)"
   ],
   "metadata": {
    "collapsed": false,
    "ExecuteTime": {
     "end_time": "2024-03-14T13:59:51.309388500Z",
     "start_time": "2024-03-14T13:59:51.239128200Z"
    }
   },
   "id": "82f51a23d2620c34",
   "execution_count": 7
  },
  {
   "cell_type": "code",
   "outputs": [
    {
     "data": {
      "text/plain": "array([[ 7.  ,  0.27,  0.36, ...,  0.45,  8.8 ,  6.  ],\n       [ 6.3 ,  0.3 ,  0.34, ...,  0.49,  9.5 ,  6.  ],\n       [ 8.1 ,  0.28,  0.4 , ...,  0.44, 10.1 ,  6.  ],\n       ...,\n       [ 6.5 ,  0.24,  0.19, ...,  0.46,  9.4 ,  6.  ],\n       [ 5.5 ,  0.29,  0.3 , ...,  0.38, 12.8 ,  7.  ],\n       [ 6.  ,  0.21,  0.38, ...,  0.32, 11.8 ,  6.  ]], dtype=float32)"
     },
     "execution_count": 8,
     "metadata": {},
     "output_type": "execute_result"
    }
   ],
   "source": [
    "wineq_numpy"
   ],
   "metadata": {
    "collapsed": false,
    "ExecuteTime": {
     "end_time": "2024-03-14T13:59:51.312774600Z",
     "start_time": "2024-03-14T13:59:51.261607100Z"
    }
   },
   "id": "dbc5a372708a42ec",
   "execution_count": 8
  },
  {
   "cell_type": "code",
   "outputs": [],
   "source": [
    "col_list=next(csv.reader(open(file),delimiter=';'))"
   ],
   "metadata": {
    "collapsed": false,
    "ExecuteTime": {
     "end_time": "2024-03-14T13:59:51.382236900Z",
     "start_time": "2024-03-14T13:59:51.275642Z"
    }
   },
   "id": "22c4a378c0c0b841",
   "execution_count": 9
  },
  {
   "cell_type": "code",
   "outputs": [
    {
     "data": {
      "text/plain": "array([[ 7.  ,  0.27,  0.36, ...,  0.45,  8.8 ,  6.  ],\n       [ 6.3 ,  0.3 ,  0.34, ...,  0.49,  9.5 ,  6.  ],\n       [ 8.1 ,  0.28,  0.4 , ...,  0.44, 10.1 ,  6.  ],\n       ...,\n       [ 6.5 ,  0.24,  0.19, ...,  0.46,  9.4 ,  6.  ],\n       [ 5.5 ,  0.29,  0.3 , ...,  0.38, 12.8 ,  7.  ],\n       [ 6.  ,  0.21,  0.38, ...,  0.32, 11.8 ,  6.  ]], dtype=float32)"
     },
     "execution_count": 10,
     "metadata": {},
     "output_type": "execute_result"
    }
   ],
   "source": [
    "wineq_numpy"
   ],
   "metadata": {
    "collapsed": false,
    "ExecuteTime": {
     "end_time": "2024-03-14T13:59:51.385276700Z",
     "start_time": "2024-03-14T13:59:51.288046600Z"
    }
   },
   "id": "f71df0d7a3174334",
   "execution_count": 10
  },
  {
   "cell_type": "markdown",
   "source": [],
   "metadata": {
    "collapsed": false
   },
   "id": "d921c225d1004db8"
  },
  {
   "cell_type": "markdown",
   "source": [
    "# [2-2] Numpy 사용한 데이터 로딩"
   ],
   "metadata": {
    "collapsed": false
   },
   "id": "62259f8bbe355f6d"
  },
  {
   "cell_type": "code",
   "outputs": [],
   "source": [
    "wineq=torch.from_numpy(wineq_numpy)"
   ],
   "metadata": {
    "collapsed": false,
    "ExecuteTime": {
     "end_time": "2024-03-14T13:59:51.415740500Z",
     "start_time": "2024-03-14T13:59:51.305097300Z"
    }
   },
   "id": "69b51096dd78b5b0",
   "execution_count": 11
  },
  {
   "cell_type": "code",
   "outputs": [
    {
     "data": {
      "text/plain": "array([[ 7.  ,  0.27,  0.36, ...,  0.45,  8.8 ,  6.  ],\n       [ 6.3 ,  0.3 ,  0.34, ...,  0.49,  9.5 ,  6.  ],\n       [ 8.1 ,  0.28,  0.4 , ...,  0.44, 10.1 ,  6.  ],\n       ...,\n       [ 6.5 ,  0.24,  0.19, ...,  0.46,  9.4 ,  6.  ],\n       [ 5.5 ,  0.29,  0.3 , ...,  0.38, 12.8 ,  7.  ],\n       [ 6.  ,  0.21,  0.38, ...,  0.32, 11.8 ,  6.  ]], dtype=float32)"
     },
     "execution_count": 12,
     "metadata": {},
     "output_type": "execute_result"
    }
   ],
   "source": [
    "wineq_numpy"
   ],
   "metadata": {
    "collapsed": false,
    "ExecuteTime": {
     "end_time": "2024-03-14T13:59:51.416869Z",
     "start_time": "2024-03-14T13:59:51.324274700Z"
    }
   },
   "id": "bace955244e196d8",
   "execution_count": 12
  },
  {
   "cell_type": "code",
   "outputs": [],
   "source": [
    "# 훈련 데이터 ---------------------------------\n",
    "x_data = wineq_numpy[:,:-1]\n",
    "y_data = wineq_numpy[:,-1]\n",
    "x_train = torch.FloatTensor(x_data)\n",
    "y_train = torch.FloatTensor(y_data)"
   ],
   "metadata": {
    "collapsed": false,
    "ExecuteTime": {
     "end_time": "2024-03-14T13:59:51.445556Z",
     "start_time": "2024-03-14T13:59:51.339402Z"
    }
   },
   "id": "9c0fa1b8b1d6779b",
   "execution_count": 13
  },
  {
   "cell_type": "code",
   "outputs": [],
   "source": [
    "# from sklearn.preprocessing import label_binarize"
   ],
   "metadata": {
    "collapsed": false,
    "ExecuteTime": {
     "end_time": "2024-03-14T13:59:51.517895Z",
     "start_time": "2024-03-14T13:59:51.353344900Z"
    }
   },
   "id": "25e57dc09f1410cd",
   "execution_count": 14
  },
  {
   "cell_type": "code",
   "outputs": [
    {
     "name": "stdout",
     "output_type": "stream",
     "text": [
      "tensor([6., 6., 6.,  ..., 6., 7., 6.])\n"
     ]
    }
   ],
   "source": [
    "print(y_train)"
   ],
   "metadata": {
    "collapsed": false,
    "ExecuteTime": {
     "end_time": "2024-03-14T13:59:51.521212200Z",
     "start_time": "2024-03-14T13:59:51.370086100Z"
    }
   },
   "id": "7c7958dcffae0f16",
   "execution_count": 15
  },
  {
   "cell_type": "code",
   "outputs": [],
   "source": [
    "# y_train 분류해서 0,1로 만들기( 원핫 인코딩처럼 해보기)\n",
    "for i in range(len(y_train)):\n",
    "   if y_train[i] > 5:\n",
    "      y_train[i] = 1\n",
    "   else:\n",
    "      y_train[i] = 0"
   ],
   "metadata": {
    "collapsed": false,
    "ExecuteTime": {
     "end_time": "2024-03-14T13:59:51.727863200Z",
     "start_time": "2024-03-14T13:59:51.385276700Z"
    }
   },
   "id": "8c397b9cc7810830",
   "execution_count": 16
  },
  {
   "cell_type": "code",
   "outputs": [
    {
     "name": "stdout",
     "output_type": "stream",
     "text": [
      "tensor([1., 1., 1.,  ..., 1., 1., 1.])\n"
     ]
    }
   ],
   "source": [
    "print(y_train)"
   ],
   "metadata": {
    "collapsed": false,
    "ExecuteTime": {
     "end_time": "2024-03-14T13:59:51.756306500Z",
     "start_time": "2024-03-14T13:59:51.592299300Z"
    }
   },
   "id": "a1f5d617ba822d83",
   "execution_count": 17
  },
  {
   "cell_type": "code",
   "outputs": [
    {
     "name": "stdout",
     "output_type": "stream",
     "text": [
      "tensor(3258.)\n"
     ]
    }
   ],
   "source": [
    "# 분류로 인해 개수가 줄었는지 확인 하기 위해서 print(sum(y_train))사용\n",
    "print(sum(y_train))"
   ],
   "metadata": {
    "collapsed": false,
    "ExecuteTime": {
     "end_time": "2024-03-14T13:59:51.762648400Z",
     "start_time": "2024-03-14T13:59:51.614249600Z"
    }
   },
   "id": "bf0b7e187eccf180",
   "execution_count": 18
  },
  {
   "cell_type": "markdown",
   "source": [
    "타겟의 고유값 찾아 분류하기 위해 unique() 사용"
   ],
   "metadata": {
    "collapsed": false
   },
   "id": "1aecc236bc05371d"
  },
  {
   "cell_type": "code",
   "outputs": [
    {
     "data": {
      "text/plain": "array([6, 5, 7, 8, 4, 3, 9], dtype=int64)"
     },
     "execution_count": 19,
     "metadata": {},
     "output_type": "execute_result"
    }
   ],
   "source": [
    "WINE['quality'].unique()"
   ],
   "metadata": {
    "collapsed": false,
    "ExecuteTime": {
     "end_time": "2024-03-14T13:59:51.804903300Z",
     "start_time": "2024-03-14T13:59:51.690141500Z"
    }
   },
   "id": "1670ef3750c6e3d7",
   "execution_count": 19
  },
  {
   "cell_type": "code",
   "outputs": [
    {
     "data": {
      "text/plain": "tensor([[1.],\n        [1.],\n        [1.],\n        ...,\n        [1.],\n        [1.],\n        [1.]])"
     },
     "execution_count": 20,
     "metadata": {},
     "output_type": "execute_result"
    }
   ],
   "source": [
    "#y_train의 차원을 맞춰주기 위해(뜬 오류를 제거하기 위해) 차원추가\n",
    "y_train.unsqueeze_(dim=1)"
   ],
   "metadata": {
    "collapsed": false,
    "ExecuteTime": {
     "end_time": "2024-03-14T13:59:51.946496900Z",
     "start_time": "2024-03-14T13:59:51.715268500Z"
    }
   },
   "id": "d4416462d03a7166",
   "execution_count": 20
  },
  {
   "cell_type": "markdown",
   "source": [
    "[4] [ 다중 선형 회귀 ]"
   ],
   "metadata": {
    "collapsed": false
   },
   "id": "2cd43152cf5f574e"
  },
  {
   "cell_type": "code",
   "outputs": [],
   "source": [
    "# 훈련데이터 -----------------------------------\n",
    "x_train_mul  =  torch.FloatTensor(x_data)\n",
    "y_train_mul  =  torch.FloatTensor(y_data)"
   ],
   "metadata": {
    "collapsed": false,
    "ExecuteTime": {
     "end_time": "2024-03-14T13:59:51.976943Z",
     "start_time": "2024-03-14T13:59:51.746787800Z"
    }
   },
   "id": "e255ad232f87def9",
   "execution_count": 21
  },
  {
   "cell_type": "code",
   "outputs": [
    {
     "name": "stdout",
     "output_type": "stream",
     "text": [
      "x_train_mul :  torch.Size([4898, 11]), 2차원\n",
      "y_train_mul :  torch.Size([4898]), 1차원\n"
     ]
    }
   ],
   "source": [
    "print(f'x_train_mul :  {x_train_mul.shape}, {x_train_mul.ndim}차원')\n",
    "print(f'y_train_mul :  {y_train_mul.shape}, {y_train_mul.ndim}차원')"
   ],
   "metadata": {
    "collapsed": false,
    "ExecuteTime": {
     "end_time": "2024-03-14T13:59:52.034814300Z",
     "start_time": "2024-03-14T13:59:51.763646Z"
    }
   },
   "id": "352311bbaddab4f7",
   "execution_count": 22
  },
  {
   "cell_type": "code",
   "outputs": [],
   "source": [
    "# 모델 초기화 ---------------------------------------------\n",
    "# 가중치와 편향 선언\n",
    "W_mul = torch.zeros((11, 1), requires_grad=True)\n",
    "b_mul = torch.zeros(1, requires_grad=True)"
   ],
   "metadata": {
    "collapsed": false,
    "ExecuteTime": {
     "end_time": "2024-03-14T13:59:52.038046400Z",
     "start_time": "2024-03-14T13:59:51.780588500Z"
    }
   },
   "id": "361bebb915b121fb",
   "execution_count": 23
  },
  {
   "cell_type": "code",
   "outputs": [
    {
     "name": "stdout",
     "output_type": "stream",
     "text": [
      "W ==> \n",
      "tensor([[0.],\n",
      "        [0.],\n",
      "        [0.],\n",
      "        [0.],\n",
      "        [0.],\n",
      "        [0.],\n",
      "        [0.],\n",
      "        [0.],\n",
      "        [0.],\n",
      "        [0.],\n",
      "        [0.]], requires_grad=True)\n",
      "\n",
      "b ==> tensor([0.], requires_grad=True)\n"
     ]
    }
   ],
   "source": [
    "print(f'W ==> \\n{W_mul}\\n\\nb ==> {b_mul}')"
   ],
   "metadata": {
    "collapsed": false,
    "ExecuteTime": {
     "end_time": "2024-03-14T13:59:52.042309500Z",
     "start_time": "2024-03-14T13:59:51.793213800Z"
    }
   },
   "id": "f23865ebe3c99a57",
   "execution_count": 24
  },
  {
   "cell_type": "code",
   "outputs": [],
   "source": [
    "# optimizer 설정\n",
    "optimizer_mul = optim.SGD([W_mul,b_mul], lr=1e-5)"
   ],
   "metadata": {
    "collapsed": false,
    "ExecuteTime": {
     "end_time": "2024-03-14T13:59:53.701601100Z",
     "start_time": "2024-03-14T13:59:51.810112500Z"
    }
   },
   "id": "942159ae3be3a279",
   "execution_count": 25
  },
  {
   "cell_type": "code",
   "outputs": [
    {
     "name": "stdout",
     "output_type": "stream",
     "text": [
      "Epoch    0/20 hypothesis: tensor([0., 0., 0.,  ..., 0., 0., 0.]) Cost: 0.665169\n",
      "Epoch    1/20 hypothesis: tensor([0.3378, 0.2518, 0.1955,  ..., 0.2206, 0.2144, 0.1932]) Cost: 0.382649\n",
      "Epoch    2/20 hypothesis: tensor([0.5235, 0.3902, 0.3031,  ..., 0.3418, 0.3323, 0.2994]) Cost: 0.297255\n",
      "Epoch    3/20 hypothesis: tensor([0.6256, 0.4663, 0.3622,  ..., 0.4085, 0.3972, 0.3578]) Cost: 0.271431\n",
      "Epoch    4/20 hypothesis: tensor([0.6817, 0.5082, 0.3947,  ..., 0.4452, 0.4329, 0.3900]) Cost: 0.263609\n",
      "Epoch    5/20 hypothesis: tensor([0.7125, 0.5312, 0.4127,  ..., 0.4654, 0.4526, 0.4077]) Cost: 0.261226\n",
      "Epoch    6/20 hypothesis: tensor([0.7294, 0.5439, 0.4225,  ..., 0.4765, 0.4635, 0.4175]) Cost: 0.260487\n",
      "Epoch    7/20 hypothesis: tensor([0.7386, 0.5509, 0.4280,  ..., 0.4826, 0.4695, 0.4229]) Cost: 0.260244\n",
      "Epoch    8/20 hypothesis: tensor([0.7437, 0.5548, 0.4310,  ..., 0.4860, 0.4728, 0.4259]) Cost: 0.260152\n",
      "Epoch    9/20 hypothesis: tensor([0.7465, 0.5570, 0.4327,  ..., 0.4879, 0.4747, 0.4277]) Cost: 0.260105\n",
      "Epoch   10/20 hypothesis: tensor([0.7479, 0.5582, 0.4337,  ..., 0.4889, 0.4758, 0.4286]) Cost: 0.260072\n",
      "Epoch   11/20 hypothesis: tensor([0.7487, 0.5589, 0.4343,  ..., 0.4895, 0.4765, 0.4292]) Cost: 0.260043\n",
      "Epoch   12/20 hypothesis: tensor([0.7492, 0.5593, 0.4346,  ..., 0.4898, 0.4769, 0.4296]) Cost: 0.260016\n",
      "Epoch   13/20 hypothesis: tensor([0.7494, 0.5595, 0.4348,  ..., 0.4900, 0.4771, 0.4298]) Cost: 0.259989\n",
      "Epoch   14/20 hypothesis: tensor([0.7494, 0.5597, 0.4350,  ..., 0.4902, 0.4773, 0.4300]) Cost: 0.259961\n",
      "Epoch   15/20 hypothesis: tensor([0.7495, 0.5598, 0.4351,  ..., 0.4903, 0.4775, 0.4301]) Cost: 0.259934\n",
      "Epoch   16/20 hypothesis: tensor([0.7494, 0.5599, 0.4352,  ..., 0.4903, 0.4776, 0.4303]) Cost: 0.259907\n",
      "Epoch   17/20 hypothesis: tensor([0.7494, 0.5600, 0.4352,  ..., 0.4904, 0.4777, 0.4304]) Cost: 0.259881\n",
      "Epoch   18/20 hypothesis: tensor([0.7494, 0.5601, 0.4353,  ..., 0.4904, 0.4778, 0.4305]) Cost: 0.259854\n",
      "Epoch   19/20 hypothesis: tensor([0.7493, 0.5601, 0.4354,  ..., 0.4905, 0.4779, 0.4306]) Cost: 0.259827\n",
      "Epoch   20/20 hypothesis: tensor([0.7493, 0.5602, 0.4355,  ..., 0.4905, 0.4780, 0.4307]) Cost: 0.259800\n"
     ]
    }
   ],
   "source": [
    "# 학습 진행 -------------------------------------------------\n",
    "nb_epochs = 20\n",
    "for epoch in range(nb_epochs + 1):\n",
    "\n",
    "    # H(x) 계산\n",
    "    # 편향 b는 브로드 캐스팅되어 각 샘플에 더해집니다.\n",
    "    hypothesis_mul = x_train_mul.matmul(W_mul) + b_mul\n",
    "\n",
    "    # cost 계산\n",
    "    cost = torch.mean((hypothesis_mul - y_train_mul) ** 2)\n",
    "\n",
    "    # cost로 H(x) 개선\n",
    "    optimizer_mul.zero_grad()\n",
    "    cost.backward()\n",
    "    optimizer_mul.step()\n",
    "\n",
    "    print(f'Epoch {epoch:4d}/{nb_epochs} hypothesis: { hypothesis_mul.squeeze().detach()} Cost: {cost.item():.6f}')"
   ],
   "metadata": {
    "collapsed": false,
    "ExecuteTime": {
     "end_time": "2024-03-14T13:59:57.849834600Z",
     "start_time": "2024-03-14T13:59:53.708898500Z"
    }
   },
   "id": "3f82540761a1da08",
   "execution_count": 26
  },
  {
   "cell_type": "code",
   "outputs": [
    {
     "name": "stdout",
     "output_type": "stream",
     "text": [
      "pre_y => 0.7492175102233887 : 1.0\n"
     ]
    }
   ],
   "source": [
    "# 예측 ------------------------------------------------------\n",
    "# \n",
    "pre_y=x_train_mul[0].matmul(W_mul)+b_mul  # y_train_mul(실제값) 행렬곱 W_mul+ b_mul\n",
    "\n",
    "print(f'pre_y => {pre_y.item()} : {y_train_mul[0].item()}')"
   ],
   "metadata": {
    "collapsed": false,
    "ExecuteTime": {
     "end_time": "2024-03-14T13:59:57.854234100Z",
     "start_time": "2024-03-14T13:59:57.805483200Z"
    }
   },
   "id": "d9c3e18d2b0a58f4",
   "execution_count": 27
  },
  {
   "cell_type": "code",
   "outputs": [
    {
     "data": {
      "text/plain": "tensor([0.7492], grad_fn=<AddBackward0>)"
     },
     "execution_count": 28,
     "metadata": {},
     "output_type": "execute_result"
    }
   ],
   "source": [
    "x_train_mul[0].matmul(W_mul)+b_mul"
   ],
   "metadata": {
    "collapsed": false,
    "ExecuteTime": {
     "end_time": "2024-03-14T13:59:58.051894200Z",
     "start_time": "2024-03-14T13:59:57.834687300Z"
    }
   },
   "id": "3066986b54c3460f",
   "execution_count": 28
  },
  {
   "cell_type": "code",
   "outputs": [],
   "source": [],
   "metadata": {
    "collapsed": false,
    "ExecuteTime": {
     "end_time": "2024-03-14T13:59:58.098008Z",
     "start_time": "2024-03-14T13:59:57.863804Z"
    }
   },
   "id": "20334addb533a76a",
   "execution_count": 28
  }
 ],
 "metadata": {
  "kernelspec": {
   "display_name": "Python 3",
   "language": "python",
   "name": "python3"
  },
  "language_info": {
   "codemirror_mode": {
    "name": "ipython",
    "version": 2
   },
   "file_extension": ".py",
   "mimetype": "text/x-python",
   "name": "python",
   "nbconvert_exporter": "python",
   "pygments_lexer": "ipython2",
   "version": "2.7.6"
  }
 },
 "nbformat": 4,
 "nbformat_minor": 5
}
