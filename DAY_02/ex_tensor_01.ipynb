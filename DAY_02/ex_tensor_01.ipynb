{
 "cells": [
  {
   "cell_type": "markdown",
   "source": [
    "### 텐서(Tensor) 살펴보기\n",
    "-Pytorch에서 데이터 저장 자료형\n",
    "- 모델 입력(input),출력(outpu)데이터 형태"
   ],
   "metadata": {
    "collapsed": false
   },
   "id": "ca209c2369096bf4"
  },
  {
   "cell_type": "markdown",
   "source": [
    "- 모듈로딩"
   ],
   "metadata": {
    "collapsed": false
   },
   "id": "dc90df0d8330cdb7"
  },
  {
   "cell_type": "code",
   "outputs": [],
   "source": [
    "import torch"
   ],
   "metadata": {
    "collapsed": false,
    "ExecuteTime": {
     "end_time": "2024-03-12T00:41:03.728499500Z",
     "start_time": "2024-03-12T00:41:02.054694800Z"
    }
   },
   "id": "4483c526dfad3247",
   "execution_count": 1
  },
  {
   "cell_type": "markdown",
   "source": [
    "-텐서 속성 관련 함수"
   ],
   "metadata": {
    "collapsed": false
   },
   "id": "c9336548148dc0de"
  },
  {
   "cell_type": "code",
   "outputs": [],
   "source": [
    "#매개변수: 텐서 인스턴스,텐서 변수명 \n",
    "def print_attribute(tensor,name):\n",
    "    print(f'[Tensor {name}\\'s Attributes:]')\n",
    "    print(f'-tensor.shape:{tensor.shape}')\n",
    "    print(f'-tensor.ndim:{tensor.ndim}D')\n",
    "    print(f'-tensor.dtype:{tensor.dtype}')\n",
    "    print(f'-tensor.device:{tensor.device}')\n",
    "    print(f'-tensor.requires_grad:{tensor.requires_grad}')\n",
    "    print(f'-tensor.data\\n{tensor.data}')"
   ],
   "metadata": {
    "collapsed": false,
    "ExecuteTime": {
     "end_time": "2024-03-12T00:56:05.197651500Z",
     "start_time": "2024-03-12T00:56:05.190235600Z"
    }
   },
   "id": "981291c8e5b996f3",
   "execution_count": 18
  },
  {
   "cell_type": "markdown",
   "source": [
    "## Tensor 생성 (1) 특정 데이터 타입의 텐서 생성\n",
    "    * 타입별 텐서 클래스 생성자 활용\n",
    "    * 예)IntTensor(),FloatTensor(),BoolTensor()"
   ],
   "metadata": {
    "collapsed": false
   },
   "id": "8246b70f136d7b5d"
  },
  {
   "cell_type": "code",
   "outputs": [
    {
     "name": "stderr",
     "output_type": "stream",
     "text": [
      "C:\\Users\\kdp\\AppData\\Local\\Temp\\ipykernel_4068\\2698144426.py:3: DeprecationWarning: an integer is required (got type float).  Implicit conversion to integers using __int__ is deprecated, and may be removed in a future version of Python.\n",
      "  t2=torch.IntTensor([10.,20.])#= > 1차원이 된다.\n"
     ]
    }
   ],
   "source": [
    "#정수 타입 텐서 생성\n",
    "t1=torch.IntTensor(10) #=> 얘는 스칼라가 된다.\n",
    "t2=torch.IntTensor([10.,20.])#= > 1차원(벡터)이 된다.정수를 넣어야 하는 부분에 실수를 넣으면 warning이 뜬다.데이터 손실이 있을 수 있기 때문이다.\n",
    "t3=torch.BoolTensor([1,1,0,-1])\n",
    "t4=torch.FloatTensor([10,20])\n"
   ],
   "metadata": {
    "collapsed": false,
    "ExecuteTime": {
     "end_time": "2024-03-12T00:59:51.267178800Z",
     "start_time": "2024-03-12T00:59:51.257667Z"
    }
   },
   "id": "1c199cf669c4ea39",
   "execution_count": 40
  },
  {
   "cell_type": "code",
   "outputs": [
    {
     "name": "stdout",
     "output_type": "stream",
     "text": [
      "[Tensor t1's Attributes:]\n",
      "-tensor.shape:torch.Size([10])\n",
      "-tensor.ndim:1D\n",
      "-tensor.dtype:torch.int32\n",
      "-tensor.device:cpu\n",
      "-tensor.requires_grad:False\n",
      "-tensor.data\n",
      "tensor([176166384,      1053,         0,         0,         0,         0,\n",
      "                0,         0,         0,         0], dtype=torch.int32)\n"
     ]
    }
   ],
   "source": [
    "print_attribute(t1,'t1')"
   ],
   "metadata": {
    "collapsed": false,
    "ExecuteTime": {
     "end_time": "2024-03-12T00:59:00.941824800Z",
     "start_time": "2024-03-12T00:59:00.927184400Z"
    }
   },
   "id": "b7370114161fd9cd",
   "execution_count": 35
  },
  {
   "cell_type": "code",
   "outputs": [
    {
     "name": "stdout",
     "output_type": "stream",
     "text": [
      "[Tensor t2's Attributes:]\n",
      "-tensor.shape:torch.Size([2])\n",
      "-tensor.ndim:1D\n",
      "-tensor.dtype:torch.int32\n",
      "-tensor.device:cpu\n",
      "-tensor.requires_grad:False\n",
      "-tensor.data\n",
      "tensor([10, 20], dtype=torch.int32)\n"
     ]
    }
   ],
   "source": [
    "print_attribute(t2,'t2')"
   ],
   "metadata": {
    "collapsed": false,
    "ExecuteTime": {
     "end_time": "2024-03-12T00:59:01.313870500Z",
     "start_time": "2024-03-12T00:59:01.295990800Z"
    }
   },
   "id": "e627f70e64db8b13",
   "execution_count": 36
  },
  {
   "cell_type": "code",
   "outputs": [
    {
     "name": "stdout",
     "output_type": "stream",
     "text": [
      "[Tensor t3's Attributes:]\n",
      "-tensor.shape:torch.Size([4])\n",
      "-tensor.ndim:1D\n",
      "-tensor.dtype:torch.bool\n",
      "-tensor.device:cpu\n",
      "-tensor.requires_grad:False\n",
      "-tensor.data\n",
      "tensor([ True,  True, False,  True])\n"
     ]
    }
   ],
   "source": [
    "print_attribute(t3,'t3')"
   ],
   "metadata": {
    "collapsed": false,
    "ExecuteTime": {
     "end_time": "2024-03-12T00:59:01.627842600Z",
     "start_time": "2024-03-12T00:59:01.611504900Z"
    }
   },
   "id": "103224d38e462d70",
   "execution_count": 37
  },
  {
   "cell_type": "code",
   "outputs": [
    {
     "name": "stdout",
     "output_type": "stream",
     "text": [
      "[Tensor t4's Attributes:]\n",
      "-tensor.shape:torch.Size([2])\n",
      "-tensor.ndim:1D\n",
      "-tensor.dtype:torch.float32\n",
      "-tensor.device:cpu\n",
      "-tensor.requires_grad:False\n",
      "-tensor.data\n",
      "tensor([10., 20.])\n"
     ]
    }
   ],
   "source": [
    "print_attribute(t4,'t4')"
   ],
   "metadata": {
    "collapsed": false,
    "ExecuteTime": {
     "end_time": "2024-03-12T00:59:11.005627400Z",
     "start_time": "2024-03-12T00:59:10.991243900Z"
    }
   },
   "id": "f3e6874f47eeaa50",
   "execution_count": 38
  },
  {
   "cell_type": "code",
   "outputs": [],
   "source": [
    "#특정 데이터 타입을 정해놓고 값을 채우는 방법을 배웠다..."
   ],
   "metadata": {
    "collapsed": false,
    "ExecuteTime": {
     "end_time": "2024-03-12T00:59:33.548827200Z",
     "start_time": "2024-03-12T00:59:33.531048300Z"
    }
   },
   "id": "afe96d6a127b4f24",
   "execution_count": 39
  },
  {
   "cell_type": "markdown",
   "source": [
    "## Tensor 생성 (2) 원하는 값으로 텐서 생성 => torch.tensor()\n"
   ],
   "metadata": {
    "collapsed": false
   },
   "id": "507e0c9901bfad81"
  },
  {
   "cell_type": "code",
   "outputs": [
    {
     "name": "stdout",
     "output_type": "stream",
     "text": [
      "[Tensor t1's Attributes:]\n",
      "-tensor.shape:torch.Size([])\n",
      "-tensor.ndim:0D\n",
      "-tensor.dtype:torch.int64\n",
      "-tensor.device:cpu\n",
      "-tensor.requires_grad:False\n",
      "-tensor.data\n",
      "10\n"
     ]
    }
   ],
   "source": [
    "t1=torch.tensor(10) #scalar 데이터,int\n",
    "print_attribute(t1,'t1')"
   ],
   "metadata": {
    "collapsed": false,
    "ExecuteTime": {
     "end_time": "2024-03-12T01:22:28.814467100Z",
     "start_time": "2024-03-12T01:22:28.806121100Z"
    }
   },
   "id": "9cd8230666263c7e",
   "execution_count": 41
  },
  {
   "cell_type": "code",
   "outputs": [
    {
     "name": "stdout",
     "output_type": "stream",
     "text": [
      "[Tensor t1's Attributes:]\n",
      "-tensor.shape:torch.Size([])\n",
      "-tensor.ndim:0D\n",
      "-tensor.dtype:torch.float32\n",
      "-tensor.device:cpu\n",
      "-tensor.requires_grad:False\n",
      "-tensor.data\n",
      "10.0\n"
     ]
    }
   ],
   "source": [
    "t1=torch.tensor(10.) #scalar 데이터,float32\n",
    "print_attribute(t1,'t1')"
   ],
   "metadata": {
    "collapsed": false,
    "ExecuteTime": {
     "end_time": "2024-03-12T01:22:54.496781Z",
     "start_time": "2024-03-12T01:22:54.470727900Z"
    }
   },
   "id": "edbb7931fc9e366a",
   "execution_count": 42
  },
  {
   "cell_type": "code",
   "outputs": [
    {
     "name": "stdout",
     "output_type": "stream",
     "text": [
      "[Tensor t1's Attributes:]\n",
      "-tensor.shape:torch.Size([])\n",
      "-tensor.ndim:0D\n",
      "-tensor.dtype:torch.int32\n",
      "-tensor.device:cpu\n",
      "-tensor.requires_grad:False\n",
      "-tensor.data\n",
      "10\n"
     ]
    },
    {
     "name": "stderr",
     "output_type": "stream",
     "text": [
      "C:\\Users\\kdp\\AppData\\Local\\Temp\\ipykernel_4068\\4226502719.py:1: DeprecationWarning: an integer is required (got type float).  Implicit conversion to integers using __int__ is deprecated, and may be removed in a future version of Python.\n",
      "  t1=torch.tensor(10.,dtype=torch.int32) #scalar 데이터,float32를 넣었으나 dtype=torch.타입으로 원하는 타입으로 형태를 바꿀수 있다. 다만 warning이 생긴다.\n"
     ]
    }
   ],
   "source": [
    "t1=torch.tensor(10.,dtype=torch.int32) #scalar 데이터,float32를 넣었으나 dtype=torch.타입으로 원하는 타입으로 형태를 바꿀수 있다. 다만 warning이 생긴다.\n",
    "print_attribute(t1,'t1')"
   ],
   "metadata": {
    "collapsed": false,
    "ExecuteTime": {
     "end_time": "2024-03-12T01:24:32.856268800Z",
     "start_time": "2024-03-12T01:24:32.839286400Z"
    }
   },
   "id": "d9bbeef674852819",
   "execution_count": 44
  },
  {
   "cell_type": "code",
   "outputs": [
    {
     "name": "stdout",
     "output_type": "stream",
     "text": [
      "[Tensor t1's Attributes:]\n",
      "-tensor.shape:torch.Size([])\n",
      "-tensor.ndim:0D\n",
      "-tensor.dtype:torch.bool\n",
      "-tensor.device:cpu\n",
      "-tensor.requires_grad:False\n",
      "-tensor.data\n",
      "True\n"
     ]
    }
   ],
   "source": [
    "#dtype 매개변수: 원하는 데이터 타입 지정 가능\n",
    "t1=torch.tensor(10.,dtype=torch.bool) #\n",
    "print_attribute(t1,'t1')"
   ],
   "metadata": {
    "collapsed": false,
    "ExecuteTime": {
     "end_time": "2024-03-12T01:25:31.017846500Z",
     "start_time": "2024-03-12T01:25:31.005946300Z"
    }
   },
   "id": "229fea0afd93b1",
   "execution_count": 46
  },
  {
   "cell_type": "code",
   "outputs": [
    {
     "name": "stdout",
     "output_type": "stream",
     "text": [
      "[Tensor t1's Attributes:]\n",
      "-tensor.shape:torch.Size([3])\n",
      "-tensor.ndim:1D\n",
      "-tensor.dtype:torch.int8\n",
      "-tensor.device:cpu\n",
      "-tensor.requires_grad:False\n",
      "-tensor.data\n",
      "tensor([1, 2, 3], dtype=torch.int8)\n"
     ]
    }
   ],
   "source": [
    "t1=torch.tensor([1,2,3],dtype=torch.int8) #1D데이터\n",
    "print_attribute(t1,'t1')"
   ],
   "metadata": {
    "collapsed": false,
    "ExecuteTime": {
     "end_time": "2024-03-12T01:26:54.428998800Z",
     "start_time": "2024-03-12T01:26:54.402793100Z"
    }
   },
   "id": "6644012c9518954b",
   "execution_count": 47
  },
  {
   "cell_type": "code",
   "outputs": [
    {
     "name": "stdout",
     "output_type": "stream",
     "text": [
      "[Tensor t1's Attributes:]\n",
      "-tensor.shape:torch.Size([1, 3])\n",
      "-tensor.ndim:2D\n",
      "-tensor.dtype:torch.int8\n",
      "-tensor.device:cpu\n",
      "-tensor.requires_grad:False\n",
      "-tensor.data\n",
      "tensor([[1, 2, 3]], dtype=torch.int8)\n"
     ]
    }
   ],
   "source": [
    "t1=torch.tensor([[1,2,3]],dtype=torch.int8) #2D데이터\n",
    "print_attribute(t1,'t1')"
   ],
   "metadata": {
    "collapsed": false,
    "ExecuteTime": {
     "end_time": "2024-03-12T01:27:18.848122600Z",
     "start_time": "2024-03-12T01:27:18.839637900Z"
    }
   },
   "id": "fc29d49a9d0246ac",
   "execution_count": 48
  },
  {
   "cell_type": "code",
   "outputs": [
    {
     "name": "stdout",
     "output_type": "stream",
     "text": [
      "[Tensor t1's Attributes:]\n",
      "-tensor.shape:torch.Size([1, 1, 3])\n",
      "-tensor.ndim:3D\n",
      "-tensor.dtype:torch.int8\n",
      "-tensor.device:cpu\n",
      "-tensor.requires_grad:False\n",
      "-tensor.data\n",
      "tensor([[[1, 2, 3]]], dtype=torch.int8)\n"
     ]
    }
   ],
   "source": [
    "t1=torch.tensor([[[1,2,3]]],dtype=torch.int8) #3D데이터\n",
    "print_attribute(t1,'t1')"
   ],
   "metadata": {
    "collapsed": false,
    "ExecuteTime": {
     "end_time": "2024-03-12T01:27:42.670439200Z",
     "start_time": "2024-03-12T01:27:42.642264Z"
    }
   },
   "id": "5ef728e19f112126",
   "execution_count": 49
  },
  {
   "cell_type": "markdown",
   "source": [
    "## Tensor 생성 (3) 특정 값으로 텐서 생성 => torch.zeros(),torch.ones,torch.oneslike,torch.zeros_like,full_like(원하는 수)"
   ],
   "metadata": {
    "collapsed": false
   },
   "id": "fa30c7d82d02efa"
  },
  {
   "cell_type": "code",
   "outputs": [],
   "source": [
    "#0으로 채운 텐서"
   ],
   "metadata": {
    "collapsed": false,
    "ExecuteTime": {
     "end_time": "2024-03-12T01:39:55.661118800Z",
     "start_time": "2024-03-12T01:39:55.647342200Z"
    }
   },
   "id": "91ee8b8db2924f31",
   "execution_count": 71
  },
  {
   "cell_type": "code",
   "outputs": [
    {
     "name": "stdout",
     "output_type": "stream",
     "text": [
      "[Tensor t1's Attributes:]\n",
      "-tensor.shape:torch.Size([5])\n",
      "-tensor.ndim:1D\n",
      "-tensor.dtype:torch.float32\n",
      "-tensor.device:cpu\n",
      "-tensor.requires_grad:False\n",
      "-tensor.data\n",
      "tensor([0., 0., 0., 0., 0.])\n"
     ]
    }
   ],
   "source": [
    "t1=torch.zeros(5)\n",
    "print_attribute(t1,'t1')"
   ],
   "metadata": {
    "collapsed": false,
    "ExecuteTime": {
     "end_time": "2024-03-12T01:39:56.060995Z",
     "start_time": "2024-03-12T01:39:56.040101300Z"
    }
   },
   "id": "63fac8d18472a22",
   "execution_count": 72
  },
  {
   "cell_type": "code",
   "outputs": [
    {
     "name": "stdout",
     "output_type": "stream",
     "text": [
      "[Tensor t1's Attributes:]\n",
      "-tensor.shape:torch.Size([5, 5])\n",
      "-tensor.ndim:2D\n",
      "-tensor.dtype:torch.int8\n",
      "-tensor.device:cpu\n",
      "-tensor.requires_grad:False\n",
      "-tensor.data\n",
      "tensor([[0, 0, 0, 0, 0],\n",
      "        [0, 0, 0, 0, 0],\n",
      "        [0, 0, 0, 0, 0],\n",
      "        [0, 0, 0, 0, 0],\n",
      "        [0, 0, 0, 0, 0]], dtype=torch.int8)\n"
     ]
    }
   ],
   "source": [
    "t1=torch.zeros((5,5),dtype=torch.int8) #5행 5열\n",
    "print_attribute(t1,'t1')"
   ],
   "metadata": {
    "collapsed": false,
    "ExecuteTime": {
     "end_time": "2024-03-12T01:39:56.430378600Z",
     "start_time": "2024-03-12T01:39:56.423978800Z"
    }
   },
   "id": "b8195f6560a99795",
   "execution_count": 73
  },
  {
   "cell_type": "code",
   "outputs": [
    {
     "name": "stdout",
     "output_type": "stream",
     "text": [
      "[Tensor t1's Attributes:]\n",
      "-tensor.shape:torch.Size([2, 4])\n",
      "-tensor.ndim:2D\n",
      "-tensor.dtype:torch.float32\n",
      "-tensor.device:cpu\n",
      "-tensor.requires_grad:False\n",
      "-tensor.data\n",
      "tensor([[1., 1., 1., 1.],\n",
      "        [1., 1., 1., 1.]])\n"
     ]
    }
   ],
   "source": [
    "#1로 채우기\n",
    "t1=torch.ones((2,4))  #2행 4열\n",
    "print_attribute(t1,'t1')   "
   ],
   "metadata": {
    "collapsed": false,
    "ExecuteTime": {
     "end_time": "2024-03-12T01:39:56.835500Z",
     "start_time": "2024-03-12T01:39:56.827066800Z"
    }
   },
   "id": "a82cc055d846b0ae",
   "execution_count": 74
  },
  {
   "cell_type": "code",
   "outputs": [],
   "source": [
    "#이미지 데이터를 가지고 왔는데 높이가 300이고 너비가 150인 경우, 전부 같지만 1로만 채우고 싶다면, ones_like나 zeros_like를 사용한다."
   ],
   "metadata": {
    "collapsed": false,
    "ExecuteTime": {
     "end_time": "2024-03-12T01:39:57.191118500Z",
     "start_time": "2024-03-12T01:39:57.182749700Z"
    }
   },
   "id": "7e28046327ec8a42",
   "execution_count": 75
  },
  {
   "cell_type": "code",
   "outputs": [],
   "source": [
    "#이미 존재하는 텐서와 동일한 shape으로 잡고 값 채우기 => zeros_like,ones_like"
   ],
   "metadata": {
    "collapsed": false,
    "ExecuteTime": {
     "end_time": "2024-03-12T01:39:57.738213800Z",
     "start_time": "2024-03-12T01:39:57.729832500Z"
    }
   },
   "id": "8ae16c6de8a210f6",
   "execution_count": 76
  },
  {
   "cell_type": "code",
   "outputs": [
    {
     "name": "stdout",
     "output_type": "stream",
     "text": [
      "torch.Size([2, 6])\n"
     ]
    }
   ],
   "source": [
    "img=torch.tensor([[2,3,4,5,6,7],[2,3,4,5,6,7]])\n",
    "print(img.shape)"
   ],
   "metadata": {
    "collapsed": false,
    "ExecuteTime": {
     "end_time": "2024-03-12T01:39:58.119657Z",
     "start_time": "2024-03-12T01:39:58.094814600Z"
    }
   },
   "id": "dc3776cd132b6fad",
   "execution_count": 77
  },
  {
   "cell_type": "code",
   "outputs": [
    {
     "name": "stdout",
     "output_type": "stream",
     "text": [
      "tensor([[0, 0, 0, 0, 0, 0],\n",
      "        [0, 0, 0, 0, 0, 0]])\n"
     ]
    }
   ],
   "source": [
    "zero_img=torch.zeros_like(img)\n",
    "print(zero_img)"
   ],
   "metadata": {
    "collapsed": false,
    "ExecuteTime": {
     "end_time": "2024-03-12T01:39:58.458692200Z",
     "start_time": "2024-03-12T01:39:58.449217300Z"
    }
   },
   "id": "1c7b1991034a64f9",
   "execution_count": 78
  },
  {
   "cell_type": "code",
   "outputs": [
    {
     "name": "stdout",
     "output_type": "stream",
     "text": [
      "tensor([[1, 1, 1, 1, 1, 1],\n",
      "        [1, 1, 1, 1, 1, 1]])\n"
     ]
    }
   ],
   "source": [
    "zero_img=torch.ones_like(img)\n",
    "print(zero_img)"
   ],
   "metadata": {
    "collapsed": false,
    "ExecuteTime": {
     "end_time": "2024-03-12T01:39:58.849374800Z",
     "start_time": "2024-03-12T01:39:58.832620500Z"
    }
   },
   "id": "bfbdcdbb0b9a93bd",
   "execution_count": 79
  },
  {
   "cell_type": "code",
   "outputs": [
    {
     "name": "stdout",
     "output_type": "stream",
     "text": [
      "tensor([[7, 7, 7, 7, 7, 7],\n",
      "        [7, 7, 7, 7, 7, 7]])\n"
     ]
    }
   ],
   "source": [
    "full_img=torch.full_like(img,7)  #7로 채우기\n",
    "print(full_img)"
   ],
   "metadata": {
    "collapsed": false,
    "ExecuteTime": {
     "end_time": "2024-03-12T01:39:59.206078300Z",
     "start_time": "2024-03-12T01:39:59.192529700Z"
    }
   },
   "id": "a36975873927137b",
   "execution_count": 80
  },
  {
   "cell_type": "code",
   "outputs": [
    {
     "name": "stdout",
     "output_type": "stream",
     "text": [
      "tensor([[1., 0., 0., 0., 0.],\n",
      "        [0., 1., 0., 0., 0.],\n",
      "        [0., 0., 1., 0., 0.],\n",
      "        [0., 0., 0., 1., 0.],\n",
      "        [0., 0., 0., 0., 1.]])\n"
     ]
    }
   ],
   "source": [
    "# 대각선 방향으로 1채우기\n",
    "t1=torch.eye(5)\n",
    "print(t1)"
   ],
   "metadata": {
    "collapsed": false,
    "ExecuteTime": {
     "end_time": "2024-03-12T01:39:59.589108800Z",
     "start_time": "2024-03-12T01:39:59.566081800Z"
    }
   },
   "id": "185007b5b968236d",
   "execution_count": 81
  },
  {
   "cell_type": "code",
   "outputs": [
    {
     "name": "stdout",
     "output_type": "stream",
     "text": [
      "tensor([[1., 0., 0.],\n",
      "        [0., 1., 0.],\n",
      "        [0., 0., 1.]])\n"
     ]
    }
   ],
   "source": [
    "t1=torch.eye(3)\n",
    "print(t1)"
   ],
   "metadata": {
    "collapsed": false,
    "ExecuteTime": {
     "end_time": "2024-03-12T01:39:59.944491500Z",
     "start_time": "2024-03-12T01:39:59.930975700Z"
    }
   },
   "id": "69b65835475e082b",
   "execution_count": 82
  },
  {
   "cell_type": "markdown",
   "source": [
    "## Tensor 생성 (4) 특정 값으로 텐서 생성 => torch.rand(),torch.randn(),torch.randint()"
   ],
   "metadata": {
    "collapsed": false
   },
   "id": "8e77597922a21164"
  },
  {
   "cell_type": "code",
   "outputs": [],
   "source": [
    "torch.manual_seed(12)     #랜덤 초기값 설정\n",
    "t5=torch.rand(2,3)\n",
    "t6=torch.randn(2,3)  #standard normal분포 (정규분포) 에서 랜덤 생성\n",
    "t7=torch.randint(low=1,high=10,size=(2,3)) #[low,high) low <=값<high"
   ],
   "metadata": {
    "collapsed": false,
    "ExecuteTime": {
     "end_time": "2024-03-12T01:44:47.521466800Z",
     "start_time": "2024-03-12T01:44:47.507659300Z"
    }
   },
   "id": "9f1339e61cad9437",
   "execution_count": 88
  },
  {
   "cell_type": "code",
   "outputs": [
    {
     "data": {
      "text/plain": "tensor([[0.4657, 0.2328, 0.4527],\n        [0.5871, 0.4086, 0.1272]])"
     },
     "execution_count": 89,
     "metadata": {},
     "output_type": "execute_result"
    }
   ],
   "source": [
    "t5"
   ],
   "metadata": {
    "collapsed": false,
    "ExecuteTime": {
     "end_time": "2024-03-12T01:44:47.941461800Z",
     "start_time": "2024-03-12T01:44:47.908805Z"
    }
   },
   "id": "be55bfc9e8ae35c2",
   "execution_count": 89
  },
  {
   "cell_type": "code",
   "outputs": [
    {
     "data": {
      "text/plain": "tensor([[ 1.5869,  1.1268, -1.2274],\n        [-0.8216, -1.7861,  0.6167]])"
     },
     "execution_count": 90,
     "metadata": {},
     "output_type": "execute_result"
    }
   ],
   "source": [
    "t6\n"
   ],
   "metadata": {
    "collapsed": false,
    "ExecuteTime": {
     "end_time": "2024-03-12T01:44:48.253433200Z",
     "start_time": "2024-03-12T01:44:48.245081700Z"
    }
   },
   "id": "8eb7135c9c3e5d4f",
   "execution_count": 90
  },
  {
   "cell_type": "code",
   "outputs": [
    {
     "data": {
      "text/plain": "tensor([[8, 4, 6],\n        [2, 2, 2]])"
     },
     "execution_count": 91,
     "metadata": {},
     "output_type": "execute_result"
    }
   ],
   "source": [
    "t7"
   ],
   "metadata": {
    "collapsed": false,
    "ExecuteTime": {
     "end_time": "2024-03-12T01:44:48.675936600Z",
     "start_time": "2024-03-12T01:44:48.645014100Z"
    }
   },
   "id": "dd9da8879d1ed747",
   "execution_count": 91
  },
  {
   "cell_type": "markdown",
   "source": [
    "## Tensor 생성 방법 (5) : Ndarray 객체 활용 => torch.from_numpy(),torch.as_tensor(),tensor()"
   ],
   "metadata": {
    "collapsed": false
   },
   "id": "819b6b7f7eccbdb2"
  },
  {
   "cell_type": "code",
   "outputs": [
    {
     "name": "stdout",
     "output_type": "stream",
     "text": [
      "[11 22 33] <class 'numpy.ndarray'>\n"
     ]
    }
   ],
   "source": [
    "#데이터 생성 \n",
    "import numpy as np\n",
    "\n",
    "data=np.array([11,22,33])\n",
    "print(data,type(data))"
   ],
   "metadata": {
    "collapsed": false,
    "ExecuteTime": {
     "end_time": "2024-03-12T01:46:40.496676200Z",
     "start_time": "2024-03-12T01:46:40.464313500Z"
    }
   },
   "id": "2f4cce8e976cd61d",
   "execution_count": 92
  },
  {
   "cell_type": "code",
   "outputs": [
    {
     "name": "stdout",
     "output_type": "stream",
     "text": [
      "tensor([11, 22, 33], dtype=torch.int32)\n"
     ]
    }
   ],
   "source": [
    "t1=torch.from_numpy(data)\n",
    "print(t1)"
   ],
   "metadata": {
    "collapsed": false,
    "ExecuteTime": {
     "end_time": "2024-03-12T01:47:00.188682700Z",
     "start_time": "2024-03-12T01:47:00.165923700Z"
    }
   },
   "id": "1d6d86621a81d6e8",
   "execution_count": 93
  },
  {
   "cell_type": "code",
   "outputs": [
    {
     "name": "stdout",
     "output_type": "stream",
     "text": [
      "tensor([11, 22, 33], dtype=torch.int32)\n"
     ]
    }
   ],
   "source": [
    "t2=torch.as_tensor(data)\n",
    "print(t2)"
   ],
   "metadata": {
    "collapsed": false,
    "ExecuteTime": {
     "end_time": "2024-03-12T01:47:24.182488100Z",
     "start_time": "2024-03-12T01:47:24.153090400Z"
    }
   },
   "id": "5ea8195b931e7fee",
   "execution_count": 94
  },
  {
   "cell_type": "code",
   "outputs": [
    {
     "name": "stdout",
     "output_type": "stream",
     "text": [
      "tensor([11, 22, 33], dtype=torch.int32)\n"
     ]
    }
   ],
   "source": [
    "t3=torch.tensor(data)\n",
    "print(t2)"
   ],
   "metadata": {
    "collapsed": false,
    "ExecuteTime": {
     "end_time": "2024-03-12T01:47:44.563040900Z",
     "start_time": "2024-03-12T01:47:44.534688500Z"
    }
   },
   "id": "107c4044002a9cac",
   "execution_count": 95
  },
  {
   "cell_type": "code",
   "outputs": [],
   "source": [
    "# ndarray 원소 변경\n",
    "data[0]=100  #인덱스 사용"
   ],
   "metadata": {
    "collapsed": false,
    "ExecuteTime": {
     "end_time": "2024-03-12T01:49:47.791015400Z",
     "start_time": "2024-03-12T01:49:47.773168800Z"
    }
   },
   "id": "1d139c31b0426293",
   "execution_count": 99
  },
  {
   "cell_type": "code",
   "outputs": [
    {
     "name": "stdout",
     "output_type": "stream",
     "text": [
      "[100  22  33]\n",
      "tensor([100,  22,  33], dtype=torch.int32)\n",
      "tensor([100,  22,  33], dtype=torch.int32)\n",
      "tensor([11, 22, 33], dtype=torch.int32)\n"
     ]
    }
   ],
   "source": [
    "print(data,t1,t2,t3,sep='\\n')\n",
    "#from_numpy랑 as_tensor는 복사본이므로, 위의 값이 바뀌면 자기들도 같이 바뀐다( 데이터 공유)\n",
    "#tensor()로 생성하면 ===> 복사본 생성"
   ],
   "metadata": {
    "collapsed": false,
    "ExecuteTime": {
     "end_time": "2024-03-12T01:51:26.950345200Z",
     "start_time": "2024-03-12T01:51:26.938874Z"
    }
   },
   "id": "2710f0e51d956063",
   "execution_count": 103
  },
  {
   "cell_type": "code",
   "outputs": [],
   "source": [],
   "metadata": {
    "collapsed": false,
    "ExecuteTime": {
     "end_time": "2024-03-12T01:51:27.573611900Z",
     "start_time": "2024-03-12T01:51:27.552532300Z"
    }
   },
   "id": "d50d444c86ac56c",
   "execution_count": 103
  },
  {
   "cell_type": "code",
   "outputs": [],
   "source": [],
   "metadata": {
    "collapsed": false
   },
   "id": "416439e6a17ab229"
  }
 ],
 "metadata": {
  "kernelspec": {
   "display_name": "Python 3",
   "language": "python",
   "name": "python3"
  },
  "language_info": {
   "codemirror_mode": {
    "name": "ipython",
    "version": 2
   },
   "file_extension": ".py",
   "mimetype": "text/x-python",
   "name": "python",
   "nbconvert_exporter": "python",
   "pygments_lexer": "ipython2",
   "version": "2.7.6"
  }
 },
 "nbformat": 4,
 "nbformat_minor": 5
}
