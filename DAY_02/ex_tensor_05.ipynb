{
 "cells": [
  {
   "cell_type": "markdown",
   "source": [
    "# 텐서 연결 & 결합"
   ],
   "metadata": {
    "collapsed": false
   },
   "id": "6b0b7058dfa44a79"
  },
  {
   "cell_type": "code",
   "outputs": [],
   "source": [
    "# 모듈 로딩\n",
    "import torch"
   ],
   "metadata": {
    "collapsed": false,
    "ExecuteTime": {
     "end_time": "2024-03-12T06:02:59.963551600Z",
     "start_time": "2024-03-12T06:02:58.763753800Z"
    }
   },
   "id": "593c9dcde6d32f26",
   "execution_count": 1
  },
  {
   "cell_type": "code",
   "outputs": [],
   "source": [
    "# 텐서 데이터 생성(동일 난수 생성 코드)\n",
    "torch.manual_seed(12)\n",
    "#임의의 0<=~<1 실수\n",
    "X=torch.rand(2,10) #0에서 1사이 값,2행 10열로 표현하라\n",
    "#임의의 정수 :low<=~<high\n",
    "y=torch.randint(0,2,(10,))  #1차원 10개,정수\n",
    "y2= torch.randint(0,2,(2,10)) #2행 10열,정수\n",
    "#randint(행개수,열개수)"
   ],
   "metadata": {
    "collapsed": false,
    "ExecuteTime": {
     "end_time": "2024-03-12T08:45:26.360742100Z",
     "start_time": "2024-03-12T08:45:26.336888100Z"
    }
   },
   "id": "84b1e9b68d71f69c",
   "execution_count": 54
  },
  {
   "cell_type": "code",
   "outputs": [
    {
     "name": "stdout",
     "output_type": "stream",
     "text": [
      "tensor([[1, 1, 0, 1, 1, 0, 0, 0, 0, 0],\n",
      "        [0, 0, 1, 1, 1, 1, 0, 0, 0, 0]])\n",
      "tensor([[0.4657, 0.2328, 0.4527, 0.5871, 0.4086, 0.1272, 0.6373, 0.2421, 0.7312,\n",
      "         0.7224],\n",
      "        [0.1992, 0.6948, 0.5830, 0.6318, 0.5559, 0.1262, 0.9790, 0.8443, 0.1256,\n",
      "         0.4456]])\n"
     ]
    }
   ],
   "source": [
    "print(y2)\n",
    "print(X)"
   ],
   "metadata": {
    "collapsed": false,
    "ExecuteTime": {
     "end_time": "2024-03-12T06:14:09.735184Z",
     "start_time": "2024-03-12T06:14:09.725742300Z"
    }
   },
   "id": "4267b183ee4152c1",
   "execution_count": 24
  },
  {
   "cell_type": "code",
   "outputs": [
    {
     "name": "stdout",
     "output_type": "stream",
     "text": [
      "X=> torch.Size([2, 10]),2D\n",
      "y=> torch.Size([10]),1D\n",
      "y2=> torch.Size([2, 10]),2D\n"
     ]
    }
   ],
   "source": [
    "print(f'X=> {X.shape},{X.ndim}D')\n",
    "print(f'y=> {y.shape},{y.ndim}D')\n",
    "print(f'y2=> {y2.shape},{y2.ndim}D')"
   ],
   "metadata": {
    "collapsed": false,
    "ExecuteTime": {
     "end_time": "2024-03-12T06:13:40.573481400Z",
     "start_time": "2024-03-12T06:13:40.558793400Z"
    }
   },
   "id": "5640176d5a46c732",
   "execution_count": 20
  },
  {
   "cell_type": "code",
   "outputs": [
    {
     "name": "stdout",
     "output_type": "stream",
     "text": [
      "xy1=> torch.Size([2, 20]),2D\n"
     ]
    }
   ],
   "source": [
    "#tensor 연결 cat([텐서1,텐서2,....])\n",
    "xy1=torch.cat([X,y2],dim=1)  #dim=0은 행방향\n",
    "print(f'xy1=> {xy1.shape},{xy1.ndim}D')"
   ],
   "metadata": {
    "collapsed": false,
    "ExecuteTime": {
     "end_time": "2024-03-12T06:19:55.049862300Z",
     "start_time": "2024-03-12T06:19:55.041784700Z"
    }
   },
   "id": "f213a9a33bc41147",
   "execution_count": 30
  },
  {
   "cell_type": "code",
   "outputs": [
    {
     "name": "stdout",
     "output_type": "stream",
     "text": [
      "xy1=> torch.Size([4, 10]),2D\n"
     ]
    }
   ],
   "source": [
    "#tensor 연결 cat([텐서1,텐서2,....])\n",
    "xy1=torch.cat([X,y2],dim=0)\n",
    "print(f'xy1=> {xy1.shape},{xy1.ndim}D')"
   ],
   "metadata": {
    "collapsed": false,
    "ExecuteTime": {
     "end_time": "2024-03-12T06:19:55.958209500Z",
     "start_time": "2024-03-12T06:19:55.944455800Z"
    }
   },
   "id": "aba4b175f47afc58",
   "execution_count": 31
  },
  {
   "cell_type": "code",
   "outputs": [
    {
     "data": {
      "text/plain": "tensor([[1., 4.],\n        [2., 5.],\n        [3., 6.]])"
     },
     "execution_count": 32,
     "metadata": {},
     "output_type": "execute_result"
    }
   ],
   "source": [
    "#FloatTensor 위로 쌓는 것\n",
    "x=torch.FloatTensor([1,4])\n",
    "y=torch.FloatTensor([2,5])\n",
    "z=torch.FloatTensor([3,6])\n",
    "\n",
    "torch.stack([x,y,z])\n",
    "torch.cat([x.unsqueeze(0),y.unsqueeze(0),z.unsqueeze(0)])"
   ],
   "metadata": {
    "collapsed": false,
    "ExecuteTime": {
     "end_time": "2024-03-12T06:19:56.351188200Z",
     "start_time": "2024-03-12T06:19:56.337392600Z"
    }
   },
   "id": "7546a73e55865b3c",
   "execution_count": 32
  },
  {
   "cell_type": "code",
   "outputs": [],
   "source": [
    "#행단위로(세로)로 최대값 및 최대값의 인덱스\n",
    "max_value=xy1.max(dim=1)[0]  #dim=0은 가로 기준, dim=1은 세로 기준\n",
    "max_index=xy1.max(dim=1)[1]"
   ],
   "metadata": {
    "collapsed": false,
    "ExecuteTime": {
     "end_time": "2024-03-12T06:26:16.082909700Z",
     "start_time": "2024-03-12T06:26:16.057169900Z"
    }
   },
   "id": "d0d37ac250a4884b",
   "execution_count": 44
  },
  {
   "cell_type": "code",
   "outputs": [
    {
     "data": {
      "text/plain": "(tensor([0.7312, 0.9790, 1.0000, 1.0000]), tensor([8, 6, 0, 2]))"
     },
     "execution_count": 45,
     "metadata": {},
     "output_type": "execute_result"
    }
   ],
   "source": [
    "max_value,max_index"
   ],
   "metadata": {
    "collapsed": false,
    "ExecuteTime": {
     "end_time": "2024-03-12T06:26:16.645778200Z",
     "start_time": "2024-03-12T06:26:16.624323400Z"
    }
   },
   "id": "b82862348f221d1a",
   "execution_count": 45
  },
  {
   "cell_type": "code",
   "outputs": [
    {
     "data": {
      "text/plain": "(tensor([1.0000, 1.0000, 1.0000, 1.0000, 1.0000, 1.0000, 0.9790, 0.8443, 0.7312,\n         0.7224]),\n tensor([2, 2, 3, 2, 2, 3, 1, 1, 0, 0]))"
     },
     "execution_count": 46,
     "metadata": {},
     "output_type": "execute_result"
    }
   ],
   "source": [
    "# 열 단위(가로)로 최대값 및 최대값의 인덱스\n",
    "max_value=xy1.max(dim=0)[0]\n",
    "max_index=xy1.max(dim=0)[1]\n",
    "\n",
    "max_value,max_index"
   ],
   "metadata": {
    "collapsed": false,
    "ExecuteTime": {
     "end_time": "2024-03-12T06:26:17.080411200Z",
     "start_time": "2024-03-12T06:26:17.071827Z"
    }
   },
   "id": "332288f93f9540c8",
   "execution_count": 46
  },
  {
   "cell_type": "code",
   "outputs": [
    {
     "data": {
      "text/plain": "    A   B   C\n0  10  20  30\n1  11  22  33",
      "text/html": "<div>\n<style scoped>\n    .dataframe tbody tr th:only-of-type {\n        vertical-align: middle;\n    }\n\n    .dataframe tbody tr th {\n        vertical-align: top;\n    }\n\n    .dataframe thead th {\n        text-align: right;\n    }\n</style>\n<table border=\"1\" class=\"dataframe\">\n  <thead>\n    <tr style=\"text-align: right;\">\n      <th></th>\n      <th>A</th>\n      <th>B</th>\n      <th>C</th>\n    </tr>\n  </thead>\n  <tbody>\n    <tr>\n      <th>0</th>\n      <td>10</td>\n      <td>20</td>\n      <td>30</td>\n    </tr>\n    <tr>\n      <th>1</th>\n      <td>11</td>\n      <td>22</td>\n      <td>33</td>\n    </tr>\n  </tbody>\n</table>\n</div>"
     },
     "execution_count": 51,
     "metadata": {},
     "output_type": "execute_result"
    }
   ],
   "source": [
    "import pandas as pd\n",
    "data=pd.DataFrame({'A':[10,11],'B':[20,22],'C':[30,33]})\n",
    "data"
   ],
   "metadata": {
    "collapsed": false,
    "ExecuteTime": {
     "end_time": "2024-03-12T06:29:22.955026200Z",
     "start_time": "2024-03-12T06:29:22.939230Z"
    }
   },
   "id": "44b82980860f429e",
   "execution_count": 51
  },
  {
   "cell_type": "code",
   "outputs": [
    {
     "data": {
      "text/plain": "(A    11\n B    22\n C    33\n dtype: int64,\n A    11\n B    22\n C    33\n dtype: int64)"
     },
     "execution_count": 52,
     "metadata": {},
     "output_type": "execute_result"
    }
   ],
   "source": [
    "data.max(),data.max(axis=0)"
   ],
   "metadata": {
    "collapsed": false,
    "ExecuteTime": {
     "end_time": "2024-03-12T06:29:25.440909400Z",
     "start_time": "2024-03-12T06:29:25.409699300Z"
    }
   },
   "id": "4b6f34ff8f13c909",
   "execution_count": 52
  },
  {
   "cell_type": "code",
   "outputs": [
    {
     "data": {
      "text/plain": "0    30\n1    33\ndtype: int64"
     },
     "execution_count": 53,
     "metadata": {},
     "output_type": "execute_result"
    }
   ],
   "source": [
    "data.max(axis=1)"
   ],
   "metadata": {
    "collapsed": false,
    "ExecuteTime": {
     "end_time": "2024-03-12T06:29:55.522037600Z",
     "start_time": "2024-03-12T06:29:55.500077500Z"
    }
   },
   "id": "7ed3e313414f305a",
   "execution_count": 53
  },
  {
   "cell_type": "code",
   "outputs": [],
   "source": [],
   "metadata": {
    "collapsed": false,
    "ExecuteTime": {
     "end_time": "2024-03-12T06:24:40.955348900Z",
     "start_time": "2024-03-12T06:24:40.941451600Z"
    }
   },
   "id": "9972f84aa63fee55",
   "execution_count": 43
  },
  {
   "cell_type": "code",
   "outputs": [],
   "source": [],
   "metadata": {
    "collapsed": false,
    "ExecuteTime": {
     "end_time": "2024-03-12T06:24:41.337048100Z",
     "start_time": "2024-03-12T06:24:41.324387900Z"
    }
   },
   "id": "ec0a197963cc548c",
   "execution_count": 43
  },
  {
   "cell_type": "code",
   "outputs": [],
   "source": [],
   "metadata": {
    "collapsed": false,
    "ExecuteTime": {
     "end_time": "2024-03-12T06:24:41.772599400Z",
     "start_time": "2024-03-12T06:24:41.754814500Z"
    }
   },
   "id": "3b9de78f894a00f4",
   "execution_count": 43
  },
  {
   "cell_type": "code",
   "outputs": [],
   "source": [],
   "metadata": {
    "collapsed": false
   },
   "id": "5e7e820bc17ee751"
  }
 ],
 "metadata": {
  "kernelspec": {
   "display_name": "Python 3",
   "language": "python",
   "name": "python3"
  },
  "language_info": {
   "codemirror_mode": {
    "name": "ipython",
    "version": 2
   },
   "file_extension": ".py",
   "mimetype": "text/x-python",
   "name": "python",
   "nbconvert_exporter": "python",
   "pygments_lexer": "ipython2",
   "version": "2.7.6"
  }
 },
 "nbformat": 4,
 "nbformat_minor": 5
}
