{
 "cells": [
  {
   "cell_type": "markdown",
   "source": [
    "### Tensor 원소/요소 접근\n",
    "- 인덱싱과 슬라이싱"
   ],
   "metadata": {
    "collapsed": false
   },
   "id": "11b43660fab8215c"
  },
  {
   "cell_type": "code",
   "outputs": [],
   "source": [
    "import torch"
   ],
   "metadata": {
    "collapsed": false,
    "ExecuteTime": {
     "end_time": "2024-03-12T02:28:33.473833900Z",
     "start_time": "2024-03-12T02:28:33.432728700Z"
    }
   },
   "id": "70c167cd0d0b8d15",
   "execution_count": 30
  },
  {
   "cell_type": "code",
   "outputs": [
    {
     "name": "stderr",
     "output_type": "stream",
     "text": [
      "C:\\Users\\kdp\\AppData\\Local\\Temp\\ipykernel_2476\\767740695.py:2: DeprecationWarning: an integer is required (got type float).  Implicit conversion to integers using __int__ is deprecated, and may be removed in a future version of Python.\n",
      "  points=torch.tensor([[4.,2.],[5.,3.],[6.,4.]],dtype=torch.int16)\n"
     ]
    },
    {
     "data": {
      "text/plain": "tensor([[4, 2],\n        [5, 3],\n        [6, 4]], dtype=torch.int16)"
     },
     "execution_count": 31,
     "metadata": {},
     "output_type": "execute_result"
    }
   ],
   "source": [
    "# 텐서 생성\n",
    "points=torch.tensor([[4.,2.],[5.,3.],[6.,4.]],dtype=torch.int16)\n",
    "points"
   ],
   "metadata": {
    "collapsed": false,
    "ExecuteTime": {
     "end_time": "2024-03-12T02:28:33.474906400Z",
     "start_time": "2024-03-12T02:28:33.449529500Z"
    }
   },
   "id": "78edbaf1f747663",
   "execution_count": 31
  },
  {
   "cell_type": "code",
   "outputs": [
    {
     "name": "stdout",
     "output_type": "stream",
     "text": [
      "tensor(3, dtype=torch.int16)\n",
      "tensor(4, dtype=torch.int16) tensor(4, dtype=torch.int16)\n"
     ]
    }
   ],
   "source": [
    "# 텐서의 원소 1개 접근\n",
    "# 데이터 3 추출\n",
    "print(points[1,1])\n",
    "\n",
    "#마지막 데이터 4 추출\n",
    "print(points[2,1],points[-1,-1])"
   ],
   "metadata": {
    "collapsed": false,
    "ExecuteTime": {
     "end_time": "2024-03-12T02:28:33.508247Z",
     "start_time": "2024-03-12T02:28:33.479041Z"
    }
   },
   "id": "8892d5784d329898",
   "execution_count": 32
  },
  {
   "cell_type": "code",
   "outputs": [
    {
     "name": "stdout",
     "output_type": "stream",
     "text": [
      "tensor([[5, 3],\n",
      "        [6, 4]], dtype=torch.int16)\n"
     ]
    }
   ],
   "source": [
    "#1번 행부터 나머지 모든 행 추출\n",
    "print(points[1:])"
   ],
   "metadata": {
    "collapsed": false,
    "ExecuteTime": {
     "end_time": "2024-03-12T02:28:33.536367900Z",
     "start_time": "2024-03-12T02:28:33.495736Z"
    }
   },
   "id": "c4d4592b0ce75416",
   "execution_count": 33
  },
  {
   "cell_type": "code",
   "outputs": [],
   "source": [
    "# 차원 늘리기"
   ],
   "metadata": {
    "collapsed": false,
    "ExecuteTime": {
     "end_time": "2024-03-12T02:28:33.537413500Z",
     "start_time": "2024-03-12T02:28:33.512351700Z"
    }
   },
   "id": "ffe49026f051f3de",
   "execution_count": 34
  },
  {
   "cell_type": "code",
   "outputs": [
    {
     "data": {
      "text/plain": "tensor([[[0.4048],\n         [0.4221],\n         [0.5550]],\n\n        [[0.8419],\n         [0.2025],\n         [0.3768]]])"
     },
     "execution_count": 35,
     "metadata": {},
     "output_type": "execute_result"
    }
   ],
   "source": [
    "t1=torch.rand(2,3,1)\n",
    "t1"
   ],
   "metadata": {
    "collapsed": false,
    "ExecuteTime": {
     "end_time": "2024-03-12T02:28:33.559272Z",
     "start_time": "2024-03-12T02:28:33.540598Z"
    }
   },
   "id": "352c0243ca11a1d5",
   "execution_count": 35
  },
  {
   "cell_type": "code",
   "outputs": [
    {
     "data": {
      "text/plain": "tensor([[[[0.3449]],\n\n         [[0.1412]],\n\n         [[0.8660]]],\n\n\n        [[[0.7915]],\n\n         [[0.6905]],\n\n         [[0.5667]]]])"
     },
     "execution_count": 36,
     "metadata": {},
     "output_type": "execute_result"
    }
   ],
   "source": [
    "t1=torch.rand(2,3,1,1) # 3행 1열 짜리가 차원이 늘어남(4차원)\n",
    "t1"
   ],
   "metadata": {
    "collapsed": false,
    "ExecuteTime": {
     "end_time": "2024-03-12T02:28:33.607277100Z",
     "start_time": "2024-03-12T02:28:33.558220Z"
    }
   },
   "id": "9a0182bb9379d607",
   "execution_count": 36
  },
  {
   "cell_type": "code",
   "outputs": [
    {
     "data": {
      "text/plain": "tensor([[[ 0.2857],\n         [ 1.0552],\n         [ 0.3491]],\n\n        [[-1.1631],\n         [ 0.7617],\n         [ 0.7679]]])"
     },
     "execution_count": 37,
     "metadata": {},
     "output_type": "execute_result"
    }
   ],
   "source": [
    "t1=torch.randn(2,3,1) #3행 1열 이 두개,3차원\n",
    "t1"
   ],
   "metadata": {
    "collapsed": false,
    "ExecuteTime": {
     "end_time": "2024-03-12T02:28:33.608287700Z",
     "start_time": "2024-03-12T02:28:33.573797200Z"
    }
   },
   "id": "25c372a09fff163c",
   "execution_count": 37
  },
  {
   "cell_type": "markdown",
   "source": [
    "## 브로드캐스팅 연산 "
   ],
   "metadata": {
    "collapsed": false
   },
   "id": "77cbbb06cac10693"
  },
  {
   "cell_type": "code",
   "outputs": [
    {
     "name": "stdout",
     "output_type": "stream",
     "text": [
      "m1.shape =>torch.Size([1, 2]),m2.shape =>torch.Size([1, 1])\n"
     ]
    }
   ],
   "source": [
    "m1= torch.FloatTensor([[1.,2.]])\n",
    "m2= torch.FloatTensor([[3]])\n",
    "\n",
    "print(f'm1.shape =>{m1.shape},m2.shape =>{m2.shape}')\n",
    "m3=m1+m2"
   ],
   "metadata": {
    "collapsed": false,
    "ExecuteTime": {
     "end_time": "2024-03-12T02:28:33.644769700Z",
     "start_time": "2024-03-12T02:28:33.590626800Z"
    }
   },
   "id": "475143cd76438554",
   "execution_count": 38
  },
  {
   "cell_type": "code",
   "outputs": [
    {
     "name": "stdout",
     "output_type": "stream",
     "text": [
      "m3.shape => torch.Size([1, 2])\n",
      "m3=>\n",
      "tensor([[4., 5.]])\n"
     ]
    }
   ],
   "source": [
    "print(f'm3.shape => {m3.shape}\\nm3=>\\n{m3}') #1행 2열의 2차원"
   ],
   "metadata": {
    "collapsed": false,
    "ExecuteTime": {
     "end_time": "2024-03-12T02:28:33.646763600Z",
     "start_time": "2024-03-12T02:28:33.605207900Z"
    }
   },
   "id": "67b4ac678dcc3cbe",
   "execution_count": 39
  },
  {
   "cell_type": "code",
   "outputs": [
    {
     "name": "stdout",
     "output_type": "stream",
     "text": [
      "m1.shape =>torch.Size([1, 2]),m2.shape =>torch.Size([2, 1])\n"
     ]
    }
   ],
   "source": [
    "m1= torch.FloatTensor([[1.,2.]])#1행 2열\n",
    "m2= torch.FloatTensor([[3],[4]])#2행 1열\n",
    "\n",
    "print(f'm1.shape =>{m1.shape},m2.shape =>{m2.shape}')\n",
    "m3=m1+m2"
   ],
   "metadata": {
    "collapsed": false,
    "ExecuteTime": {
     "end_time": "2024-03-12T02:28:33.647855800Z",
     "start_time": "2024-03-12T02:28:33.622597900Z"
    }
   },
   "id": "387f7a9655189334",
   "execution_count": 40
  },
  {
   "cell_type": "code",
   "outputs": [
    {
     "name": "stdout",
     "output_type": "stream",
     "text": [
      "m3.shape => torch.Size([2, 2])\n",
      "m3=>\n",
      "tensor([[4., 5.],\n",
      "        [5., 6.]])\n"
     ]
    }
   ],
   "source": [
    "print(f'm3.shape => {m3.shape}\\nm3=>\\n{m3}') #1행 2열의 2차원  [1,2]+ [3] 의 합\n",
    "#                                                                   [4]"
   ],
   "metadata": {
    "collapsed": false,
    "ExecuteTime": {
     "end_time": "2024-03-12T02:28:33.699840100Z",
     "start_time": "2024-03-12T02:28:33.636284Z"
    }
   },
   "id": "116a2ddcc7cd701a",
   "execution_count": 41
  },
  {
   "cell_type": "code",
   "outputs": [
    {
     "name": "stdout",
     "output_type": "stream",
     "text": [
      "m3.shape => torch.Size([2, 2])\n",
      "m3=>\n",
      "tensor([[3., 6.],\n",
      "        [4., 8.]])\n"
     ]
    }
   ],
   "source": [
    "m3=m1*m2  \n",
    "print(f'm3.shape => {m3.shape}\\nm3=>\\n{m3}')  #각 항목끼리 곱해짐..."
   ],
   "metadata": {
    "collapsed": false,
    "ExecuteTime": {
     "end_time": "2024-03-12T02:29:00.195828500Z",
     "start_time": "2024-03-12T02:29:00.176130500Z"
    }
   },
   "id": "1f6de38598ca08cc",
   "execution_count": 44
  },
  {
   "cell_type": "code",
   "outputs": [
    {
     "name": "stdout",
     "output_type": "stream",
     "text": [
      "m3.shape => torch.Size([2, 2])\n",
      "m3=>\n",
      "tensor([[3., 6.],\n",
      "        [4., 8.]])\n",
      "m4.shape => torch.Size([2, 2])\n",
      "m4=>\n",
      "tensor([[3., 6.],\n",
      "        [4., 8.]])\n"
     ]
    }
   ],
   "source": [
    "m3=m1*m2  \n",
    "m4=m1.mul(m2)\n",
    "print(f'm3.shape => {m3.shape}\\nm3=>\\n{m3}')\n",
    "print(f'm4.shape => {m4.shape}\\nm4=>\\n{m4}')"
   ],
   "metadata": {
    "collapsed": false,
    "ExecuteTime": {
     "end_time": "2024-03-12T02:29:32.445712Z",
     "start_time": "2024-03-12T02:29:32.415442500Z"
    }
   },
   "id": "2fd7a6c9b2b5e16a",
   "execution_count": 47
  },
  {
   "cell_type": "code",
   "outputs": [
    {
     "name": "stdout",
     "output_type": "stream",
     "text": [
      "m4.shape => torch.Size([2, 2])\n",
      "m4=>\n",
      "tensor([[3., 6.],\n",
      "        [4., 8.]])\n"
     ]
    }
   ],
   "source": [
    "print(f'm4.shape => {m4.shape}\\nm4=>\\n{m4}')"
   ],
   "metadata": {
    "collapsed": false,
    "ExecuteTime": {
     "end_time": "2024-03-12T02:29:33.495929Z",
     "start_time": "2024-03-12T02:29:33.468822500Z"
    }
   },
   "id": "f170edd10d57e7ed",
   "execution_count": 48
  },
  {
   "cell_type": "code",
   "outputs": [
    {
     "data": {
      "text/plain": "(tensor([[4., 5.],\n         [5., 6.]]),\n tensor([[-2., -1.],\n         [-3., -2.]]),\n tensor([[3., 6.],\n         [4., 8.]]),\n tensor([[0.3333, 0.6667],\n         [0.2500, 0.5000]]))"
     },
     "execution_count": 49,
     "metadata": {},
     "output_type": "execute_result"
    }
   ],
   "source": [
    "# 원소 단위 연산 수행 메서드들 \n",
    "m1.add(m2),m1.sub(m2),m1.mul(m2),m1.div(m2)"
   ],
   "metadata": {
    "collapsed": false,
    "ExecuteTime": {
     "end_time": "2024-03-12T02:29:34.321593400Z",
     "start_time": "2024-03-12T02:29:34.307058600Z"
    }
   },
   "id": "acb23e87bde0f2c",
   "execution_count": 49
  },
  {
   "cell_type": "code",
   "outputs": [],
   "source": [
    "# 피쳐 3개 (가중치 w는 피쳐의 개수를 따라가게 될 것이다.)\n",
    "# 선형회귀=y=wx+b=>wx1+w2x2+w3x3+b\n",
    "#그런데 피쳐가 [1,2,3] 이런식의 1차원으로가 아니라 [[1,2,3],[1,2,3]으로 들어온다면 어떻게 할 것인가."
   ],
   "metadata": {
    "collapsed": false,
    "ExecuteTime": {
     "end_time": "2024-03-12T02:31:40.574911Z",
     "start_time": "2024-03-12T02:31:40.564410700Z"
    }
   },
   "id": "55e51291d9ee2ca3",
   "execution_count": 50
  },
  {
   "cell_type": "code",
   "outputs": [],
   "source": [
    "#1,2,3\n",
    "#4,5,6"
   ],
   "metadata": {
    "collapsed": false
   },
   "id": "6c1851f3122ef071"
  }
 ],
 "metadata": {
  "kernelspec": {
   "display_name": "Python 3",
   "language": "python",
   "name": "python3"
  },
  "language_info": {
   "codemirror_mode": {
    "name": "ipython",
    "version": 2
   },
   "file_extension": ".py",
   "mimetype": "text/x-python",
   "name": "python",
   "nbconvert_exporter": "python",
   "pygments_lexer": "ipython2",
   "version": "2.7.6"
  }
 },
 "nbformat": 4,
 "nbformat_minor": 5
}
