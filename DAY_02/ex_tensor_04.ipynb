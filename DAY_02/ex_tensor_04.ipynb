{
 "cells": [
  {
   "cell_type": "markdown",
   "source": [
    "### Tensor shape )변경\n",
    "- reshape(),view(): 원소 갯수가 유지됨, 기존 텐서 공유함"
   ],
   "metadata": {
    "collapsed": false
   },
   "id": "3e8f4723cfe9f83c"
  },
  {
   "cell_type": "code",
   "outputs": [],
   "source": [
    "#모듈로딩\n",
    "import torch"
   ],
   "metadata": {
    "collapsed": false,
    "ExecuteTime": {
     "end_time": "2024-03-12T08:09:33.887685100Z",
     "start_time": "2024-03-12T08:09:33.786606Z"
    }
   },
   "id": "c443c9f05f608a7a",
   "execution_count": 113
  },
  {
   "cell_type": "code",
   "outputs": [
    {
     "name": "stdout",
     "output_type": "stream",
     "text": [
      "torch.Size([2, 3]) 2\n"
     ]
    }
   ],
   "source": [
    "#텐서 데이터 생성\n",
    "t1=torch.tensor([[1,2,3],[4,5,6]])\n",
    "print(t1.shape,t1.ndim)"
   ],
   "metadata": {
    "collapsed": false,
    "ExecuteTime": {
     "end_time": "2024-03-12T08:09:33.909581900Z",
     "start_time": "2024-03-12T08:09:33.891812700Z"
    }
   },
   "id": "239a8ef95bd6d073",
   "execution_count": 114
  },
  {
   "cell_type": "code",
   "outputs": [
    {
     "data": {
      "text/plain": "tensor([[1, 2],\n        [3, 4],\n        [5, 6]])"
     },
     "execution_count": 115,
     "metadata": {},
     "output_type": "execute_result"
    }
   ],
   "source": [
    "#[2,3] ====> [3,2] 형태변환:원소 동일 6개\n",
    "t1.view(3,2)"
   ],
   "metadata": {
    "collapsed": false,
    "ExecuteTime": {
     "end_time": "2024-03-12T08:09:33.937679600Z",
     "start_time": "2024-03-12T08:09:33.902232400Z"
    }
   },
   "id": "35a7daf4b14fac82",
   "execution_count": 115
  },
  {
   "cell_type": "code",
   "outputs": [
    {
     "data": {
      "text/plain": "tensor([[1],\n        [2],\n        [3],\n        [4],\n        [5],\n        [6]])"
     },
     "execution_count": 116,
     "metadata": {},
     "output_type": "execute_result"
    }
   ],
   "source": [
    "#[2,3] ====> [6,1] 형태변환:원소 동일 6개\n",
    "t1.view(6,1)\n"
   ],
   "metadata": {
    "collapsed": false,
    "ExecuteTime": {
     "end_time": "2024-03-12T08:09:33.938689400Z",
     "start_time": "2024-03-12T08:09:33.917863600Z"
    }
   },
   "id": "5233fb97eaa878d9",
   "execution_count": 116
  },
  {
   "cell_type": "code",
   "outputs": [
    {
     "data": {
      "text/plain": "tensor([[1],\n        [2],\n        [3],\n        [4],\n        [5],\n        [6]])"
     },
     "execution_count": 117,
     "metadata": {},
     "output_type": "execute_result"
    }
   ],
   "source": [
    "#[2,3] ====> [6,1] 형태변환:원소 동일 6개\n",
    "# -1: 열은 고정 되어 있고, 나머지 원소 수를 알아서 할당\n",
    "t1.view(-1,1) #6개 줄테니까 1개짜리 행이 되도록 알아서 줘라"
   ],
   "metadata": {
    "collapsed": false,
    "ExecuteTime": {
     "end_time": "2024-03-12T08:09:33.989863800Z",
     "start_time": "2024-03-12T08:09:33.934565800Z"
    }
   },
   "id": "d087af883e8e85d0",
   "execution_count": 117
  },
  {
   "cell_type": "code",
   "outputs": [
    {
     "data": {
      "text/plain": "tensor([[1],\n        [2],\n        [3],\n        [4],\n        [5],\n        [6]])"
     },
     "execution_count": 118,
     "metadata": {},
     "output_type": "execute_result"
    }
   ],
   "source": [
    "#[2,3] ===> [6,1] 형태 변경: 원소 동일 6개\n",
    "# -1: 열은 고정 되어 있고, 나머지 원소 수를 알아서 할당\n",
    "t1.view(6,1) #6개 줄테니까 1개짜리 행이 되도록 알아서 줘라"
   ],
   "metadata": {
    "collapsed": false,
    "ExecuteTime": {
     "end_time": "2024-03-12T08:09:33.993942200Z",
     "start_time": "2024-03-12T08:09:33.950200200Z"
    }
   },
   "id": "cb7374e48c69d090",
   "execution_count": 118
  },
  {
   "cell_type": "code",
   "outputs": [
    {
     "data": {
      "text/plain": "tensor([[1],\n        [2],\n        [3],\n        [4],\n        [5],\n        [6]])"
     },
     "execution_count": 119,
     "metadata": {},
     "output_type": "execute_result"
    }
   ],
   "source": [
    "# tensor.reshape()\n",
    "t1.reshape(6,1) "
   ],
   "metadata": {
    "collapsed": false,
    "ExecuteTime": {
     "end_time": "2024-03-12T08:09:34.006483900Z",
     "start_time": "2024-03-12T08:09:33.964795Z"
    }
   },
   "id": "7f2bcf30f7780241",
   "execution_count": 119
  },
  {
   "cell_type": "code",
   "outputs": [
    {
     "data": {
      "text/plain": "tensor([[1, 2, 3],\n        [4, 5, 6]])"
     },
     "execution_count": 120,
     "metadata": {},
     "output_type": "execute_result"
    }
   ],
   "source": [
    "# tensor.reshape()\n",
    "t1.reshape(-1,3)   #-1의 차원의 크기를 자동으로 계산하라는 것"
   ],
   "metadata": {
    "collapsed": false,
    "ExecuteTime": {
     "end_time": "2024-03-12T08:09:34.043039300Z",
     "start_time": "2024-03-12T08:09:33.980475600Z"
    }
   },
   "id": "af0752efdaea5257",
   "execution_count": 120
  },
  {
   "cell_type": "code",
   "outputs": [],
   "source": [
    "# # 원소의 수가 유지 되어야함(t1 원소수 6개) 즉, 7은 줄 수 없음\n",
    "# t1.reshape(-1,7)   "
   ],
   "metadata": {
    "collapsed": false,
    "ExecuteTime": {
     "end_time": "2024-03-12T08:09:34.061865800Z",
     "start_time": "2024-03-12T08:09:33.998121200Z"
    }
   },
   "id": "ea773385686b847c",
   "execution_count": 121
  },
  {
   "cell_type": "markdown",
   "source": [
    "## 전치 : 열과 행 변경"
   ],
   "metadata": {
    "collapsed": false
   },
   "id": "284f4ac77493eb67"
  },
  {
   "cell_type": "code",
   "outputs": [
    {
     "name": "stdout",
     "output_type": "stream",
     "text": [
      "torch.Size([2, 3])\n",
      "tensor([[1, 4],\n",
      "        [2, 5],\n",
      "        [3, 6]]) torch.Size([3, 2]) False\n"
     ]
    }
   ],
   "source": [
    "print(t1.shape)  #T를 통해 행렬이 변경\n",
    "\n",
    "t2=t1.T\n",
    "print(t2,t2.shape,t2.is_contiguous()) #False가 뜬다"
   ],
   "metadata": {
    "collapsed": false,
    "ExecuteTime": {
     "end_time": "2024-03-12T08:09:34.077637700Z",
     "start_time": "2024-03-12T08:09:34.048253900Z"
    }
   },
   "id": "dfc9b4823737ec14",
   "execution_count": 122
  },
  {
   "cell_type": "code",
   "outputs": [],
   "source": [
    "# RuntimeError: view size is not compatible with input tensor's size and stride\n",
    "# t2.view(-1,6)  #오류가 뜬다(transpose 썼을때, view는 안되고 reshape은 됨)"
   ],
   "metadata": {
    "collapsed": false,
    "ExecuteTime": {
     "end_time": "2024-03-12T08:09:34.106924800Z",
     "start_time": "2024-03-12T08:09:34.069157700Z"
    }
   },
   "id": "5e79434b84dd2af2",
   "execution_count": 123
  },
  {
   "cell_type": "code",
   "outputs": [],
   "source": [],
   "metadata": {
    "collapsed": false,
    "ExecuteTime": {
     "end_time": "2024-03-12T08:09:34.119546300Z",
     "start_time": "2024-03-12T08:09:34.088040500Z"
    }
   },
   "id": "9d5c9a06621d4698",
   "execution_count": 123
  },
  {
   "cell_type": "code",
   "outputs": [
    {
     "name": "stdout",
     "output_type": "stream",
     "text": [
      "tensor([[1, 4, 2, 5, 3, 6]]) True\n"
     ]
    }
   ],
   "source": [
    "t3=t2.reshape(-1,6)  #얘는 문제가 없다\n",
    "print(t3,t3.is_contiguous())     #얘는 True 로 뜬다."
   ],
   "metadata": {
    "collapsed": false,
    "ExecuteTime": {
     "end_time": "2024-03-12T08:09:34.148913200Z",
     "start_time": "2024-03-12T08:09:34.111071300Z"
    }
   },
   "id": "5de1beb46e2dabf0",
   "execution_count": 124
  },
  {
   "cell_type": "markdown",
   "source": [
    "## 3 텐서 데이터의 메모리 저장 정보 즉 메타데이터\n",
    "- 현재 저장 형태,검색 방향 정보,시작 정보"
   ],
   "metadata": {
    "collapsed": false
   },
   "id": "ba03b8c9d5411e46"
  },
  {
   "cell_type": "code",
   "outputs": [
    {
     "name": "stdout",
     "output_type": "stream",
     "text": [
      "torch.Size([2, 3]) 2\n",
      "t1.storage()=> 1\n",
      " 2\n",
      " 3\n",
      " 4\n",
      " 5\n",
      " 6\n",
      "[torch.storage.TypedStorage(dtype=torch.int64, device=cpu) of size 6]\n",
      "t1.storage_offset()=>0\n",
      "t1.stride()=>(3, 1)\n",
      "t1.is_contiguous()=>True\n"
     ]
    }
   ],
   "source": [
    "t1=torch.tensor([[1,2,3],[4,5,6]])\n",
    "print(t1.shape,t1.ndim)\n",
    "print(f't1.storage()=>{t1.storage()}')\n",
    "print(f't1.storage_offset()=>{t1.storage_offset()}') #저장소의 오프셋이 어디인가\n",
    "print(f't1.stride()=>{t1.stride()}') #다음 줄로 넘어가는데 필요한 수  (다음행까지 개수,바로  옆까지 개수)\n",
    "print(f't1.is_contiguous()=>{t1.is_contiguous()}')"
   ],
   "metadata": {
    "collapsed": false,
    "ExecuteTime": {
     "end_time": "2024-03-12T08:09:34.165628100Z",
     "start_time": "2024-03-12T08:09:34.127871700Z"
    }
   },
   "id": "64008522c2ed98d5",
   "execution_count": 125
  },
  {
   "cell_type": "code",
   "outputs": [
    {
     "name": "stdout",
     "output_type": "stream",
     "text": [
      "t2.storage()=> 1\n",
      " 2\n",
      " 3\n",
      " 4\n",
      " 5\n",
      " 6\n",
      "[torch.storage.TypedStorage(dtype=torch.int64, device=cpu) of size 6]\n",
      "t2.storage_offset()=>0\n",
      "t2.stride()=>(2, 1)\n",
      "t2.is_contiguous()=>True\n"
     ]
    }
   ],
   "source": [
    "t2=t1.view(-1,2)  #메모리 읽어올때 2줄로 표현해라....(2열로 변경하여 t2) 생성\n",
    "print(f't2.storage()=>{t2.storage()}')\n",
    "print(f't2.storage_offset()=>{t2.storage_offset()}')\n",
    "print(f't2.stride()=>{t2.stride()}') \n",
    "print(f't2.is_contiguous()=>{t2.is_contiguous()}') #연속적인가?\n",
    "#transpose의 경우, view는 안되고 reshape은 되는데, view의 경우 바꾸었을때 연속적이지 못해서 안되고,\n",
    "#reshape의 경우는 복사본으로 아예 새로 만들어 주기 때문에 됨(아예 주소자체가 바뀜)\n",
    "\n",
    "#transpose는 스트라이드 값이 바뀌게 됨"
   ],
   "metadata": {
    "collapsed": false,
    "ExecuteTime": {
     "end_time": "2024-03-12T08:09:34.198020300Z",
     "start_time": "2024-03-12T08:09:34.157234700Z"
    }
   },
   "id": "74519755d707650d",
   "execution_count": 126
  },
  {
   "cell_type": "code",
   "outputs": [
    {
     "data": {
      "text/plain": "array([1, 2, 3])"
     },
     "execution_count": 127,
     "metadata": {},
     "output_type": "execute_result"
    }
   ],
   "source": [
    "import numpy as np\n",
    "a=np.array([1,2,3])\n",
    "a.squeeze()"
   ],
   "metadata": {
    "collapsed": false,
    "ExecuteTime": {
     "end_time": "2024-03-12T08:09:34.227642600Z",
     "start_time": "2024-03-12T08:09:34.201154800Z"
    }
   },
   "id": "72eb2f86efba8b95",
   "execution_count": 127
  },
  {
   "cell_type": "markdown",
   "source": [
    "### 차원 제거/추가\n",
    "- tensor.squeeze() : 텐서에서 차원이 1인 것 제거\n",
    "- tensor.unsqueeze() : 텐서에서 차원이 1인 것 추가"
   ],
   "metadata": {
    "collapsed": false
   },
   "id": "a361fe329743befa"
  },
  {
   "cell_type": "code",
   "outputs": [],
   "source": [
    "# 데이터 생성\n",
    "t1=torch.tensor([[1,2],[3,4]])\n",
    "t2=torch.tensor([[1,2,3,4]])\n",
    "t3=torch.tensor([[[1,2,3,4]]])\n"
   ],
   "metadata": {
    "collapsed": false,
    "ExecuteTime": {
     "end_time": "2024-03-12T08:09:34.266302200Z",
     "start_time": "2024-03-12T08:09:34.217153200Z"
    }
   },
   "id": "6386a461c1885e56",
   "execution_count": 128
  },
  {
   "cell_type": "code",
   "outputs": [
    {
     "name": "stdout",
     "output_type": "stream",
     "text": [
      "t1=> torch.Size([2, 2]),2D\n",
      "t2=> torch.Size([1, 4]),2D\n",
      "t3=> torch.Size([1, 1, 4]),3D\n"
     ]
    }
   ],
   "source": [
    "print(f't1=> {t1.shape},{t1.ndim}D')\n",
    "print(f't2=> {t2.shape},{t2.ndim}D')\n",
    "print(f't3=> {t3.shape},{t3.ndim}D')"
   ],
   "metadata": {
    "collapsed": false,
    "ExecuteTime": {
     "end_time": "2024-03-12T08:09:34.285318200Z",
     "start_time": "2024-03-12T08:09:34.234871600Z"
    }
   },
   "id": "5d3512982894790e",
   "execution_count": 129
  },
  {
   "cell_type": "code",
   "outputs": [
    {
     "name": "stdout",
     "output_type": "stream",
     "text": [
      "t1 차원 축소 => torch.Size([2, 2]),2D,3383800955648\n",
      "t2 차원 축소 => torch.Size([4]),1D,3383800955776\n",
      "t3 차원 축소 => torch.Size([4]),1D,3383800955840\n",
      "t3 차원 축소 => torch.Size([1, 1, 4]),3D,3383800955840\n"
     ]
    }
   ],
   "source": [
    "t11=t1.squeeze()\n",
    "t22=t2.squeeze()\n",
    "t33=t3.squeeze()\n",
    "t44=t3.squeeze(dim=2) #t3의 3번째 차원을 축소하는 것을 의미, 특정 부분의 차원 축소,3번쨰 차원이 제거된 텐서\n",
    "print(f't1 차원 축소 => {t11.shape},{t11.ndim}D,{t11.data_ptr()}') #얘는 따로 줄여줄게 없음\n",
    "print(f't2 차원 축소 => {t22.shape},{t22.ndim}D,{t22.data_ptr()}')\n",
    "print(f't3 차원 축소 => {t33.shape},{t33.ndim}D,{t33.data_ptr()}')\n",
    "print(f't3 차원 축소 => {t44.shape},{t44.ndim}D,{t44.data_ptr()}')"
   ],
   "metadata": {
    "collapsed": false,
    "ExecuteTime": {
     "end_time": "2024-03-12T08:09:34.325384500Z",
     "start_time": "2024-03-12T08:09:34.274609500Z"
    }
   },
   "id": "f0f04fc5dbb0c08d",
   "execution_count": 130
  },
  {
   "cell_type": "code",
   "outputs": [],
   "source": [
    "#[데이터수] 1차\n",
    "#[데이터:행,피쳐:열]\n",
    "#[데이터수,채널,높이,너비]"
   ],
   "metadata": {
    "collapsed": false,
    "ExecuteTime": {
     "end_time": "2024-03-12T08:09:34.329457200Z",
     "start_time": "2024-03-12T08:09:34.313544700Z"
    }
   },
   "id": "b32e451fc1448b98",
   "execution_count": 131
  },
  {
   "cell_type": "code",
   "outputs": [
    {
     "data": {
      "text/plain": "tensor([[1, 2],\n        [3, 4]])"
     },
     "execution_count": 132,
     "metadata": {},
     "output_type": "execute_result"
    }
   ],
   "source": [
    "t1"
   ],
   "metadata": {
    "collapsed": false,
    "ExecuteTime": {
     "end_time": "2024-03-12T08:09:34.388581800Z",
     "start_time": "2024-03-12T08:09:34.333595Z"
    }
   },
   "id": "c6d54a5e83353fc2",
   "execution_count": 132
  },
  {
   "cell_type": "code",
   "outputs": [
    {
     "data": {
      "text/plain": "tensor([[1, 2],\n        [3, 4]])"
     },
     "execution_count": 133,
     "metadata": {},
     "output_type": "execute_result"
    }
   ],
   "source": [
    "t11"
   ],
   "metadata": {
    "collapsed": false,
    "ExecuteTime": {
     "end_time": "2024-03-12T08:09:34.393852500Z",
     "start_time": "2024-03-12T08:09:34.355903800Z"
    }
   },
   "id": "49792ae91d51654a",
   "execution_count": 133
  },
  {
   "cell_type": "code",
   "outputs": [
    {
     "data": {
      "text/plain": "tensor([[1, 2, 3, 4]])"
     },
     "execution_count": 134,
     "metadata": {},
     "output_type": "execute_result"
    }
   ],
   "source": [
    "t2"
   ],
   "metadata": {
    "collapsed": false,
    "ExecuteTime": {
     "end_time": "2024-03-12T08:09:34.413692800Z",
     "start_time": "2024-03-12T08:09:34.395910500Z"
    }
   },
   "id": "dd39d01cda41437d",
   "execution_count": 134
  },
  {
   "cell_type": "code",
   "outputs": [
    {
     "data": {
      "text/plain": "tensor([1, 2, 3, 4])"
     },
     "execution_count": 135,
     "metadata": {},
     "output_type": "execute_result"
    }
   ],
   "source": [
    "t22"
   ],
   "metadata": {
    "collapsed": false,
    "ExecuteTime": {
     "end_time": "2024-03-12T08:09:34.450606300Z",
     "start_time": "2024-03-12T08:09:34.416906100Z"
    }
   },
   "id": "aa5c716254d043e3",
   "execution_count": 135
  },
  {
   "cell_type": "code",
   "outputs": [
    {
     "data": {
      "text/plain": "tensor([[[1, 2, 3, 4]]])"
     },
     "execution_count": 136,
     "metadata": {},
     "output_type": "execute_result"
    }
   ],
   "source": [
    "t3"
   ],
   "metadata": {
    "collapsed": false,
    "ExecuteTime": {
     "end_time": "2024-03-12T08:09:34.452731700Z",
     "start_time": "2024-03-12T08:09:34.435688700Z"
    }
   },
   "id": "f50ff3ea09e0aa5b",
   "execution_count": 136
  },
  {
   "cell_type": "code",
   "outputs": [
    {
     "data": {
      "text/plain": "tensor([1, 2, 3, 4])"
     },
     "execution_count": 137,
     "metadata": {},
     "output_type": "execute_result"
    }
   ],
   "source": [
    "t33"
   ],
   "metadata": {
    "collapsed": false,
    "ExecuteTime": {
     "end_time": "2024-03-12T08:09:34.521897100Z",
     "start_time": "2024-03-12T08:09:34.455830300Z"
    }
   },
   "id": "f4ec5ce6c819ceae",
   "execution_count": 137
  },
  {
   "cell_type": "code",
   "outputs": [
    {
     "data": {
      "text/plain": "torch.Size([2, 2])"
     },
     "execution_count": 138,
     "metadata": {},
     "output_type": "execute_result"
    }
   ],
   "source": [
    "t1.shape"
   ],
   "metadata": {
    "collapsed": false,
    "ExecuteTime": {
     "end_time": "2024-03-12T08:09:34.526032800Z",
     "start_time": "2024-03-12T08:09:34.483153200Z"
    }
   },
   "id": "1c04cc3c67e49888",
   "execution_count": 138
  },
  {
   "cell_type": "code",
   "outputs": [
    {
     "name": "stdout",
     "output_type": "stream",
     "text": [
      "t1정보 => torch.Size([2, 2]),2D,3383800955648,(2, 1)\n"
     ]
    }
   ],
   "source": [
    "## 원소/요소 수 변경 없이 차원 증가 시키기 => torch.unsqueeze(dim)\n",
    "print(f't1정보 => {t1.shape},{t1.ndim}D,{t1.data_ptr()},{t1.stride()}')\n"
   ],
   "metadata": {
    "collapsed": false,
    "ExecuteTime": {
     "end_time": "2024-03-12T08:09:34.557580700Z",
     "start_time": "2024-03-12T08:09:34.529189200Z"
    }
   },
   "id": "4fbc569b7ef21690",
   "execution_count": 139
  },
  {
   "cell_type": "markdown",
   "source": [],
   "metadata": {
    "collapsed": false
   },
   "id": "d9de1448c480a890"
  },
  {
   "cell_type": "code",
   "outputs": [
    {
     "name": "stdout",
     "output_type": "stream",
     "text": [
      "t1 차원 추가 => torch.Size([1, 1, 3, 2]),4D,3383800897728,(6, 6, 2, 1)\n",
      "t2 차원 추가 => torch.Size([1, 3, 2, 1]),4D,3383800897728,(6, 6, 2, 1)\n"
     ]
    }
   ],
   "source": [
    "t11=t1.unsqueeze(dim=0) # 0번쨰 차원에 새로운 차원 추가\n",
    "t22=t1.unsqueeze(dim=-1) #새로운 차원을 마지막 위치에 추가\n",
    "\n",
    "print(f't1 차원 추가 => {t11.shape},{t11.ndim}D,{t11.data_ptr()},{t11.stride()}')\n",
    "print(f't2 차원 추가 => {t22.shape},{t22.ndim}D,{t22.data_ptr()},{t11.stride()}')\n"
   ],
   "metadata": {
    "collapsed": false,
    "ExecuteTime": {
     "end_time": "2024-03-12T08:32:49.523024700Z",
     "start_time": "2024-03-12T08:32:49.491403300Z"
    }
   },
   "id": "2b14d2c6d6d9e824",
   "execution_count": 149
  },
  {
   "cell_type": "markdown",
   "source": [
    "###  Tensor 차원/형태 변경"
   ],
   "metadata": {
    "collapsed": false
   },
   "id": "e74acaa9ba7edb3f"
  },
  {
   "cell_type": "code",
   "outputs": [
    {
     "name": "stdout",
     "output_type": "stream",
     "text": [
      "t1 => torch.Size([1, 3, 2]),3D\n"
     ]
    }
   ],
   "source": [
    "t1=torch.tensor([[[1,2],[11,22],[44,55]]])\n",
    "\n",
    "print(f't1 => {t1.shape},{t1.ndim}D')"
   ],
   "metadata": {
    "collapsed": false,
    "ExecuteTime": {
     "end_time": "2024-03-12T08:09:34.597276400Z",
     "start_time": "2024-03-12T08:09:34.563848300Z"
    }
   },
   "id": "b2a472c117f007db",
   "execution_count": 141
  },
  {
   "cell_type": "code",
   "outputs": [
    {
     "name": "stdout",
     "output_type": "stream",
     "text": [
      "t11 => torch.Size([2, 3, 1]),3D\n"
     ]
    }
   ],
   "source": [
    "# 2개의 차원을 변경하는 메서드()\n",
    "t11=t1.transpose(0,2) #0번 자리를 2번으로 바꿔줘  즉 (1,3,2) => 1과 3의 위치(0과 2번)이 바뀌면서 \n",
    "# (2,3,1) 즉 3행 1열 짜리가 2장 나오게 되는 것\n",
    "print(f't11 => {t11.shape},{t11.ndim}D')"
   ],
   "metadata": {
    "collapsed": false,
    "ExecuteTime": {
     "end_time": "2024-03-12T08:09:34.638249500Z",
     "start_time": "2024-03-12T08:09:34.589971100Z"
    }
   },
   "id": "5e34b02f75997533",
   "execution_count": 142
  },
  {
   "cell_type": "code",
   "outputs": [
    {
     "data": {
      "text/plain": "tensor([[[1],\n         [2]],\n\n        [[3],\n         [4]]])"
     },
     "execution_count": 143,
     "metadata": {},
     "output_type": "execute_result"
    }
   ],
   "source": [
    "t22"
   ],
   "metadata": {
    "collapsed": false,
    "ExecuteTime": {
     "end_time": "2024-03-12T08:09:34.654998100Z",
     "start_time": "2024-03-12T08:09:34.640329Z"
    }
   },
   "id": "44abddf4a91cc110",
   "execution_count": 143
  },
  {
   "cell_type": "code",
   "outputs": [
    {
     "name": "stdout",
     "output_type": "stream",
     "text": [
      "t22 => torch.Size([3, 2, 1]),3D\n"
     ]
    }
   ],
   "source": [
    "# 모든의 차원을 변경하는 메서드()\n",
    "t22=t1.permute(1,2,0) \n",
    "print(f't22 => {t22.shape},{t22.ndim}D')     #[1,3,2]=> [3,2,1]로 변경"
   ],
   "metadata": {
    "collapsed": false,
    "ExecuteTime": {
     "end_time": "2024-03-12T08:09:34.687832300Z",
     "start_time": "2024-03-12T08:09:34.657056700Z"
    }
   },
   "id": "776c46602c9d3700",
   "execution_count": 144
  },
  {
   "cell_type": "code",
   "outputs": [
    {
     "name": "stdout",
     "output_type": "stream",
     "text": [
      "t22 => torch.Size([3, 2, 1]),3D\n"
     ]
    }
   ],
   "source": [
    "print(f't22 => {t22.shape},{t22.ndim}D')"
   ],
   "metadata": {
    "collapsed": false,
    "ExecuteTime": {
     "end_time": "2024-03-12T08:09:34.689899200Z",
     "start_time": "2024-03-12T08:09:34.673214500Z"
    }
   },
   "id": "11167292d7b6747e",
   "execution_count": 145
  },
  {
   "cell_type": "code",
   "outputs": [
    {
     "name": "stdout",
     "output_type": "stream",
     "text": [
      "3383800897728,3383800897728,3383800897728\n"
     ]
    }
   ],
   "source": [
    "print(f'{t1.data_ptr()},{t22.data_ptr()},{t11.data_ptr()}')"
   ],
   "metadata": {
    "collapsed": false,
    "ExecuteTime": {
     "end_time": "2024-03-12T08:09:34.732733300Z",
     "start_time": "2024-03-12T08:09:34.691963500Z"
    }
   },
   "id": "ff50768f9bd25407",
   "execution_count": 146
  },
  {
   "cell_type": "code",
   "outputs": [],
   "source": [
    "# t1[None].shape()"
   ],
   "metadata": {
    "collapsed": false,
    "ExecuteTime": {
     "end_time": "2024-03-12T08:09:34.736872Z",
     "start_time": "2024-03-12T08:09:34.706511100Z"
    }
   },
   "id": "7a4e3aeefd7ef25b",
   "execution_count": 147
  },
  {
   "cell_type": "code",
   "outputs": [],
   "source": [],
   "metadata": {
    "collapsed": false,
    "ExecuteTime": {
     "end_time": "2024-03-12T08:09:34.756868700Z",
     "start_time": "2024-03-12T08:09:34.738984600Z"
    }
   },
   "id": "d250211b7dc30ca9",
   "execution_count": 147
  }
 ],
 "metadata": {
  "kernelspec": {
   "display_name": "Python 3",
   "language": "python",
   "name": "python3"
  },
  "language_info": {
   "codemirror_mode": {
    "name": "ipython",
    "version": 2
   },
   "file_extension": ".py",
   "mimetype": "text/x-python",
   "name": "python",
   "nbconvert_exporter": "python",
   "pygments_lexer": "ipython2",
   "version": "2.7.6"
  }
 },
 "nbformat": 4,
 "nbformat_minor": 5
}
