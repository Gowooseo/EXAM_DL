{
 "cells": [
  {
   "cell_type": "markdown",
   "source": [
    "## 행렬 곱셈 \n",
    "- 피쳐와 가중치 연산에 활용이 됨\n",
    "-tensor.matmul()"
   ],
   "metadata": {
    "collapsed": false
   },
   "id": "52e66f993428893b"
  },
  {
   "cell_type": "code",
   "outputs": [],
   "source": [
    "#모듈 로딩\n",
    "import torch"
   ],
   "metadata": {
    "collapsed": false,
    "ExecuteTime": {
     "end_time": "2024-03-12T04:24:58.478211400Z",
     "start_time": "2024-03-12T04:24:58.452129400Z"
    }
   },
   "id": "2e81592d8c6cd34b",
   "execution_count": 9
  },
  {
   "cell_type": "code",
   "outputs": [],
   "source": [
    "data=torch.tensor([[1,2],[3,4]])\n",
    "w=torch.tensor([7])"
   ],
   "metadata": {
    "collapsed": false,
    "ExecuteTime": {
     "end_time": "2024-03-12T04:24:58.486559200Z",
     "start_time": "2024-03-12T04:24:58.470922800Z"
    }
   },
   "id": "949f29477741abd1",
   "execution_count": 10
  },
  {
   "cell_type": "code",
   "execution_count": 11,
   "id": "initial_id",
   "metadata": {
    "collapsed": true,
    "ExecuteTime": {
     "end_time": "2024-03-12T04:24:58.506289200Z",
     "start_time": "2024-03-12T04:24:58.485501300Z"
    }
   },
   "outputs": [
    {
     "name": "stdout",
     "output_type": "stream",
     "text": [
      "data.shape=>torch.Size([2, 2])\n",
      "w.shape=>torch.Size([1])\n"
     ]
    }
   ],
   "source": [
    "print(f'data.shape=>{data.shape}')\n",
    "print(f'w.shape=>{w.shape}')"
   ]
  },
  {
   "cell_type": "code",
   "outputs": [
    {
     "name": "stdout",
     "output_type": "stream",
     "text": [
      "data.mul(w)=>tensor([[ 7, 14],\n",
      "        [21, 28]])\n"
     ]
    }
   ],
   "source": [
    "#원소 단위 곱셈 => 인덱스에 1:1 대응하도록 브로드 캐스팅\n",
    "print(f'data.mul(w)=>{data.mul(w)}')"
   ],
   "metadata": {
    "collapsed": false,
    "ExecuteTime": {
     "end_time": "2024-03-12T04:24:58.515690400Z",
     "start_time": "2024-03-12T04:24:58.501148900Z"
    }
   },
   "id": "53ebc82b4d31aadd",
   "execution_count": 12
  },
  {
   "cell_type": "code",
   "outputs": [],
   "source": [],
   "metadata": {
    "collapsed": false,
    "ExecuteTime": {
     "end_time": "2024-03-12T04:24:58.547216200Z",
     "start_time": "2024-03-12T04:24:58.515690400Z"
    }
   },
   "id": "f28d442cdb57b73f",
   "execution_count": 12
  },
  {
   "cell_type": "code",
   "outputs": [
    {
     "name": "stdout",
     "output_type": "stream",
     "text": [
      "data.matmul(w2)\n",
      " tensor([[23],\n",
      "        [53]])\n"
     ]
    }
   ],
   "source": [
    "# 행열 단위 곱셈 => 행x열 :(행,열) * (행,열)\n",
    "w2=torch.tensor([[7],[8]])\n",
    "print(f'data.matmul(w2)\\n {data.matmul(w2)}')\n",
    "\n",
    "#잘모르겠음\n"
   ],
   "metadata": {
    "collapsed": false,
    "ExecuteTime": {
     "end_time": "2024-03-12T04:26:00.771388900Z",
     "start_time": "2024-03-12T04:26:00.751458500Z"
    }
   },
   "id": "f1a7a197fcced5d0",
   "execution_count": 16
  },
  {
   "cell_type": "code",
   "outputs": [],
   "source": [],
   "metadata": {
    "collapsed": false,
    "ExecuteTime": {
     "start_time": "2024-03-12T04:24:58.563449100Z"
    }
   },
   "id": "40d4d0d89c01c97e"
  }
 ],
 "metadata": {
  "kernelspec": {
   "display_name": "Python 3",
   "language": "python",
   "name": "python3"
  },
  "language_info": {
   "codemirror_mode": {
    "name": "ipython",
    "version": 2
   },
   "file_extension": ".py",
   "mimetype": "text/x-python",
   "name": "python",
   "nbconvert_exporter": "python",
   "pygments_lexer": "ipython2",
   "version": "2.7.6"
  }
 },
 "nbformat": 4,
 "nbformat_minor": 5
}
