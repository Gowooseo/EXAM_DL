{
 "cells": [
  {
   "cell_type": "code",
   "execution_count": 1,
   "id": "initial_id",
   "metadata": {
    "collapsed": true,
    "ExecuteTime": {
     "end_time": "2024-03-22T01:39:50.395606Z",
     "start_time": "2024-03-22T01:39:46.749628200Z"
    }
   },
   "outputs": [],
   "source": [
    "import pandas as pd\n",
    "import numpy as np\n",
    "import matplotlib.pyplot as plt\n",
    "import torch\n",
    "import torch.nn as nn\n",
    "import torch.nn.functional as F\n",
    "import torch.optim as optim\n",
    "from torch.utils.data import DataLoader\n",
    "from torchvision import datasets, transforms\n",
    "import os,re  #정규표현식 쓸때 사용\n",
    "from sklearn.metrics import classification_report"
   ]
  },
  {
   "cell_type": "code",
   "outputs": [],
   "source": [
    "#train 위치\n",
    "train_dir='../data/lang_data/train'\n",
    "#test 위치\n",
    "test_dir='../data/lang_data/test'"
   ],
   "metadata": {
    "collapsed": false,
    "ExecuteTime": {
     "end_time": "2024-03-22T01:39:50.412080300Z",
     "start_time": "2024-03-22T01:39:50.397646500Z"
    }
   },
   "id": "f7f3401e84c16b58",
   "execution_count": 2
  },
  {
   "cell_type": "code",
   "outputs": [],
   "source": [
    "#지금 해야 하는 것 폴더 들어가서 텍스트 파일을 구분하는 것"
   ],
   "metadata": {
    "collapsed": false,
    "ExecuteTime": {
     "end_time": "2024-03-22T01:39:50.427567400Z",
     "start_time": "2024-03-22T01:39:50.413111600Z"
    }
   },
   "id": "7207cf7e38cdcbb",
   "execution_count": 3
  },
  {
   "cell_type": "code",
   "outputs": [
    {
     "data": {
      "text/plain": "<torch._C.Generator at 0x2642635d9d0>"
     },
     "execution_count": 4,
     "metadata": {},
     "output_type": "execute_result"
    }
   ],
   "source": [
    "torch.manual_seed(35)"
   ],
   "metadata": {
    "collapsed": false,
    "ExecuteTime": {
     "end_time": "2024-03-22T01:39:50.464696300Z",
     "start_time": "2024-03-22T01:39:50.429617900Z"
    }
   },
   "id": "730b7a8b7e51af44",
   "execution_count": 4
  },
  {
   "cell_type": "code",
   "outputs": [
    {
     "data": {
      "text/plain": "<re.Match object; span=(0, 3), match='abc'>"
     },
     "execution_count": 5,
     "metadata": {},
     "output_type": "execute_result"
    }
   ],
   "source": [
    " re.match('[a-z]+','abc1234abc') "
   ],
   "metadata": {
    "collapsed": false,
    "ExecuteTime": {
     "end_time": "2024-03-22T01:39:50.494656300Z",
     "start_time": "2024-03-22T01:39:50.446135400Z"
    }
   },
   "id": "496161de01969f01",
   "execution_count": 5
  },
  {
   "cell_type": "code",
   "outputs": [
    {
     "data": {
      "text/plain": "'abc'"
     },
     "execution_count": 6,
     "metadata": {},
     "output_type": "execute_result"
    }
   ],
   "source": [
    "re.findall('[a-z]+','abc1234abc')[0]  #앞에 한개만 꺼내기"
   ],
   "metadata": {
    "collapsed": false,
    "ExecuteTime": {
     "end_time": "2024-03-22T01:39:50.495656100Z",
     "start_time": "2024-03-22T01:39:50.459580800Z"
    }
   },
   "id": "dd9ecd21a9c5e737",
   "execution_count": 6
  },
  {
   "cell_type": "code",
   "outputs": [
    {
     "data": {
      "text/plain": "<callable_iterator at 0x2642e6a3a30>"
     },
     "execution_count": 7,
     "metadata": {},
     "output_type": "execute_result"
    }
   ],
   "source": [
    "re.finditer('[a-z]+','abc1234abc') #반복되는 부분 리턴"
   ],
   "metadata": {
    "collapsed": false,
    "ExecuteTime": {
     "end_time": "2024-03-22T01:39:50.496652400Z",
     "start_time": "2024-03-22T01:39:50.476068700Z"
    }
   },
   "id": "993a7ea9eb45cd52",
   "execution_count": 7
  },
  {
   "cell_type": "code",
   "outputs": [],
   "source": [
    "#구글 검색 : 정규표현식으로 해보기  \n",
    "# +는 반복되는 문자가 최소 1개씩 있다.....라는 뜻"
   ],
   "metadata": {
    "collapsed": false,
    "ExecuteTime": {
     "end_time": "2024-03-22T01:39:50.536888200Z",
     "start_time": "2024-03-22T01:39:50.490478200Z"
    }
   },
   "id": "58791626d869a7bf",
   "execution_count": 8
  },
  {
   "cell_type": "code",
   "outputs": [],
   "source": [],
   "metadata": {
    "collapsed": false,
    "ExecuteTime": {
     "end_time": "2024-03-22T01:39:50.537915Z",
     "start_time": "2024-03-22T01:39:50.504906400Z"
    }
   },
   "id": "72fd65fc2bd5bd67",
   "execution_count": 8
  },
  {
   "cell_type": "code",
   "outputs": [],
   "source": [
    "def find_alpha(extension):\n",
    "    file_list=os.listdir(extension)\n",
    "    for file in file_list:\n",
    "        #라벨 데이터 찾기: 정규표현식 써보기\n",
    "        label=re.findall('[a-z]+','abc1234abc')[0]\n",
    "        #행 데이터 추출\n",
    "        data=cntAlpha()\n",
    "        \n",
    "        \n",
    "        \n",
    "def cntAlpha(filepath):\n",
    "    f=open(filepath,'r',encoding='utf-8')\n",
    "    text=f.read()\n",
    "    #알파벳 개수 찾는 과정\n",
    "    num_list=[text.upper().count(chr(i)) for i in range(26)]\n",
    "    # 전체 알파벳 개수 찾기\n",
    "    total_count=sum(num_list)\n",
    "    # 전체 개수로 나누기\n",
    "            \n",
    "        \n",
    "#     파일을 열고 내용을 읽어들입니다.\n",
    "# 대문자 알파벳(A-Z)의 개수를 계산하여 num_list에 저장합니다.\n",
    "# num_list의 모든 값을 합하여 total_count에 저장합니다.\n",
    "# map 함수와 람다 함수를 사용하여 각 알파벳 개수를 total_count로 나누어 비율로 변환합니다. 결과를 새로운 리스트로 생성합니다.\n",
    "# 파일을 닫고 비율로 변환된 알파벳 개수 리스트를 반환합니다.\n",
    "# 따라서 이 함수는 텍스트 파일에서 각 알파벳의 출현 비율을 계산하여 리스트로 반환합니다. 예를 들어, 텍스트에 총 100개의 알파벳이 있고 'A'가 10번 나타난다면, 'A'의 비율은 0.1이 됩니다.\n",
    "# \n",
    "# 이렇게 출현 비율을 계산하면 텍스트의 길이에 따른 영향을 줄일 수 있습니다. 즉, 짧은 텍스트와 긴 텍스트에서 동일한 알파벳 분포를 가질 경우 비슷한 결과를 얻을 수 있습니다.\n",
    "    \n",
    "    "
   ],
   "metadata": {
    "collapsed": false,
    "ExecuteTime": {
     "end_time": "2024-03-22T01:39:50.554364700Z",
     "start_time": "2024-03-22T01:39:50.524527100Z"
    }
   },
   "id": "d14196a39a701df6",
   "execution_count": 9
  },
  {
   "cell_type": "code",
   "outputs": [],
   "source": [],
   "metadata": {
    "collapsed": false,
    "ExecuteTime": {
     "end_time": "2024-03-22T01:39:50.555409700Z",
     "start_time": "2024-03-22T01:39:50.536888200Z"
    }
   },
   "id": "6a758dc21a07abc",
   "execution_count": 9
  }
 ],
 "metadata": {
  "kernelspec": {
   "display_name": "Python 3",
   "language": "python",
   "name": "python3"
  },
  "language_info": {
   "codemirror_mode": {
    "name": "ipython",
    "version": 2
   },
   "file_extension": ".py",
   "mimetype": "text/x-python",
   "name": "python",
   "nbconvert_exporter": "python",
   "pygments_lexer": "ipython2",
   "version": "2.7.6"
  }
 },
 "nbformat": 4,
 "nbformat_minor": 5
}
