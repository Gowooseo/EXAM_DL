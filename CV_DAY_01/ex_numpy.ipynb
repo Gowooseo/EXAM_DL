{
 "cells": [
  {
   "cell_type": "code",
   "execution_count": 1,
   "id": "initial_id",
   "metadata": {
    "collapsed": true,
    "ExecuteTime": {
     "end_time": "2024-03-21T07:18:18.983445100Z",
     "start_time": "2024-03-21T07:18:18.891630800Z"
    }
   },
   "outputs": [],
   "source": [
    "## 모듈 로딩\n",
    "import numpy as np\n"
   ]
  },
  {
   "cell_type": "code",
   "outputs": [
    {
     "data": {
      "text/plain": "array([0., 0.])"
     },
     "execution_count": 2,
     "metadata": {},
     "output_type": "execute_result"
    }
   ],
   "source": [
    "## ndarray 타입 데이터 생성\n",
    "\n",
    "# 0으로 채워진 ndarray 객체 생성 ==> zeros()\n",
    "np.zeros(2)\n"
   ],
   "metadata": {
    "collapsed": false,
    "ExecuteTime": {
     "end_time": "2024-03-21T07:19:33.161900700Z",
     "start_time": "2024-03-21T07:19:33.154991400Z"
    }
   },
   "id": "17c5731056bf90f0",
   "execution_count": 2
  },
  {
   "cell_type": "code",
   "outputs": [
    {
     "data": {
      "text/plain": "array([[0, 0, 0],\n       [0, 0, 0]], dtype=int8)"
     },
     "execution_count": 4,
     "metadata": {},
     "output_type": "execute_result"
    }
   ],
   "source": [
    "np.zeros((2,3), dtype=np.int8)"
   ],
   "metadata": {
    "collapsed": false,
    "ExecuteTime": {
     "end_time": "2024-03-21T07:19:54.760283100Z",
     "start_time": "2024-03-21T07:19:54.732448500Z"
    }
   },
   "id": "752e049b85e52048",
   "execution_count": 4
  },
  {
   "cell_type": "code",
   "outputs": [
    {
     "data": {
      "text/plain": "(array([1., 1., 1., 1., 1., 1., 1., 1., 1., 1.]),\n array([1, 1, 1, 1, 1, 1, 1, 1, 1, 1]),\n array([[ True,  True,  True,  True,  True],\n        [ True,  True,  True,  True,  True]]))"
     },
     "execution_count": 10,
     "metadata": {},
     "output_type": "execute_result"
    }
   ],
   "source": [
    "#1로 채워진 ndarray 객체 생성 : np.ones()\n",
    "np.ones(10),np.ones(10,dtype=np.int32),np.ones((2,5),dtype=np.bool_)"
   ],
   "metadata": {
    "collapsed": false,
    "ExecuteTime": {
     "end_time": "2024-03-21T07:22:27.843066100Z",
     "start_time": "2024-03-21T07:22:27.829433700Z"
    }
   },
   "id": "7a707050b28a82e6",
   "execution_count": 10
  },
  {
   "cell_type": "code",
   "outputs": [
    {
     "data": {
      "text/plain": "array([[1, 1, 4, 3, 3, 3, 3, 3, 4, 4],\n       [1, 2, 4, 4, 3, 2, 1, 1, 2, 4],\n       [3, 4, 1, 1, 1, 1, 3, 3, 2, 1]])"
     },
     "execution_count": 12,
     "metadata": {},
     "output_type": "execute_result"
    }
   ],
   "source": [
    "# 랜덤 데이터로 ndarrat객체 생성 ==> random\n",
    "np.random.randint(1,5,(3,10)) #3행 10열을 1에서 5까지의 램덤 숫자로 만들어준다."
   ],
   "metadata": {
    "collapsed": false,
    "ExecuteTime": {
     "end_time": "2024-03-21T07:23:53.047912500Z",
     "start_time": "2024-03-21T07:23:53.035675500Z"
    }
   },
   "id": "95371f0ddaae619d",
   "execution_count": 12
  },
  {
   "cell_type": "code",
   "outputs": [
    {
     "data": {
      "text/plain": "(array([[0.26462758, 0.3131681 ],\n        [0.39204086, 0.21539289],\n        [0.65356975, 0.12683035],\n        [0.4136658 , 0.19503246],\n        [0.77355994, 0.07920122]]),\n array([0.01125321, 0.28840265, 0.73097287]))"
     },
     "execution_count": 19,
     "metadata": {},
     "output_type": "execute_result"
    }
   ],
   "source": [
    "#0<=범위<1\n",
    "np.random.rand(5,2),np.random.rand(3)"
   ],
   "metadata": {
    "collapsed": false,
    "ExecuteTime": {
     "end_time": "2024-03-21T07:25:22.241670500Z",
     "start_time": "2024-03-21T07:25:22.223221Z"
    }
   },
   "id": "dd9d51d3c24c96d7",
   "execution_count": 19
  },
  {
   "cell_type": "code",
   "outputs": [
    {
     "data": {
      "text/plain": "(array([ 0.15989294, -1.20894816,  2.22336022,  0.39429521,  1.69235772]),\n array([[[-1.11281215,  1.63574754, -1.36096559],\n         [-0.65122583,  0.54245131,  0.04800625]]]))"
     },
     "execution_count": 28,
     "metadata": {},
     "output_type": "execute_result"
    }
   ],
   "source": [
    "np.random.randn(5),np.random.randn(1,2,3)"
   ],
   "metadata": {
    "collapsed": false,
    "ExecuteTime": {
     "end_time": "2024-03-21T07:26:49.646950600Z",
     "start_time": "2024-03-21T07:26:49.630168400Z"
    }
   },
   "id": "f6315a88778ecdfd",
   "execution_count": 28
  },
  {
   "cell_type": "code",
   "outputs": [],
   "source": [
    "# 랜덤 고정\n",
    "np.random.seed(4) "
   ],
   "metadata": {
    "collapsed": false,
    "ExecuteTime": {
     "end_time": "2024-03-21T07:26:45.043953500Z",
     "start_time": "2024-03-21T07:26:45.040462Z"
    }
   },
   "id": "a53c2c3b24a01faf",
   "execution_count": 25
  },
  {
   "cell_type": "code",
   "outputs": [
    {
     "data": {
      "text/plain": "array([ 0.85038687, -0.67690095, -1.12511459, -0.85295128, -1.10457461])"
     },
     "execution_count": 39,
     "metadata": {},
     "output_type": "execute_result"
    }
   ],
   "source": [
    "np.random.randn(5)"
   ],
   "metadata": {
    "collapsed": false,
    "ExecuteTime": {
     "end_time": "2024-03-21T07:27:57.080348100Z",
     "start_time": "2024-03-21T07:27:57.064586400Z"
    }
   },
   "id": "c368076f314b2036",
   "execution_count": 39
  },
  {
   "cell_type": "code",
   "outputs": [
    {
     "name": "stdout",
     "output_type": "stream",
     "text": [
      "[-1.43738386  0.13375138  0.42395176 -0.20653741  0.48273896 -1.09737373\n",
      " -0.14527478 -0.90914768  0.74491863  0.53832361]\n",
      "[-0.20653741 -1.09737373 -0.90914768 -0.14527478  0.13375138  0.48273896\n",
      "  0.74491863  0.42395176  0.53832361 -1.43738386]\n"
     ]
    }
   ],
   "source": [
    "data=np.random.randn(10)\n",
    "print(data)\n",
    "\n",
    "np.random.shuffle(data)\n",
    "print(data)"
   ],
   "metadata": {
    "collapsed": false,
    "ExecuteTime": {
     "end_time": "2024-03-21T07:29:13.556399300Z",
     "start_time": "2024-03-21T07:29:13.542177500Z"
    }
   },
   "id": "3355c4840fadcdd7",
   "execution_count": 46
  },
  {
   "cell_type": "code",
   "outputs": [],
   "source": [
    "#지정된 범위 (arange)\n"
   ],
   "metadata": {
    "collapsed": false,
    "ExecuteTime": {
     "end_time": "2024-03-21T07:29:14.876362900Z",
     "start_time": "2024-03-21T07:29:14.865841600Z"
    }
   },
   "id": "60b64f432ee963da",
   "execution_count": 46
  },
  {
   "cell_type": "markdown",
   "source": [],
   "metadata": {
    "collapsed": false
   },
   "id": "a92eb90676a60085"
  },
  {
   "cell_type": "code",
   "outputs": [
    {
     "data": {
      "text/plain": "array([1. , 1.5, 2. , 2.5, 3. , 3.5, 4. , 4.5, 5. ])"
     },
     "execution_count": 47,
     "metadata": {},
     "output_type": "execute_result"
    }
   ],
   "source": [
    "#어디에서 어디까지 숫자만큼 생성np.linspace(어디,어디,숫자) \n",
    "np.linspace(1,5,9)"
   ],
   "metadata": {
    "collapsed": false,
    "ExecuteTime": {
     "end_time": "2024-03-21T07:30:45.118616200Z",
     "start_time": "2024-03-21T07:30:45.110354200Z"
    }
   },
   "id": "bfa741cb40c65cea",
   "execution_count": 47
  },
  {
   "cell_type": "code",
   "outputs": [
    {
     "data": {
      "text/plain": "(-1.4720331242928126, 0.7449186327365465, -1.4373838647938575)"
     },
     "execution_count": 49,
     "metadata": {},
     "output_type": "execute_result"
    }
   ],
   "source": [
    "data.sum(),data.max(),data.min()"
   ],
   "metadata": {
    "collapsed": false,
    "ExecuteTime": {
     "end_time": "2024-03-21T07:32:23.136053400Z",
     "start_time": "2024-03-21T07:32:23.122230600Z"
    }
   },
   "id": "7f2562fe6ee25540",
   "execution_count": 49
  },
  {
   "cell_type": "code",
   "outputs": [
    {
     "data": {
      "text/plain": "(6, 9)"
     },
     "execution_count": 50,
     "metadata": {},
     "output_type": "execute_result"
    }
   ],
   "source": [
    "data.argmax(),data.argmin()"
   ],
   "metadata": {
    "collapsed": false,
    "ExecuteTime": {
     "end_time": "2024-03-21T07:32:24.601265400Z",
     "start_time": "2024-03-21T07:32:24.579902600Z"
    }
   },
   "id": "abd4d6643b85b2ee",
   "execution_count": 50
  },
  {
   "cell_type": "code",
   "outputs": [],
   "source": [],
   "metadata": {
    "collapsed": false
   },
   "id": "16a710ecd60c40b7"
  }
 ],
 "metadata": {
  "kernelspec": {
   "display_name": "Python 3",
   "language": "python",
   "name": "python3"
  },
  "language_info": {
   "codemirror_mode": {
    "name": "ipython",
    "version": 2
   },
   "file_extension": ".py",
   "mimetype": "text/x-python",
   "name": "python",
   "nbconvert_exporter": "python",
   "pygments_lexer": "ipython2",
   "version": "2.7.6"
  }
 },
 "nbformat": 4,
 "nbformat_minor": 5
}
