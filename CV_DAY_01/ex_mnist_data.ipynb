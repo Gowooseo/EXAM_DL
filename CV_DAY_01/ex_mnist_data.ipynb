{
 "cells": [
  {
   "cell_type": "markdown",
   "source": [
    "### 이미지 로데이터 파일에서 데이터 추출"
   ],
   "metadata": {
    "collapsed": false
   },
   "id": "bde5df07cb32b578"
  },
  {
   "cell_type": "code",
   "outputs": [],
   "source": [
    "## [1] 파일입출력 방식\n",
    "## with open () as ~ \n",
    "\n",
    "file_path ='../data/MNIST/t10k-images-idx3-ubyte' #나는 바로 파일이 있어서 이렇게 해야 함"
   ],
   "metadata": {
    "collapsed": false,
    "ExecuteTime": {
     "end_time": "2024-03-21T05:44:46.890668500Z",
     "start_time": "2024-03-21T05:44:46.820513200Z"
    }
   },
   "id": "546b98390b19ae74",
   "execution_count": 156
  },
  {
   "cell_type": "code",
   "outputs": [],
   "source": [
    "# 파일 읽을 때 고려사항 => mode=br : 바이트 읽기 모드(br)\n",
    "with open(file_path,mode='br') as f:\n",
    "    all_data = f.read()\n",
    "    "
   ],
   "metadata": {
    "collapsed": false,
    "ExecuteTime": {
     "end_time": "2024-03-21T05:44:46.892957400Z",
     "start_time": "2024-03-21T05:44:46.845055600Z"
    }
   },
   "id": "872b5454dce23b27",
   "execution_count": 157
  },
  {
   "cell_type": "code",
   "outputs": [
    {
     "name": "stdout",
     "output_type": "stream",
     "text": [
      "<class 'bytes'> 7840016\n",
      "b\"\\x00\\x00\\x08\\x03\\x00\\x00'\\x10\\x00\\x00\\x00\\x1c\\x00\\x00\\x00\\x1c\\x00\\x00\\x00\\x00\\x00\\x00\\x00\\x00\\x00\\x00\\x00\\x00\\x00\\x00\\x00\\x00\\x00\\x00\\x00\\x00\\x00\\x00\\x00\\x00\\x00\\x00\\x00\\x00\\x00\\x00\\x00\\x00\\x00\\x00\\x00\\x00\\x00\\x00\\x00\\x00\\x00\\x00\\x00\\x00\\x00\\x00\\x00\\x00\\x00\\x00\\x00\\x00\\x00\\x00\\x00\\x00\\x00\\x00\\x00\\x00\\x00\\x00\\x00\\x00\\x00\\x00\\x00\\x00\\x00\\x00\\x00\\x00\\x00\\x00\\x00\\x00\\x00\\x00\\x00\\x00\\x00\\x00\\x00\\x00\"\n"
     ]
    }
   ],
   "source": [
    "print(type(all_data),len(all_data))\n",
    "print(all_data[:100])"
   ],
   "metadata": {
    "collapsed": false,
    "ExecuteTime": {
     "end_time": "2024-03-21T05:44:46.927396500Z",
     "start_time": "2024-03-21T05:44:46.897136500Z"
    }
   },
   "id": "adc740cd87ad510e",
   "execution_count": 158
  },
  {
   "cell_type": "code",
   "outputs": [
    {
     "name": "stdout",
     "output_type": "stream",
     "text": [
      "b'\\x00\\x00\\x08\\x03'\n",
      "b\"\\x00\\x00'\\x10\"\n",
      "b'\\x00\\x00\\x00\\x1c'\n",
      "b'\\x00\\x00\\x00\\x1c'\n"
     ]
    }
   ],
   "source": [
    "# 파일 읽을 때 고려사항 => mode=br : 바이트 읽기 모드(br)\n",
    "with open(file_path,mode='br') as f:\n",
    "    magic_code = f.read(4)\n",
    "    print(magic_code)\n",
    "    \n",
    "    data_length=f.read(4)\n",
    "    print(data_length)\n",
    "    \n",
    "    row=f.read(4)\n",
    "    print(row)\n",
    "    \n",
    "    col=f.read(4)\n",
    "    print(col)\n",
    "    \n",
    "    "
   ],
   "metadata": {
    "collapsed": false,
    "ExecuteTime": {
     "end_time": "2024-03-21T05:44:46.954478300Z",
     "start_time": "2024-03-21T05:44:46.921182400Z"
    }
   },
   "id": "fd399f09a8254652",
   "execution_count": 159
  },
  {
   "cell_type": "code",
   "outputs": [
    {
     "data": {
      "text/plain": "'0000001c'"
     },
     "execution_count": 160,
     "metadata": {},
     "output_type": "execute_result"
    }
   ],
   "source": [
    "# 전부 바이트로 나옴\n",
    "# 바이트 ==> 알아보는 문자로\n",
    "row.hex() #앞에 x때주고, 문자열이 됨"
   ],
   "metadata": {
    "collapsed": false,
    "ExecuteTime": {
     "end_time": "2024-03-21T05:44:46.957614200Z",
     "start_time": "2024-03-21T05:44:46.933648600Z"
    }
   },
   "id": "76919ca610c48cd3",
   "execution_count": 160
  },
  {
   "cell_type": "code",
   "outputs": [
    {
     "data": {
      "text/plain": "'0xa'"
     },
     "execution_count": 161,
     "metadata": {},
     "output_type": "execute_result"
    }
   ],
   "source": [
    "hex(10) #문자열:0x로 준다\n"
   ],
   "metadata": {
    "collapsed": false,
    "ExecuteTime": {
     "end_time": "2024-03-21T05:44:47.006337800Z",
     "start_time": "2024-03-21T05:44:46.959656800Z"
    }
   },
   "id": "9014454c35fda49a",
   "execution_count": 161
  },
  {
   "cell_type": "markdown",
   "source": [
    "- [2] 파이썬의 byte 데이터 변환 모듈  struct 활용"
   ],
   "metadata": {
    "collapsed": false
   },
   "id": "466d7edec1f75922"
  },
  {
   "cell_type": "code",
   "outputs": [],
   "source": [
    "### 모듈로딩\n",
    "import struct,os"
   ],
   "metadata": {
    "collapsed": false,
    "ExecuteTime": {
     "end_time": "2024-03-21T05:44:47.008401500Z",
     "start_time": "2024-03-21T05:44:46.977424Z"
    }
   },
   "id": "49f0d26810fb0453",
   "execution_count": 162
  },
  {
   "cell_type": "code",
   "outputs": [],
   "source": [
    "### => 데이터 추출 및 저장 관련 변수\n",
    "### 학습용 : train.csv\n",
    "### 테스트용: test.csv\n",
    "### 위치: ../data.txt\n",
    "\n",
    "save_dir='../data/txt/'\n",
    "data_dir='../data/MNIST/'\n",
    "train_file=data_dir+'train.csv'\n",
    "test_file=data_dir+'test.csv'\n"
   ],
   "metadata": {
    "collapsed": false,
    "ExecuteTime": {
     "end_time": "2024-03-21T05:44:47.040794600Z",
     "start_time": "2024-03-21T05:44:47.010484900Z"
    }
   },
   "id": "fa8de5bb858f4027",
   "execution_count": 163
  },
  {
   "cell_type": "code",
   "outputs": [],
   "source": [
    "### 사용자 정의 함수 \n",
    "### 기    능: raw data 파일을 읽어서 csv 파일로 저장\n",
    "### 함 수명 : to_csv\n",
    "### 매개변수: 파일 이름,데이터수\n",
    "### 반환값: 파일 생성 여부 True/False\n",
    "\n",
    "#디버깅 출력 제어 플래그 변수\n",
    "DEBUG=False\n",
    "\n",
    "def to_csv(name,maxdata):\n",
    "    # (1) CSV 저장할 데이터 준비\n",
    "    # 레이블 파일과 이미지 파일 열기\n",
    "    lbl_f=open(\"../data/MNIST/\"+name+\"-labels-idx1-ubyte\",\"rb\")\n",
    "    img_f=open(\"../data/MNIST/\"+name+\"-images-idx3-ubyte\",\"rb\")\n",
    "    \n",
    "    #CSV파일 생성\n",
    "    csv_f=open(\"../data/MNIST/\"+name+\".csv\",\"w\",encoding=\"utf-8\")\n",
    "    \n",
    "    #헤더 정보 읽기 \n",
    "    mag,lbl_count=struct.unpack(\">II\",lbl_f.read(8))#매직코드+레이블 갯수 \n",
    "    mag,img_count=struct.unpack(\"II\",img_f.read(8)) #매직코드 +이미지 개수\n",
    "    rows,cols=struct.unpack(\">II\",img_f.read(8))  #행,열 갯수\n",
    "    pixels=rows *cols  #전체 raw 데이터의 수\n",
    "    \n",
    "    if DEBUG:\n",
    "        print('lbl_count:,img_count {}'.format(lbl_count,img_count))\n",
    "        print('rows {},cols {:}'.format(rows,cols))\n",
    "    \n",
    "    #(2) 이미지 데이터를 읽고 csv로 저장\n",
    "    for idx in range(lbl_count):\n",
    "        if idx > maxdata:break\n",
    "        \n",
    "        #숫자이미지 데이터가 의미하는 숫자값 읽기\n",
    "        #튜플타입 리턴 -> 1개 데이터 (value,)\n",
    "        label=struct.unpack(\"B\",lbl_f.read(1))[0]\n",
    "        if DEBUG:print('label =>{}'.format(label))\n",
    "        \n",
    "        #이미지 데이터 읽기 \n",
    "        bdata=img_f.read(pixels)\n",
    "        sdata=list(map(lambda n:str(n),bdata)) #문자열로 변환\n",
    "        if DEBUG:print('sdata => {}'.format(sdata))\n",
    "        \n",
    "        #csv 파일에 쓰기 =>라벨,데이터1,데이터2,....데이터784,\n",
    "        csv_f.write(str(label)+\",\")     #숫자 라벨 쓰기\n",
    "        csv_f.write(','.join(sdata) +\"\\n\")  #문자열 변환 쓰기\n",
    "    \n",
    "    csv_f.close()\n",
    "    lbl_f.close()\n",
    "    img_f.close()\n",
    "    \n",
    "    #생성된 파일 존재 여부 확인 후 반환 \n",
    "    return os.path.exists(data_dir+f'{name}.csv')"
   ],
   "metadata": {
    "collapsed": false,
    "ExecuteTime": {
     "end_time": "2024-03-21T05:44:47.069979800Z",
     "start_time": "2024-03-21T05:44:47.047100500Z"
    }
   },
   "id": "fed2e5aef40e5961",
   "execution_count": 164
  },
  {
   "cell_type": "code",
   "outputs": [
    {
     "data": {
      "text/plain": "'../data/MNIST/train.csv'"
     },
     "execution_count": 165,
     "metadata": {},
     "output_type": "execute_result"
    }
   ],
   "source": [
    "name ='train'\n",
    "os.path.exists(data_dir+f'{name}.csv')\n",
    "data_dir+f'{name}.csv'"
   ],
   "metadata": {
    "collapsed": false,
    "ExecuteTime": {
     "end_time": "2024-03-21T05:44:47.089684200Z",
     "start_time": "2024-03-21T05:44:47.073063700Z"
    }
   },
   "id": "2ca6941442abe141",
   "execution_count": 165
  },
  {
   "cell_type": "code",
   "outputs": [
    {
     "data": {
      "text/plain": "True"
     },
     "execution_count": 166,
     "metadata": {},
     "output_type": "execute_result"
    }
   ],
   "source": [
    "# 학습용 데이터 파일 생성\n",
    "to_csv('train',10000)"
   ],
   "metadata": {
    "collapsed": false,
    "ExecuteTime": {
     "end_time": "2024-03-21T05:44:49.369855700Z",
     "start_time": "2024-03-21T05:44:47.093857Z"
    }
   },
   "id": "7eda6cb1a0d47eb8",
   "execution_count": 166
  },
  {
   "cell_type": "code",
   "outputs": [
    {
     "data": {
      "text/plain": "True"
     },
     "execution_count": 167,
     "metadata": {},
     "output_type": "execute_result"
    }
   ],
   "source": [
    "# 테스트용 데이터 파일 생성\n",
    "to_csv('t10k',1000)"
   ],
   "metadata": {
    "collapsed": false,
    "ExecuteTime": {
     "end_time": "2024-03-21T05:44:49.586952700Z",
     "start_time": "2024-03-21T05:44:49.371974400Z"
    }
   },
   "id": "1e2bbda9cf39921f",
   "execution_count": 167
  },
  {
   "cell_type": "markdown",
   "source": [
    "[3] 이미지 데이터 로딩 후 시각화 <hr>\n"
   ],
   "metadata": {
    "collapsed": false
   },
   "id": "4938f2f09914810c"
  },
  {
   "cell_type": "markdown",
   "source": [
    "[3-1] 이미지 데이터 로딩 csv =>  또는DataFrame 또는 Numpy"
   ],
   "metadata": {
    "collapsed": false
   },
   "id": "e877d02dd28289cf"
  },
  {
   "cell_type": "code",
   "outputs": [],
   "source": [
    "import pandas as pd\n",
    "import numpy as np"
   ],
   "metadata": {
    "collapsed": false,
    "ExecuteTime": {
     "end_time": "2024-03-21T05:44:49.619658900Z",
     "start_time": "2024-03-21T05:44:49.591071500Z"
    }
   },
   "id": "d2b321ca389571",
   "execution_count": 168
  },
  {
   "cell_type": "code",
   "outputs": [],
   "source": [
    "file='../data/MNIST/t10k.csv'"
   ],
   "metadata": {
    "collapsed": false,
    "ExecuteTime": {
     "end_time": "2024-03-21T05:44:49.621712600Z",
     "start_time": "2024-03-21T05:44:49.604652300Z"
    }
   },
   "id": "53d212b39201cfc",
   "execution_count": 169
  },
  {
   "cell_type": "code",
   "outputs": [],
   "source": [
    "testDF=pd.read_csv(file,header=None)"
   ],
   "metadata": {
    "collapsed": false,
    "ExecuteTime": {
     "end_time": "2024-03-21T05:44:49.710944700Z",
     "start_time": "2024-03-21T05:44:49.621712600Z"
    }
   },
   "id": "5c9ecb82f65e8389",
   "execution_count": 170
  },
  {
   "cell_type": "code",
   "outputs": [
    {
     "data": {
      "text/plain": "      0    1    2    3    4    5    6    7    8    9    ...  775  776  777  \\\n0       7    0    0    0    0    0    0    0    0    0  ...    0    0    0   \n1       2    0    0    0    0    0    0    0    0    0  ...    0    0    0   \n2       1    0    0    0    0    0    0    0    0    0  ...    0    0    0   \n3       0    0    0    0    0    0    0    0    0    0  ...    0    0    0   \n4       4    0    0    0    0    0    0    0    0    0  ...    0    0    0   \n...   ...  ...  ...  ...  ...  ...  ...  ...  ...  ...  ...  ...  ...  ...   \n996     2    0    0    0    0    0    0    0    0    0  ...    0    0    0   \n997     0    0    0    0    0    0    0    0    0    0  ...    0    0    0   \n998     8    0    0    0    0    0    0    0    0    0  ...    0    0    0   \n999     9    0    0    0    0    0    0    0    0    0  ...    0    0    0   \n1000    9    0    0    0    0    0    0    0    0    0  ...    0    0    0   \n\n      778  779  780  781  782  783  784  \n0       0    0    0    0    0    0    0  \n1       0    0    0    0    0    0    0  \n2       0    0    0    0    0    0    0  \n3       0    0    0    0    0    0    0  \n4       0    0    0    0    0    0    0  \n...   ...  ...  ...  ...  ...  ...  ...  \n996     0    0    0    0    0    0    0  \n997     0    0    0    0    0    0    0  \n998     0    0    0    0    0    0    0  \n999     0    0    0    0    0    0    0  \n1000    0    0    0    0    0    0    0  \n\n[1001 rows x 785 columns]",
      "text/html": "<div>\n<style scoped>\n    .dataframe tbody tr th:only-of-type {\n        vertical-align: middle;\n    }\n\n    .dataframe tbody tr th {\n        vertical-align: top;\n    }\n\n    .dataframe thead th {\n        text-align: right;\n    }\n</style>\n<table border=\"1\" class=\"dataframe\">\n  <thead>\n    <tr style=\"text-align: right;\">\n      <th></th>\n      <th>0</th>\n      <th>1</th>\n      <th>2</th>\n      <th>3</th>\n      <th>4</th>\n      <th>5</th>\n      <th>6</th>\n      <th>7</th>\n      <th>8</th>\n      <th>9</th>\n      <th>...</th>\n      <th>775</th>\n      <th>776</th>\n      <th>777</th>\n      <th>778</th>\n      <th>779</th>\n      <th>780</th>\n      <th>781</th>\n      <th>782</th>\n      <th>783</th>\n      <th>784</th>\n    </tr>\n  </thead>\n  <tbody>\n    <tr>\n      <th>0</th>\n      <td>7</td>\n      <td>0</td>\n      <td>0</td>\n      <td>0</td>\n      <td>0</td>\n      <td>0</td>\n      <td>0</td>\n      <td>0</td>\n      <td>0</td>\n      <td>0</td>\n      <td>...</td>\n      <td>0</td>\n      <td>0</td>\n      <td>0</td>\n      <td>0</td>\n      <td>0</td>\n      <td>0</td>\n      <td>0</td>\n      <td>0</td>\n      <td>0</td>\n      <td>0</td>\n    </tr>\n    <tr>\n      <th>1</th>\n      <td>2</td>\n      <td>0</td>\n      <td>0</td>\n      <td>0</td>\n      <td>0</td>\n      <td>0</td>\n      <td>0</td>\n      <td>0</td>\n      <td>0</td>\n      <td>0</td>\n      <td>...</td>\n      <td>0</td>\n      <td>0</td>\n      <td>0</td>\n      <td>0</td>\n      <td>0</td>\n      <td>0</td>\n      <td>0</td>\n      <td>0</td>\n      <td>0</td>\n      <td>0</td>\n    </tr>\n    <tr>\n      <th>2</th>\n      <td>1</td>\n      <td>0</td>\n      <td>0</td>\n      <td>0</td>\n      <td>0</td>\n      <td>0</td>\n      <td>0</td>\n      <td>0</td>\n      <td>0</td>\n      <td>0</td>\n      <td>...</td>\n      <td>0</td>\n      <td>0</td>\n      <td>0</td>\n      <td>0</td>\n      <td>0</td>\n      <td>0</td>\n      <td>0</td>\n      <td>0</td>\n      <td>0</td>\n      <td>0</td>\n    </tr>\n    <tr>\n      <th>3</th>\n      <td>0</td>\n      <td>0</td>\n      <td>0</td>\n      <td>0</td>\n      <td>0</td>\n      <td>0</td>\n      <td>0</td>\n      <td>0</td>\n      <td>0</td>\n      <td>0</td>\n      <td>...</td>\n      <td>0</td>\n      <td>0</td>\n      <td>0</td>\n      <td>0</td>\n      <td>0</td>\n      <td>0</td>\n      <td>0</td>\n      <td>0</td>\n      <td>0</td>\n      <td>0</td>\n    </tr>\n    <tr>\n      <th>4</th>\n      <td>4</td>\n      <td>0</td>\n      <td>0</td>\n      <td>0</td>\n      <td>0</td>\n      <td>0</td>\n      <td>0</td>\n      <td>0</td>\n      <td>0</td>\n      <td>0</td>\n      <td>...</td>\n      <td>0</td>\n      <td>0</td>\n      <td>0</td>\n      <td>0</td>\n      <td>0</td>\n      <td>0</td>\n      <td>0</td>\n      <td>0</td>\n      <td>0</td>\n      <td>0</td>\n    </tr>\n    <tr>\n      <th>...</th>\n      <td>...</td>\n      <td>...</td>\n      <td>...</td>\n      <td>...</td>\n      <td>...</td>\n      <td>...</td>\n      <td>...</td>\n      <td>...</td>\n      <td>...</td>\n      <td>...</td>\n      <td>...</td>\n      <td>...</td>\n      <td>...</td>\n      <td>...</td>\n      <td>...</td>\n      <td>...</td>\n      <td>...</td>\n      <td>...</td>\n      <td>...</td>\n      <td>...</td>\n      <td>...</td>\n    </tr>\n    <tr>\n      <th>996</th>\n      <td>2</td>\n      <td>0</td>\n      <td>0</td>\n      <td>0</td>\n      <td>0</td>\n      <td>0</td>\n      <td>0</td>\n      <td>0</td>\n      <td>0</td>\n      <td>0</td>\n      <td>...</td>\n      <td>0</td>\n      <td>0</td>\n      <td>0</td>\n      <td>0</td>\n      <td>0</td>\n      <td>0</td>\n      <td>0</td>\n      <td>0</td>\n      <td>0</td>\n      <td>0</td>\n    </tr>\n    <tr>\n      <th>997</th>\n      <td>0</td>\n      <td>0</td>\n      <td>0</td>\n      <td>0</td>\n      <td>0</td>\n      <td>0</td>\n      <td>0</td>\n      <td>0</td>\n      <td>0</td>\n      <td>0</td>\n      <td>...</td>\n      <td>0</td>\n      <td>0</td>\n      <td>0</td>\n      <td>0</td>\n      <td>0</td>\n      <td>0</td>\n      <td>0</td>\n      <td>0</td>\n      <td>0</td>\n      <td>0</td>\n    </tr>\n    <tr>\n      <th>998</th>\n      <td>8</td>\n      <td>0</td>\n      <td>0</td>\n      <td>0</td>\n      <td>0</td>\n      <td>0</td>\n      <td>0</td>\n      <td>0</td>\n      <td>0</td>\n      <td>0</td>\n      <td>...</td>\n      <td>0</td>\n      <td>0</td>\n      <td>0</td>\n      <td>0</td>\n      <td>0</td>\n      <td>0</td>\n      <td>0</td>\n      <td>0</td>\n      <td>0</td>\n      <td>0</td>\n    </tr>\n    <tr>\n      <th>999</th>\n      <td>9</td>\n      <td>0</td>\n      <td>0</td>\n      <td>0</td>\n      <td>0</td>\n      <td>0</td>\n      <td>0</td>\n      <td>0</td>\n      <td>0</td>\n      <td>0</td>\n      <td>...</td>\n      <td>0</td>\n      <td>0</td>\n      <td>0</td>\n      <td>0</td>\n      <td>0</td>\n      <td>0</td>\n      <td>0</td>\n      <td>0</td>\n      <td>0</td>\n      <td>0</td>\n    </tr>\n    <tr>\n      <th>1000</th>\n      <td>9</td>\n      <td>0</td>\n      <td>0</td>\n      <td>0</td>\n      <td>0</td>\n      <td>0</td>\n      <td>0</td>\n      <td>0</td>\n      <td>0</td>\n      <td>0</td>\n      <td>...</td>\n      <td>0</td>\n      <td>0</td>\n      <td>0</td>\n      <td>0</td>\n      <td>0</td>\n      <td>0</td>\n      <td>0</td>\n      <td>0</td>\n      <td>0</td>\n      <td>0</td>\n    </tr>\n  </tbody>\n</table>\n<p>1001 rows × 785 columns</p>\n</div>"
     },
     "execution_count": 171,
     "metadata": {},
     "output_type": "execute_result"
    }
   ],
   "source": [
    "testDF"
   ],
   "metadata": {
    "collapsed": false,
    "ExecuteTime": {
     "end_time": "2024-03-21T05:44:49.758567100Z",
     "start_time": "2024-03-21T05:44:49.716260900Z"
    }
   },
   "id": "69e6c09320b956d4",
   "execution_count": 171
  },
  {
   "cell_type": "code",
   "outputs": [
    {
     "data": {
      "text/plain": "0       7\n1       2\n2       1\n3       0\n4       4\n       ..\n996     2\n997     0\n998     8\n999     9\n1000    9\nName: 0, Length: 1001, dtype: int64"
     },
     "execution_count": 172,
     "metadata": {},
     "output_type": "execute_result"
    }
   ],
   "source": [
    "testDF[0]"
   ],
   "metadata": {
    "collapsed": false,
    "ExecuteTime": {
     "end_time": "2024-03-21T05:44:49.778286100Z",
     "start_time": "2024-03-21T05:44:49.747020800Z"
    }
   },
   "id": "2a248d4321f10bf2",
   "execution_count": 172
  },
  {
   "cell_type": "code",
   "outputs": [
    {
     "name": "stdout",
     "output_type": "stream",
     "text": [
      "<class 'pandas.core.frame.DataFrame'>\n",
      "RangeIndex: 10001 entries, 0 to 10000\n",
      "Columns: 785 entries, 0 to 784\n",
      "dtypes: int64(785)\n",
      "memory usage: 59.9 MB\n"
     ]
    }
   ],
   "source": [
    "trainDF=pd.read_csv('../data/MNIST/train.csv',header=None)\n",
    "trainDF.info()"
   ],
   "metadata": {
    "collapsed": false,
    "ExecuteTime": {
     "end_time": "2024-03-21T05:44:50.153168Z",
     "start_time": "2024-03-21T05:44:49.760629800Z"
    }
   },
   "id": "6c5ed7f6fd0621c6",
   "execution_count": 173
  },
  {
   "cell_type": "code",
   "outputs": [
    {
     "data": {
      "text/plain": "       0    1    2    3    4    5    6    7    8    9    ...  775  776  777  \\\n0        5    0    0    0    0    0    0    0    0    0  ...    0    0    0   \n1        0    0    0    0    0    0    0    0    0    0  ...    0    0    0   \n2        4    0    0    0    0    0    0    0    0    0  ...    0    0    0   \n3        1    0    0    0    0    0    0    0    0    0  ...    0    0    0   \n4        9    0    0    0    0    0    0    0    0    0  ...    0    0    0   \n...    ...  ...  ...  ...  ...  ...  ...  ...  ...  ...  ...  ...  ...  ...   \n9996     8    0    0    0    0    0    0    0    0    0  ...    0    0    0   \n9997     6    0    0    0    0    0    0    0    0    0  ...    0    0    0   \n9998     9    0    0    0    0    0    0    0    0    0  ...    0    0    0   \n9999     7    0    0    0    0    0    0    0    0    0  ...    0    0    0   \n10000    3    0    0    0    0    0    0    0    0    0  ...    0    0    0   \n\n       778  779  780  781  782  783  784  \n0        0    0    0    0    0    0    0  \n1        0    0    0    0    0    0    0  \n2        0    0    0    0    0    0    0  \n3        0    0    0    0    0    0    0  \n4        0    0    0    0    0    0    0  \n...    ...  ...  ...  ...  ...  ...  ...  \n9996     0    0    0    0    0    0    0  \n9997     0    0    0    0    0    0    0  \n9998     0    0    0    0    0    0    0  \n9999     0    0    0    0    0    0    0  \n10000    0    0    0    0    0    0    0  \n\n[10001 rows x 785 columns]",
      "text/html": "<div>\n<style scoped>\n    .dataframe tbody tr th:only-of-type {\n        vertical-align: middle;\n    }\n\n    .dataframe tbody tr th {\n        vertical-align: top;\n    }\n\n    .dataframe thead th {\n        text-align: right;\n    }\n</style>\n<table border=\"1\" class=\"dataframe\">\n  <thead>\n    <tr style=\"text-align: right;\">\n      <th></th>\n      <th>0</th>\n      <th>1</th>\n      <th>2</th>\n      <th>3</th>\n      <th>4</th>\n      <th>5</th>\n      <th>6</th>\n      <th>7</th>\n      <th>8</th>\n      <th>9</th>\n      <th>...</th>\n      <th>775</th>\n      <th>776</th>\n      <th>777</th>\n      <th>778</th>\n      <th>779</th>\n      <th>780</th>\n      <th>781</th>\n      <th>782</th>\n      <th>783</th>\n      <th>784</th>\n    </tr>\n  </thead>\n  <tbody>\n    <tr>\n      <th>0</th>\n      <td>5</td>\n      <td>0</td>\n      <td>0</td>\n      <td>0</td>\n      <td>0</td>\n      <td>0</td>\n      <td>0</td>\n      <td>0</td>\n      <td>0</td>\n      <td>0</td>\n      <td>...</td>\n      <td>0</td>\n      <td>0</td>\n      <td>0</td>\n      <td>0</td>\n      <td>0</td>\n      <td>0</td>\n      <td>0</td>\n      <td>0</td>\n      <td>0</td>\n      <td>0</td>\n    </tr>\n    <tr>\n      <th>1</th>\n      <td>0</td>\n      <td>0</td>\n      <td>0</td>\n      <td>0</td>\n      <td>0</td>\n      <td>0</td>\n      <td>0</td>\n      <td>0</td>\n      <td>0</td>\n      <td>0</td>\n      <td>...</td>\n      <td>0</td>\n      <td>0</td>\n      <td>0</td>\n      <td>0</td>\n      <td>0</td>\n      <td>0</td>\n      <td>0</td>\n      <td>0</td>\n      <td>0</td>\n      <td>0</td>\n    </tr>\n    <tr>\n      <th>2</th>\n      <td>4</td>\n      <td>0</td>\n      <td>0</td>\n      <td>0</td>\n      <td>0</td>\n      <td>0</td>\n      <td>0</td>\n      <td>0</td>\n      <td>0</td>\n      <td>0</td>\n      <td>...</td>\n      <td>0</td>\n      <td>0</td>\n      <td>0</td>\n      <td>0</td>\n      <td>0</td>\n      <td>0</td>\n      <td>0</td>\n      <td>0</td>\n      <td>0</td>\n      <td>0</td>\n    </tr>\n    <tr>\n      <th>3</th>\n      <td>1</td>\n      <td>0</td>\n      <td>0</td>\n      <td>0</td>\n      <td>0</td>\n      <td>0</td>\n      <td>0</td>\n      <td>0</td>\n      <td>0</td>\n      <td>0</td>\n      <td>...</td>\n      <td>0</td>\n      <td>0</td>\n      <td>0</td>\n      <td>0</td>\n      <td>0</td>\n      <td>0</td>\n      <td>0</td>\n      <td>0</td>\n      <td>0</td>\n      <td>0</td>\n    </tr>\n    <tr>\n      <th>4</th>\n      <td>9</td>\n      <td>0</td>\n      <td>0</td>\n      <td>0</td>\n      <td>0</td>\n      <td>0</td>\n      <td>0</td>\n      <td>0</td>\n      <td>0</td>\n      <td>0</td>\n      <td>...</td>\n      <td>0</td>\n      <td>0</td>\n      <td>0</td>\n      <td>0</td>\n      <td>0</td>\n      <td>0</td>\n      <td>0</td>\n      <td>0</td>\n      <td>0</td>\n      <td>0</td>\n    </tr>\n    <tr>\n      <th>...</th>\n      <td>...</td>\n      <td>...</td>\n      <td>...</td>\n      <td>...</td>\n      <td>...</td>\n      <td>...</td>\n      <td>...</td>\n      <td>...</td>\n      <td>...</td>\n      <td>...</td>\n      <td>...</td>\n      <td>...</td>\n      <td>...</td>\n      <td>...</td>\n      <td>...</td>\n      <td>...</td>\n      <td>...</td>\n      <td>...</td>\n      <td>...</td>\n      <td>...</td>\n      <td>...</td>\n    </tr>\n    <tr>\n      <th>9996</th>\n      <td>8</td>\n      <td>0</td>\n      <td>0</td>\n      <td>0</td>\n      <td>0</td>\n      <td>0</td>\n      <td>0</td>\n      <td>0</td>\n      <td>0</td>\n      <td>0</td>\n      <td>...</td>\n      <td>0</td>\n      <td>0</td>\n      <td>0</td>\n      <td>0</td>\n      <td>0</td>\n      <td>0</td>\n      <td>0</td>\n      <td>0</td>\n      <td>0</td>\n      <td>0</td>\n    </tr>\n    <tr>\n      <th>9997</th>\n      <td>6</td>\n      <td>0</td>\n      <td>0</td>\n      <td>0</td>\n      <td>0</td>\n      <td>0</td>\n      <td>0</td>\n      <td>0</td>\n      <td>0</td>\n      <td>0</td>\n      <td>...</td>\n      <td>0</td>\n      <td>0</td>\n      <td>0</td>\n      <td>0</td>\n      <td>0</td>\n      <td>0</td>\n      <td>0</td>\n      <td>0</td>\n      <td>0</td>\n      <td>0</td>\n    </tr>\n    <tr>\n      <th>9998</th>\n      <td>9</td>\n      <td>0</td>\n      <td>0</td>\n      <td>0</td>\n      <td>0</td>\n      <td>0</td>\n      <td>0</td>\n      <td>0</td>\n      <td>0</td>\n      <td>0</td>\n      <td>...</td>\n      <td>0</td>\n      <td>0</td>\n      <td>0</td>\n      <td>0</td>\n      <td>0</td>\n      <td>0</td>\n      <td>0</td>\n      <td>0</td>\n      <td>0</td>\n      <td>0</td>\n    </tr>\n    <tr>\n      <th>9999</th>\n      <td>7</td>\n      <td>0</td>\n      <td>0</td>\n      <td>0</td>\n      <td>0</td>\n      <td>0</td>\n      <td>0</td>\n      <td>0</td>\n      <td>0</td>\n      <td>0</td>\n      <td>...</td>\n      <td>0</td>\n      <td>0</td>\n      <td>0</td>\n      <td>0</td>\n      <td>0</td>\n      <td>0</td>\n      <td>0</td>\n      <td>0</td>\n      <td>0</td>\n      <td>0</td>\n    </tr>\n    <tr>\n      <th>10000</th>\n      <td>3</td>\n      <td>0</td>\n      <td>0</td>\n      <td>0</td>\n      <td>0</td>\n      <td>0</td>\n      <td>0</td>\n      <td>0</td>\n      <td>0</td>\n      <td>0</td>\n      <td>...</td>\n      <td>0</td>\n      <td>0</td>\n      <td>0</td>\n      <td>0</td>\n      <td>0</td>\n      <td>0</td>\n      <td>0</td>\n      <td>0</td>\n      <td>0</td>\n      <td>0</td>\n    </tr>\n  </tbody>\n</table>\n<p>10001 rows × 785 columns</p>\n</div>"
     },
     "execution_count": 174,
     "metadata": {},
     "output_type": "execute_result"
    }
   ],
   "source": [
    "trainDF"
   ],
   "metadata": {
    "collapsed": false,
    "ExecuteTime": {
     "end_time": "2024-03-21T05:44:50.195588100Z",
     "start_time": "2024-03-21T05:44:50.150106800Z"
    }
   },
   "id": "12add7206235aee8",
   "execution_count": 174
  },
  {
   "cell_type": "code",
   "outputs": [],
   "source": [
    "import matplotlib.pyplot as plt"
   ],
   "metadata": {
    "collapsed": false,
    "ExecuteTime": {
     "end_time": "2024-03-21T05:44:50.212240900Z",
     "start_time": "2024-03-21T05:44:50.183045300Z"
    }
   },
   "id": "f03a17588d3fd677",
   "execution_count": 175
  },
  {
   "cell_type": "code",
   "outputs": [
    {
     "data": {
      "text/plain": "((10001,), (10001, 784))"
     },
     "execution_count": 176,
     "metadata": {},
     "output_type": "execute_result"
    }
   ],
   "source": [
    "#이미지 데이터와 라벨 분리\n",
    "labels=trainDF[0]\n",
    "img_data= trainDF.iloc[:,1:]  #라벨은 떼고 이미지 데이터만 가지고 오기(컬럼 뗄때는 모든 행의 나머지 컬럼)\n",
    "#실수: trainDFP[1:]\n",
    "labels.shape,img_data.shape"
   ],
   "metadata": {
    "collapsed": false,
    "ExecuteTime": {
     "end_time": "2024-03-21T05:44:50.287452500Z",
     "start_time": "2024-03-21T05:44:50.199800400Z"
    }
   },
   "id": "13708c6c1e16e564",
   "execution_count": 176
  },
  {
   "cell_type": "markdown",
   "source": [
    "[3-2] 데이터 시각화"
   ],
   "metadata": {
    "collapsed": false
   },
   "id": "56fa88841c3a1459"
  },
  {
   "cell_type": "code",
   "outputs": [
    {
     "data": {
      "text/plain": "(numpy.ndarray, (784,), 1)"
     },
     "execution_count": 177,
     "metadata": {},
     "output_type": "execute_result"
    }
   ],
   "source": [
    "# 1D 이미지 데이터 => 2D 이미지 데이터 변환\n",
    "raw_img=img_data.iloc[0].values #0번원소의 nd.array화\n",
    "\n",
    "type(raw_img),raw_img.shape,raw_img.ndim"
   ],
   "metadata": {
    "collapsed": false,
    "ExecuteTime": {
     "end_time": "2024-03-21T05:44:50.289602500Z",
     "start_time": "2024-03-21T05:44:50.214352100Z"
    }
   },
   "id": "dea25f8462f26dc9",
   "execution_count": 177
  },
  {
   "cell_type": "code",
   "outputs": [
    {
     "data": {
      "text/plain": "(numpy.ndarray, (28, 28), 2)"
     },
     "execution_count": 178,
     "metadata": {},
     "output_type": "execute_result"
    }
   ],
   "source": [
    "raw_img=raw_img.reshape(28,28)\n",
    "#raw_img.reshape(-1,28)\n",
    "type(raw_img),raw_img.shape,raw_img.ndim"
   ],
   "metadata": {
    "collapsed": false,
    "ExecuteTime": {
     "end_time": "2024-03-21T05:44:50.290601500Z",
     "start_time": "2024-03-21T05:44:50.229025700Z"
    }
   },
   "id": "29518d8de39951f1",
   "execution_count": 178
  },
  {
   "cell_type": "code",
   "outputs": [
    {
     "data": {
      "text/plain": "<Figure size 640x480 with 1 Axes>",
      "image/png": "[encoded data removed]"
     },
     "metadata": {},
     "output_type": "display_data"
    }
   ],
   "source": [
    "#시각화\n",
    "plt.imshow(raw_img)\n",
    "plt.title(labels[0],fontsize='xx-large')\n",
    "plt.show()"
   ],
   "metadata": {
    "collapsed": false,
    "ExecuteTime": {
     "end_time": "2024-03-21T05:44:50.413015300Z",
     "start_time": "2024-03-21T05:44:50.261258800Z"
    }
   },
   "id": "cf524d22b9b7ba3",
   "execution_count": 179
  },
  {
   "cell_type": "code",
   "outputs": [
    {
     "data": {
      "text/plain": "<Figure size 640x480 with 1 Axes>",
      "image/png": "[encoded data removed]"
     },
     "metadata": {},
     "output_type": "display_data"
    }
   ],
   "source": [
    "#시각화\n",
    "\n",
    "plt.imshow(raw_img,cmap='gray')\n",
    "plt.title(f'[IMAGE LABEL {labels[0]}]')\n",
    "plt.axis('off') # 축과 이름들을 제거\n",
    "plt.show()"
   ],
   "metadata": {
    "collapsed": false,
    "ExecuteTime": {
     "end_time": "2024-03-21T05:44:50.505610200Z",
     "start_time": "2024-03-21T05:44:50.427032900Z"
    }
   },
   "id": "320794f7d5ccc3c7",
   "execution_count": 180
  },
  {
   "cell_type": "code",
   "outputs": [],
   "source": [],
   "metadata": {
    "collapsed": false,
    "ExecuteTime": {
     "end_time": "2024-03-21T05:44:50.534905800Z",
     "start_time": "2024-03-21T05:44:50.506687200Z"
    }
   },
   "id": "7b8ebcf63391208f",
   "execution_count": 180
  }
 ],
 "metadata": {
  "kernelspec": {
   "display_name": "Python 3",
   "language": "python",
   "name": "python3"
  },
  "language_info": {
   "codemirror_mode": {
    "name": "ipython",
    "version": 2
   },
   "file_extension": ".py",
   "mimetype": "text/x-python",
   "name": "python",
   "nbconvert_exporter": "python",
   "pygments_lexer": "ipython2",
   "version": "2.7.6"
  }
 },
 "nbformat": 4,
 "nbformat_minor": 5
}
