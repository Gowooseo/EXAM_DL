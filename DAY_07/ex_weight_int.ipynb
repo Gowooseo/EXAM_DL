{
 "cells": [
  {
   "cell_type": "code",
   "execution_count": 54,
   "id": "initial_id",
   "metadata": {
    "collapsed": true,
    "ExecuteTime": {
     "end_time": "2024-03-19T02:33:25.088154Z",
     "start_time": "2024-03-19T02:33:25.015355300Z"
    }
   },
   "outputs": [],
   "source": [
    "### 해결방법 - Weight initialization:세이비어(Xavie)/ 글로럿(Glorot)"
   ]
  },
  {
   "cell_type": "code",
   "outputs": [],
   "source": [
    "\n",
    "import torch\n",
    "import torch.nn as nn\n",
    "\n",
    "\n",
    "class Net(nn.Module):\n",
    "    # 모델의 구성요소 생성및 구조 설정 : init의 역할\n",
    "    def __init__ (self):\n",
    "        super(Net, self) .__init__() #Net,self 써도 되고 안써도 됨\n",
    "\n",
    "        self.fc1 = nn.Linear(8, 4)\n",
    "        self.fc2 = nn.Linear(4, 2)\n",
    "        self.drop=nn.Dropout(0.5)\n",
    "        self.fc3 = nn.Linear(2, 1)\n",
    "\n",
    "    def forward(self, x):\n",
    "        return self.fc3(self.fc2(self.fc1(x)))"
   ],
   "metadata": {
    "collapsed": false,
    "ExecuteTime": {
     "end_time": "2024-03-19T02:36:11.868276400Z",
     "start_time": "2024-03-19T02:36:11.852037100Z"
    }
   },
   "id": "589bbfa9b44ad48b",
   "execution_count": 73
  },
  {
   "cell_type": "code",
   "outputs": [],
   "source": [
    "## 모델 인스턴스 생성\n",
    "model=Net()\n"
   ],
   "metadata": {
    "collapsed": false,
    "ExecuteTime": {
     "end_time": "2024-03-19T02:36:12.279032400Z",
     "start_time": "2024-03-19T02:36:12.266465900Z"
    }
   },
   "id": "3345a49893ba9288",
   "execution_count": 74
  },
  {
   "cell_type": "code",
   "outputs": [
    {
     "data": {
      "text/plain": "Linear(in_features=8, out_features=4, bias=True)"
     },
     "execution_count": 75,
     "metadata": {},
     "output_type": "execute_result"
    }
   ],
   "source": [
    "## 모델 인스턴스 속성 확인 \n",
    "model.fc1"
   ],
   "metadata": {
    "collapsed": false,
    "ExecuteTime": {
     "end_time": "2024-03-19T02:36:12.680642900Z",
     "start_time": "2024-03-19T02:36:12.663808900Z"
    }
   },
   "id": "7874454caca59640",
   "execution_count": 75
  },
  {
   "cell_type": "code",
   "outputs": [
    {
     "data": {
      "text/plain": "(Parameter containing:\n tensor([[-0.2605,  0.1839, -0.2204, -0.4311],\n         [-0.4066, -0.4993,  0.0245, -0.0121]], requires_grad=True),\n Parameter containing:\n tensor([ 0.1570, -0.3092], requires_grad=True))"
     },
     "execution_count": 76,
     "metadata": {},
     "output_type": "execute_result"
    }
   ],
   "source": [
    "##모델 인스턴스 속성 확인\n",
    "# 모델의 특정 층 추출\n",
    "model.fc2.weight,model.fc2.bias"
   ],
   "metadata": {
    "collapsed": false,
    "ExecuteTime": {
     "end_time": "2024-03-19T02:36:13.121397100Z",
     "start_time": "2024-03-19T02:36:13.109976100Z"
    }
   },
   "id": "af609a476f4d7b0",
   "execution_count": 76
  },
  {
   "cell_type": "code",
   "outputs": [
    {
     "data": {
      "text/plain": "<generator object Module.parameters at 0x0000025408182EB0>"
     },
     "execution_count": 77,
     "metadata": {},
     "output_type": "execute_result"
    }
   ],
   "source": [
    "model.parameters()"
   ],
   "metadata": {
    "collapsed": false,
    "ExecuteTime": {
     "end_time": "2024-03-19T02:36:13.506342500Z",
     "start_time": "2024-03-19T02:36:13.488142800Z"
    }
   },
   "id": "ca1d953712023594",
   "execution_count": 77
  },
  {
   "cell_type": "code",
   "outputs": [
    {
     "name": "stdout",
     "output_type": "stream",
     "text": [
      "Parameter containing:\n",
      "tensor([[ 0.2680,  0.3532,  0.2671,  0.2760,  0.0639,  0.1784,  0.2104,  0.0564],\n",
      "        [ 0.2733,  0.3373, -0.0631, -0.0470,  0.0129,  0.2844,  0.0695,  0.3471],\n",
      "        [-0.1461, -0.2350,  0.2121, -0.2499,  0.0563, -0.1474, -0.1785, -0.0705],\n",
      "        [ 0.1199, -0.0372, -0.0717,  0.2585,  0.3214,  0.0327, -0.3454,  0.1715]],\n",
      "       requires_grad=True)\n",
      "\n",
      "Parameter containing:\n",
      "tensor([-0.3031, -0.1762, -0.1581,  0.2913], requires_grad=True)\n",
      "\n",
      "Parameter containing:\n",
      "tensor([[-0.2605,  0.1839, -0.2204, -0.4311],\n",
      "        [-0.4066, -0.4993,  0.0245, -0.0121]], requires_grad=True)\n",
      "\n",
      "Parameter containing:\n",
      "tensor([ 0.1570, -0.3092], requires_grad=True)\n",
      "\n",
      "Parameter containing:\n",
      "tensor([[0.6560, 0.4216]], requires_grad=True)\n",
      "\n",
      "Parameter containing:\n",
      "tensor([0.2945], requires_grad=True)\n"
     ]
    }
   ],
   "source": [
    "for param in model.parameters():\n",
    "    print(param,end='\\n\\n')"
   ],
   "metadata": {
    "collapsed": false,
    "ExecuteTime": {
     "end_time": "2024-03-19T02:36:13.933671700Z",
     "start_time": "2024-03-19T02:36:13.902944400Z"
    }
   },
   "id": "ca5b030693497c1",
   "execution_count": 78
  },
  {
   "cell_type": "code",
   "outputs": [
    {
     "name": "stdout",
     "output_type": "stream",
     "text": [
      "('fc1.weight', Parameter containing:\n",
      "tensor([[ 0.2680,  0.3532,  0.2671,  0.2760,  0.0639,  0.1784,  0.2104,  0.0564],\n",
      "        [ 0.2733,  0.3373, -0.0631, -0.0470,  0.0129,  0.2844,  0.0695,  0.3471],\n",
      "        [-0.1461, -0.2350,  0.2121, -0.2499,  0.0563, -0.1474, -0.1785, -0.0705],\n",
      "        [ 0.1199, -0.0372, -0.0717,  0.2585,  0.3214,  0.0327, -0.3454,  0.1715]],\n",
      "       requires_grad=True))\n",
      "\n",
      "('fc1.bias', Parameter containing:\n",
      "tensor([-0.3031, -0.1762, -0.1581,  0.2913], requires_grad=True))\n",
      "\n",
      "('fc2.weight', Parameter containing:\n",
      "tensor([[-0.2605,  0.1839, -0.2204, -0.4311],\n",
      "        [-0.4066, -0.4993,  0.0245, -0.0121]], requires_grad=True))\n",
      "\n",
      "('fc2.bias', Parameter containing:\n",
      "tensor([ 0.1570, -0.3092], requires_grad=True))\n",
      "\n",
      "('fc3.weight', Parameter containing:\n",
      "tensor([[0.6560, 0.4216]], requires_grad=True))\n",
      "\n",
      "('fc3.bias', Parameter containing:\n",
      "tensor([0.2945], requires_grad=True))\n"
     ]
    }
   ],
   "source": [
    "for param in model.named_parameters():\n",
    "    print(param,end='\\n\\n')"
   ],
   "metadata": {
    "collapsed": false,
    "ExecuteTime": {
     "end_time": "2024-03-19T02:36:14.314123300Z",
     "start_time": "2024-03-19T02:36:14.287772800Z"
    }
   },
   "id": "8a5a6589be70a869",
   "execution_count": 79
  },
  {
   "cell_type": "markdown",
   "source": [
    "[배치 정규화]"
   ],
   "metadata": {
    "collapsed": false
   },
   "id": "8941889fae608023"
  },
  {
   "cell_type": "code",
   "outputs": [],
   "source": [],
   "metadata": {
    "collapsed": false,
    "ExecuteTime": {
     "end_time": "2024-03-19T02:36:15.104735700Z",
     "start_time": "2024-03-19T02:36:15.084314400Z"
    }
   },
   "id": "f7cf0d980aae7fc",
   "execution_count": 79
  },
  {
   "cell_type": "code",
   "outputs": [],
   "source": [
    "\n",
    "\n",
    "class Model(nn.Module):\n",
    "\n",
    "    def __init__(self):\n",
    "\n",
    "        super(Model, self) .__init__()\n",
    "        self.fc1 = nn.Linear(100, 50)\n",
    "        \n",
    "        self.bn = nn.BatchNorm1d(num_features=50)\n",
    "        \n",
    "        self.relu = nn. ReLU()\n",
    "        \n",
    "        self.fc2 = nn.Linear(50, 10)"
   ],
   "metadata": {
    "collapsed": false,
    "ExecuteTime": {
     "end_time": "2024-03-19T02:36:15.631932600Z",
     "start_time": "2024-03-19T02:36:15.623496100Z"
    }
   },
   "id": "1a6615fe688cc0ad",
   "execution_count": 80
  },
  {
   "cell_type": "code",
   "outputs": [],
   "source": [
    "def forward(self, x):\n",
    "    X = self.fc1(x)\n",
    "    \n",
    "    X = self.bn(x)\n",
    "    \n",
    "    X = self.relu(x)\n",
    "    X = self.fc2(x)\n",
    "\n",
    "    return x"
   ],
   "metadata": {
    "collapsed": false,
    "ExecuteTime": {
     "end_time": "2024-03-19T02:36:16.098837600Z",
     "start_time": "2024-03-19T02:36:16.077760700Z"
    }
   },
   "id": "4d40b65e8d157564",
   "execution_count": 81
  },
  {
   "cell_type": "markdown",
   "source": [
    "- Layer의 가중치 설정"
   ],
   "metadata": {
    "collapsed": false
   },
   "id": "6d108509a6327f37"
  },
  {
   "cell_type": "code",
   "outputs": [
    {
     "data": {
      "text/plain": "Parameter containing:\ntensor([[ 0.1554,  0.6223,  0.2500, -0.4702,  0.1257, -0.4717, -0.1931,  0.2636],\n        [-0.0707, -0.3300,  0.3307, -0.3116, -0.5571,  0.3389,  0.2910, -0.1462],\n        [ 0.1441,  0.3044, -0.4545, -0.3346, -0.5489, -0.3784,  0.2287,  0.4932],\n        [-0.4235, -0.0176, -0.6251, -0.5711,  0.2378,  0.5422, -0.3689,  0.2213]],\n       requires_grad=True)"
     },
     "execution_count": 82,
     "metadata": {},
     "output_type": "execute_result"
    }
   ],
   "source": [
    "#uniform_으로 가중치 설정 \n",
    "nn.init.xavier_uniform_(model.fc1.weight)"
   ],
   "metadata": {
    "collapsed": false,
    "ExecuteTime": {
     "end_time": "2024-03-19T02:36:16.923498500Z",
     "start_time": "2024-03-19T02:36:16.897879200Z"
    }
   },
   "id": "a8c1f28801eae20b",
   "execution_count": 82
  },
  {
   "cell_type": "code",
   "outputs": [
    {
     "data": {
      "text/plain": "Parameter containing:\ntensor([[-0.0870,  0.3105, -0.1689,  0.3151, -0.6863, -0.2206,  0.3487,  0.2177],\n        [-0.1214, -0.0723, -0.3344, -0.1738,  0.3212, -0.0304, -0.5774, -0.2960],\n        [ 0.3694, -0.2712,  0.2083,  0.5218, -0.5150,  0.0834,  0.3444,  0.1706],\n        [ 0.5520, -0.5483,  0.4512, -0.6357, -0.5089,  0.2187, -0.5845, -0.5158]],\n       requires_grad=True)"
     },
     "execution_count": 83,
     "metadata": {},
     "output_type": "execute_result"
    }
   ],
   "source": [
    "# 세비어 알고리즘의 가중치 초기화 \n",
    "nn.init.xavier_uniform_(model.fc1.weight)"
   ],
   "metadata": {
    "collapsed": false,
    "ExecuteTime": {
     "end_time": "2024-03-19T02:36:17.303285900Z",
     "start_time": "2024-03-19T02:36:17.295985Z"
    }
   },
   "id": "4e53d074ae64db8",
   "execution_count": 83
  },
  {
   "cell_type": "code",
   "outputs": [
    {
     "data": {
      "text/plain": "Parameter containing:\ntensor([[-0.1286, -0.8120, -0.5381,  0.5872,  0.0491,  0.5878,  0.4934, -0.6117],\n        [-0.3627, -0.5486, -0.8242,  0.5452,  0.0948,  0.6776,  0.4105,  0.5690],\n        [ 0.4423, -0.7748, -0.4785,  0.5208, -0.3668,  0.4940, -0.8572, -0.7170],\n        [ 0.0145, -0.7747,  0.6040, -0.0613, -0.3996, -0.3077,  0.2178,  0.4900]],\n       requires_grad=True)"
     },
     "execution_count": 84,
     "metadata": {},
     "output_type": "execute_result"
    }
   ],
   "source": [
    "#헤 알고리즘의 가중치 초기화(kaiming he씨에 의해 만들어졌음)\n",
    "nn.init.kaiming_uniform_(model.fc1.weight)"
   ],
   "metadata": {
    "collapsed": false,
    "ExecuteTime": {
     "end_time": "2024-03-19T02:36:17.692807700Z",
     "start_time": "2024-03-19T02:36:17.672748800Z"
    }
   },
   "id": "b61c0dade7837f70",
   "execution_count": 84
  },
  {
   "cell_type": "code",
   "outputs": [
    {
     "ename": "AttributeError",
     "evalue": "'Dropout' object has no attribute 'weight'",
     "output_type": "error",
     "traceback": [
      "\u001B[1;31m---------------------------------------------------------------------------\u001B[0m",
      "\u001B[1;31mAttributeError\u001B[0m                            Traceback (most recent call last)",
      "Cell \u001B[1;32mIn[85], line 3\u001B[0m\n\u001B[0;32m      1\u001B[0m \u001B[38;5;66;03m# 해결 방법\u001B[39;00m\n\u001B[0;32m      2\u001B[0m \u001B[38;5;28;01mfor\u001B[39;00m name,child \u001B[38;5;129;01min\u001B[39;00m model\u001B[38;5;241m.\u001B[39mnamed_children():\n\u001B[1;32m----> 3\u001B[0m     nn\u001B[38;5;241m.\u001B[39minit\u001B[38;5;241m.\u001B[39mxavier_uniform_(\u001B[43mchild\u001B[49m\u001B[38;5;241;43m.\u001B[39;49m\u001B[43mweight\u001B[49m)\n",
      "File \u001B[1;32mC:\\ProgramData\\anaconda3\\envs\\Torch_PY38\\lib\\site-packages\\torch\\nn\\modules\\module.py:1688\u001B[0m, in \u001B[0;36mModule.__getattr__\u001B[1;34m(self, name)\u001B[0m\n\u001B[0;32m   1686\u001B[0m     \u001B[38;5;28;01mif\u001B[39;00m name \u001B[38;5;129;01min\u001B[39;00m modules:\n\u001B[0;32m   1687\u001B[0m         \u001B[38;5;28;01mreturn\u001B[39;00m modules[name]\n\u001B[1;32m-> 1688\u001B[0m \u001B[38;5;28;01mraise\u001B[39;00m \u001B[38;5;167;01mAttributeError\u001B[39;00m(\u001B[38;5;124mf\u001B[39m\u001B[38;5;124m\"\u001B[39m\u001B[38;5;124m'\u001B[39m\u001B[38;5;132;01m{\u001B[39;00m\u001B[38;5;28mtype\u001B[39m(\u001B[38;5;28mself\u001B[39m)\u001B[38;5;241m.\u001B[39m\u001B[38;5;18m__name__\u001B[39m\u001B[38;5;132;01m}\u001B[39;00m\u001B[38;5;124m'\u001B[39m\u001B[38;5;124m object has no attribute \u001B[39m\u001B[38;5;124m'\u001B[39m\u001B[38;5;132;01m{\u001B[39;00mname\u001B[38;5;132;01m}\u001B[39;00m\u001B[38;5;124m'\u001B[39m\u001B[38;5;124m\"\u001B[39m)\n",
      "\u001B[1;31mAttributeError\u001B[0m: 'Dropout' object has no attribute 'weight'"
     ]
    }
   ],
   "source": [
    "# 해결 방법\n",
    "for name,child in model.named_children():\n",
    "    nn.init.xavier_uniform_(child.weight)"
   ],
   "metadata": {
    "collapsed": false,
    "ExecuteTime": {
     "end_time": "2024-03-19T02:36:18.115482500Z",
     "start_time": "2024-03-19T02:36:18.079946200Z"
    }
   },
   "id": "2b913ece15d78662",
   "execution_count": 85
  },
  {
   "cell_type": "code",
   "outputs": [],
   "source": [
    "#fc2,fc3 layer에 대하여 xavier normal initialization 설정\n",
    "for name,child in model.named_children():\n",
    "    for param in child.parameters():\n",
    "        if name in ['fc2','fc3']: #원하는 layer 이름 지정\n",
    "            nn.init.xavier_normal_(child.weight)"
   ],
   "metadata": {
    "collapsed": false,
    "ExecuteTime": {
     "end_time": "2024-03-19T02:36:18.485952100Z",
     "start_time": "2024-03-19T02:36:18.461478900Z"
    }
   },
   "id": "834038476cfb3eec",
   "execution_count": 86
  },
  {
   "cell_type": "code",
   "outputs": [
    {
     "name": "stdout",
     "output_type": "stream",
     "text": [
      "Linear(in_features=8, out_features=4, bias=True)\n",
      "\n",
      "Linear(in_features=4, out_features=2, bias=True)\n",
      "\n",
      "Dropout(p=0.5, inplace=False)\n",
      "\n",
      "Linear(in_features=2, out_features=1, bias=True)\n",
      "\n",
      "('fc1', Linear(in_features=8, out_features=4, bias=True))\n",
      "\n",
      "('fc2', Linear(in_features=4, out_features=2, bias=True))\n",
      "\n",
      "('drop', Dropout(p=0.5, inplace=False))\n",
      "\n",
      "('fc3', Linear(in_features=2, out_features=1, bias=True))\n"
     ]
    }
   ],
   "source": [
    "#모델 구성 모든 레이어 가져오기\n",
    "for child in model.children():\n",
    "    print(child,end='\\n\\n')\n",
    "\n",
    "for child in model.named_children():\n",
    "    print(child,end='\\n\\n')"
   ],
   "metadata": {
    "collapsed": false,
    "ExecuteTime": {
     "end_time": "2024-03-19T02:36:19.069261300Z",
     "start_time": "2024-03-19T02:36:19.060871400Z"
    }
   },
   "id": "b4e6948cc9c2e0ff",
   "execution_count": 87
  },
  {
   "cell_type": "markdown",
   "source": [
    "## [텐서 보드]"
   ],
   "metadata": {
    "collapsed": false
   },
   "id": "9ec291c3d8fbcba8"
  },
  {
   "cell_type": "code",
   "outputs": [],
   "source": [
    "# 텐서플로우를 시각화 해주는 친구"
   ],
   "metadata": {
    "collapsed": false,
    "ExecuteTime": {
     "end_time": "2024-03-19T02:36:20.050863200Z",
     "start_time": "2024-03-19T02:36:20.034496600Z"
    }
   },
   "id": "f7f4c610697eedd0",
   "execution_count": 88
  },
  {
   "cell_type": "code",
   "outputs": [],
   "source": [],
   "metadata": {
    "collapsed": false,
    "ExecuteTime": {
     "end_time": "2024-03-19T02:36:20.449557900Z",
     "start_time": "2024-03-19T02:36:20.419817600Z"
    }
   },
   "id": "4b9d848e3ca91eac",
   "execution_count": 88
  },
  {
   "cell_type": "code",
   "outputs": [
    {
     "name": "stdout",
     "output_type": "stream",
     "text": [
      "Net(\n",
      "  (fc1): Linear(in_features=8, out_features=4, bias=True)\n",
      "  (fc2): Linear(in_features=4, out_features=2, bias=True)\n",
      "  (drop): Dropout(p=0.5, inplace=False)\n",
      "  (fc3): Linear(in_features=2, out_features=1, bias=True)\n",
      ")\n"
     ]
    },
    {
     "data": {
      "text/plain": "=================================================================\nLayer (type:depth-idx)                   Param #\n=================================================================\nNet                                      --\n├─Linear: 1-1                            36\n├─Linear: 1-2                            10\n├─Dropout: 1-3                           --\n├─Linear: 1-4                            3\n=================================================================\nTotal params: 49\nTrainable params: 49\nNon-trainable params: 0\n================================================================="
     },
     "execution_count": 89,
     "metadata": {},
     "output_type": "execute_result"
    }
   ],
   "source": [
    "model=Net()\n",
    "print(model)\n",
    "\n",
    "from torchinfo import summary\n",
    "summary(model) #Param # 은 각 가중치와 bias의 개수(9(8+1)*4=36,)=피쳐 개수+bias 1개* 퍼셉트론 개수\n",
    "#drop ㅐㅕㅅdms dustksdmf dksgksek. "
   ],
   "metadata": {
    "collapsed": false,
    "ExecuteTime": {
     "end_time": "2024-03-19T02:36:20.810902300Z",
     "start_time": "2024-03-19T02:36:20.804424500Z"
    }
   },
   "id": "4de251179682c6e7",
   "execution_count": 89
  },
  {
   "cell_type": "code",
   "outputs": [],
   "source": [
    "# 파일 저장 방법"
   ],
   "metadata": {
    "collapsed": false,
    "ExecuteTime": {
     "end_time": "2024-03-19T02:36:21.218601400Z",
     "start_time": "2024-03-19T02:36:21.192962500Z"
    }
   },
   "id": "1d32942de120fc9d",
   "execution_count": 89
  },
  {
   "cell_type": "code",
   "outputs": [],
   "source": [
    "# torch.save(model,'../data/model/mymodel.pt')\n"
   ],
   "metadata": {
    "collapsed": false
   },
   "id": "dacc72778830aca9"
  },
  {
   "cell_type": "code",
   "outputs": [],
   "source": [
    "# mymodel=torch.load('../data/model/mymodel.pt')\n",
    "# mymodel"
   ],
   "metadata": {
    "collapsed": false
   },
   "id": "440103249cb6635c"
  },
  {
   "cell_type": "code",
   "outputs": [],
   "source": [
    "### ===> 검증 및 테스트 진행함수 \n",
    "# def testing(data):\n",
    "    # 학습모드 => 정규화,경사하강법,드랍아웃 등의 기능 활성화\n",
    "# MODEL.eval()\n",
    "# \n",
    "# with torch.no_grad():\n",
    "#     \n",
    "#     data=data.to(DEVICE)\n",
    "#     \n",
    "#     #학습 \n",
    "#     pre_target =MODEL(data)\n",
    "#     \n",
    "#     F.softmax(pre_target)\n",
    "#     \n",
    "    "
   ],
   "metadata": {
    "collapsed": false,
    "ExecuteTime": {
     "end_time": "2024-03-19T04:20:31.522773200Z",
     "start_time": "2024-03-19T04:20:31.514286100Z"
    }
   },
   "id": "a2dc0d10beb1b4a6",
   "execution_count": 90
  }
 ],
 "metadata": {
  "kernelspec": {
   "display_name": "Python 3",
   "language": "python",
   "name": "python3"
  },
  "language_info": {
   "codemirror_mode": {
    "name": "ipython",
    "version": 2
   },
   "file_extension": ".py",
   "mimetype": "text/x-python",
   "name": "python",
   "nbconvert_exporter": "python",
   "pygments_lexer": "ipython2",
   "version": "2.7.6"
  }
 },
 "nbformat": 4,
 "nbformat_minor": 5
}
