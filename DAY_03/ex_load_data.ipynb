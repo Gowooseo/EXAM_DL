{
 "cells": [
  {
   "cell_type": "markdown",
   "source": [
    "### 데이터 로딩 및 텐서 변환 <hr>"
   ],
   "metadata": {
    "collapsed": false
   },
   "id": "884fd286d12a037d"
  },
  {
   "cell_type": "markdown",
   "source": [
    "# 모듈 로딩\n"
   ],
   "metadata": {
    "collapsed": false
   },
   "id": "a6ac5ee3b90887f1"
  },
  {
   "cell_type": "code",
   "outputs": [],
   "source": [
    "import imageio.v2 as imageio   #이미지 데이터 관련 모듈\n",
    "import torch     # Pytorch 텐서 및 기본 함수 관련 모듈"
   ],
   "metadata": {
    "collapsed": false,
    "ExecuteTime": {
     "end_time": "2024-03-13T04:56:23.905899700Z",
     "start_time": "2024-03-13T04:56:23.891353400Z"
    }
   },
   "id": "5308b4fe751d48ad",
   "execution_count": 5
  },
  {
   "cell_type": "code",
   "outputs": [],
   "source": [
    "# 이미지 데이터 로딩\n",
    "filename='../data/빽어택.jpg'"
   ],
   "metadata": {
    "collapsed": false,
    "ExecuteTime": {
     "end_time": "2024-03-13T04:56:24.336323200Z",
     "start_time": "2024-03-13T04:56:24.323700600Z"
    }
   },
   "id": "fe1da8d0e9b57f15",
   "execution_count": 6
  },
  {
   "cell_type": "code",
   "outputs": [],
   "source": [
    "img_data=imageio.imread(filename)"
   ],
   "metadata": {
    "collapsed": false,
    "ExecuteTime": {
     "end_time": "2024-03-13T04:56:42.620264Z",
     "start_time": "2024-03-13T04:56:42.602552900Z"
    }
   },
   "id": "c1d581f8d03ce005",
   "execution_count": 8
  },
  {
   "cell_type": "code",
   "outputs": [
    {
     "name": "stdout",
     "output_type": "stream",
     "text": [
      "(419, 420, 3) 3\n"
     ]
    }
   ],
   "source": [
    "print(img_data.shape,img_data.ndim)"
   ],
   "metadata": {
    "collapsed": false,
    "ExecuteTime": {
     "end_time": "2024-03-13T04:57:50.280453800Z",
     "start_time": "2024-03-13T04:57:50.266188300Z"
    }
   },
   "id": "75976dd37be10bbf",
   "execution_count": 12
  },
  {
   "cell_type": "code",
   "outputs": [],
   "source": [
    "# ndarray => tensor 변환 :[행(높이),열(너비),채널]\n",
    "img_t1=torch.tensor(img_data)\n",
    "img_t2=torch.from_numpy(img_data)\n",
    "img_t3=torch.as_tensor(img_data)"
   ],
   "metadata": {
    "collapsed": false,
    "ExecuteTime": {
     "end_time": "2024-03-13T05:00:05.215464600Z",
     "start_time": "2024-03-13T05:00:05.199894700Z"
    }
   },
   "id": "344e232eb08e720d",
   "execution_count": 14
  },
  {
   "cell_type": "code",
   "outputs": [
    {
     "data": {
      "text/plain": "torch.Size([3, 419, 420])"
     },
     "execution_count": 16,
     "metadata": {},
     "output_type": "execute_result"
    }
   ],
   "source": [
    "#[행(높이),열(너비),채널] => [채널,행(높이),열(너비)]\n",
    "img_t1.permute(2,0,1).shape  #채널을 앞으로 보냈음"
   ],
   "metadata": {
    "collapsed": false,
    "ExecuteTime": {
     "end_time": "2024-03-13T05:02:31.788577400Z",
     "start_time": "2024-03-13T05:02:31.768201400Z"
    }
   },
   "id": "e623813139da8a5c",
   "execution_count": 16
  },
  {
   "cell_type": "code",
   "outputs": [],
   "source": [
    "import csv\n",
    "import numpy as np\n",
    "file='../data/winequality-white.csv'"
   ],
   "metadata": {
    "collapsed": false,
    "ExecuteTime": {
     "end_time": "2024-03-13T05:58:49.055558Z",
     "start_time": "2024-03-13T05:58:49.033692800Z"
    }
   },
   "id": "25946bc980f3e04",
   "execution_count": 19
  },
  {
   "cell_type": "markdown",
   "source": [
    "# [2-1] Pandas 사용한 데이터 로딩"
   ],
   "metadata": {
    "collapsed": false
   },
   "id": "32e95cf656d88202"
  },
  {
   "cell_type": "code",
   "outputs": [],
   "source": [
    "wineq_numpy=np.loadtxt(file,dtype=np.float32,delimiter=';',skiprows=1)  #skiprows= 필요없는 행 버리기,delimiter:구분자"
   ],
   "metadata": {
    "collapsed": false,
    "ExecuteTime": {
     "end_time": "2024-03-13T06:05:55.190439500Z",
     "start_time": "2024-03-13T06:05:55.174290Z"
    }
   },
   "id": "5551537dcc8473df",
   "execution_count": 25
  },
  {
   "cell_type": "code",
   "outputs": [
    {
     "data": {
      "text/plain": "array([[ 7.  ,  0.27,  0.36, ...,  0.45,  8.8 ,  6.  ],\n       [ 6.3 ,  0.3 ,  0.34, ...,  0.49,  9.5 ,  6.  ],\n       [ 8.1 ,  0.28,  0.4 , ...,  0.44, 10.1 ,  6.  ],\n       ...,\n       [ 6.5 ,  0.24,  0.19, ...,  0.46,  9.4 ,  6.  ],\n       [ 5.5 ,  0.29,  0.3 , ...,  0.38, 12.8 ,  7.  ],\n       [ 6.  ,  0.21,  0.38, ...,  0.32, 11.8 ,  6.  ]], dtype=float32)"
     },
     "execution_count": 21,
     "metadata": {},
     "output_type": "execute_result"
    }
   ],
   "source": [
    "wineq_numpy"
   ],
   "metadata": {
    "collapsed": false,
    "ExecuteTime": {
     "end_time": "2024-03-13T05:59:25.690106800Z",
     "start_time": "2024-03-13T05:59:25.667200500Z"
    }
   },
   "id": "a5bf913ff9109090",
   "execution_count": 21
  },
  {
   "cell_type": "code",
   "outputs": [],
   "source": [
    "col_list=next(csv.reader(open(file),delimiter=';'))"
   ],
   "metadata": {
    "collapsed": false,
    "ExecuteTime": {
     "end_time": "2024-03-13T06:01:21.585514900Z",
     "start_time": "2024-03-13T06:01:21.574026100Z"
    }
   },
   "id": "c662bfbe4c6d2d4b",
   "execution_count": 22
  },
  {
   "cell_type": "markdown",
   "source": [
    "# [2-2] Numpy 사용한 데이터 로딩"
   ],
   "metadata": {
    "collapsed": false
   },
   "id": "a665ca1673dd709b"
  },
  {
   "cell_type": "code",
   "outputs": [],
   "source": [
    "wineq=torch.from_numpy(wineq_numpy)"
   ],
   "metadata": {
    "collapsed": false,
    "ExecuteTime": {
     "end_time": "2024-03-13T06:01:56.735227500Z",
     "start_time": "2024-03-13T06:01:56.719403Z"
    }
   },
   "id": "6dd47747b51d10a",
   "execution_count": 23
  },
  {
   "cell_type": "code",
   "outputs": [
    {
     "data": {
      "text/plain": "(torch.Size([4898, 12]), torch.float32)"
     },
     "execution_count": 24,
     "metadata": {},
     "output_type": "execute_result"
    }
   ],
   "source": [
    "wineq.shape,wineq.dtype"
   ],
   "metadata": {
    "collapsed": false,
    "ExecuteTime": {
     "end_time": "2024-03-13T06:02:10.644046400Z",
     "start_time": "2024-03-13T06:02:10.599980300Z"
    }
   },
   "id": "a26773d5fc2488d7",
   "execution_count": 24
  },
  {
   "cell_type": "code",
   "outputs": [],
   "source": [
    "# _의 의미"
   ],
   "metadata": {
    "collapsed": false,
    "ExecuteTime": {
     "end_time": "2024-03-13T06:29:36.846991600Z",
     "start_time": "2024-03-13T06:29:36.835075100Z"
    }
   },
   "id": "defd9e614e7bb5de",
   "execution_count": 26
  },
  {
   "cell_type": "code",
   "outputs": [],
   "source": [
    "t1=torch.tensor([-2,-7])"
   ],
   "metadata": {
    "collapsed": false,
    "ExecuteTime": {
     "end_time": "2024-03-13T06:30:13.357288400Z",
     "start_time": "2024-03-13T06:30:13.330213200Z"
    }
   },
   "id": "87c4d89139bb2591",
   "execution_count": 28
  },
  {
   "cell_type": "code",
   "outputs": [
    {
     "data": {
      "text/plain": "(tensor([2, 7]), tensor([-2, -7]))"
     },
     "execution_count": 29,
     "metadata": {},
     "output_type": "execute_result"
    }
   ],
   "source": [
    "t1.abs(),t1"
   ],
   "metadata": {
    "collapsed": false,
    "ExecuteTime": {
     "end_time": "2024-03-13T06:30:13.692330400Z",
     "start_time": "2024-03-13T06:30:13.682831400Z"
    }
   },
   "id": "bc2f7e78092ba3e1",
   "execution_count": 29
  },
  {
   "cell_type": "code",
   "outputs": [
    {
     "data": {
      "text/plain": "(tensor([2, 7]), tensor([2, 7]))"
     },
     "execution_count": 30,
     "metadata": {},
     "output_type": "execute_result"
    }
   ],
   "source": [
    "t1.abs_(),t1"
   ],
   "metadata": {
    "collapsed": false,
    "ExecuteTime": {
     "end_time": "2024-03-13T06:30:14.039434600Z",
     "start_time": "2024-03-13T06:30:14.028954400Z"
    }
   },
   "id": "a04070781161fde9",
   "execution_count": 30
  },
  {
   "cell_type": "code",
   "outputs": [],
   "source": [],
   "metadata": {
    "collapsed": false
   },
   "id": "52e1d2236980329f"
  }
 ],
 "metadata": {
  "kernelspec": {
   "display_name": "Python 3",
   "language": "python",
   "name": "python3"
  },
  "language_info": {
   "codemirror_mode": {
    "name": "ipython",
    "version": 2
   },
   "file_extension": ".py",
   "mimetype": "text/x-python",
   "name": "python",
   "nbconvert_exporter": "python",
   "pygments_lexer": "ipython2",
   "version": "2.7.6"
  }
 },
 "nbformat": 4,
 "nbformat_minor": 5
}
