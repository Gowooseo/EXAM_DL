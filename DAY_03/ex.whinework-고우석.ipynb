{
 "cells": [
  {
   "cell_type": "code",
   "execution_count": 267,
   "id": "initial_id",
   "metadata": {
    "collapsed": true,
    "ExecuteTime": {
     "end_time": "2024-03-13T10:37:34.303801700Z",
     "start_time": "2024-03-13T10:37:34.192895800Z"
    }
   },
   "outputs": [],
   "source": [
    "import torch\n",
    "import torch.nn as nn\n",
    "import torch.nn.functional as F\n",
    "import torch.optim as optim\n",
    "import numpy as np"
   ]
  },
  {
   "cell_type": "code",
   "outputs": [
    {
     "data": {
      "text/plain": "<torch._C.Generator at 0x1eff905b890>"
     },
     "execution_count": 268,
     "metadata": {},
     "output_type": "execute_result"
    }
   ],
   "source": [
    "# 랜덤 시드 설정 ------------------------------\n",
    "torch.manual_seed(1)"
   ],
   "metadata": {
    "collapsed": false,
    "ExecuteTime": {
     "end_time": "2024-03-13T10:37:34.320528Z",
     "start_time": "2024-03-13T10:37:34.306952300Z"
    }
   },
   "id": "f07a85bde97ee8cb",
   "execution_count": 268
  },
  {
   "cell_type": "markdown",
   "source": [
    "# 모듈 로딩"
   ],
   "metadata": {
    "collapsed": false
   },
   "id": "5c6ca84615068126"
  },
  {
   "cell_type": "code",
   "outputs": [],
   "source": [
    "import pandas as pd"
   ],
   "metadata": {
    "collapsed": false,
    "ExecuteTime": {
     "end_time": "2024-03-13T10:37:34.343324900Z",
     "start_time": "2024-03-13T10:37:34.319449100Z"
    }
   },
   "id": "f90386afd95297e8",
   "execution_count": 269
  },
  {
   "cell_type": "code",
   "outputs": [],
   "source": [
    "file='../data/winequality-white.csv'\n",
    "import csv"
   ],
   "metadata": {
    "collapsed": false,
    "ExecuteTime": {
     "end_time": "2024-03-13T10:37:34.358962700Z",
     "start_time": "2024-03-13T10:37:34.336049200Z"
    }
   },
   "id": "f82101eb330a6ec7",
   "execution_count": 270
  },
  {
   "cell_type": "markdown",
   "source": [
    "[1] 판다스 들고 오기"
   ],
   "metadata": {
    "collapsed": false
   },
   "id": "c95e7f56242d724f"
  },
  {
   "cell_type": "code",
   "outputs": [],
   "source": [
    "WINE=pd.read_csv(file, sep=';')"
   ],
   "metadata": {
    "collapsed": false,
    "ExecuteTime": {
     "end_time": "2024-03-13T10:37:34.383006100Z",
     "start_time": "2024-03-13T10:37:34.351652800Z"
    }
   },
   "id": "88832b7e6204599f",
   "execution_count": 271
  },
  {
   "cell_type": "code",
   "outputs": [
    {
     "data": {
      "text/plain": "Index(['fixed acidity', 'volatile acidity', 'citric acid', 'residual sugar',\n       'chlorides', 'free sulfur dioxide', 'total sulfur dioxide', 'density',\n       'pH', 'sulphates', 'alcohol', 'quality'],\n      dtype='object')"
     },
     "execution_count": 272,
     "metadata": {},
     "output_type": "execute_result"
    }
   ],
   "source": [
    "WINE.columns"
   ],
   "metadata": {
    "collapsed": false,
    "ExecuteTime": {
     "end_time": "2024-03-13T10:37:34.394754Z",
     "start_time": "2024-03-13T10:37:34.366239700Z"
    }
   },
   "id": "82aab043c898a8aa",
   "execution_count": 272
  },
  {
   "cell_type": "markdown",
   "source": [
    "[2]"
   ],
   "metadata": {
    "collapsed": false
   },
   "id": "f5e9d18b8844419a"
  },
  {
   "cell_type": "code",
   "outputs": [],
   "source": [
    "wineq_numpy=np.loadtxt(file,dtype=np.float32,delimiter=';',skiprows=1)"
   ],
   "metadata": {
    "collapsed": false,
    "ExecuteTime": {
     "end_time": "2024-03-13T10:37:34.427550900Z",
     "start_time": "2024-03-13T10:37:34.383006100Z"
    }
   },
   "id": "82f51a23d2620c34",
   "execution_count": 273
  },
  {
   "cell_type": "code",
   "outputs": [
    {
     "data": {
      "text/plain": "array([[ 7.  ,  0.27,  0.36, ...,  0.45,  8.8 ,  6.  ],\n       [ 6.3 ,  0.3 ,  0.34, ...,  0.49,  9.5 ,  6.  ],\n       [ 8.1 ,  0.28,  0.4 , ...,  0.44, 10.1 ,  6.  ],\n       ...,\n       [ 6.5 ,  0.24,  0.19, ...,  0.46,  9.4 ,  6.  ],\n       [ 5.5 ,  0.29,  0.3 , ...,  0.38, 12.8 ,  7.  ],\n       [ 6.  ,  0.21,  0.38, ...,  0.32, 11.8 ,  6.  ]], dtype=float32)"
     },
     "execution_count": 274,
     "metadata": {},
     "output_type": "execute_result"
    }
   ],
   "source": [
    "wineq_numpy"
   ],
   "metadata": {
    "collapsed": false,
    "ExecuteTime": {
     "end_time": "2024-03-13T10:37:34.430633600Z",
     "start_time": "2024-03-13T10:37:34.399935200Z"
    }
   },
   "id": "dbc5a372708a42ec",
   "execution_count": 274
  },
  {
   "cell_type": "code",
   "outputs": [],
   "source": [
    "col_list=next(csv.reader(open(file),delimiter=';'))"
   ],
   "metadata": {
    "collapsed": false,
    "ExecuteTime": {
     "end_time": "2024-03-13T10:37:34.457892Z",
     "start_time": "2024-03-13T10:37:34.414575700Z"
    }
   },
   "id": "22c4a378c0c0b841",
   "execution_count": 275
  },
  {
   "cell_type": "code",
   "outputs": [
    {
     "data": {
      "text/plain": "array([[ 7.  ,  0.27,  0.36, ...,  0.45,  8.8 ,  6.  ],\n       [ 6.3 ,  0.3 ,  0.34, ...,  0.49,  9.5 ,  6.  ],\n       [ 8.1 ,  0.28,  0.4 , ...,  0.44, 10.1 ,  6.  ],\n       ...,\n       [ 6.5 ,  0.24,  0.19, ...,  0.46,  9.4 ,  6.  ],\n       [ 5.5 ,  0.29,  0.3 , ...,  0.38, 12.8 ,  7.  ],\n       [ 6.  ,  0.21,  0.38, ...,  0.32, 11.8 ,  6.  ]], dtype=float32)"
     },
     "execution_count": 276,
     "metadata": {},
     "output_type": "execute_result"
    }
   ],
   "source": [
    "wineq_numpy"
   ],
   "metadata": {
    "collapsed": false,
    "ExecuteTime": {
     "end_time": "2024-03-13T10:37:34.473678300Z",
     "start_time": "2024-03-13T10:37:34.430633600Z"
    }
   },
   "id": "f71df0d7a3174334",
   "execution_count": 276
  },
  {
   "cell_type": "markdown",
   "source": [],
   "metadata": {
    "collapsed": false
   },
   "id": "d921c225d1004db8"
  },
  {
   "cell_type": "markdown",
   "source": [
    "# [2-2] Numpy 사용한 데이터 로딩"
   ],
   "metadata": {
    "collapsed": false
   },
   "id": "62259f8bbe355f6d"
  },
  {
   "cell_type": "code",
   "outputs": [],
   "source": [
    "wineq=torch.from_numpy(wineq_numpy)"
   ],
   "metadata": {
    "collapsed": false,
    "ExecuteTime": {
     "end_time": "2024-03-13T10:37:34.475672900Z",
     "start_time": "2024-03-13T10:37:34.446257500Z"
    }
   },
   "id": "69b51096dd78b5b0",
   "execution_count": 277
  },
  {
   "cell_type": "code",
   "outputs": [
    {
     "data": {
      "text/plain": "array([[ 7.  ,  0.27,  0.36, ...,  0.45,  8.8 ,  6.  ],\n       [ 6.3 ,  0.3 ,  0.34, ...,  0.49,  9.5 ,  6.  ],\n       [ 8.1 ,  0.28,  0.4 , ...,  0.44, 10.1 ,  6.  ],\n       ...,\n       [ 6.5 ,  0.24,  0.19, ...,  0.46,  9.4 ,  6.  ],\n       [ 5.5 ,  0.29,  0.3 , ...,  0.38, 12.8 ,  7.  ],\n       [ 6.  ,  0.21,  0.38, ...,  0.32, 11.8 ,  6.  ]], dtype=float32)"
     },
     "execution_count": 278,
     "metadata": {},
     "output_type": "execute_result"
    }
   ],
   "source": [
    "wineq_numpy"
   ],
   "metadata": {
    "collapsed": false,
    "ExecuteTime": {
     "end_time": "2024-03-13T10:37:34.498618500Z",
     "start_time": "2024-03-13T10:37:34.462089300Z"
    }
   },
   "id": "bace955244e196d8",
   "execution_count": 278
  },
  {
   "cell_type": "code",
   "outputs": [],
   "source": [
    "# 훈련 데이터 ---------------------------------\n",
    "x_data = wineq_numpy[:,:-1]\n",
    "y_data = wineq_numpy[:,-1]\n",
    "x_train = torch.FloatTensor(x_data)\n",
    "y_train = torch.FloatTensor(y_data)"
   ],
   "metadata": {
    "collapsed": false,
    "ExecuteTime": {
     "end_time": "2024-03-13T10:37:34.501668600Z",
     "start_time": "2024-03-13T10:37:34.478841500Z"
    }
   },
   "id": "9c0fa1b8b1d6779b",
   "execution_count": 279
  },
  {
   "cell_type": "code",
   "outputs": [],
   "source": [
    "# from sklearn.preprocessing import label_binarize"
   ],
   "metadata": {
    "collapsed": false,
    "ExecuteTime": {
     "end_time": "2024-03-13T10:37:34.532948500Z",
     "start_time": "2024-03-13T10:37:34.493377800Z"
    }
   },
   "id": "25e57dc09f1410cd",
   "execution_count": 280
  },
  {
   "cell_type": "code",
   "outputs": [
    {
     "name": "stdout",
     "output_type": "stream",
     "text": [
      "tensor([6., 6., 6.,  ..., 6., 7., 6.])\n"
     ]
    }
   ],
   "source": [
    "print(y_train)"
   ],
   "metadata": {
    "collapsed": false,
    "ExecuteTime": {
     "end_time": "2024-03-13T10:37:34.536103100Z",
     "start_time": "2024-03-13T10:37:34.510024300Z"
    }
   },
   "id": "7c7958dcffae0f16",
   "execution_count": 281
  },
  {
   "cell_type": "code",
   "outputs": [],
   "source": [
    "# y_train 분류해서 0,1로 만들기( 원핫 인코딩처럼 해보기)\n",
    "for i in range(len(y_train)):\n",
    "   if y_train[i] > 5:\n",
    "      y_train[i] = 1\n",
    "   else:\n",
    "      y_train[i] = 0"
   ],
   "metadata": {
    "collapsed": false,
    "ExecuteTime": {
     "end_time": "2024-03-13T10:37:34.618808600Z",
     "start_time": "2024-03-13T10:37:34.524658900Z"
    }
   },
   "id": "8c397b9cc7810830",
   "execution_count": 282
  },
  {
   "cell_type": "code",
   "outputs": [
    {
     "name": "stdout",
     "output_type": "stream",
     "text": [
      "tensor([1., 1., 1.,  ..., 1., 1., 1.])\n"
     ]
    }
   ],
   "source": [
    "print(y_train)"
   ],
   "metadata": {
    "collapsed": false,
    "ExecuteTime": {
     "end_time": "2024-03-13T10:37:34.620902300Z",
     "start_time": "2024-03-13T10:37:34.603115700Z"
    }
   },
   "id": "a1f5d617ba822d83",
   "execution_count": 283
  },
  {
   "cell_type": "code",
   "outputs": [
    {
     "name": "stdout",
     "output_type": "stream",
     "text": [
      "tensor(3258.)\n"
     ]
    }
   ],
   "source": [
    "# 분류로 인해 개수가 줄었는지 확인 하기 위해서 print(sum(y_train))사용\n",
    "print(sum(y_train))"
   ],
   "metadata": {
    "collapsed": false,
    "ExecuteTime": {
     "end_time": "2024-03-13T10:37:34.664580300Z",
     "start_time": "2024-03-13T10:37:34.617810400Z"
    }
   },
   "id": "bf0b7e187eccf180",
   "execution_count": 284
  },
  {
   "cell_type": "markdown",
   "source": [
    "타겟의 고유값 찾아 분류하기 위해 unique() 사용"
   ],
   "metadata": {
    "collapsed": false
   },
   "id": "1aecc236bc05371d"
  },
  {
   "cell_type": "code",
   "outputs": [
    {
     "data": {
      "text/plain": "array([6, 5, 7, 8, 4, 3, 9], dtype=int64)"
     },
     "execution_count": 285,
     "metadata": {},
     "output_type": "execute_result"
    }
   ],
   "source": [
    "WINE['quality'].unique()"
   ],
   "metadata": {
    "collapsed": false,
    "ExecuteTime": {
     "end_time": "2024-03-13T10:37:34.678080200Z",
     "start_time": "2024-03-13T10:37:34.649946700Z"
    }
   },
   "id": "1670ef3750c6e3d7",
   "execution_count": 285
  },
  {
   "cell_type": "code",
   "outputs": [
    {
     "data": {
      "text/plain": "tensor([[1.],\n        [1.],\n        [1.],\n        ...,\n        [1.],\n        [1.],\n        [1.]])"
     },
     "execution_count": 286,
     "metadata": {},
     "output_type": "execute_result"
    }
   ],
   "source": [
    "#y_train의 차원을 맞춰주기 위해(뜬 오류를 제거하기 위해) 차원추가\n",
    "y_train.unsqueeze_(dim=1)"
   ],
   "metadata": {
    "collapsed": false,
    "ExecuteTime": {
     "end_time": "2024-03-13T10:37:34.742095700Z",
     "start_time": "2024-03-13T10:37:34.664580300Z"
    }
   },
   "id": "d4416462d03a7166",
   "execution_count": 286
  },
  {
   "cell_type": "markdown",
   "source": [
    "# [3] 분류 로지스틱 회귀사용"
   ],
   "metadata": {
    "collapsed": false
   },
   "id": "34eb9481eda9853d"
  },
  {
   "cell_type": "code",
   "outputs": [],
   "source": [
    "# 모델 설계 ------------------------------------\n",
    "# Sequential 순서대로 진행되어야 하는 모듈을\n",
    "#            묶음으로 관리\n",
    "model = nn.Sequential(\n",
    "   nn.Linear(11, 1), # input_dim = 11, output_dim = 1(현재 피쳐 개수가 11개이므로 )\n",
    "   nn.Sigmoid()     # 출력은 시그모이드 함수 거침(현재 2진분류를 위해 시그모이드 함수를 사용하였음)\n",
    ")\n",
    "\n",
    "# optimizer 설정-----------------------------\n",
    "# 경사하강법으로 업데이트 해야하는 W,와 b는 \n",
    "# 모델 인스턴스에서 가지고 있음\n",
    "# => 가지고 오는 메서드 : model.parameters()\n",
    "optimizer = optim.SGD(model.parameters(), lr=1) #경사하강법을 사용하여 W,B를 뽑아오는 메서드"
   ],
   "metadata": {
    "collapsed": false,
    "ExecuteTime": {
     "end_time": "2024-03-13T10:37:34.745201600Z",
     "start_time": "2024-03-13T10:37:34.681170600Z"
    }
   },
   "id": "13e9d7a2b6aaf6db",
   "execution_count": 287
  },
  {
   "cell_type": "code",
   "outputs": [],
   "source": [
    "\n",
    "# 학습 -----------------------------------------\n",
    "\n",
    "def training():\n",
    "   nb_epochs = 1000\n",
    "   for epoch in range(nb_epochs + 1):\n",
    "\n",
    "      # H(x) 계산\n",
    "      hypothesis = model(x_train)\n",
    "\n",
    "      # cost 계산 => 이진 분류 손실함수  binary_cross_entropy()\n",
    "      cost = F.binary_cross_entropy(hypothesis, y_train)  #2진분류, 예측값과 실제값의 차이를 분류\n",
    "\n",
    "      # cost로 W,b값 업데이트 => SGD 경사하강법 방식으로 업데이트 진행\n",
    "      optimizer.zero_grad()\n",
    "      cost.backward()\n",
    "      optimizer.step()\n",
    "\n",
    "      # 20번마다 로그 출력(정확도 기능 만들기)\n",
    "      if epoch % 20 == 0:\n",
    "         prediction = hypothesis >= torch.FloatTensor([0.5])  # 예측값이 0.5를 넘으면 True로 간주\n",
    "         correct_prediction = prediction.float() == y_train  # 실제값과 일치하는 경우만 True로 간주\n",
    "         accuracy = correct_prediction.sum().item() / len(correct_prediction)  # 정확도를 계산\n",
    "\n",
    "         print(f'Epoch {epoch:4d}/{nb_epochs} Cost: {cost.item():.6f} Accuracy {accuracy * 100:2.2f}%')\n"
   ],
   "metadata": {
    "collapsed": false,
    "ExecuteTime": {
     "end_time": "2024-03-13T10:37:34.746198700Z",
     "start_time": "2024-03-13T10:37:34.698054200Z"
    }
   },
   "id": "c66f819912391ba",
   "execution_count": 288
  },
  {
   "cell_type": "code",
   "outputs": [
    {
     "name": "stdout",
     "output_type": "stream",
     "text": [
      "Epoch    0/1000 Cost: 0.955788 Accuracy 61.94%\n",
      "Epoch   20/1000 Cost: 33.483055 Accuracy 66.52%\n",
      "Epoch   40/1000 Cost: 33.483055 Accuracy 66.52%\n",
      "Epoch   60/1000 Cost: 33.483055 Accuracy 66.52%\n",
      "Epoch   80/1000 Cost: 33.483055 Accuracy 66.52%\n",
      "Epoch  100/1000 Cost: 33.483055 Accuracy 66.52%\n",
      "Epoch  120/1000 Cost: 33.483055 Accuracy 66.52%\n",
      "Epoch  140/1000 Cost: 33.483055 Accuracy 66.52%\n",
      "Epoch  160/1000 Cost: 33.483055 Accuracy 66.52%\n",
      "Epoch  180/1000 Cost: 33.483055 Accuracy 66.52%\n",
      "Epoch  200/1000 Cost: 33.483055 Accuracy 66.52%\n",
      "Epoch  220/1000 Cost: 33.483055 Accuracy 66.52%\n",
      "Epoch  240/1000 Cost: 33.483055 Accuracy 66.52%\n",
      "Epoch  260/1000 Cost: 33.483055 Accuracy 66.52%\n",
      "Epoch  280/1000 Cost: 33.483055 Accuracy 66.52%\n",
      "Epoch  300/1000 Cost: 33.483055 Accuracy 66.52%\n",
      "Epoch  320/1000 Cost: 33.483055 Accuracy 66.52%\n",
      "Epoch  340/1000 Cost: 33.483055 Accuracy 66.52%\n",
      "Epoch  360/1000 Cost: 33.483055 Accuracy 66.52%\n",
      "Epoch  380/1000 Cost: 33.483055 Accuracy 66.52%\n",
      "Epoch  400/1000 Cost: 33.483055 Accuracy 66.52%\n",
      "Epoch  420/1000 Cost: 33.483055 Accuracy 66.52%\n",
      "Epoch  440/1000 Cost: 33.483055 Accuracy 66.52%\n",
      "Epoch  460/1000 Cost: 33.483055 Accuracy 66.52%\n",
      "Epoch  480/1000 Cost: 33.483055 Accuracy 66.52%\n",
      "Epoch  500/1000 Cost: 33.483055 Accuracy 66.52%\n",
      "Epoch  520/1000 Cost: 33.483055 Accuracy 66.52%\n",
      "Epoch  540/1000 Cost: 33.483055 Accuracy 66.52%\n",
      "Epoch  560/1000 Cost: 33.483055 Accuracy 66.52%\n",
      "Epoch  580/1000 Cost: 33.483055 Accuracy 66.52%\n",
      "Epoch  600/1000 Cost: 33.483055 Accuracy 66.52%\n",
      "Epoch  620/1000 Cost: 33.483055 Accuracy 66.52%\n",
      "Epoch  640/1000 Cost: 33.483055 Accuracy 66.52%\n",
      "Epoch  660/1000 Cost: 33.483055 Accuracy 66.52%\n",
      "Epoch  680/1000 Cost: 33.483055 Accuracy 66.52%\n",
      "Epoch  700/1000 Cost: 33.483055 Accuracy 66.52%\n",
      "Epoch  720/1000 Cost: 33.483055 Accuracy 66.52%\n",
      "Epoch  740/1000 Cost: 33.483055 Accuracy 66.52%\n",
      "Epoch  760/1000 Cost: 33.483055 Accuracy 66.52%\n",
      "Epoch  780/1000 Cost: 33.483055 Accuracy 66.52%\n",
      "Epoch  800/1000 Cost: 33.483055 Accuracy 66.52%\n",
      "Epoch  820/1000 Cost: 33.483055 Accuracy 66.52%\n",
      "Epoch  840/1000 Cost: 33.483055 Accuracy 66.52%\n",
      "Epoch  860/1000 Cost: 33.483055 Accuracy 66.52%\n",
      "Epoch  880/1000 Cost: 33.483055 Accuracy 66.52%\n",
      "Epoch  900/1000 Cost: 33.483055 Accuracy 66.52%\n",
      "Epoch  920/1000 Cost: 33.483055 Accuracy 66.52%\n",
      "Epoch  940/1000 Cost: 33.483055 Accuracy 66.52%\n",
      "Epoch  960/1000 Cost: 33.483055 Accuracy 66.52%\n",
      "Epoch  980/1000 Cost: 33.483055 Accuracy 66.52%\n",
      "Epoch 1000/1000 Cost: 33.483055 Accuracy 66.52%\n"
     ]
    }
   ],
   "source": [
    "training()"
   ],
   "metadata": {
    "collapsed": false,
    "ExecuteTime": {
     "end_time": "2024-03-13T10:37:35.677948300Z",
     "start_time": "2024-03-13T10:37:34.711496600Z"
    }
   },
   "id": "1daeb9f37cfe9c9d",
   "execution_count": 289
  },
  {
   "cell_type": "code",
   "outputs": [
    {
     "name": "stdout",
     "output_type": "stream",
     "text": [
      "[Parameter containing:\n",
      "tensor([[ 0.4424, -0.1255, -0.0449, -0.1242, -0.2831, -1.0646,  6.1282,  0.1965,\n",
      "          0.1907, -0.0093,  0.7265]], requires_grad=True), Parameter containing:\n",
      "tensor([0.0587], requires_grad=True)]\n"
     ]
    }
   ],
   "source": [
    "print(list(model.parameters()))"
   ],
   "metadata": {
    "collapsed": false,
    "ExecuteTime": {
     "end_time": "2024-03-13T10:37:35.710064Z",
     "start_time": "2024-03-13T10:37:35.680003900Z"
    }
   },
   "id": "a4a1af8764143e57",
   "execution_count": 290
  },
  {
   "cell_type": "markdown",
   "source": [
    "[4] [ 다중 선형 회귀 ]"
   ],
   "metadata": {
    "collapsed": false
   },
   "id": "2cd43152cf5f574e"
  },
  {
   "cell_type": "code",
   "outputs": [],
   "source": [
    "# 훈련데이터 -----------------------------------\n",
    "x_train_mul  =  torch.FloatTensor(x_data)\n",
    "y_train_mul  =  torch.FloatTensor(y_data)"
   ],
   "metadata": {
    "collapsed": false,
    "ExecuteTime": {
     "end_time": "2024-03-13T10:37:35.711524800Z",
     "start_time": "2024-03-13T10:37:35.694465800Z"
    }
   },
   "id": "e255ad232f87def9",
   "execution_count": 291
  },
  {
   "cell_type": "code",
   "outputs": [
    {
     "name": "stdout",
     "output_type": "stream",
     "text": [
      "x_train_mul :  torch.Size([4898, 11]), 2차원\n",
      "y_train_mul :  torch.Size([4898]), 1차원\n"
     ]
    }
   ],
   "source": [
    "print(f'x_train_mul :  {x_train_mul.shape}, {x_train_mul.ndim}차원')\n",
    "print(f'y_train_mul :  {y_train_mul.shape}, {y_train_mul.ndim}차원')"
   ],
   "metadata": {
    "collapsed": false,
    "ExecuteTime": {
     "end_time": "2024-03-13T10:37:35.725490500Z",
     "start_time": "2024-03-13T10:37:35.710064Z"
    }
   },
   "id": "352311bbaddab4f7",
   "execution_count": 292
  },
  {
   "cell_type": "code",
   "outputs": [],
   "source": [
    "# 모델 초기화 ---------------------------------------------\n",
    "# 가중치와 편향 선언\n",
    "W_mul = torch.zeros((11, 1), requires_grad=True)\n",
    "b_mul = torch.zeros(1, requires_grad=True)"
   ],
   "metadata": {
    "collapsed": false,
    "ExecuteTime": {
     "end_time": "2024-03-13T10:37:35.763232200Z",
     "start_time": "2024-03-13T10:37:35.726487900Z"
    }
   },
   "id": "361bebb915b121fb",
   "execution_count": 293
  },
  {
   "cell_type": "code",
   "outputs": [
    {
     "name": "stdout",
     "output_type": "stream",
     "text": [
      "W ==> \n",
      "tensor([[0.],\n",
      "        [0.],\n",
      "        [0.],\n",
      "        [0.],\n",
      "        [0.],\n",
      "        [0.],\n",
      "        [0.],\n",
      "        [0.],\n",
      "        [0.],\n",
      "        [0.],\n",
      "        [0.]], requires_grad=True)\n",
      "\n",
      "b ==> tensor([0.], requires_grad=True)\n"
     ]
    }
   ],
   "source": [
    "print(f'W ==> \\n{W_mul}\\n\\nb ==> {b_mul}')"
   ],
   "metadata": {
    "collapsed": false,
    "ExecuteTime": {
     "end_time": "2024-03-13T10:37:35.765329500Z",
     "start_time": "2024-03-13T10:37:35.742556200Z"
    }
   },
   "id": "f23865ebe3c99a57",
   "execution_count": 294
  },
  {
   "cell_type": "code",
   "outputs": [],
   "source": [
    "# optimizer 설정\n",
    "optimizer_mul = optim.SGD([W_mul,b_mul], lr=1e-5)"
   ],
   "metadata": {
    "collapsed": false,
    "ExecuteTime": {
     "end_time": "2024-03-13T10:37:35.792357500Z",
     "start_time": "2024-03-13T10:37:35.756968700Z"
    }
   },
   "id": "942159ae3be3a279",
   "execution_count": 295
  },
  {
   "cell_type": "code",
   "outputs": [
    {
     "name": "stdout",
     "output_type": "stream",
     "text": [
      "Epoch    0/20 hypothesis: tensor([0., 0., 0.,  ..., 0., 0., 0.]) Cost: 0.665169\n",
      "Epoch    1/20 hypothesis: tensor([0.3378, 0.2518, 0.1955,  ..., 0.2206, 0.2144, 0.1932]) Cost: 0.382649\n",
      "Epoch    2/20 hypothesis: tensor([0.5235, 0.3902, 0.3031,  ..., 0.3418, 0.3323, 0.2994]) Cost: 0.297255\n",
      "Epoch    3/20 hypothesis: tensor([0.6256, 0.4663, 0.3622,  ..., 0.4085, 0.3972, 0.3578]) Cost: 0.271431\n",
      "Epoch    4/20 hypothesis: tensor([0.6817, 0.5082, 0.3947,  ..., 0.4452, 0.4329, 0.3900]) Cost: 0.263609\n",
      "Epoch    5/20 hypothesis: tensor([0.7125, 0.5312, 0.4127,  ..., 0.4654, 0.4526, 0.4077]) Cost: 0.261226\n",
      "Epoch    6/20 hypothesis: tensor([0.7294, 0.5439, 0.4225,  ..., 0.4765, 0.4635, 0.4175]) Cost: 0.260487\n",
      "Epoch    7/20 hypothesis: tensor([0.7386, 0.5509, 0.4280,  ..., 0.4826, 0.4695, 0.4229]) Cost: 0.260244\n",
      "Epoch    8/20 hypothesis: tensor([0.7437, 0.5548, 0.4310,  ..., 0.4860, 0.4728, 0.4259]) Cost: 0.260152\n",
      "Epoch    9/20 hypothesis: tensor([0.7465, 0.5570, 0.4327,  ..., 0.4879, 0.4747, 0.4277]) Cost: 0.260105\n",
      "Epoch   10/20 hypothesis: tensor([0.7479, 0.5582, 0.4337,  ..., 0.4889, 0.4758, 0.4286]) Cost: 0.260072\n",
      "Epoch   11/20 hypothesis: tensor([0.7487, 0.5589, 0.4343,  ..., 0.4895, 0.4765, 0.4292]) Cost: 0.260043\n",
      "Epoch   12/20 hypothesis: tensor([0.7492, 0.5593, 0.4346,  ..., 0.4898, 0.4769, 0.4296]) Cost: 0.260016\n",
      "Epoch   13/20 hypothesis: tensor([0.7494, 0.5595, 0.4348,  ..., 0.4900, 0.4771, 0.4298]) Cost: 0.259989\n",
      "Epoch   14/20 hypothesis: tensor([0.7494, 0.5597, 0.4350,  ..., 0.4902, 0.4773, 0.4300]) Cost: 0.259961\n",
      "Epoch   15/20 hypothesis: tensor([0.7495, 0.5598, 0.4351,  ..., 0.4903, 0.4775, 0.4301]) Cost: 0.259934\n",
      "Epoch   16/20 hypothesis: tensor([0.7494, 0.5599, 0.4352,  ..., 0.4903, 0.4776, 0.4303]) Cost: 0.259907\n",
      "Epoch   17/20 hypothesis: tensor([0.7494, 0.5600, 0.4352,  ..., 0.4904, 0.4777, 0.4304]) Cost: 0.259881\n",
      "Epoch   18/20 hypothesis: tensor([0.7494, 0.5601, 0.4353,  ..., 0.4904, 0.4778, 0.4305]) Cost: 0.259854\n",
      "Epoch   19/20 hypothesis: tensor([0.7493, 0.5601, 0.4354,  ..., 0.4905, 0.4779, 0.4306]) Cost: 0.259827\n",
      "Epoch   20/20 hypothesis: tensor([0.7493, 0.5602, 0.4355,  ..., 0.4905, 0.4780, 0.4307]) Cost: 0.259800\n"
     ]
    }
   ],
   "source": [
    "# 학습 진행 -------------------------------------------------\n",
    "nb_epochs = 20\n",
    "for epoch in range(nb_epochs + 1):\n",
    "\n",
    "    # H(x) 계산\n",
    "    # 편향 b는 브로드 캐스팅되어 각 샘플에 더해집니다.\n",
    "    hypothesis_mul = x_train_mul.matmul(W_mul) + b_mul\n",
    "\n",
    "    # cost 계산\n",
    "    cost = torch.mean((hypothesis_mul - y_train_mul) ** 2)\n",
    "\n",
    "    # cost로 H(x) 개선\n",
    "    optimizer_mul.zero_grad()\n",
    "    cost.backward()\n",
    "    optimizer_mul.step()\n",
    "\n",
    "    print(f'Epoch {epoch:4d}/{nb_epochs} hypothesis: { hypothesis_mul.squeeze().detach()} Cost: {cost.item():.6f}')"
   ],
   "metadata": {
    "collapsed": false,
    "ExecuteTime": {
     "end_time": "2024-03-13T10:37:37.046309800Z",
     "start_time": "2024-03-13T10:37:35.775782Z"
    }
   },
   "id": "3f82540761a1da08",
   "execution_count": 296
  },
  {
   "cell_type": "code",
   "outputs": [
    {
     "name": "stdout",
     "output_type": "stream",
     "text": [
      "pre_y => 0.7492175102233887 : 1.0\n"
     ]
    }
   ],
   "source": [
    "# 예측 ------------------------------------------------------\n",
    "# \n",
    "pre_y=x_train_mul[0].matmul(W_mul)+b_mul  # y_train_mul(실제값) 행렬곱 W_mul+ b_mul\n",
    "\n",
    "print(f'pre_y => {pre_y.item()} : {y_train_mul[0].item()}')"
   ],
   "metadata": {
    "collapsed": false,
    "ExecuteTime": {
     "end_time": "2024-03-13T10:40:58.742377700Z",
     "start_time": "2024-03-13T10:40:58.715296800Z"
    }
   },
   "id": "d9c3e18d2b0a58f4",
   "execution_count": 300
  },
  {
   "cell_type": "code",
   "outputs": [
    {
     "data": {
      "text/plain": "tensor([0.7492], grad_fn=<AddBackward0>)"
     },
     "execution_count": 301,
     "metadata": {},
     "output_type": "execute_result"
    }
   ],
   "source": [
    "x_train_mul[0].matmul(W_mul)+b_mul"
   ],
   "metadata": {
    "collapsed": false,
    "ExecuteTime": {
     "end_time": "2024-03-13T10:41:00.108340Z",
     "start_time": "2024-03-13T10:41:00.086426500Z"
    }
   },
   "id": "3066986b54c3460f",
   "execution_count": 301
  },
  {
   "cell_type": "code",
   "outputs": [],
   "source": [],
   "metadata": {
    "collapsed": false
   },
   "id": "20334addb533a76a"
  }
 ],
 "metadata": {
  "kernelspec": {
   "display_name": "Python 3",
   "language": "python",
   "name": "python3"
  },
  "language_info": {
   "codemirror_mode": {
    "name": "ipython",
    "version": 2
   },
   "file_extension": ".py",
   "mimetype": "text/x-python",
   "name": "python",
   "nbconvert_exporter": "python",
   "pygments_lexer": "ipython2",
   "version": "2.7.6"
  }
 },
 "nbformat": 4,
 "nbformat_minor": 5
}
