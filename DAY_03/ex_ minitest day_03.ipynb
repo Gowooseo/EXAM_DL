{
 "cells": [
  {
   "cell_type": "code",
   "execution_count": 47,
   "id": "initial_id",
   "metadata": {
    "collapsed": true,
    "ExecuteTime": {
     "end_time": "2024-03-13T00:40:33.592636300Z",
     "start_time": "2024-03-13T00:40:33.531942400Z"
    }
   },
   "outputs": [],
   "source": [
    "import torch"
   ]
  },
  {
   "cell_type": "markdown",
   "source": [
    "## 1. 화면상에서 Pytorch에서 데이터를 저장하는 단위는 ( )입니다."
   ],
   "metadata": {
    "collapsed": false
   },
   "id": "433bb5cf09d5fbb6"
  },
  {
   "cell_type": "markdown",
   "source": [
    "답:텐서"
   ],
   "metadata": {
    "collapsed": false
   },
   "id": "8270625881b7a583"
  },
  {
   "cell_type": "markdown",
   "source": [
    "## 2. 1번 문제에 해당하는 것의 특징을 간력히 설명해 보세요."
   ],
   "metadata": {
    "collapsed": false
   },
   "id": "2cb10d2b2797ed3a"
  },
  {
   "cell_type": "markdown",
   "source": [
    "파이토치에서 데이터를 저장하는 단위로서 차원에 따라서 \n",
    "1차원(벡터),2차원(행렬),3차원,4차원......등으로 나뉘어집니다."
   ],
   "metadata": {
    "collapsed": false
   },
   "id": "71ed52d8603a7684"
  },
  {
   "cell_type": "markdown",
   "source": [
    "## 3.Pytorch에서 정수형 데이터를 저장하는 데이터 타입을 모두 나열하세요. 간단한 데이터 타입의 크기 설명도 함께 작성하세요"
   ],
   "metadata": {
    "collapsed": false
   },
   "id": "6e5df1d805ac0fe2"
  },
  {
   "cell_type": "markdown",
   "source": [
    "#"
   ],
   "metadata": {
    "collapsed": false
   },
   "id": "5cfb2a8c7ec93d5b"
  },
  {
   "cell_type": "markdown",
   "source": [
    "## 4. Pytorch에 논리형 데이터로 저장 후 속성을 출력하는 코드를 작성하세요."
   ],
   "metadata": {
    "collapsed": false
   },
   "id": "bb7ee06d0d2c5b88"
  },
  {
   "cell_type": "code",
   "outputs": [
    {
     "data": {
      "text/plain": "tensor([ True,  True,  True,  True, False,  True, False])"
     },
     "execution_count": 48,
     "metadata": {},
     "output_type": "execute_result"
    }
   ],
   "source": [
    "torch.BoolTensor([10,-5,-1.4,7,0,-1,0])"
   ],
   "metadata": {
    "collapsed": false,
    "ExecuteTime": {
     "end_time": "2024-03-13T00:40:33.611398400Z",
     "start_time": "2024-03-13T00:40:33.596807900Z"
    }
   },
   "id": "f642c9bb3f445f9c",
   "execution_count": 48
  },
  {
   "cell_type": "markdown",
   "source": [
    "## 5. 10개의 0 데이터를 2차원으로 저장 코드를 작성하세요."
   ],
   "metadata": {
    "collapsed": false
   },
   "id": "5cf501f6efc30fec"
  },
  {
   "cell_type": "code",
   "outputs": [
    {
     "data": {
      "text/plain": "tensor([[0., 0., 0., 0., 0., 0., 0., 0., 0., 0.]])"
     },
     "execution_count": 62,
     "metadata": {},
     "output_type": "execute_result"
    }
   ],
   "source": [
    "t1=torch.zeros(1,10) # 왜 이렇게 되는 겨?\n",
    "torch.zeros_like(t1)"
   ],
   "metadata": {
    "collapsed": false,
    "ExecuteTime": {
     "end_time": "2024-03-13T00:46:26.212629900Z",
     "start_time": "2024-03-13T00:46:26.201004100Z"
    }
   },
   "id": "e99e5b4a88b1d6b2",
   "execution_count": 62
  },
  {
   "cell_type": "markdown",
   "source": [
    "## 6. 5개의 1 데이터가 대각선으로 저장되는 2차원 저장 코드를 작성하세요."
   ],
   "metadata": {
    "collapsed": false
   },
   "id": "774de5aa179cf0d9"
  },
  {
   "cell_type": "code",
   "outputs": [
    {
     "data": {
      "text/plain": "tensor([[1., 0., 0., 0., 0.],\n        [0., 1., 0., 0., 0.],\n        [0., 0., 1., 0., 0.],\n        [0., 0., 0., 1., 0.],\n        [0., 0., 0., 0., 1.]])"
     },
     "execution_count": 50,
     "metadata": {},
     "output_type": "execute_result"
    }
   ],
   "source": [
    "torch.eye(5)"
   ],
   "metadata": {
    "collapsed": false,
    "ExecuteTime": {
     "end_time": "2024-03-13T00:40:33.676387200Z",
     "start_time": "2024-03-13T00:40:33.633360200Z"
    }
   },
   "id": "b380daf161e59d38",
   "execution_count": 50
  },
  {
   "cell_type": "markdown",
   "source": [
    "## 7. 5번에서 저장된 형태와 동일하지만 값이 3이 저장된 코드를 작성하세요."
   ],
   "metadata": {
    "collapsed": false
   },
   "id": "7ed8a9c1357c2930"
  },
  {
   "cell_type": "code",
   "outputs": [
    {
     "data": {
      "text/plain": "tensor([[0., 0., 0., 0., 0., 0., 0., 0., 0., 0.]])"
     },
     "execution_count": 66,
     "metadata": {},
     "output_type": "execute_result"
    }
   ],
   "source": [
    "torch.full_like(t1,3)\n"
   ],
   "metadata": {
    "collapsed": false,
    "ExecuteTime": {
     "end_time": "2024-03-13T00:48:21.518834700Z",
     "start_time": "2024-03-13T00:48:21.495831800Z"
    }
   },
   "id": "28509e815dc0a500",
   "execution_count": 66
  },
  {
   "cell_type": "markdown",
   "source": [
    "## 8. ndarray데이터를 Pytorch에 저장하는 코드를 작성하세요."
   ],
   "metadata": {
    "collapsed": false
   },
   "id": "60266688df3108ea"
  },
  {
   "cell_type": "code",
   "outputs": [
    {
     "ename": "TypeError",
     "evalue": "randint() received an invalid combination of arguments - got (int, int, int), but expected one of:\n * (int high, tuple of ints size, *, torch.Generator generator, Tensor out, torch.dtype dtype, torch.layout layout, torch.device device, bool pin_memory, bool requires_grad)\n * (int high, tuple of ints size, *, Tensor out, torch.dtype dtype, torch.layout layout, torch.device device, bool pin_memory, bool requires_grad)\n * (int low, int high, tuple of ints size, *, torch.Generator generator, Tensor out, torch.dtype dtype, torch.layout layout, torch.device device, bool pin_memory, bool requires_grad)\n * (int low, int high, tuple of ints size, *, Tensor out, torch.dtype dtype, torch.layout layout, torch.device device, bool pin_memory, bool requires_grad)\n",
     "output_type": "error",
     "traceback": [
      "\u001B[1;31m---------------------------------------------------------------------------\u001B[0m",
      "\u001B[1;31mTypeError\u001B[0m                                 Traceback (most recent call last)",
      "Cell \u001B[1;32mIn[88], line 1\u001B[0m\n\u001B[1;32m----> 1\u001B[0m \u001B[43mtorch\u001B[49m\u001B[38;5;241;43m.\u001B[39;49m\u001B[43mrandint\u001B[49m\u001B[43m(\u001B[49m\u001B[38;5;241;43m0\u001B[39;49m\u001B[43m,\u001B[49m\u001B[38;5;241;43m101\u001B[39;49m\u001B[43m,\u001B[49m\u001B[38;5;241;43m7\u001B[39;49m\u001B[43m)\u001B[49m\n",
      "\u001B[1;31mTypeError\u001B[0m: randint() received an invalid combination of arguments - got (int, int, int), but expected one of:\n * (int high, tuple of ints size, *, torch.Generator generator, Tensor out, torch.dtype dtype, torch.layout layout, torch.device device, bool pin_memory, bool requires_grad)\n * (int high, tuple of ints size, *, Tensor out, torch.dtype dtype, torch.layout layout, torch.device device, bool pin_memory, bool requires_grad)\n * (int low, int high, tuple of ints size, *, torch.Generator generator, Tensor out, torch.dtype dtype, torch.layout layout, torch.device device, bool pin_memory, bool requires_grad)\n * (int low, int high, tuple of ints size, *, Tensor out, torch.dtype dtype, torch.layout layout, torch.device device, bool pin_memory, bool requires_grad)\n"
     ]
    }
   ],
   "source": [
    "torch.randint(0,101,7)"
   ],
   "metadata": {
    "collapsed": false,
    "ExecuteTime": {
     "end_time": "2024-03-13T11:33:29.341081400Z",
     "start_time": "2024-03-13T11:33:29.108770900Z"
    }
   },
   "id": "a156068400eb3168",
   "execution_count": 88
  },
  {
   "cell_type": "markdown",
   "source": [
    "## 9. 아래 조건에 맞는 데이터를 Pytorch에 저장하는 코드를 작성하세요."
   ],
   "metadata": {
    "collapsed": false
   },
   "id": "673501b008260771"
  },
  {
   "cell_type": "code",
   "outputs": [],
   "source": [
    "# 텐서일때는 이미지 크기의 가로 세로값이 반대가 되면, 1픽셀은 0~255 사이의 값이다.\n",
    "# torch.randint()"
   ],
   "metadata": {
    "collapsed": false,
    "ExecuteTime": {
     "end_time": "2024-03-13T00:58:27.908161700Z",
     "start_time": "2024-03-13T00:58:27.874501800Z"
    }
   },
   "id": "d552c90cd309089e",
   "execution_count": 80
  },
  {
   "cell_type": "markdown",
   "source": [
    "## 10. 아래 조건에 맞도록 코드를 작성하세요."
   ],
   "metadata": {
    "collapsed": false
   },
   "id": "56a04c9ed8c3800b"
  },
  {
   "cell_type": "code",
   "outputs": [],
   "source": [
    "data1=torch.tensor([1,2,3,4,5,6,7,8,9,10])"
   ],
   "metadata": {
    "collapsed": false,
    "ExecuteTime": {
     "end_time": "2024-03-13T00:54:14.980346200Z",
     "start_time": "2024-03-13T00:54:14.962770400Z"
    }
   },
   "id": "503d0d5e065061e0",
   "execution_count": 71
  },
  {
   "cell_type": "markdown",
   "source": [
    "(2)"
   ],
   "metadata": {
    "collapsed": false
   },
   "id": "9b97c495dae6460a"
  },
  {
   "cell_type": "code",
   "outputs": [],
   "source": [
    "data1=data1.reshape(1,2,5) # 원소가 10개니까 3차원 3개를 곲해서 10이 되면 된다...."
   ],
   "metadata": {
    "collapsed": false,
    "ExecuteTime": {
     "end_time": "2024-03-13T07:59:20.389555Z",
     "start_time": "2024-03-13T07:59:20.366393500Z"
    }
   },
   "id": "a0640c0076b4b888",
   "execution_count": 86
  },
  {
   "cell_type": "markdown",
   "source": [
    "(3) "
   ],
   "metadata": {
    "collapsed": false
   },
   "id": "823dbb6d3f2a2549"
  },
  {
   "cell_type": "code",
   "outputs": [
    {
     "data": {
      "text/plain": "tensor([[[ 1],\n         [ 6]],\n\n        [[ 2],\n         [ 7]],\n\n        [[ 3],\n         [ 8]],\n\n        [[ 4],\n         [ 9]],\n\n        [[ 5],\n         [10]]])"
     },
     "execution_count": 78,
     "metadata": {},
     "output_type": "execute_result"
    }
   ],
   "source": [
    "data1.transpose(0,2)"
   ],
   "metadata": {
    "collapsed": false,
    "ExecuteTime": {
     "end_time": "2024-03-13T00:55:16.988762300Z",
     "start_time": "2024-03-13T00:55:16.928457400Z"
    }
   },
   "id": "8ff5b97f228bd6a0",
   "execution_count": 78
  },
  {
   "cell_type": "markdown",
   "source": [
    "(4) "
   ],
   "metadata": {
    "collapsed": false
   },
   "id": "9e20a2c9c7923931"
  },
  {
   "cell_type": "code",
   "outputs": [
    {
     "data": {
      "text/plain": "tensor([[[ 1,  6],\n         [ 2,  7],\n         [ 3,  8],\n         [ 4,  9],\n         [ 5, 10]]])"
     },
     "execution_count": 79,
     "metadata": {},
     "output_type": "execute_result"
    }
   ],
   "source": [
    "data1.permute(0,2,1)"
   ],
   "metadata": {
    "collapsed": false,
    "ExecuteTime": {
     "end_time": "2024-03-13T00:55:31.399016600Z",
     "start_time": "2024-03-13T00:55:31.376455100Z"
    }
   },
   "id": "b269160c190738dc",
   "execution_count": 79
  },
  {
   "cell_type": "markdown",
   "source": [
    "## 11. 아래 조건에 맞도록 코드를 작성하세요."
   ],
   "metadata": {
    "collapsed": false
   },
   "id": "81129d3a7afe4794"
  },
  {
   "cell_type": "code",
   "outputs": [],
   "source": [
    "#(1) \n",
    "t1=torch.tensor([[90,70,80],[70,100,80],[99,88,77]])"
   ],
   "metadata": {
    "collapsed": false,
    "ExecuteTime": {
     "start_time": "2024-03-13T00:40:33.779106400Z"
    }
   },
   "id": "5aac1b73fbac9040",
   "execution_count": null
  },
  {
   "cell_type": "code",
   "outputs": [],
   "source": [
    "#(2)\n",
    "#디멘션 1"
   ],
   "metadata": {
    "collapsed": false,
    "ExecuteTime": {
     "start_time": "2024-03-13T00:40:33.780162800Z"
    }
   },
   "id": "9aab1927dea629a9",
   "execution_count": null
  },
  {
   "cell_type": "code",
   "outputs": [],
   "source": [
    "#(3) \n",
    "#디멘션 2\n"
   ],
   "metadata": {
    "collapsed": false,
    "ExecuteTime": {
     "end_time": "2024-03-13T07:59:43.248087100Z",
     "start_time": "2024-03-13T07:59:43.193307100Z"
    }
   },
   "id": "9c95bd4a880fec40",
   "execution_count": 87
  },
  {
   "cell_type": "markdown",
   "source": [
    "## 12. 아래 조건에 맞도록 코드를 작성하세요."
   ],
   "metadata": {
    "collapsed": false
   },
   "id": "24f4792e91af2711"
  },
  {
   "cell_type": "markdown",
   "source": [
    "(1) 데이터를 저장"
   ],
   "metadata": {
    "collapsed": false
   },
   "id": "81fad5ec29fc2406"
  },
  {
   "cell_type": "code",
   "outputs": [],
   "source": [
    "data1=torch.tensor([[90,70,80],[70,100,80],[99,88,77]])\n",
    "data2=torch.tensor([5,2,0.7])"
   ],
   "metadata": {
    "collapsed": false,
    "ExecuteTime": {
     "end_time": "2024-03-13T00:40:33.845751600Z",
     "start_time": "2024-03-13T00:40:33.821738700Z"
    }
   },
   "id": "63f35e20db62c92c",
   "execution_count": 56
  },
  {
   "cell_type": "markdown",
   "source": [
    "합"
   ],
   "metadata": {
    "collapsed": false
   },
   "id": "5dfb0b34e3f1d85c"
  },
  {
   "cell_type": "code",
   "outputs": [
    {
     "data": {
      "text/plain": "tensor([[ 95.0000,  72.0000,  80.7000],\n        [ 75.0000, 102.0000,  80.7000],\n        [104.0000,  90.0000,  77.7000]])"
     },
     "execution_count": 57,
     "metadata": {},
     "output_type": "execute_result"
    }
   ],
   "source": [
    "data1+data2"
   ],
   "metadata": {
    "collapsed": false,
    "ExecuteTime": {
     "end_time": "2024-03-13T00:40:33.880336800Z",
     "start_time": "2024-03-13T00:40:33.849879600Z"
    }
   },
   "id": "35938e82768725fe",
   "execution_count": 57
  },
  {
   "cell_type": "markdown",
   "source": [
    "차"
   ],
   "metadata": {
    "collapsed": false
   },
   "id": "fc0367b78594f4a7"
  },
  {
   "cell_type": "code",
   "outputs": [
    {
     "data": {
      "text/plain": "tensor([[85.0000, 68.0000, 79.3000],\n        [65.0000, 98.0000, 79.3000],\n        [94.0000, 86.0000, 76.3000]])"
     },
     "execution_count": 58,
     "metadata": {},
     "output_type": "execute_result"
    }
   ],
   "source": [
    "data1-data2"
   ],
   "metadata": {
    "collapsed": false,
    "ExecuteTime": {
     "end_time": "2024-03-13T00:40:33.892847600Z",
     "start_time": "2024-03-13T00:40:33.868930100Z"
    }
   },
   "id": "dcf7b2d64db9a4a7",
   "execution_count": 58
  },
  {
   "cell_type": "markdown",
   "source": [
    "곱"
   ],
   "metadata": {
    "collapsed": false
   },
   "id": "7cad1e5f2123f00c"
  },
  {
   "cell_type": "code",
   "outputs": [
    {
     "data": {
      "text/plain": "tensor([[450.0000, 140.0000,  56.0000],\n        [350.0000, 200.0000,  56.0000],\n        [495.0000, 176.0000,  53.9000]])"
     },
     "execution_count": 59,
     "metadata": {},
     "output_type": "execute_result"
    }
   ],
   "source": [
    "data1*data2"
   ],
   "metadata": {
    "collapsed": false,
    "ExecuteTime": {
     "end_time": "2024-03-13T00:40:33.942865800Z",
     "start_time": "2024-03-13T00:40:33.884501800Z"
    }
   },
   "id": "2f6b4752516d9d83",
   "execution_count": 59
  },
  {
   "cell_type": "markdown",
   "source": [
    "나눗셈"
   ],
   "metadata": {
    "collapsed": false
   },
   "id": "f667763325d1ee7"
  },
  {
   "cell_type": "code",
   "outputs": [
    {
     "data": {
      "text/plain": "tensor([[ 18.0000,  35.0000, 114.2857],\n        [ 14.0000,  50.0000, 114.2857],\n        [ 19.8000,  44.0000, 110.0000]])"
     },
     "execution_count": 60,
     "metadata": {},
     "output_type": "execute_result"
    }
   ],
   "source": [
    "data1/data2"
   ],
   "metadata": {
    "collapsed": false,
    "ExecuteTime": {
     "end_time": "2024-03-13T00:40:33.944905200Z",
     "start_time": "2024-03-13T00:40:33.900163900Z"
    }
   },
   "id": "bd349a2d71191f27",
   "execution_count": 60
  },
  {
   "cell_type": "code",
   "outputs": [
    {
     "ename": "AttributeError",
     "evalue": "'Tensor' object has no attribute 'tensor'",
     "output_type": "error",
     "traceback": [
      "\u001B[1;31m---------------------------------------------------------------------------\u001B[0m",
      "\u001B[1;31mAttributeError\u001B[0m                            Traceback (most recent call last)",
      "Cell \u001B[1;32mIn[61], line 1\u001B[0m\n\u001B[1;32m----> 1\u001B[0m \u001B[43mdata1\u001B[49m\u001B[38;5;241;43m.\u001B[39;49m\u001B[43mtensor\u001B[49m\u001B[38;5;241m.\u001B[39mmatmul()\n",
      "\u001B[1;31mAttributeError\u001B[0m: 'Tensor' object has no attribute 'tensor'"
     ]
    }
   ],
   "source": [
    "data1.tensor.matmul()"
   ],
   "metadata": {
    "collapsed": false,
    "ExecuteTime": {
     "end_time": "2024-03-13T00:40:33.966843200Z",
     "start_time": "2024-03-13T00:40:33.914714900Z"
    }
   },
   "id": "d6e2eda4d33fc927",
   "execution_count": 61
  },
  {
   "cell_type": "code",
   "outputs": [],
   "source": [],
   "metadata": {
    "collapsed": false,
    "ExecuteTime": {
     "start_time": "2024-03-13T00:40:33.947012100Z"
    }
   },
   "id": "ec937eeeb97e227a"
  }
 ],
 "metadata": {
  "kernelspec": {
   "display_name": "Python 3",
   "language": "python",
   "name": "python3"
  },
  "language_info": {
   "codemirror_mode": {
    "name": "ipython",
    "version": 2
   },
   "file_extension": ".py",
   "mimetype": "text/x-python",
   "name": "python",
   "nbconvert_exporter": "python",
   "pygments_lexer": "ipython2",
   "version": "2.7.6"
  }
 },
 "nbformat": 4,
 "nbformat_minor": 5
}
