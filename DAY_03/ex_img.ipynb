{
 "cells": [
  {
   "cell_type": "code",
   "execution_count": 174,
   "id": "initial_id",
   "metadata": {
    "collapsed": true,
    "ExecuteTime": {
     "end_time": "2024-03-13T11:19:37.837002400Z",
     "start_time": "2024-03-13T11:19:37.798444900Z"
    }
   },
   "outputs": [],
   "source": [
    "import torch\n",
    "import torch.nn as nn\n",
    "import torch.nn.functional as F\n",
    "import torch.optim as optim\n",
    "import numpy as np\n",
    "import imageio.v2 as imageio   #이미지 데이터 관련 모듈"
   ]
  },
  {
   "cell_type": "code",
   "outputs": [],
   "source": [
    "bald='../data/bald/Male/1/front_1.png'"
   ],
   "metadata": {
    "collapsed": false,
    "ExecuteTime": {
     "end_time": "2024-03-13T11:19:37.839035200Z",
     "start_time": "2024-03-13T11:19:37.820485300Z"
    }
   },
   "id": "1f6e3dc648eca1bc",
   "execution_count": 175
  },
  {
   "cell_type": "code",
   "outputs": [],
   "source": [
    "img_data=imageio.imread(bald)"
   ],
   "metadata": {
    "collapsed": false,
    "ExecuteTime": {
     "end_time": "2024-03-13T11:19:37.916381800Z",
     "start_time": "2024-03-13T11:19:37.844759300Z"
    }
   },
   "id": "11152f68359436d",
   "execution_count": 176
  },
  {
   "cell_type": "code",
   "outputs": [
    {
     "name": "stdout",
     "output_type": "stream",
     "text": [
      "(1080, 1920, 3) 3\n"
     ]
    }
   ],
   "source": [
    "print(img_data.shape,img_data.ndim)"
   ],
   "metadata": {
    "collapsed": false,
    "ExecuteTime": {
     "end_time": "2024-03-13T11:19:37.927102100Z",
     "start_time": "2024-03-13T11:19:37.906927Z"
    }
   },
   "id": "9400d3c193029535",
   "execution_count": 177
  },
  {
   "cell_type": "code",
   "outputs": [],
   "source": [
    "# ndarray => tensor 변환 :[행(높이),열(너비),채널]\n",
    "img_t1=torch.tensor(img_data)"
   ],
   "metadata": {
    "collapsed": false,
    "ExecuteTime": {
     "end_time": "2024-03-13T11:19:37.956005500Z",
     "start_time": "2024-03-13T11:19:37.923938300Z"
    }
   },
   "id": "b3fd07b4424be2b6",
   "execution_count": 178
  },
  {
   "cell_type": "code",
   "outputs": [],
   "source": [
    "#[행(높이),열(너비),채널] => [채널,행(높이),열(너비)]\n",
    "img_t1 = img_t1.permute(2,0,1)  #채널을 앞으로 보냈음"
   ],
   "metadata": {
    "collapsed": false,
    "ExecuteTime": {
     "end_time": "2024-03-13T11:19:37.957003Z",
     "start_time": "2024-03-13T11:19:37.939527400Z"
    }
   },
   "id": "8b53d5fe9ba88b78",
   "execution_count": 179
  },
  {
   "cell_type": "code",
   "outputs": [],
   "source": [
    "img_t2 = img_t1.float()"
   ],
   "metadata": {
    "collapsed": false,
    "ExecuteTime": {
     "end_time": "2024-03-13T11:19:37.973680900Z",
     "start_time": "2024-03-13T11:19:37.957003Z"
    }
   },
   "id": "37c884e28d08d1e9",
   "execution_count": 180
  },
  {
   "cell_type": "code",
   "outputs": [],
   "source": [
    "# y = torch.tensor([[[1] for i in range(1080)] for j in range(3)], dtype=torch.float)\n",
    "y = torch.tensor([1, 0, 1, 0, 1, 0, 1, 0], dtype=torch.float)"
   ],
   "metadata": {
    "collapsed": false,
    "ExecuteTime": {
     "end_time": "2024-03-13T11:19:37.988276500Z",
     "start_time": "2024-03-13T11:19:37.971634400Z"
    }
   },
   "id": "428581bd79adb44e",
   "execution_count": 181
  },
  {
   "cell_type": "code",
   "outputs": [],
   "source": [
    "model = nn.Sequential(\n",
    "   # nn.Linear(3, 1), # input_dim = 2, output_dim = 1\n",
    "   nn.Linear(6220800, 8),\n",
    "   nn.Sigmoid()     # 출력은 시그모이드 함수 거침\n",
    ")\n",
    "\n",
    "optimizer = optim.SGD(model.parameters(), lr=1)"
   ],
   "metadata": {
    "collapsed": false,
    "ExecuteTime": {
     "end_time": "2024-03-13T11:19:38.249859900Z",
     "start_time": "2024-03-13T11:19:37.987175200Z"
    }
   },
   "id": "7259398fb587f34d",
   "execution_count": 182
  },
  {
   "cell_type": "code",
   "outputs": [],
   "source": [
    "def training():\n",
    "    nb_epochs = 1000\n",
    "    for epoch in range(nb_epochs + 1):\n",
    "\n",
    "        # H(x) 계산\n",
    "        hypothesis = model(img_t2.reshape((6220800)))\n",
    "\n",
    "        # cost 계산 => 이진 분류 손실함수  binary_cross_entropy()\n",
    "        cost = F.binary_cross_entropy(hypothesis, y)  #2진분류, 예측값과 실제값의 차이를 분류\n",
    "\n",
    "        # cost로 W,b값 업데이트 => SGD 경사하강법 방식으로 업데이트 진행\n",
    "        optimizer.zero_grad()\n",
    "        cost.backward()\n",
    "        optimizer.step()\n",
    "\n",
    "        # 20번마다 로그 출력(정확도 기능 만들기)\n",
    "        if epoch % 10 == 0:\n",
    "            prediction = hypothesis >= torch.FloatTensor([0.5])     # 예측값이 0.5를 넘으면 True로 간주\n",
    "            correct_prediction = prediction.float() ==  y    # 실제값과 일치하는 경우만 True로 간주\n",
    "            accuracy = correct_prediction.sum().item() / len(correct_prediction) # 정확도를 계산\n",
    " \n",
    "            print(f'Epoch {epoch:4d}/{nb_epochs} Cost: {cost.item():.6f} Accuracy {accuracy * 100:2.2f}%')"
   ],
   "metadata": {
    "collapsed": false,
    "ExecuteTime": {
     "end_time": "2024-03-13T11:19:38.276574700Z",
     "start_time": "2024-03-13T11:19:38.259019900Z"
    }
   },
   "id": "9bb3cfcefc431b8d",
   "execution_count": 183
  },
  {
   "cell_type": "code",
   "outputs": [
    {
     "name": "stdout",
     "output_type": "stream",
     "text": [
      "Epoch    0/1000 Cost: 34.152771 Accuracy 62.50%\n",
      "Epoch   10/1000 Cost: 34.152771 Accuracy 62.50%\n",
      "Epoch   20/1000 Cost: 34.152771 Accuracy 62.50%\n",
      "Epoch   30/1000 Cost: 34.152771 Accuracy 62.50%\n",
      "Epoch   40/1000 Cost: 34.152771 Accuracy 62.50%\n",
      "Epoch   50/1000 Cost: 34.152771 Accuracy 62.50%\n",
      "Epoch   60/1000 Cost: 34.152771 Accuracy 62.50%\n",
      "Epoch   70/1000 Cost: 34.152771 Accuracy 62.50%\n",
      "Epoch   80/1000 Cost: 34.152771 Accuracy 62.50%\n",
      "Epoch   90/1000 Cost: 34.152771 Accuracy 62.50%\n",
      "Epoch  100/1000 Cost: 34.152771 Accuracy 62.50%\n",
      "Epoch  110/1000 Cost: 34.152771 Accuracy 62.50%\n",
      "Epoch  120/1000 Cost: 34.152771 Accuracy 62.50%\n",
      "Epoch  130/1000 Cost: 34.152771 Accuracy 62.50%\n",
      "Epoch  140/1000 Cost: 34.152771 Accuracy 62.50%\n",
      "Epoch  150/1000 Cost: 34.152771 Accuracy 62.50%\n",
      "Epoch  160/1000 Cost: 34.152771 Accuracy 62.50%\n",
      "Epoch  170/1000 Cost: 34.152771 Accuracy 62.50%\n",
      "Epoch  180/1000 Cost: 34.152771 Accuracy 62.50%\n",
      "Epoch  190/1000 Cost: 34.152771 Accuracy 62.50%\n",
      "Epoch  200/1000 Cost: 34.152771 Accuracy 62.50%\n",
      "Epoch  210/1000 Cost: 34.152771 Accuracy 62.50%\n",
      "Epoch  220/1000 Cost: 34.152771 Accuracy 62.50%\n",
      "Epoch  230/1000 Cost: 34.152771 Accuracy 62.50%\n",
      "Epoch  240/1000 Cost: 34.152771 Accuracy 62.50%\n",
      "Epoch  250/1000 Cost: 34.152771 Accuracy 62.50%\n",
      "Epoch  260/1000 Cost: 34.152771 Accuracy 62.50%\n",
      "Epoch  270/1000 Cost: 34.152771 Accuracy 62.50%\n",
      "Epoch  280/1000 Cost: 34.152771 Accuracy 62.50%\n",
      "Epoch  290/1000 Cost: 34.152771 Accuracy 62.50%\n",
      "Epoch  300/1000 Cost: 34.152771 Accuracy 62.50%\n",
      "Epoch  310/1000 Cost: 34.152771 Accuracy 62.50%\n",
      "Epoch  320/1000 Cost: 34.152771 Accuracy 62.50%\n",
      "Epoch  330/1000 Cost: 34.152771 Accuracy 62.50%\n",
      "Epoch  340/1000 Cost: 34.152771 Accuracy 62.50%\n",
      "Epoch  350/1000 Cost: 34.152771 Accuracy 62.50%\n",
      "Epoch  360/1000 Cost: 34.152771 Accuracy 62.50%\n",
      "Epoch  370/1000 Cost: 34.152771 Accuracy 62.50%\n",
      "Epoch  380/1000 Cost: 34.152771 Accuracy 62.50%\n",
      "Epoch  390/1000 Cost: 34.152771 Accuracy 62.50%\n",
      "Epoch  400/1000 Cost: 34.152771 Accuracy 62.50%\n",
      "Epoch  410/1000 Cost: 34.152771 Accuracy 62.50%\n",
      "Epoch  420/1000 Cost: 34.152771 Accuracy 62.50%\n",
      "Epoch  430/1000 Cost: 34.152771 Accuracy 62.50%\n",
      "Epoch  440/1000 Cost: 34.152771 Accuracy 62.50%\n",
      "Epoch  450/1000 Cost: 34.152771 Accuracy 62.50%\n",
      "Epoch  460/1000 Cost: 34.152771 Accuracy 62.50%\n",
      "Epoch  470/1000 Cost: 34.152771 Accuracy 62.50%\n",
      "Epoch  480/1000 Cost: 34.152771 Accuracy 62.50%\n",
      "Epoch  490/1000 Cost: 34.152771 Accuracy 62.50%\n",
      "Epoch  500/1000 Cost: 34.152771 Accuracy 62.50%\n",
      "Epoch  510/1000 Cost: 34.152771 Accuracy 62.50%\n",
      "Epoch  520/1000 Cost: 34.152771 Accuracy 62.50%\n",
      "Epoch  530/1000 Cost: 34.152771 Accuracy 62.50%\n",
      "Epoch  540/1000 Cost: 34.152771 Accuracy 62.50%\n",
      "Epoch  550/1000 Cost: 34.152771 Accuracy 62.50%\n",
      "Epoch  560/1000 Cost: 34.152771 Accuracy 62.50%\n",
      "Epoch  570/1000 Cost: 34.152771 Accuracy 62.50%\n",
      "Epoch  580/1000 Cost: 34.152771 Accuracy 62.50%\n",
      "Epoch  590/1000 Cost: 34.152771 Accuracy 62.50%\n",
      "Epoch  600/1000 Cost: 34.152771 Accuracy 62.50%\n",
      "Epoch  610/1000 Cost: 34.152771 Accuracy 62.50%\n",
      "Epoch  620/1000 Cost: 34.152771 Accuracy 62.50%\n",
      "Epoch  630/1000 Cost: 34.152771 Accuracy 62.50%\n",
      "Epoch  640/1000 Cost: 34.152771 Accuracy 62.50%\n",
      "Epoch  650/1000 Cost: 34.152771 Accuracy 62.50%\n",
      "Epoch  660/1000 Cost: 34.152771 Accuracy 62.50%\n",
      "Epoch  670/1000 Cost: 34.152771 Accuracy 62.50%\n",
      "Epoch  680/1000 Cost: 34.152771 Accuracy 62.50%\n",
      "Epoch  690/1000 Cost: 34.152771 Accuracy 62.50%\n",
      "Epoch  700/1000 Cost: 34.152771 Accuracy 62.50%\n",
      "Epoch  710/1000 Cost: 34.152771 Accuracy 62.50%\n",
      "Epoch  720/1000 Cost: 34.152771 Accuracy 62.50%\n",
      "Epoch  730/1000 Cost: 34.152771 Accuracy 62.50%\n",
      "Epoch  740/1000 Cost: 34.152771 Accuracy 62.50%\n",
      "Epoch  750/1000 Cost: 34.152771 Accuracy 62.50%\n",
      "Epoch  760/1000 Cost: 34.152771 Accuracy 62.50%\n",
      "Epoch  770/1000 Cost: 34.152771 Accuracy 62.50%\n",
      "Epoch  780/1000 Cost: 34.152771 Accuracy 62.50%\n",
      "Epoch  790/1000 Cost: 34.152771 Accuracy 62.50%\n",
      "Epoch  800/1000 Cost: 34.152771 Accuracy 62.50%\n",
      "Epoch  810/1000 Cost: 34.152771 Accuracy 62.50%\n",
      "Epoch  820/1000 Cost: 34.152771 Accuracy 62.50%\n",
      "Epoch  830/1000 Cost: 34.152771 Accuracy 62.50%\n",
      "Epoch  840/1000 Cost: 34.152771 Accuracy 62.50%\n",
      "Epoch  850/1000 Cost: 34.152771 Accuracy 62.50%\n",
      "Epoch  860/1000 Cost: 34.152771 Accuracy 62.50%\n",
      "Epoch  870/1000 Cost: 34.152771 Accuracy 62.50%\n",
      "Epoch  880/1000 Cost: 34.152771 Accuracy 62.50%\n",
      "Epoch  890/1000 Cost: 34.152771 Accuracy 62.50%\n",
      "Epoch  900/1000 Cost: 34.152771 Accuracy 62.50%\n",
      "Epoch  910/1000 Cost: 34.152771 Accuracy 62.50%\n",
      "Epoch  920/1000 Cost: 34.152771 Accuracy 62.50%\n",
      "Epoch  930/1000 Cost: 34.152771 Accuracy 62.50%\n",
      "Epoch  940/1000 Cost: 34.152771 Accuracy 62.50%\n",
      "Epoch  950/1000 Cost: 34.152771 Accuracy 62.50%\n",
      "Epoch  960/1000 Cost: 34.152771 Accuracy 62.50%\n",
      "Epoch  970/1000 Cost: 34.152771 Accuracy 62.50%\n",
      "Epoch  980/1000 Cost: 34.152771 Accuracy 62.50%\n",
      "Epoch  990/1000 Cost: 34.152771 Accuracy 62.50%\n",
      "Epoch 1000/1000 Cost: 34.152771 Accuracy 62.50%\n"
     ]
    }
   ],
   "source": [
    "\n",
    "training()"
   ],
   "metadata": {
    "collapsed": false,
    "ExecuteTime": {
     "end_time": "2024-03-13T11:20:31.491110700Z",
     "start_time": "2024-03-13T11:19:38.268940100Z"
    }
   },
   "id": "b0aec70163e6dec9",
   "execution_count": 184
  },
  {
   "cell_type": "code",
   "outputs": [
    {
     "name": "stdout",
     "output_type": "stream",
     "text": [
      "[Parameter containing:\n",
      "tensor([[ 2.8063e-04, -2.1761e-05, -6.3487e-05,  ...,  3.5749e-04,\n",
      "         -2.8601e-04, -8.4493e-05],\n",
      "        [ 2.6643e-04,  6.7439e-05,  6.6975e-06,  ...,  2.0983e-04,\n",
      "          3.8389e-04, -2.4175e-04],\n",
      "        [-7.8808e-05, -2.8081e-04, -3.1367e-04,  ...,  3.4667e-04,\n",
      "          8.6342e-06, -1.0786e-04],\n",
      "        ...,\n",
      "        [ 3.7461e-04,  3.4902e-05, -2.7787e-04,  ...,  2.8887e-06,\n",
      "          3.0380e-04,  3.4438e-04],\n",
      "        [-1.5391e-06,  3.1250e-04, -2.6906e-04,  ..., -3.8008e-04,\n",
      "         -3.2645e-05,  3.2539e-04],\n",
      "        [-3.5216e-04, -2.7580e-05,  9.0571e-05,  ..., -3.8204e-04,\n",
      "          9.9501e-06, -3.6461e-04]], requires_grad=True), Parameter containing:\n",
      "tensor([ 9.3176e-05,  2.9821e-04,  2.0927e-05,  8.4006e-05,  8.9918e-05,\n",
      "        -1.9175e-04,  3.4821e-04,  2.8438e-04], requires_grad=True)]\n"
     ]
    }
   ],
   "source": [
    "print(list(model.parameters()))"
   ],
   "metadata": {
    "collapsed": false,
    "ExecuteTime": {
     "end_time": "2024-03-13T11:20:53.496197500Z",
     "start_time": "2024-03-13T11:20:53.459557200Z"
    }
   },
   "id": "4e328567bd58eb4c",
   "execution_count": 185
  },
  {
   "cell_type": "code",
   "outputs": [],
   "source": [],
   "metadata": {
    "collapsed": false
   },
   "id": "1fedef00ffc1e49f"
  }
 ],
 "metadata": {
  "kernelspec": {
   "display_name": "Python 3",
   "language": "python",
   "name": "python3"
  },
  "language_info": {
   "codemirror_mode": {
    "name": "ipython",
    "version": 2
   },
   "file_extension": ".py",
   "mimetype": "text/x-python",
   "name": "python",
   "nbconvert_exporter": "python",
   "pygments_lexer": "ipython2",
   "version": "2.7.6"
  }
 },
 "nbformat": 4,
 "nbformat_minor": 5
}
